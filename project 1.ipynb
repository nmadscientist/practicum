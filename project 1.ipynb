{
  "cells": [
    {
      "cell_type": "markdown",
      "metadata": {
        "id": "Lp18oBXCqhZs"
      },
      "source": [
        "# Исследование данных о продажах видеоигр"
      ]
    },
    {
      "cell_type": "markdown",
      "metadata": {
        "id": "bIunAvPuqhZt"
      },
      "source": [
        "Описание прокета: Вы работаете в интернет-магазине «Стримчик», который продаёт по всему миру компьютерные игры. Из открытых источников доступны исторические данные о продажах игр, оценки пользователей и экспертов, жанры и платформы (например, Xbox или PlayStation). Представлены данные вплоть до 2016 года.\n",
        "\n",
        "Цель исследования: Выявить определяющие успешность игры закономерности. Это позволит сделать ставку на потенциально популярный продукт и спланировать рекламные кампании.\n",
        "\n",
        "Описание данных:\n",
        "- Name — название игры\n",
        "- Platform — платформа\n",
        "- Year_of_Release — год выпуска\n",
        "- Genre — жанр игры\n",
        "- NA_sales — продажи в Северной Америке (миллионы проданных копий)\n",
        "- EU_sales — продажи в Европе (миллионы проданных копий)\n",
        "- JP_sales — продажи в Японии (миллионы проданных копий)\n",
        "- Other_sales — продажи в других странах (миллионы проданных копий)\n",
        "- Critic_Score — оценка критиков (максимум 100)\n",
        "- User_Score — оценка пользователей (максимум 10)\n",
        "- Rating — рейтинг от организации ESRB (англ. Entertainment Software Rating Board). Эта ассоциация определяет рейтинг компьютерных игр и присваивает им подходящую возрастную категорию."
      ]
    },
    {
      "cell_type": "markdown",
      "metadata": {
        "id": "Q2BPqteZqhZu"
      },
      "source": [
        "## Общая информация"
      ]
    },
    {
      "cell_type": "code",
      "execution_count": null,
      "metadata": {
        "id": "04U-5ABZqhZw"
      },
      "outputs": [],
      "source": [
        "import pandas as pd"
      ]
    },
    {
      "cell_type": "code",
      "execution_count": null,
      "metadata": {
        "id": "YSElVJiAqhZy"
      },
      "outputs": [],
      "source": [
        "import numpy as np"
      ]
    },
    {
      "cell_type": "code",
      "execution_count": null,
      "metadata": {
        "id": "k5Nd_Ah1qhZy"
      },
      "outputs": [],
      "source": [
        "import seaborn as sns"
      ]
    },
    {
      "cell_type": "code",
      "execution_count": null,
      "metadata": {
        "id": "EXA2ff-JqhZz"
      },
      "outputs": [],
      "source": [
        "from scipy import stats as st"
      ]
    },
    {
      "cell_type": "code",
      "execution_count": null,
      "metadata": {
        "id": "2cHOmzHPqhZz"
      },
      "outputs": [],
      "source": [
        "import matplotlib.pyplot as plt"
      ]
    },
    {
      "cell_type": "code",
      "execution_count": null,
      "metadata": {
        "id": "WijjeLciqhZz"
      },
      "outputs": [],
      "source": [
        "data = pd.read_csv('/datasets/games.csv')"
      ]
    },
    {
      "cell_type": "code",
      "execution_count": null,
      "metadata": {
        "id": "KCqzzZQbqhZ0",
        "outputId": "6f7f597e-b183-48a0-e97e-ec8d856fe298"
      },
      "outputs": [
        {
          "data": {
            "text/html": [
              "<div>\n",
              "<style scoped>\n",
              "    .dataframe tbody tr th:only-of-type {\n",
              "        vertical-align: middle;\n",
              "    }\n",
              "\n",
              "    .dataframe tbody tr th {\n",
              "        vertical-align: top;\n",
              "    }\n",
              "\n",
              "    .dataframe thead th {\n",
              "        text-align: right;\n",
              "    }\n",
              "</style>\n",
              "<table border=\"1\" class=\"dataframe\">\n",
              "  <thead>\n",
              "    <tr style=\"text-align: right;\">\n",
              "      <th></th>\n",
              "      <th>Name</th>\n",
              "      <th>Platform</th>\n",
              "      <th>Year_of_Release</th>\n",
              "      <th>Genre</th>\n",
              "      <th>NA_sales</th>\n",
              "      <th>EU_sales</th>\n",
              "      <th>JP_sales</th>\n",
              "      <th>Other_sales</th>\n",
              "      <th>Critic_Score</th>\n",
              "      <th>User_Score</th>\n",
              "      <th>Rating</th>\n",
              "    </tr>\n",
              "  </thead>\n",
              "  <tbody>\n",
              "    <tr>\n",
              "      <th>0</th>\n",
              "      <td>Wii Sports</td>\n",
              "      <td>Wii</td>\n",
              "      <td>2006.0</td>\n",
              "      <td>Sports</td>\n",
              "      <td>41.36</td>\n",
              "      <td>28.96</td>\n",
              "      <td>3.77</td>\n",
              "      <td>8.45</td>\n",
              "      <td>76.0</td>\n",
              "      <td>8</td>\n",
              "      <td>E</td>\n",
              "    </tr>\n",
              "    <tr>\n",
              "      <th>1</th>\n",
              "      <td>Super Mario Bros.</td>\n",
              "      <td>NES</td>\n",
              "      <td>1985.0</td>\n",
              "      <td>Platform</td>\n",
              "      <td>29.08</td>\n",
              "      <td>3.58</td>\n",
              "      <td>6.81</td>\n",
              "      <td>0.77</td>\n",
              "      <td>NaN</td>\n",
              "      <td>NaN</td>\n",
              "      <td>NaN</td>\n",
              "    </tr>\n",
              "    <tr>\n",
              "      <th>2</th>\n",
              "      <td>Mario Kart Wii</td>\n",
              "      <td>Wii</td>\n",
              "      <td>2008.0</td>\n",
              "      <td>Racing</td>\n",
              "      <td>15.68</td>\n",
              "      <td>12.76</td>\n",
              "      <td>3.79</td>\n",
              "      <td>3.29</td>\n",
              "      <td>82.0</td>\n",
              "      <td>8.3</td>\n",
              "      <td>E</td>\n",
              "    </tr>\n",
              "    <tr>\n",
              "      <th>3</th>\n",
              "      <td>Wii Sports Resort</td>\n",
              "      <td>Wii</td>\n",
              "      <td>2009.0</td>\n",
              "      <td>Sports</td>\n",
              "      <td>15.61</td>\n",
              "      <td>10.93</td>\n",
              "      <td>3.28</td>\n",
              "      <td>2.95</td>\n",
              "      <td>80.0</td>\n",
              "      <td>8</td>\n",
              "      <td>E</td>\n",
              "    </tr>\n",
              "    <tr>\n",
              "      <th>4</th>\n",
              "      <td>Pokemon Red/Pokemon Blue</td>\n",
              "      <td>GB</td>\n",
              "      <td>1996.0</td>\n",
              "      <td>Role-Playing</td>\n",
              "      <td>11.27</td>\n",
              "      <td>8.89</td>\n",
              "      <td>10.22</td>\n",
              "      <td>1.00</td>\n",
              "      <td>NaN</td>\n",
              "      <td>NaN</td>\n",
              "      <td>NaN</td>\n",
              "    </tr>\n",
              "    <tr>\n",
              "      <th>5</th>\n",
              "      <td>Tetris</td>\n",
              "      <td>GB</td>\n",
              "      <td>1989.0</td>\n",
              "      <td>Puzzle</td>\n",
              "      <td>23.20</td>\n",
              "      <td>2.26</td>\n",
              "      <td>4.22</td>\n",
              "      <td>0.58</td>\n",
              "      <td>NaN</td>\n",
              "      <td>NaN</td>\n",
              "      <td>NaN</td>\n",
              "    </tr>\n",
              "    <tr>\n",
              "      <th>6</th>\n",
              "      <td>New Super Mario Bros.</td>\n",
              "      <td>DS</td>\n",
              "      <td>2006.0</td>\n",
              "      <td>Platform</td>\n",
              "      <td>11.28</td>\n",
              "      <td>9.14</td>\n",
              "      <td>6.50</td>\n",
              "      <td>2.88</td>\n",
              "      <td>89.0</td>\n",
              "      <td>8.5</td>\n",
              "      <td>E</td>\n",
              "    </tr>\n",
              "    <tr>\n",
              "      <th>7</th>\n",
              "      <td>Wii Play</td>\n",
              "      <td>Wii</td>\n",
              "      <td>2006.0</td>\n",
              "      <td>Misc</td>\n",
              "      <td>13.96</td>\n",
              "      <td>9.18</td>\n",
              "      <td>2.93</td>\n",
              "      <td>2.84</td>\n",
              "      <td>58.0</td>\n",
              "      <td>6.6</td>\n",
              "      <td>E</td>\n",
              "    </tr>\n",
              "    <tr>\n",
              "      <th>8</th>\n",
              "      <td>New Super Mario Bros. Wii</td>\n",
              "      <td>Wii</td>\n",
              "      <td>2009.0</td>\n",
              "      <td>Platform</td>\n",
              "      <td>14.44</td>\n",
              "      <td>6.94</td>\n",
              "      <td>4.70</td>\n",
              "      <td>2.24</td>\n",
              "      <td>87.0</td>\n",
              "      <td>8.4</td>\n",
              "      <td>E</td>\n",
              "    </tr>\n",
              "    <tr>\n",
              "      <th>9</th>\n",
              "      <td>Duck Hunt</td>\n",
              "      <td>NES</td>\n",
              "      <td>1984.0</td>\n",
              "      <td>Shooter</td>\n",
              "      <td>26.93</td>\n",
              "      <td>0.63</td>\n",
              "      <td>0.28</td>\n",
              "      <td>0.47</td>\n",
              "      <td>NaN</td>\n",
              "      <td>NaN</td>\n",
              "      <td>NaN</td>\n",
              "    </tr>\n",
              "    <tr>\n",
              "      <th>10</th>\n",
              "      <td>Nintendogs</td>\n",
              "      <td>DS</td>\n",
              "      <td>2005.0</td>\n",
              "      <td>Simulation</td>\n",
              "      <td>9.05</td>\n",
              "      <td>10.95</td>\n",
              "      <td>1.93</td>\n",
              "      <td>2.74</td>\n",
              "      <td>NaN</td>\n",
              "      <td>NaN</td>\n",
              "      <td>NaN</td>\n",
              "    </tr>\n",
              "    <tr>\n",
              "      <th>11</th>\n",
              "      <td>Mario Kart DS</td>\n",
              "      <td>DS</td>\n",
              "      <td>2005.0</td>\n",
              "      <td>Racing</td>\n",
              "      <td>9.71</td>\n",
              "      <td>7.47</td>\n",
              "      <td>4.13</td>\n",
              "      <td>1.90</td>\n",
              "      <td>91.0</td>\n",
              "      <td>8.6</td>\n",
              "      <td>E</td>\n",
              "    </tr>\n",
              "    <tr>\n",
              "      <th>12</th>\n",
              "      <td>Pokemon Gold/Pokemon Silver</td>\n",
              "      <td>GB</td>\n",
              "      <td>1999.0</td>\n",
              "      <td>Role-Playing</td>\n",
              "      <td>9.00</td>\n",
              "      <td>6.18</td>\n",
              "      <td>7.20</td>\n",
              "      <td>0.71</td>\n",
              "      <td>NaN</td>\n",
              "      <td>NaN</td>\n",
              "      <td>NaN</td>\n",
              "    </tr>\n",
              "    <tr>\n",
              "      <th>13</th>\n",
              "      <td>Wii Fit</td>\n",
              "      <td>Wii</td>\n",
              "      <td>2007.0</td>\n",
              "      <td>Sports</td>\n",
              "      <td>8.92</td>\n",
              "      <td>8.03</td>\n",
              "      <td>3.60</td>\n",
              "      <td>2.15</td>\n",
              "      <td>80.0</td>\n",
              "      <td>7.7</td>\n",
              "      <td>E</td>\n",
              "    </tr>\n",
              "    <tr>\n",
              "      <th>14</th>\n",
              "      <td>Kinect Adventures!</td>\n",
              "      <td>X360</td>\n",
              "      <td>2010.0</td>\n",
              "      <td>Misc</td>\n",
              "      <td>15.00</td>\n",
              "      <td>4.89</td>\n",
              "      <td>0.24</td>\n",
              "      <td>1.69</td>\n",
              "      <td>61.0</td>\n",
              "      <td>6.3</td>\n",
              "      <td>E</td>\n",
              "    </tr>\n",
              "    <tr>\n",
              "      <th>15</th>\n",
              "      <td>Wii Fit Plus</td>\n",
              "      <td>Wii</td>\n",
              "      <td>2009.0</td>\n",
              "      <td>Sports</td>\n",
              "      <td>9.01</td>\n",
              "      <td>8.49</td>\n",
              "      <td>2.53</td>\n",
              "      <td>1.77</td>\n",
              "      <td>80.0</td>\n",
              "      <td>7.4</td>\n",
              "      <td>E</td>\n",
              "    </tr>\n",
              "    <tr>\n",
              "      <th>16</th>\n",
              "      <td>Grand Theft Auto V</td>\n",
              "      <td>PS3</td>\n",
              "      <td>2013.0</td>\n",
              "      <td>Action</td>\n",
              "      <td>7.02</td>\n",
              "      <td>9.09</td>\n",
              "      <td>0.98</td>\n",
              "      <td>3.96</td>\n",
              "      <td>97.0</td>\n",
              "      <td>8.2</td>\n",
              "      <td>M</td>\n",
              "    </tr>\n",
              "    <tr>\n",
              "      <th>17</th>\n",
              "      <td>Grand Theft Auto: San Andreas</td>\n",
              "      <td>PS2</td>\n",
              "      <td>2004.0</td>\n",
              "      <td>Action</td>\n",
              "      <td>9.43</td>\n",
              "      <td>0.40</td>\n",
              "      <td>0.41</td>\n",
              "      <td>10.57</td>\n",
              "      <td>95.0</td>\n",
              "      <td>9</td>\n",
              "      <td>M</td>\n",
              "    </tr>\n",
              "    <tr>\n",
              "      <th>18</th>\n",
              "      <td>Super Mario World</td>\n",
              "      <td>SNES</td>\n",
              "      <td>1990.0</td>\n",
              "      <td>Platform</td>\n",
              "      <td>12.78</td>\n",
              "      <td>3.75</td>\n",
              "      <td>3.54</td>\n",
              "      <td>0.55</td>\n",
              "      <td>NaN</td>\n",
              "      <td>NaN</td>\n",
              "      <td>NaN</td>\n",
              "    </tr>\n",
              "    <tr>\n",
              "      <th>19</th>\n",
              "      <td>Brain Age: Train Your Brain in Minutes a Day</td>\n",
              "      <td>DS</td>\n",
              "      <td>2005.0</td>\n",
              "      <td>Misc</td>\n",
              "      <td>4.74</td>\n",
              "      <td>9.20</td>\n",
              "      <td>4.16</td>\n",
              "      <td>2.04</td>\n",
              "      <td>77.0</td>\n",
              "      <td>7.9</td>\n",
              "      <td>E</td>\n",
              "    </tr>\n",
              "  </tbody>\n",
              "</table>\n",
              "</div>"
            ],
            "text/plain": [
              "                                            Name Platform  Year_of_Release  \\\n",
              "0                                     Wii Sports      Wii           2006.0   \n",
              "1                              Super Mario Bros.      NES           1985.0   \n",
              "2                                 Mario Kart Wii      Wii           2008.0   \n",
              "3                              Wii Sports Resort      Wii           2009.0   \n",
              "4                       Pokemon Red/Pokemon Blue       GB           1996.0   \n",
              "5                                         Tetris       GB           1989.0   \n",
              "6                          New Super Mario Bros.       DS           2006.0   \n",
              "7                                       Wii Play      Wii           2006.0   \n",
              "8                      New Super Mario Bros. Wii      Wii           2009.0   \n",
              "9                                      Duck Hunt      NES           1984.0   \n",
              "10                                    Nintendogs       DS           2005.0   \n",
              "11                                 Mario Kart DS       DS           2005.0   \n",
              "12                   Pokemon Gold/Pokemon Silver       GB           1999.0   \n",
              "13                                       Wii Fit      Wii           2007.0   \n",
              "14                            Kinect Adventures!     X360           2010.0   \n",
              "15                                  Wii Fit Plus      Wii           2009.0   \n",
              "16                            Grand Theft Auto V      PS3           2013.0   \n",
              "17                 Grand Theft Auto: San Andreas      PS2           2004.0   \n",
              "18                             Super Mario World     SNES           1990.0   \n",
              "19  Brain Age: Train Your Brain in Minutes a Day       DS           2005.0   \n",
              "\n",
              "           Genre  NA_sales  EU_sales  JP_sales  Other_sales  Critic_Score  \\\n",
              "0         Sports     41.36     28.96      3.77         8.45          76.0   \n",
              "1       Platform     29.08      3.58      6.81         0.77           NaN   \n",
              "2         Racing     15.68     12.76      3.79         3.29          82.0   \n",
              "3         Sports     15.61     10.93      3.28         2.95          80.0   \n",
              "4   Role-Playing     11.27      8.89     10.22         1.00           NaN   \n",
              "5         Puzzle     23.20      2.26      4.22         0.58           NaN   \n",
              "6       Platform     11.28      9.14      6.50         2.88          89.0   \n",
              "7           Misc     13.96      9.18      2.93         2.84          58.0   \n",
              "8       Platform     14.44      6.94      4.70         2.24          87.0   \n",
              "9        Shooter     26.93      0.63      0.28         0.47           NaN   \n",
              "10    Simulation      9.05     10.95      1.93         2.74           NaN   \n",
              "11        Racing      9.71      7.47      4.13         1.90          91.0   \n",
              "12  Role-Playing      9.00      6.18      7.20         0.71           NaN   \n",
              "13        Sports      8.92      8.03      3.60         2.15          80.0   \n",
              "14          Misc     15.00      4.89      0.24         1.69          61.0   \n",
              "15        Sports      9.01      8.49      2.53         1.77          80.0   \n",
              "16        Action      7.02      9.09      0.98         3.96          97.0   \n",
              "17        Action      9.43      0.40      0.41        10.57          95.0   \n",
              "18      Platform     12.78      3.75      3.54         0.55           NaN   \n",
              "19          Misc      4.74      9.20      4.16         2.04          77.0   \n",
              "\n",
              "   User_Score Rating  \n",
              "0           8      E  \n",
              "1         NaN    NaN  \n",
              "2         8.3      E  \n",
              "3           8      E  \n",
              "4         NaN    NaN  \n",
              "5         NaN    NaN  \n",
              "6         8.5      E  \n",
              "7         6.6      E  \n",
              "8         8.4      E  \n",
              "9         NaN    NaN  \n",
              "10        NaN    NaN  \n",
              "11        8.6      E  \n",
              "12        NaN    NaN  \n",
              "13        7.7      E  \n",
              "14        6.3      E  \n",
              "15        7.4      E  \n",
              "16        8.2      M  \n",
              "17          9      M  \n",
              "18        NaN    NaN  \n",
              "19        7.9      E  "
            ]
          },
          "execution_count": 7,
          "metadata": {},
          "output_type": "execute_result"
        }
      ],
      "source": [
        "data.head(20)"
      ]
    },
    {
      "cell_type": "code",
      "execution_count": null,
      "metadata": {
        "id": "kJ74YI-2qhZ1",
        "outputId": "d5055785-55e9-4512-d4ef-765f9b094f7b"
      },
      "outputs": [
        {
          "name": "stdout",
          "output_type": "stream",
          "text": [
            "<class 'pandas.core.frame.DataFrame'>\n",
            "RangeIndex: 16715 entries, 0 to 16714\n",
            "Data columns (total 11 columns):\n",
            " #   Column           Non-Null Count  Dtype  \n",
            "---  ------           --------------  -----  \n",
            " 0   Name             16713 non-null  object \n",
            " 1   Platform         16715 non-null  object \n",
            " 2   Year_of_Release  16446 non-null  float64\n",
            " 3   Genre            16713 non-null  object \n",
            " 4   NA_sales         16715 non-null  float64\n",
            " 5   EU_sales         16715 non-null  float64\n",
            " 6   JP_sales         16715 non-null  float64\n",
            " 7   Other_sales      16715 non-null  float64\n",
            " 8   Critic_Score     8137 non-null   float64\n",
            " 9   User_Score       10014 non-null  object \n",
            " 10  Rating           9949 non-null   object \n",
            "dtypes: float64(6), object(5)\n",
            "memory usage: 1.4+ MB\n",
            "\n",
            "Количество дубликатов: 0\n"
          ]
        }
      ],
      "source": [
        "data.info()\n",
        "print('\\nКоличество дубликатов:', data.duplicated().sum())"
      ]
    },
    {
      "cell_type": "code",
      "execution_count": null,
      "metadata": {
        "id": "4dQ4OeecqhZ2",
        "outputId": "a76767b1-256a-4b31-83fe-add5c4587d3d"
      },
      "outputs": [
        {
          "data": {
            "text/html": [
              "<div>\n",
              "<style scoped>\n",
              "    .dataframe tbody tr th:only-of-type {\n",
              "        vertical-align: middle;\n",
              "    }\n",
              "\n",
              "    .dataframe tbody tr th {\n",
              "        vertical-align: top;\n",
              "    }\n",
              "\n",
              "    .dataframe thead th {\n",
              "        text-align: right;\n",
              "    }\n",
              "</style>\n",
              "<table border=\"1\" class=\"dataframe\">\n",
              "  <thead>\n",
              "    <tr style=\"text-align: right;\">\n",
              "      <th></th>\n",
              "      <th>Year_of_Release</th>\n",
              "      <th>NA_sales</th>\n",
              "      <th>EU_sales</th>\n",
              "      <th>JP_sales</th>\n",
              "      <th>Other_sales</th>\n",
              "      <th>Critic_Score</th>\n",
              "    </tr>\n",
              "  </thead>\n",
              "  <tbody>\n",
              "    <tr>\n",
              "      <th>count</th>\n",
              "      <td>16446.000000</td>\n",
              "      <td>16715.000000</td>\n",
              "      <td>16715.000000</td>\n",
              "      <td>16715.000000</td>\n",
              "      <td>16715.000000</td>\n",
              "      <td>8137.000000</td>\n",
              "    </tr>\n",
              "    <tr>\n",
              "      <th>mean</th>\n",
              "      <td>2006.484616</td>\n",
              "      <td>0.263377</td>\n",
              "      <td>0.145060</td>\n",
              "      <td>0.077617</td>\n",
              "      <td>0.047342</td>\n",
              "      <td>68.967679</td>\n",
              "    </tr>\n",
              "    <tr>\n",
              "      <th>std</th>\n",
              "      <td>5.877050</td>\n",
              "      <td>0.813604</td>\n",
              "      <td>0.503339</td>\n",
              "      <td>0.308853</td>\n",
              "      <td>0.186731</td>\n",
              "      <td>13.938165</td>\n",
              "    </tr>\n",
              "    <tr>\n",
              "      <th>min</th>\n",
              "      <td>1980.000000</td>\n",
              "      <td>0.000000</td>\n",
              "      <td>0.000000</td>\n",
              "      <td>0.000000</td>\n",
              "      <td>0.000000</td>\n",
              "      <td>13.000000</td>\n",
              "    </tr>\n",
              "    <tr>\n",
              "      <th>25%</th>\n",
              "      <td>2003.000000</td>\n",
              "      <td>0.000000</td>\n",
              "      <td>0.000000</td>\n",
              "      <td>0.000000</td>\n",
              "      <td>0.000000</td>\n",
              "      <td>60.000000</td>\n",
              "    </tr>\n",
              "    <tr>\n",
              "      <th>50%</th>\n",
              "      <td>2007.000000</td>\n",
              "      <td>0.080000</td>\n",
              "      <td>0.020000</td>\n",
              "      <td>0.000000</td>\n",
              "      <td>0.010000</td>\n",
              "      <td>71.000000</td>\n",
              "    </tr>\n",
              "    <tr>\n",
              "      <th>75%</th>\n",
              "      <td>2010.000000</td>\n",
              "      <td>0.240000</td>\n",
              "      <td>0.110000</td>\n",
              "      <td>0.040000</td>\n",
              "      <td>0.030000</td>\n",
              "      <td>79.000000</td>\n",
              "    </tr>\n",
              "    <tr>\n",
              "      <th>max</th>\n",
              "      <td>2016.000000</td>\n",
              "      <td>41.360000</td>\n",
              "      <td>28.960000</td>\n",
              "      <td>10.220000</td>\n",
              "      <td>10.570000</td>\n",
              "      <td>98.000000</td>\n",
              "    </tr>\n",
              "  </tbody>\n",
              "</table>\n",
              "</div>"
            ],
            "text/plain": [
              "       Year_of_Release      NA_sales      EU_sales      JP_sales  \\\n",
              "count     16446.000000  16715.000000  16715.000000  16715.000000   \n",
              "mean       2006.484616      0.263377      0.145060      0.077617   \n",
              "std           5.877050      0.813604      0.503339      0.308853   \n",
              "min        1980.000000      0.000000      0.000000      0.000000   \n",
              "25%        2003.000000      0.000000      0.000000      0.000000   \n",
              "50%        2007.000000      0.080000      0.020000      0.000000   \n",
              "75%        2010.000000      0.240000      0.110000      0.040000   \n",
              "max        2016.000000     41.360000     28.960000     10.220000   \n",
              "\n",
              "        Other_sales  Critic_Score  \n",
              "count  16715.000000   8137.000000  \n",
              "mean       0.047342     68.967679  \n",
              "std        0.186731     13.938165  \n",
              "min        0.000000     13.000000  \n",
              "25%        0.000000     60.000000  \n",
              "50%        0.010000     71.000000  \n",
              "75%        0.030000     79.000000  \n",
              "max       10.570000     98.000000  "
            ]
          },
          "execution_count": 9,
          "metadata": {},
          "output_type": "execute_result"
        }
      ],
      "source": [
        "data.describe()"
      ]
    },
    {
      "cell_type": "markdown",
      "metadata": {
        "id": "PFQ_rCTbqhZ2"
      },
      "source": [
        "## Предобработка данных"
      ]
    },
    {
      "cell_type": "code",
      "execution_count": null,
      "metadata": {
        "id": "PA0r1caQqhZ3",
        "outputId": "989a74af-2707-408e-b380-b0d60efd13af"
      },
      "outputs": [
        {
          "data": {
            "text/plain": [
              "Name                  2\n",
              "Platform              0\n",
              "Year_of_Release     269\n",
              "Genre                 2\n",
              "NA_sales              0\n",
              "EU_sales              0\n",
              "JP_sales              0\n",
              "Other_sales           0\n",
              "Critic_Score       8578\n",
              "User_Score         6701\n",
              "Rating             6766\n",
              "dtype: int64"
            ]
          },
          "metadata": {},
          "output_type": "display_data"
        },
        {
          "data": {
            "text/plain": [
              "Name                0.01\n",
              "Platform            0.00\n",
              "Year_of_Release     1.61\n",
              "Genre               0.01\n",
              "NA_sales            0.00\n",
              "EU_sales            0.00\n",
              "JP_sales            0.00\n",
              "Other_sales         0.00\n",
              "Critic_Score       51.32\n",
              "User_Score         40.09\n",
              "Rating             40.48\n",
              "dtype: float64"
            ]
          },
          "metadata": {},
          "output_type": "display_data"
        }
      ],
      "source": [
        "#Количество пустых значений и их доля в данных.\n",
        "display(data.isna().sum(), round(data.isnull().mean() * 100, 2))"
      ]
    },
    {
      "cell_type": "code",
      "execution_count": null,
      "metadata": {
        "id": "QKZlBB4GqhZ4"
      },
      "outputs": [],
      "source": [
        "#Приводим название столбцов к нижнему регистру.\n",
        "data.columns = data.columns.str.lower()"
      ]
    },
    {
      "cell_type": "code",
      "execution_count": null,
      "metadata": {
        "id": "vPy4Ta1LqhZ4"
      },
      "outputs": [],
      "source": [
        "#Удалим строки, где присутсвтуют пропуски. Пропусков небольшое количество, их удаление критично не повлияет на анализ.\n",
        "data.dropna(subset=['name', 'genre', 'year_of_release'], inplace=True)"
      ]
    },
    {
      "cell_type": "code",
      "execution_count": null,
      "metadata": {
        "id": "QtXe09KMqhZ4"
      },
      "outputs": [],
      "source": [
        "data['rating'] = data['rating'].fillna('unknown')"
      ]
    },
    {
      "cell_type": "code",
      "execution_count": null,
      "metadata": {
        "id": "Np8xu4gIqhZ5"
      },
      "outputs": [],
      "source": [
        "#data['user_score'].value_counts()\n",
        "data['user_score'] = data['user_score'].replace('tbd', np.NaN)"
      ]
    },
    {
      "cell_type": "code",
      "execution_count": null,
      "metadata": {
        "id": "wy7igzmXqhZ5"
      },
      "outputs": [],
      "source": [
        "data['year_of_release'] = data['year_of_release'].astype('int')\n",
        "data['user_score'] = data['user_score'].astype('float')"
      ]
    },
    {
      "cell_type": "code",
      "execution_count": null,
      "metadata": {
        "id": "C3BBusGKqhZ5"
      },
      "outputs": [],
      "source": [
        "data['world_sales'] = data['na_sales'] + data['eu_sales'] + data['jp_sales'] + data['other_sales']"
      ]
    },
    {
      "cell_type": "markdown",
      "metadata": {
        "id": "TjyDTxA2qhZ6"
      },
      "source": [
        "- *Отсутствующие значения в столбце с рейтингом заполним обозначением 'unknown'.*  \n",
        "- *В сущности 'tbd' и пропущенные значения - одно явление. Приведем их к одному варианту и заменим обозначение 'tbd' на пропуски.*\n",
        "- *Удаление или замена пропусков с оценками пользователей и критиков невозможны, поскольку это сильно исказит анализ. Оставим как есть.*\n",
        "- *Данные в столбце год выпуска имеют вещественные значения, а в столбце с оценками пользователей тип 'object' - это не соответсвующие типы данных. Заменим их на корректные.*"
      ]
    },
    {
      "cell_type": "markdown",
      "metadata": {
        "id": "k3H1yZ5NqhZ6"
      },
      "source": [
        "## Исследовательский анализ данных"
      ]
    },
    {
      "cell_type": "markdown",
      "metadata": {
        "id": "Hg7q8n9nqhZ7"
      },
      "source": [
        "### Релиз игр в разные годы."
      ]
    },
    {
      "cell_type": "code",
      "execution_count": null,
      "metadata": {
        "id": "-ZmyBh2QqhZ7",
        "outputId": "83f19751-e494-4bc9-b5d9-a0af964d9d75"
      },
      "outputs": [
        {
          "data": {
            "text/plain": [
              "<AxesSubplot:xlabel='year_of_release'>"
            ]
          },
          "execution_count": 17,
          "metadata": {},
          "output_type": "execute_result"
        },
        {
          "data": {
            "image/png": "[encoded data removed]",
            "text/plain": [
              "<Figure size 1080x432 with 1 Axes>"
            ]
          },
          "metadata": {
            "needs_background": "light"
          },
          "output_type": "display_data"
        }
      ],
      "source": [
        "data.groupby('year_of_release')['name'].count().plot(grid=True, style='o-', figsize=(15, 6))"
      ]
    },
    {
      "cell_type": "markdown",
      "metadata": {
        "id": "-b-NUmrMqhZ7"
      },
      "source": [
        "*Рост количества выпускаемых игр произошел в начале 90-х годов, темпы с каждым годом увеичивались и в 2008-2009 достигли своего пика - свыше 1400 игр в год. После случился спад и в последние пару лет выпускается 500-600 игр в год.*"
      ]
    },
    {
      "cell_type": "markdown",
      "metadata": {
        "id": "FOFPyQCRqhZ8"
      },
      "source": [
        "### Распределение продаж по платформам. Продажи популярных платформ в разные годы."
      ]
    },
    {
      "cell_type": "code",
      "execution_count": null,
      "metadata": {
        "id": "g2kWUK-7qhZ8",
        "outputId": "4c75c836-97c2-427b-e34f-78807383d38d"
      },
      "outputs": [
        {
          "data": {
            "text/plain": [
              "<AxesSubplot:xlabel='platform'>"
            ]
          },
          "execution_count": 18,
          "metadata": {},
          "output_type": "execute_result"
        },
        {
          "data": {
            "image/png": "[encoded data removed]",
            "text/plain": [
              "<Figure size 1080x432 with 1 Axes>"
            ]
          },
          "metadata": {
            "needs_background": "light"
          },
          "output_type": "display_data"
        }
      ],
      "source": [
        "data.groupby('platform')['world_sales'].sum().sort_values(ascending=False).plot(grid=True, kind='bar', figsize=(15,6), color='steelblue')"
      ]
    },
    {
      "cell_type": "code",
      "execution_count": null,
      "metadata": {
        "id": "AT-Xwxz6qhZ9"
      },
      "outputs": [],
      "source": [
        "def platforms(platform, index):\n",
        "    bar = data[data['platform'] == platform].pivot_table(\n",
        "        index='year_of_release', values='world_sales', aggfunc='sum'\n",
        "    ).plot(grid=True, kind='bar', title=platform, ax=axes[index], fontsize=10, width=0.5, color='teal')\n",
        "    bar.title.set_size(12)\n",
        "    bar.set_xlabel('')"
      ]
    },
    {
      "cell_type": "code",
      "execution_count": null,
      "metadata": {
        "id": "CAlDN2u8qhZ9",
        "outputId": "c461fa75-72cf-4e0f-976c-786a4f4c1351"
      },
      "outputs": [
        {
          "data": {
            "image/png": "[encoded data removed]",
            "text/plain": [
              "<Figure size 1296x288 with 2 Axes>"
            ]
          },
          "metadata": {
            "needs_background": "light"
          },
          "output_type": "display_data"
        }
      ],
      "source": [
        "fig, axes = plt.subplots(nrows=1, ncols=2, figsize=(18, 4))\n",
        "platforms('PS2', 0)\n",
        "platforms('X360', 1)"
      ]
    },
    {
      "cell_type": "code",
      "execution_count": null,
      "metadata": {
        "id": "o-0jvctlqhZ9",
        "outputId": "fff74889-5bf0-49f4-cb15-c15b8ada172e"
      },
      "outputs": [
        {
          "data": {
            "image/png": "[encoded data removed]",
            "text/plain": [
              "<Figure size 1296x288 with 2 Axes>"
            ]
          },
          "metadata": {
            "needs_background": "light"
          },
          "output_type": "display_data"
        }
      ],
      "source": [
        "fig, axes = plt.subplots(nrows=1, ncols=2, figsize=(18, 4))\n",
        "platforms('PS3', 0)\n",
        "platforms('Wii', 1)"
      ]
    },
    {
      "cell_type": "code",
      "execution_count": null,
      "metadata": {
        "id": "c0s52pLhqhZ-",
        "outputId": "684b19e6-23eb-44d1-ff5c-ec9720b796d5"
      },
      "outputs": [
        {
          "data": {
            "image/png": "[encoded data removed]",
            "text/plain": [
              "<Figure size 1296x288 with 2 Axes>"
            ]
          },
          "metadata": {
            "needs_background": "light"
          },
          "output_type": "display_data"
        }
      ],
      "source": [
        "fig, axes = plt.subplots(nrows=1, ncols=2, figsize=(18, 4))\n",
        "platforms('DS', 0)\n",
        "platforms('PS', 1)"
      ]
    },
    {
      "cell_type": "code",
      "execution_count": null,
      "metadata": {
        "id": "nFp2gHftqhZ-",
        "outputId": "5355c6b3-1442-421e-b5f8-fc30080f83e3"
      },
      "outputs": [
        {
          "data": {
            "text/plain": [
              "<AxesSubplot:xlabel='year_of_release', ylabel='world_sales'>"
            ]
          },
          "execution_count": 23,
          "metadata": {},
          "output_type": "execute_result"
        },
        {
          "data": {
            "image/png": "[encoded data removed]",
            "text/plain": [
              "<Figure size 1080x504 with 1 Axes>"
            ]
          },
          "metadata": {
            "needs_background": "light"
          },
          "output_type": "display_data"
        }
      ],
      "source": [
        "plt.figure(figsize=(15, 7))\n",
        "\n",
        "pl = ['PS2','X360', 'PS3', 'Wii', 'DS', 'PS']\n",
        "bar = data.query(\n",
        "    'platform in @pl & year_of_release > 1990').pivot_table(\n",
        "    index=['year_of_release', 'platform'], values='world_sales', aggfunc='sum')\n",
        "sns.lineplot(x='year_of_release', y='world_sales', hue='platform',\n",
        "             markers=True, dashes=False, data=bar)"
      ]
    },
    {
      "cell_type": "markdown",
      "metadata": {
        "id": "ef-DK3LuqhZ_"
      },
      "source": [
        "*Наиболее продаваемые платформы за все время - PS2, Xbox-360, PS3, Wii, DS, PS.\n",
        "Прослеживается закономерность - срок их жизни составляет примерно 10 лет. Вероятно, после выхода нового поколения консолей слишком старые платформы не поддерживают акуальные игры. Пиковые продажи приходятся примерно на 4-6 годы после выпуска платформы.*"
      ]
    },
    {
      "cell_type": "markdown",
      "metadata": {
        "id": "cVzH4hV-qhaA"
      },
      "source": [
        "### Продажи по платформам за актуальный период."
      ]
    },
    {
      "cell_type": "code",
      "execution_count": null,
      "metadata": {
        "id": "MNDFgrE7qhaA"
      },
      "outputs": [],
      "source": [
        "df = data.query('year_of_release > 2011')"
      ]
    },
    {
      "cell_type": "code",
      "execution_count": null,
      "metadata": {
        "id": "zbEA0olSqhaB",
        "outputId": "6586b8c3-036d-4d96-90d7-26b46d009114"
      },
      "outputs": [
        {
          "data": {
            "text/plain": [
              "<AxesSubplot:xlabel='year_of_release', ylabel='world_sales'>"
            ]
          },
          "execution_count": 25,
          "metadata": {},
          "output_type": "execute_result"
        },
        {
          "data": {
            "image/png": "[encoded data removed]",
            "text/plain": [
              "<Figure size 1080x504 with 1 Axes>"
            ]
          },
          "metadata": {
            "needs_background": "light"
          },
          "output_type": "display_data"
        }
      ],
      "source": [
        "plt.figure(figsize=(15, 7))\n",
        "\n",
        "gr = df.pivot_table(index=['year_of_release', 'platform'], values='world_sales', aggfunc='sum')\n",
        "sns.lineplot(\n",
        "    x='year_of_release',\n",
        "    y='world_sales', hue='platform', style='platform',\n",
        "    markers=True, dashes=False, data=gr\n",
        ")"
      ]
    },
    {
      "cell_type": "markdown",
      "metadata": {
        "id": "Smr-RkQ4qhaC"
      },
      "source": [
        "*За актуальный период возьмем данные начиная с 2012 года. Данных за 5 лет достаточно для прогноза на 2017. В предыдущие годы объемы продаж сильно превышали актуальные значения, но большинство из платформ тех лет не актуальны.*\n",
        "\n",
        "*Спад характерен для всего рынка в целом. Наиболее продаваемые платформы - PS4, XboxOne, 3DS, они же и потенциально самые прибыльные на 2017 год.*"
      ]
    },
    {
      "cell_type": "markdown",
      "metadata": {
        "id": "HiW_ti9-qhaD"
      },
      "source": [
        "### 'Ящик с усами' по глобальным продажам игр в разбивке по платформам."
      ]
    },
    {
      "cell_type": "code",
      "execution_count": null,
      "metadata": {
        "id": "ngQEHLLsqhaD",
        "outputId": "b1f26288-0821-4aa5-8431-5d80ebd216c4"
      },
      "outputs": [
        {
          "data": {
            "text/plain": [
              "count    2886.000000\n",
              "mean        0.501223\n",
              "std         1.249157\n",
              "min         0.010000\n",
              "25%         0.040000\n",
              "50%         0.120000\n",
              "75%         0.430000\n",
              "max        21.050000\n",
              "Name: world_sales, dtype: float64"
            ]
          },
          "execution_count": 26,
          "metadata": {},
          "output_type": "execute_result"
        }
      ],
      "source": [
        "df['world_sales'].describe()"
      ]
    },
    {
      "cell_type": "code",
      "execution_count": null,
      "metadata": {
        "id": "zKkDV7jZqhaD",
        "outputId": "5781456d-c220-43ad-df20-6fbc9d16253a"
      },
      "outputs": [
        {
          "data": {
            "text/plain": [
              "<AxesSubplot:xlabel='platform', ylabel='world_sales'>"
            ]
          },
          "execution_count": 27,
          "metadata": {},
          "output_type": "execute_result"
        },
        {
          "data": {
            "image/png": "[encoded data removed]",
            "text/plain": [
              "<Figure size 1080x432 with 1 Axes>"
            ]
          },
          "metadata": {
            "needs_background": "light"
          },
          "output_type": "display_data"
        }
      ],
      "source": [
        "plt.figure(figsize=(15,6))\n",
        "\n",
        "sns.boxplot(\n",
        "    data=df.query('world_sales < 1'),\n",
        "    x='platform', y='world_sales', palette='Oranges'\n",
        ")"
      ]
    },
    {
      "cell_type": "markdown",
      "metadata": {
        "id": "__WQpvayqhaE"
      },
      "source": [
        "- *Наибольшее медианное значение у xbox360.*\n",
        "- *В данных каждой платформы встречаются выбросы*\n",
        "- *Визуально платформы можно поделить на 3 типа по близости данных между 1 и 3 квартилем:*\n",
        " 1. Наименьшая стоимость - PSV, DS, PSP\n",
        " 2. Средня стоимость - PC, 3DS\n",
        " 3. Лидеры по ценам - X360, PS4, PS3, WII, XOne, WiiU"
      ]
    },
    {
      "cell_type": "markdown",
      "metadata": {
        "id": "FYm6NO-2qhaE"
      },
      "source": [
        "### Как влияют на продажи внутри одной популярной платформы отзывы пользователей и критиков?"
      ]
    },
    {
      "cell_type": "code",
      "execution_count": null,
      "metadata": {
        "id": "zDJuQS0AqhaF",
        "outputId": "1703f8ff-6f1b-44c2-84a7-ded0e5b3c3b1"
      },
      "outputs": [
        {
          "data": {
            "image/png": "[encoded data removed]",
            "text/plain": [
              "<Figure size 864x864 with 9 Axes>"
            ]
          },
          "metadata": {
            "needs_background": "light"
          },
          "output_type": "display_data"
        }
      ],
      "source": [
        "pd.plotting.scatter_matrix(df[df['platform'] == 'XOne'][['world_sales', 'user_score', 'critic_score']], figsize=(12, 12));"
      ]
    },
    {
      "cell_type": "code",
      "execution_count": null,
      "metadata": {
        "id": "tcX_CdpTqhaF",
        "outputId": "b8ebd19e-18d1-4f72-9c0e-bec31765a438"
      },
      "outputs": [
        {
          "data": {
            "text/html": [
              "<div>\n",
              "<style scoped>\n",
              "    .dataframe tbody tr th:only-of-type {\n",
              "        vertical-align: middle;\n",
              "    }\n",
              "\n",
              "    .dataframe tbody tr th {\n",
              "        vertical-align: top;\n",
              "    }\n",
              "\n",
              "    .dataframe thead th {\n",
              "        text-align: right;\n",
              "    }\n",
              "</style>\n",
              "<table border=\"1\" class=\"dataframe\">\n",
              "  <thead>\n",
              "    <tr style=\"text-align: right;\">\n",
              "      <th></th>\n",
              "      <th>world_sales</th>\n",
              "      <th>user_score</th>\n",
              "      <th>critic_score</th>\n",
              "    </tr>\n",
              "  </thead>\n",
              "  <tbody>\n",
              "    <tr>\n",
              "      <th>world_sales</th>\n",
              "      <td>1.000000</td>\n",
              "      <td>-0.068925</td>\n",
              "      <td>0.416998</td>\n",
              "    </tr>\n",
              "    <tr>\n",
              "      <th>user_score</th>\n",
              "      <td>-0.068925</td>\n",
              "      <td>1.000000</td>\n",
              "      <td>0.472462</td>\n",
              "    </tr>\n",
              "    <tr>\n",
              "      <th>critic_score</th>\n",
              "      <td>0.416998</td>\n",
              "      <td>0.472462</td>\n",
              "      <td>1.000000</td>\n",
              "    </tr>\n",
              "  </tbody>\n",
              "</table>\n",
              "</div>"
            ],
            "text/plain": [
              "              world_sales  user_score  critic_score\n",
              "world_sales      1.000000   -0.068925      0.416998\n",
              "user_score      -0.068925    1.000000      0.472462\n",
              "critic_score     0.416998    0.472462      1.000000"
            ]
          },
          "execution_count": 29,
          "metadata": {},
          "output_type": "execute_result"
        }
      ],
      "source": [
        "df[df['platform'] == 'XOne'][['world_sales', 'user_score', 'critic_score']].corr()"
      ]
    },
    {
      "cell_type": "markdown",
      "metadata": {
        "id": "s1m1fPlbqhaG"
      },
      "source": [
        "*Рассчитанный коэффициент корреляции демонстрирует среднюю зависимость между оценками критиков и глобальными продажами. Оценки пользователей вовсе не оказывают влияния на продажи.*\n",
        "\n",
        "*Судя по диаграмме рассеивания можно сделать выводы:*\n",
        "1. *Большинство игр имеют маленькие продажи независимо от оценок.*\n",
        "2. *Если откинуть эти игры, есть закономерность, что чем выше оценка, тем больше прожажи. Это относится к оценкам критиков в большей степени и пользователей чуть в меньшей.*"
      ]
    },
    {
      "cell_type": "markdown",
      "metadata": {
        "id": "6EAQN5A4qhaH"
      },
      "source": [
        "### Влияние на продажи игр на других платфомах."
      ]
    },
    {
      "cell_type": "code",
      "execution_count": null,
      "metadata": {
        "id": "nO9dP7jlqhaH"
      },
      "outputs": [],
      "source": [
        "def matrix(platform):\n",
        "    pl_corr = df[df['platform'] == platform][['world_sales', 'user_score', 'critic_score']]\n",
        "    return pl_corr.corr()"
      ]
    },
    {
      "cell_type": "code",
      "execution_count": null,
      "metadata": {
        "id": "2EfuV3A2qhaI",
        "outputId": "ab3b3e93-8660-4a4c-c369-bf6de7e20e67"
      },
      "outputs": [
        {
          "data": {
            "text/html": [
              "<div>\n",
              "<style scoped>\n",
              "    .dataframe tbody tr th:only-of-type {\n",
              "        vertical-align: middle;\n",
              "    }\n",
              "\n",
              "    .dataframe tbody tr th {\n",
              "        vertical-align: top;\n",
              "    }\n",
              "\n",
              "    .dataframe thead th {\n",
              "        text-align: right;\n",
              "    }\n",
              "</style>\n",
              "<table border=\"1\" class=\"dataframe\">\n",
              "  <thead>\n",
              "    <tr style=\"text-align: right;\">\n",
              "      <th></th>\n",
              "      <th>world_sales</th>\n",
              "      <th>user_score</th>\n",
              "      <th>critic_score</th>\n",
              "    </tr>\n",
              "  </thead>\n",
              "  <tbody>\n",
              "    <tr>\n",
              "      <th>world_sales</th>\n",
              "      <td>1.000000</td>\n",
              "      <td>0.006164</td>\n",
              "      <td>0.360573</td>\n",
              "    </tr>\n",
              "    <tr>\n",
              "      <th>user_score</th>\n",
              "      <td>0.006164</td>\n",
              "      <td>1.000000</td>\n",
              "      <td>0.557352</td>\n",
              "    </tr>\n",
              "    <tr>\n",
              "      <th>critic_score</th>\n",
              "      <td>0.360573</td>\n",
              "      <td>0.557352</td>\n",
              "      <td>1.000000</td>\n",
              "    </tr>\n",
              "  </tbody>\n",
              "</table>\n",
              "</div>"
            ],
            "text/plain": [
              "              world_sales  user_score  critic_score\n",
              "world_sales      1.000000    0.006164      0.360573\n",
              "user_score       0.006164    1.000000      0.557352\n",
              "critic_score     0.360573    0.557352      1.000000"
            ]
          },
          "metadata": {},
          "output_type": "display_data"
        },
        {
          "data": {
            "text/plain": [
              "'Матрица корреляции для X360'"
            ]
          },
          "metadata": {},
          "output_type": "display_data"
        },
        {
          "data": {
            "text/html": [
              "<div>\n",
              "<style scoped>\n",
              "    .dataframe tbody tr th:only-of-type {\n",
              "        vertical-align: middle;\n",
              "    }\n",
              "\n",
              "    .dataframe tbody tr th {\n",
              "        vertical-align: top;\n",
              "    }\n",
              "\n",
              "    .dataframe thead th {\n",
              "        text-align: right;\n",
              "    }\n",
              "</style>\n",
              "<table border=\"1\" class=\"dataframe\">\n",
              "  <thead>\n",
              "    <tr style=\"text-align: right;\">\n",
              "      <th></th>\n",
              "      <th>world_sales</th>\n",
              "      <th>user_score</th>\n",
              "      <th>critic_score</th>\n",
              "    </tr>\n",
              "  </thead>\n",
              "  <tbody>\n",
              "    <tr>\n",
              "      <th>world_sales</th>\n",
              "      <td>1.000000</td>\n",
              "      <td>-0.031957</td>\n",
              "      <td>0.406568</td>\n",
              "    </tr>\n",
              "    <tr>\n",
              "      <th>user_score</th>\n",
              "      <td>-0.031957</td>\n",
              "      <td>1.000000</td>\n",
              "      <td>0.557654</td>\n",
              "    </tr>\n",
              "    <tr>\n",
              "      <th>critic_score</th>\n",
              "      <td>0.406568</td>\n",
              "      <td>0.557654</td>\n",
              "      <td>1.000000</td>\n",
              "    </tr>\n",
              "  </tbody>\n",
              "</table>\n",
              "</div>"
            ],
            "text/plain": [
              "              world_sales  user_score  critic_score\n",
              "world_sales      1.000000   -0.031957      0.406568\n",
              "user_score      -0.031957    1.000000      0.557654\n",
              "critic_score     0.406568    0.557654      1.000000"
            ]
          },
          "metadata": {},
          "output_type": "display_data"
        },
        {
          "data": {
            "text/plain": [
              "'Матрица корреляции для PS4'"
            ]
          },
          "metadata": {},
          "output_type": "display_data"
        },
        {
          "data": {
            "text/html": [
              "<div>\n",
              "<style scoped>\n",
              "    .dataframe tbody tr th:only-of-type {\n",
              "        vertical-align: middle;\n",
              "    }\n",
              "\n",
              "    .dataframe tbody tr th {\n",
              "        vertical-align: top;\n",
              "    }\n",
              "\n",
              "    .dataframe thead th {\n",
              "        text-align: right;\n",
              "    }\n",
              "</style>\n",
              "<table border=\"1\" class=\"dataframe\">\n",
              "  <thead>\n",
              "    <tr style=\"text-align: right;\">\n",
              "      <th></th>\n",
              "      <th>world_sales</th>\n",
              "      <th>user_score</th>\n",
              "      <th>critic_score</th>\n",
              "    </tr>\n",
              "  </thead>\n",
              "  <tbody>\n",
              "    <tr>\n",
              "      <th>world_sales</th>\n",
              "      <td>1.000000</td>\n",
              "      <td>0.197583</td>\n",
              "      <td>0.320803</td>\n",
              "    </tr>\n",
              "    <tr>\n",
              "      <th>user_score</th>\n",
              "      <td>0.197583</td>\n",
              "      <td>1.000000</td>\n",
              "      <td>0.722762</td>\n",
              "    </tr>\n",
              "    <tr>\n",
              "      <th>critic_score</th>\n",
              "      <td>0.320803</td>\n",
              "      <td>0.722762</td>\n",
              "      <td>1.000000</td>\n",
              "    </tr>\n",
              "  </tbody>\n",
              "</table>\n",
              "</div>"
            ],
            "text/plain": [
              "              world_sales  user_score  critic_score\n",
              "world_sales      1.000000    0.197583      0.320803\n",
              "user_score       0.197583    1.000000      0.722762\n",
              "critic_score     0.320803    0.722762      1.000000"
            ]
          },
          "metadata": {},
          "output_type": "display_data"
        },
        {
          "data": {
            "text/plain": [
              "'Матрица корреляции для 3DS'"
            ]
          },
          "metadata": {},
          "output_type": "display_data"
        },
        {
          "data": {
            "text/html": [
              "<div>\n",
              "<style scoped>\n",
              "    .dataframe tbody tr th:only-of-type {\n",
              "        vertical-align: middle;\n",
              "    }\n",
              "\n",
              "    .dataframe tbody tr th {\n",
              "        vertical-align: top;\n",
              "    }\n",
              "\n",
              "    .dataframe thead th {\n",
              "        text-align: right;\n",
              "    }\n",
              "</style>\n",
              "<table border=\"1\" class=\"dataframe\">\n",
              "  <thead>\n",
              "    <tr style=\"text-align: right;\">\n",
              "      <th></th>\n",
              "      <th>world_sales</th>\n",
              "      <th>user_score</th>\n",
              "      <th>critic_score</th>\n",
              "    </tr>\n",
              "  </thead>\n",
              "  <tbody>\n",
              "    <tr>\n",
              "      <th>world_sales</th>\n",
              "      <td>1.000000</td>\n",
              "      <td>-0.121867</td>\n",
              "      <td>0.237243</td>\n",
              "    </tr>\n",
              "    <tr>\n",
              "      <th>user_score</th>\n",
              "      <td>-0.121867</td>\n",
              "      <td>1.000000</td>\n",
              "      <td>0.432587</td>\n",
              "    </tr>\n",
              "    <tr>\n",
              "      <th>critic_score</th>\n",
              "      <td>0.237243</td>\n",
              "      <td>0.432587</td>\n",
              "      <td>1.000000</td>\n",
              "    </tr>\n",
              "  </tbody>\n",
              "</table>\n",
              "</div>"
            ],
            "text/plain": [
              "              world_sales  user_score  critic_score\n",
              "world_sales      1.000000   -0.121867      0.237243\n",
              "user_score      -0.121867    1.000000      0.432587\n",
              "critic_score     0.237243    0.432587      1.000000"
            ]
          },
          "metadata": {},
          "output_type": "display_data"
        },
        {
          "data": {
            "text/plain": [
              "'Матрица корреляции для PC'"
            ]
          },
          "metadata": {},
          "output_type": "display_data"
        },
        {
          "data": {
            "text/html": [
              "<div>\n",
              "<style scoped>\n",
              "    .dataframe tbody tr th:only-of-type {\n",
              "        vertical-align: middle;\n",
              "    }\n",
              "\n",
              "    .dataframe tbody tr th {\n",
              "        vertical-align: top;\n",
              "    }\n",
              "\n",
              "    .dataframe thead th {\n",
              "        text-align: right;\n",
              "    }\n",
              "</style>\n",
              "<table border=\"1\" class=\"dataframe\">\n",
              "  <thead>\n",
              "    <tr style=\"text-align: right;\">\n",
              "      <th></th>\n",
              "      <th>world_sales</th>\n",
              "      <th>user_score</th>\n",
              "      <th>critic_score</th>\n",
              "    </tr>\n",
              "  </thead>\n",
              "  <tbody>\n",
              "    <tr>\n",
              "      <th>world_sales</th>\n",
              "      <td>1.000000</td>\n",
              "      <td>0.400219</td>\n",
              "      <td>0.34838</td>\n",
              "    </tr>\n",
              "    <tr>\n",
              "      <th>user_score</th>\n",
              "      <td>0.400219</td>\n",
              "      <td>1.000000</td>\n",
              "      <td>0.77008</td>\n",
              "    </tr>\n",
              "    <tr>\n",
              "      <th>critic_score</th>\n",
              "      <td>0.348380</td>\n",
              "      <td>0.770080</td>\n",
              "      <td>1.00000</td>\n",
              "    </tr>\n",
              "  </tbody>\n",
              "</table>\n",
              "</div>"
            ],
            "text/plain": [
              "              world_sales  user_score  critic_score\n",
              "world_sales      1.000000    0.400219       0.34838\n",
              "user_score       0.400219    1.000000       0.77008\n",
              "critic_score     0.348380    0.770080       1.00000"
            ]
          },
          "metadata": {},
          "output_type": "display_data"
        },
        {
          "data": {
            "text/plain": [
              "'Матрица корреляции для WiiU'"
            ]
          },
          "metadata": {},
          "output_type": "display_data"
        }
      ],
      "source": [
        "display(matrix('X360'), 'Матрица корреляции для X360',\n",
        "        matrix('PS4'), 'Матрица корреляции для PS4',\n",
        "        matrix('3DS'), 'Матрица корреляции для 3DS',\n",
        "        matrix('PC'), 'Матрица корреляции для PC',\n",
        "        matrix('WiiU'), 'Матрица корреляции для WiiU'\n",
        "       )"
      ]
    },
    {
      "cell_type": "code",
      "execution_count": null,
      "metadata": {
        "id": "18SFAUowqhaI",
        "outputId": "0b14ef3d-6fbc-4c36-dcb2-bc43b158a7bc"
      },
      "outputs": [
        {
          "data": {
            "text/plain": [
              "<AxesSubplot:title={'center':'X360'}, xlabel='user_score', ylabel='world_sales'>"
            ]
          },
          "metadata": {},
          "output_type": "display_data"
        },
        {
          "data": {
            "text/plain": [
              "<AxesSubplot:title={'center':'X360'}, xlabel='critic_score', ylabel='world_sales'>"
            ]
          },
          "metadata": {},
          "output_type": "display_data"
        },
        {
          "data": {
            "image/png": "[encoded data removed]",
            "text/plain": [
              "<Figure size 1296x288 with 2 Axes>"
            ]
          },
          "metadata": {
            "needs_background": "light"
          },
          "output_type": "display_data"
        }
      ],
      "source": [
        "fig, axes = plt.subplots(nrows=1, ncols=2, figsize=(18, 4))\n",
        "display(df[df['platform'] == 'X360'].plot(x='user_score', y='world_sales', kind='scatter', ax=axes[0], title='X360'),\n",
        "df[df['platform'] == 'X360'].plot(x='critic_score', y='world_sales', kind='scatter', ax=axes[1], title='X360')\n",
        ")"
      ]
    },
    {
      "cell_type": "code",
      "execution_count": null,
      "metadata": {
        "id": "Sf24dxUDqhaI",
        "outputId": "dcfe2efc-ca02-44ba-b619-4c2061e45b4a"
      },
      "outputs": [
        {
          "data": {
            "text/plain": [
              "<AxesSubplot:title={'center':'PS4'}, xlabel='user_score', ylabel='world_sales'>"
            ]
          },
          "metadata": {},
          "output_type": "display_data"
        },
        {
          "data": {
            "text/plain": [
              "<AxesSubplot:title={'center':'PS4'}, xlabel='critic_score', ylabel='world_sales'>"
            ]
          },
          "metadata": {},
          "output_type": "display_data"
        },
        {
          "data": {
            "image/png": "[encoded data removed]",
            "text/plain": [
              "<Figure size 1296x288 with 2 Axes>"
            ]
          },
          "metadata": {
            "needs_background": "light"
          },
          "output_type": "display_data"
        }
      ],
      "source": [
        "fig, axes = plt.subplots(nrows=1, ncols=2, figsize=(18, 4))\n",
        "display(df[df['platform'] == 'PS4'].plot(x='user_score', y='world_sales', kind='scatter', ax=axes[0], title='PS4'),\n",
        "df[df['platform'] == 'PS4'].plot(x='critic_score', y='world_sales', kind='scatter', ax=axes[1], title='PS4')\n",
        ")"
      ]
    },
    {
      "cell_type": "code",
      "execution_count": null,
      "metadata": {
        "id": "LvnPxs37qhaJ",
        "outputId": "9b57c14b-5086-4226-fcbd-202ea5ecb530"
      },
      "outputs": [
        {
          "data": {
            "text/plain": [
              "<AxesSubplot:title={'center':'3DS'}, xlabel='user_score', ylabel='world_sales'>"
            ]
          },
          "metadata": {},
          "output_type": "display_data"
        },
        {
          "data": {
            "text/plain": [
              "<AxesSubplot:title={'center':'3DS'}, xlabel='critic_score', ylabel='world_sales'>"
            ]
          },
          "metadata": {},
          "output_type": "display_data"
        },
        {
          "data": {
            "image/png": "[encoded data removed]",
            "text/plain": [
              "<Figure size 1296x288 with 2 Axes>"
            ]
          },
          "metadata": {
            "needs_background": "light"
          },
          "output_type": "display_data"
        }
      ],
      "source": [
        "fig, axes = plt.subplots(nrows=1, ncols=2, figsize=(18, 4))\n",
        "display(df[df['platform'] == '3DS'].plot(x='user_score', y='world_sales', kind='scatter', ax=axes[0], title='3DS'),\n",
        "df[df['platform'] == '3DS'].plot(x='critic_score', y='world_sales', kind='scatter', ax=axes[1], title='3DS')\n",
        ")"
      ]
    },
    {
      "cell_type": "code",
      "execution_count": null,
      "metadata": {
        "id": "HRdrZYC_qhaJ",
        "outputId": "8684b5be-8f50-458b-e3c5-4909be2901cc"
      },
      "outputs": [
        {
          "data": {
            "text/plain": [
              "<AxesSubplot:title={'center':'PC'}, xlabel='user_score', ylabel='world_sales'>"
            ]
          },
          "metadata": {},
          "output_type": "display_data"
        },
        {
          "data": {
            "text/plain": [
              "<AxesSubplot:title={'center':'PC'}, xlabel='critic_score', ylabel='world_sales'>"
            ]
          },
          "metadata": {},
          "output_type": "display_data"
        },
        {
          "data": {
            "image/png": "[encoded data removed]",
            "text/plain": [
              "<Figure size 1296x288 with 2 Axes>"
            ]
          },
          "metadata": {
            "needs_background": "light"
          },
          "output_type": "display_data"
        }
      ],
      "source": [
        "fig, axes = plt.subplots(nrows=1, ncols=2, figsize=(18, 4))\n",
        "display(df[df['platform'] == 'PC'].plot(x='user_score', y='world_sales', kind='scatter', ax=axes[0], title='PC'),\n",
        "df[df['platform'] == 'PC'].plot(x='critic_score', y='world_sales', kind='scatter', ax=axes[1], title='PC')\n",
        ")"
      ]
    },
    {
      "cell_type": "code",
      "execution_count": null,
      "metadata": {
        "id": "-Mbs5n9YqhaK",
        "outputId": "e5d656a1-bc5f-4c86-bba8-dda4a1649955"
      },
      "outputs": [
        {
          "data": {
            "text/plain": [
              "<AxesSubplot:title={'center':'WiiU'}, xlabel='user_score', ylabel='world_sales'>"
            ]
          },
          "metadata": {},
          "output_type": "display_data"
        },
        {
          "data": {
            "text/plain": [
              "<AxesSubplot:title={'center':'WiiU'}, xlabel='critic_score', ylabel='world_sales'>"
            ]
          },
          "metadata": {},
          "output_type": "display_data"
        },
        {
          "data": {
            "image/png": "[encoded data removed]",
            "text/plain": [
              "<Figure size 1296x288 with 2 Axes>"
            ]
          },
          "metadata": {
            "needs_background": "light"
          },
          "output_type": "display_data"
        }
      ],
      "source": [
        "fig, axes = plt.subplots(nrows=1, ncols=2, figsize=(18, 4))\n",
        "display(df[df['platform'] == 'WiiU'].plot(x='user_score', y='world_sales', kind='scatter', ax=axes[0], title='WiiU'),\n",
        "df[df['platform'] == 'WiiU'].plot(x='critic_score', y='world_sales', kind='scatter', ax=axes[1], title='WiiU')\n",
        ")"
      ]
    },
    {
      "cell_type": "markdown",
      "metadata": {
        "id": "kesqpAOMqhaK"
      },
      "source": [
        "*В целом - тенденця сохраняется: оценки критиков оказывают среднее влияние на глобальные продажи, оценки пользователей - минимальное. Исключение WiiU, для этой платформы коэф.корреляции демонстрирует, что оценки пользователей имеют даже большее влияние, чем оценки критиков.*\n",
        "\n",
        "*Для диаграммы рассеивания также - влияние критиков прослеживается в большей степени. PS4 самая зависимая от критиков платформа. WiiU самая зависимая от оценок пользователей платформа. Продажи большинства игр на платформах имеют минимальные продажи независимо от оценок.*"
      ]
    },
    {
      "cell_type": "markdown",
      "metadata": {
        "id": "JIjmvICaqhaM"
      },
      "source": [
        "### Распределение игр по жанрам и прибыльность жанров."
      ]
    },
    {
      "cell_type": "code",
      "execution_count": null,
      "metadata": {
        "id": "t1scJCQqqhaN",
        "outputId": "9e7375ea-5a53-4db4-dbbb-530fe44f6d0c"
      },
      "outputs": [
        {
          "data": {
            "text/plain": [
              "<AxesSubplot:title={'center':'Распределение игр по жанрам'}, xlabel='genre'>"
            ]
          },
          "execution_count": 37,
          "metadata": {},
          "output_type": "execute_result"
        },
        {
          "data": {
            "image/png": "[encoded data removed]",
            "text/plain": [
              "<Figure size 1080x432 with 1 Axes>"
            ]
          },
          "metadata": {
            "needs_background": "light"
          },
          "output_type": "display_data"
        }
      ],
      "source": [
        "df.groupby('genre')['genre'].count().sort_values(ascending=False).plot(\n",
        "    kind='bar', figsize=(15,6), title='Распределение игр по жанрам')"
      ]
    },
    {
      "cell_type": "code",
      "execution_count": null,
      "metadata": {
        "id": "K9sf7FhKqhaO",
        "outputId": "e0b8a906-a209-4c48-981c-e34e4803b9f7"
      },
      "outputs": [
        {
          "data": {
            "text/plain": [
              "<AxesSubplot:title={'center':'Распределение по прибыльности жанров'}, xlabel='genre', ylabel='world_sales'>"
            ]
          },
          "execution_count": 38,
          "metadata": {},
          "output_type": "execute_result"
        },
        {
          "data": {
            "image/png": "[encoded data removed]",
            "text/plain": [
              "<Figure size 1080x432 with 1 Axes>"
            ]
          },
          "metadata": {
            "needs_background": "light"
          },
          "output_type": "display_data"
        }
      ],
      "source": [
        "d = df.pivot_table(index='genre', values='world_sales', aggfunc='median').sort_values('world_sales', ascending=False).reset_index()\n",
        "\n",
        "plt.figure(figsize=(15, 6))\n",
        "plt.title('Распределение по прибыльности жанров', fontsize= 15)\n",
        "sns.barplot(data=d, x='genre', y='world_sales')"
      ]
    },
    {
      "cell_type": "markdown",
      "metadata": {
        "id": "xwsu4Jx6qhaO"
      },
      "source": [
        "1. *Экшен с отрывом лидирует в списке по количеству игр по жанрам. Затем идут рпг, адвенчур и спорт. Замыкают - стратегии и пазлы.*\n",
        "\n",
        "2. *Самый доходный жанр - шутер. Почти в два раза меньше приносят спортивные симуляторы и платформеры. Наименее доходные жанры - пазлы и адвенчуры.*"
      ]
    },
    {
      "cell_type": "markdown",
      "metadata": {
        "id": "NLy9sixYqhaQ"
      },
      "source": [
        "## Портрет пользователя по регионам"
      ]
    },
    {
      "cell_type": "markdown",
      "metadata": {
        "id": "zLZKcqtDqhaQ"
      },
      "source": [
        "### Самые популярные платформы каждого региона."
      ]
    },
    {
      "cell_type": "code",
      "execution_count": null,
      "metadata": {
        "id": "b-qA4Dq0qhaR"
      },
      "outputs": [],
      "source": [
        "def region_sales(feature, region, name, color, index):\n",
        "    gr = df.pivot_table(index=feature, values=region, aggfunc='sum').sort_values(region, ascending=False).head()\n",
        "    plot = gr.plot(kind='bar', title=name, ax=axes[index], color=color, fontsize=20, ec='teal')\n",
        "    plot.title.set_size(20)\n",
        "    plot.set_xlabel('')"
      ]
    },
    {
      "cell_type": "code",
      "execution_count": null,
      "metadata": {
        "id": "abBac3jYqhaR",
        "outputId": "8eb23b4b-8dde-428c-e58e-712e9af4fddd"
      },
      "outputs": [
        {
          "data": {
            "image/png": "[encoded data removed]",
            "text/plain": [
              "<Figure size 2160x720 with 3 Axes>"
            ]
          },
          "metadata": {
            "needs_background": "light"
          },
          "output_type": "display_data"
        }
      ],
      "source": [
        "fig, axes = plt.subplots(nrows=1, ncols=3, figsize=(30, 10))\n",
        "\n",
        "region_sales('platform', 'na_sales', 'Продажи в Северной Америке', 'linen', 0)\n",
        "region_sales('platform', 'eu_sales', 'Продажи в Европе', 'royalblue', 1)\n",
        "region_sales('platform', 'jp_sales', 'Продажи в Японии', 'lightslategray', 2)"
      ]
    },
    {
      "cell_type": "markdown",
      "metadata": {
        "id": "zt03QjGLqhaS"
      },
      "source": [
        "1. *В Северной Америке хорошо продаются новые консоли - XOne и PS4, лидирует X360, PS3 немного отстает.*\n",
        "2. *В Европе лидируют play station, новая версия продается лучше всех. Xbox в Европе ценится немного меньше.*\n",
        "3. *В Японии едноличный лидер - 3DS. Затем PS3 - более чем в 2 раза меньше продаж. Рынок Японии отличается от Европы и Америки.*"
      ]
    },
    {
      "cell_type": "markdown",
      "metadata": {
        "id": "QWiLJgtjqhaS"
      },
      "source": [
        "###  Самые популярные жанры каждого региона."
      ]
    },
    {
      "cell_type": "code",
      "execution_count": null,
      "metadata": {
        "id": "crJH8bZcqhaT",
        "outputId": "4d2682e9-3695-49b4-e7e0-ef60b14a363c"
      },
      "outputs": [
        {
          "data": {
            "image/png": "[encoded data removed]",
            "text/plain": [
              "<Figure size 2160x720 with 3 Axes>"
            ]
          },
          "metadata": {
            "needs_background": "light"
          },
          "output_type": "display_data"
        }
      ],
      "source": [
        "fig, axes = plt.subplots(nrows=1, ncols=3, figsize=(30, 10))\n",
        "\n",
        "region_sales('genre', 'na_sales', 'Продажи в Северной Америке', 'linen', 0)\n",
        "region_sales('genre', 'eu_sales', 'Продажи в Европе', 'royalblue', 1)\n",
        "region_sales('genre', 'jp_sales', 'Продажи в Японии', 'lightslategray', 2)"
      ]
    },
    {
      "cell_type": "markdown",
      "metadata": {
        "id": "zqT4z7lmqhaT"
      },
      "source": [
        "1. *Экшен любят во всех регионах.*\n",
        "2. *Рынки Северной Америки и Европы практически идентичны. Тут еще любят шутеры, спорт и rpg.*\n",
        "3. *Япония уникальный регион, тут два доминирующих жанра - рпг и экшен.*"
      ]
    },
    {
      "cell_type": "markdown",
      "metadata": {
        "id": "R-UdhI1HqhaU"
      },
      "source": [
        "### Влияет ли рейтинг ESRB на продажи в отдельном регионе?"
      ]
    },
    {
      "cell_type": "code",
      "execution_count": null,
      "metadata": {
        "id": "Gc2QahgWqhaU",
        "outputId": "40be268b-7a1e-44c0-a045-bdb557a38c4d"
      },
      "outputs": [
        {
          "data": {
            "image/png": "[encoded data removed]",
            "text/plain": [
              "<Figure size 2160x720 with 3 Axes>"
            ]
          },
          "metadata": {
            "needs_background": "light"
          },
          "output_type": "display_data"
        }
      ],
      "source": [
        "fig, axes = plt.subplots(nrows=1, ncols=3, figsize=(30, 10))\n",
        "\n",
        "region_sales('rating', 'na_sales', 'Продажи в Северной Америке', 'linen', 0)\n",
        "region_sales('rating', 'eu_sales', 'Продажи в Европе', 'royalblue', 1)\n",
        "region_sales('rating', 'jp_sales', 'Продажи в Японии', 'lightslategray', 2)"
      ]
    },
    {
      "cell_type": "markdown",
      "metadata": {
        "id": "aVhKc5ogqhaU"
      },
      "source": [
        "1. *В Европе и Америке ситуация одинаковая: лидирует рейтинг \"M\" - для взрослых, затем \"E\" - для всех, много игр без рейтинга, замыкают игры для подростков и детей от 10 лет.*\n",
        "2. *В Японии, вероятно, этот рейтинг редко используется. Лидируют игры без рейтинга. Игры для всех, для взрослых и подростков продаются примерно одинаково.*"
      ]
    },
    {
      "cell_type": "markdown",
      "metadata": {
        "id": "Q6IawvFOqhaV"
      },
      "source": [
        "## Проверка гипотез"
      ]
    },
    {
      "cell_type": "markdown",
      "metadata": {
        "id": "ZFX02ErdqhaV"
      },
      "source": [
        "Для проверки этих гипотез используем метод scipy.stats.ttest_ind. У нас нет основания считать, что дисперсии выборок равные, поэтому задействуем параметр equal_var=False.\n",
        "\n",
        "Нулевая гипотеза всегда должна гласить о равенстве выборок. P-value сравнивается с критическим уровнем статистической значимости. И если p-value меньше, нулевая гипотеза отвергается в пользу альтернативной."
      ]
    },
    {
      "cell_type": "markdown",
      "metadata": {
        "id": "JdfUfdLXqhaW"
      },
      "source": [
        "Проверка гипотезы:\n",
        "\n",
        "```\n",
        "H_0: Cредние пользовательские рейтинги платформ Xbox One и PC одинаковые.\n",
        "H_a: Cредние пользовательские рейтинги платформ Xbox One и PC отличаются.\n",
        "```"
      ]
    },
    {
      "cell_type": "code",
      "execution_count": null,
      "metadata": {
        "id": "UcxwkkIPqhaX",
        "outputId": "ecbf5ea4-cae2-46b7-a229-08870ed8b0ea"
      },
      "outputs": [
        {
          "name": "stdout",
          "output_type": "stream",
          "text": [
            "p-value: 0.5489537965134912\n",
            "Не получилось отвергнуть нулевую гипотезу\n"
          ]
        }
      ],
      "source": [
        "results = st.ttest_ind(\n",
        "    df[df['platform'] == 'XOne']['user_score'].dropna(),\n",
        "    df[df['platform'] == 'PC']['user_score'].dropna(),\n",
        "    equal_var=False\n",
        ")\n",
        "\n",
        "alpha = 0.05\n",
        "print('p-value:', results.pvalue)\n",
        "if results.pvalue < alpha:\n",
        "    print('Отвергаем нулевую гипотезу')\n",
        "else:\n",
        "    print('Не получилось отвергнуть нулевую гипотезу')"
      ]
    },
    {
      "cell_type": "markdown",
      "metadata": {
        "id": "Dgwc8I2pqhaX"
      },
      "source": [
        "Проверка гипотезы:\n",
        "\n",
        "```\n",
        "H_0: Средние пользовательские рейтинги жанров Action и Sports одинаковые.\n",
        "H_a: Средние пользовательские рейтинги жанров Action и Sports разные.\n",
        "```"
      ]
    },
    {
      "cell_type": "code",
      "execution_count": null,
      "metadata": {
        "id": "Kqw0t7CZqhaX",
        "outputId": "aa5b24ca-84d1-45d2-d690-8760efb93249"
      },
      "outputs": [
        {
          "name": "stdout",
          "output_type": "stream",
          "text": [
            "p-value: 4.24307776572644e-20\n",
            "Отвергаем нулевую гипотезу\n"
          ]
        }
      ],
      "source": [
        "results = st.ttest_ind(\n",
        "    df[df['genre'] == 'Action']['user_score'].dropna(),\n",
        "    df[df['genre'] == 'Sports']['user_score'].dropna(),\n",
        "    equal_var=False\n",
        ")\n",
        "\n",
        "alpha = 0.05\n",
        "print('p-value:', results.pvalue)\n",
        "if results.pvalue < alpha:\n",
        "    print('Отвергаем нулевую гипотезу')\n",
        "else:\n",
        "    print('Не получилось отвергнуть нулевую гипотезу')"
      ]
    },
    {
      "cell_type": "markdown",
      "metadata": {
        "id": "yzWreqbRqhaY"
      },
      "source": [
        "**Вывод:**\n",
        "1. *Гипотеза средние пользовательские рейтинги платформ Xbox One и PC одинаковые отвергнуть не удалось.*\n",
        "2. *Есть основание полагать, что нулевая гипотеза неверна, значит гипотеза средние пользовательские рейтинги жанров Action и Sports разные, вероятно, подтвердилась.*"
      ]
    },
    {
      "cell_type": "markdown",
      "metadata": {
        "id": "Uk9lqnqCqhaZ"
      },
      "source": [
        "## Общий вывод"
      ]
    },
    {
      "cell_type": "markdown",
      "metadata": {
        "id": "1c4RWjZwqhaZ"
      },
      "source": [
        "*В исследовании мы проверили несколько гипотез и установили:*\n",
        "\n",
        "1. *Исследовательский анализ данных.*\n",
        "\n",
        "В 2008-2009 продажи игр достигли своего пика - свыше 1400 игр в год. С 2012-2016 выпускается 500-600 игр в год.\n",
        "\n",
        "Наиболее продаваемые платформы за все время - PS2, Xbox-360, PS3, Wii, DS, PS. Срок их жизни в среднем составляет 10 лет. Пиковые продажи приходятся примерно на 5й год платформы.\n",
        "\n",
        "Спад продаж в последние годы характерен для всего рынка в целом. PS4, XboxOne, 3DS потенциально самые прибыльные на 2017 год.\n",
        "\n",
        "Лидеры по ценам игр среди платформ X360, PS4, PS3, WII, XOne, WiiU. Игры на PSV, DS, PSP, PC, 3DS стоят дешевле.\n",
        "\n",
        "Рассчитанный коэффициент корреляции демонстрирует среднюю зависимость между оценками критиков и глобальными продажами. Оценки пользователей оказывают минимальное влияние на продажи.\n",
        "\n",
        "Шутер лидирует по прибыльности жанров. Пазлы и адвенчуры наименее прибыльные жанры.\n",
        "\n",
        "2. *Портрет пользователя по региронам.*\n",
        "\n",
        "В Северной Америке и Европе одинаковые предпочтения по платформам - PS и Xbox. В Америке лидирирует X360, В Европе PS4. В Японии рынок отличается, доминирует 3DS.\n",
        "\n",
        "Рынки Северной Америки и Европы практически идентичны. Предпочитают экшен, шутеры, спорт и rpg. В Японии покупают рпг и экшен.\n",
        "\n",
        "В Европе и Америке ситуация одинаковая: лидирует рейтинг \"M\" , затем \"E\", \"unknown\". В Японии c огромным отрывом лидируют игры без рейтинга.\n",
        "\n",
        "\n",
        "3. *Проверка гипотез.*\n",
        "\n",
        "Гипотезу средние пользовательские рейтинги платформ Xbox One и PC одинаковые отвергнуть не удалось.\n",
        "\n",
        "Гипотеза средние пользовательские рейтинги жанров Action и Sports разные подтвердилась."
      ]
    },
    {
      "cell_type": "code",
      "execution_count": null,
      "metadata": {
        "id": "o-Lcdvl0qhaa"
      },
      "outputs": [],
      "source": []
    }
  ],
  "metadata": {
    "ExecuteTimeLog": [
      {
        "duration": 462,
        "start_time": "2022-11-14T12:57:26.823Z"
      },
      {
        "duration": 41,
        "start_time": "2022-11-14T12:57:50.951Z"
      },
      {
        "duration": 23,
        "start_time": "2022-11-14T12:59:46.410Z"
      },
      {
        "duration": 22,
        "start_time": "2022-11-14T13:00:01.275Z"
      },
      {
        "duration": 62,
        "start_time": "2022-11-14T13:37:24.881Z"
      },
      {
        "duration": 28,
        "start_time": "2022-11-14T13:37:39.795Z"
      },
      {
        "duration": 8,
        "start_time": "2022-11-14T13:38:02.578Z"
      },
      {
        "duration": 9,
        "start_time": "2022-11-14T13:38:05.465Z"
      },
      {
        "duration": 9,
        "start_time": "2022-11-14T13:38:31.181Z"
      },
      {
        "duration": 4,
        "start_time": "2022-11-14T14:10:39.104Z"
      },
      {
        "duration": 6,
        "start_time": "2022-11-14T14:11:35.753Z"
      },
      {
        "duration": 2,
        "start_time": "2022-11-14T14:13:37.393Z"
      },
      {
        "duration": 7,
        "start_time": "2022-11-14T14:13:47.615Z"
      },
      {
        "duration": 4,
        "start_time": "2022-11-14T14:13:58.761Z"
      },
      {
        "duration": 4,
        "start_time": "2022-11-14T14:14:48.641Z"
      },
      {
        "duration": 2,
        "start_time": "2022-11-14T14:14:56.049Z"
      },
      {
        "duration": 3,
        "start_time": "2022-11-14T14:15:56.456Z"
      },
      {
        "duration": 4,
        "start_time": "2022-11-14T14:15:57.001Z"
      },
      {
        "duration": 2,
        "start_time": "2022-11-14T14:28:37.078Z"
      },
      {
        "duration": 4,
        "start_time": "2022-11-14T14:28:37.490Z"
      },
      {
        "duration": 3,
        "start_time": "2022-11-14T14:34:11.995Z"
      },
      {
        "duration": 4,
        "start_time": "2022-11-14T14:34:19.490Z"
      },
      {
        "duration": 6,
        "start_time": "2022-11-14T14:57:21.623Z"
      },
      {
        "duration": 498,
        "start_time": "2022-11-14T15:22:23.769Z"
      },
      {
        "duration": 26,
        "start_time": "2022-11-14T15:22:25.009Z"
      },
      {
        "duration": 23,
        "start_time": "2022-11-14T15:22:28.193Z"
      },
      {
        "duration": 11,
        "start_time": "2022-11-14T15:22:30.537Z"
      },
      {
        "duration": 9,
        "start_time": "2022-11-14T15:22:31.809Z"
      },
      {
        "duration": 3,
        "start_time": "2022-11-14T15:22:34.032Z"
      },
      {
        "duration": 17,
        "start_time": "2022-11-14T15:22:34.920Z"
      },
      {
        "duration": 4,
        "start_time": "2022-11-14T15:22:37.585Z"
      },
      {
        "duration": 35,
        "start_time": "2022-11-14T15:22:41.252Z"
      },
      {
        "duration": 13,
        "start_time": "2022-11-14T15:32:33.100Z"
      },
      {
        "duration": 3,
        "start_time": "2022-11-14T15:52:43.866Z"
      },
      {
        "duration": 11,
        "start_time": "2022-11-14T15:53:10.356Z"
      },
      {
        "duration": 13,
        "start_time": "2022-11-14T15:53:15.726Z"
      },
      {
        "duration": 13,
        "start_time": "2022-11-14T15:54:06.496Z"
      },
      {
        "duration": 5,
        "start_time": "2022-11-14T16:02:19.442Z"
      },
      {
        "duration": 23,
        "start_time": "2022-11-14T16:02:32.510Z"
      },
      {
        "duration": 5,
        "start_time": "2022-11-14T16:14:00.103Z"
      },
      {
        "duration": 13,
        "start_time": "2022-11-14T16:14:01.651Z"
      },
      {
        "duration": 13,
        "start_time": "2022-11-14T16:15:16.204Z"
      },
      {
        "duration": 5,
        "start_time": "2022-11-14T16:15:35.716Z"
      },
      {
        "duration": 13,
        "start_time": "2022-11-14T16:15:37.853Z"
      },
      {
        "duration": 15,
        "start_time": "2022-11-14T16:19:22.456Z"
      },
      {
        "duration": 15,
        "start_time": "2022-11-14T16:20:19.446Z"
      },
      {
        "duration": 13,
        "start_time": "2022-11-14T16:21:15.174Z"
      },
      {
        "duration": 5,
        "start_time": "2022-11-14T16:24:05.521Z"
      },
      {
        "duration": 5,
        "start_time": "2022-11-14T16:28:19.846Z"
      },
      {
        "duration": 11,
        "start_time": "2022-11-14T16:29:16.551Z"
      },
      {
        "duration": 75,
        "start_time": "2022-11-14T16:51:59.438Z"
      },
      {
        "duration": 554,
        "start_time": "2022-11-14T16:52:12.436Z"
      },
      {
        "duration": 117,
        "start_time": "2022-11-14T17:14:08.101Z"
      },
      {
        "duration": 241,
        "start_time": "2022-11-14T17:17:28.161Z"
      },
      {
        "duration": 288,
        "start_time": "2022-11-14T17:17:54.606Z"
      },
      {
        "duration": 22,
        "start_time": "2022-11-14T17:19:19.459Z"
      },
      {
        "duration": 260,
        "start_time": "2022-11-14T17:19:35.885Z"
      },
      {
        "duration": 416,
        "start_time": "2022-11-14T17:30:00.262Z"
      },
      {
        "duration": 273,
        "start_time": "2022-11-14T17:31:22.363Z"
      },
      {
        "duration": 273,
        "start_time": "2022-11-14T17:35:03.273Z"
      },
      {
        "duration": 142,
        "start_time": "2022-11-14T18:34:53.064Z"
      },
      {
        "duration": 18,
        "start_time": "2022-11-14T19:09:54.811Z"
      },
      {
        "duration": 21,
        "start_time": "2022-11-14T19:10:15.477Z"
      },
      {
        "duration": 19,
        "start_time": "2022-11-14T19:10:43.735Z"
      },
      {
        "duration": 268,
        "start_time": "2022-11-14T19:12:11.525Z"
      },
      {
        "duration": 23,
        "start_time": "2022-11-14T19:12:14.155Z"
      },
      {
        "duration": 18,
        "start_time": "2022-11-14T19:15:09.133Z"
      },
      {
        "duration": 28,
        "start_time": "2022-11-14T19:15:58.625Z"
      },
      {
        "duration": 36,
        "start_time": "2022-11-14T19:16:30.413Z"
      },
      {
        "duration": 28,
        "start_time": "2022-11-14T19:17:11.326Z"
      },
      {
        "duration": 51,
        "start_time": "2022-11-14T19:17:44.669Z"
      },
      {
        "duration": 33,
        "start_time": "2022-11-14T19:18:02.190Z"
      },
      {
        "duration": 155,
        "start_time": "2022-11-14T19:33:06.413Z"
      },
      {
        "duration": 113,
        "start_time": "2022-11-14T19:33:21.628Z"
      },
      {
        "duration": 114,
        "start_time": "2022-11-14T19:33:37.541Z"
      },
      {
        "duration": 111,
        "start_time": "2022-11-14T19:33:45.197Z"
      },
      {
        "duration": 133,
        "start_time": "2022-11-14T19:40:20.701Z"
      },
      {
        "duration": 1228,
        "start_time": "2022-11-14T19:44:54.622Z"
      },
      {
        "duration": 344,
        "start_time": "2022-11-14T19:45:23.645Z"
      },
      {
        "duration": 243,
        "start_time": "2022-11-14T19:48:17.103Z"
      },
      {
        "duration": 187,
        "start_time": "2022-11-14T19:51:00.843Z"
      },
      {
        "duration": 1024,
        "start_time": "2022-11-14T19:52:53.281Z"
      },
      {
        "duration": 117,
        "start_time": "2022-11-14T19:56:02.356Z"
      },
      {
        "duration": 1135,
        "start_time": "2022-11-14T19:56:15.535Z"
      },
      {
        "duration": 1064,
        "start_time": "2022-11-15T15:36:35.547Z"
      },
      {
        "duration": 31,
        "start_time": "2022-11-15T15:36:36.613Z"
      },
      {
        "duration": 31,
        "start_time": "2022-11-15T15:36:37.760Z"
      },
      {
        "duration": 10,
        "start_time": "2022-11-15T15:36:39.128Z"
      },
      {
        "duration": 12,
        "start_time": "2022-11-15T15:36:40.775Z"
      },
      {
        "duration": 4,
        "start_time": "2022-11-15T15:36:42.375Z"
      },
      {
        "duration": 16,
        "start_time": "2022-11-15T15:36:43.832Z"
      },
      {
        "duration": 6,
        "start_time": "2022-11-15T15:36:45.015Z"
      },
      {
        "duration": 7,
        "start_time": "2022-11-15T15:36:46.007Z"
      },
      {
        "duration": 6,
        "start_time": "2022-11-15T15:36:46.699Z"
      },
      {
        "duration": 663,
        "start_time": "2022-11-15T15:36:47.954Z"
      },
      {
        "duration": 303,
        "start_time": "2022-11-15T15:36:52.568Z"
      },
      {
        "duration": 1260,
        "start_time": "2022-11-15T15:36:55.216Z"
      },
      {
        "duration": 7,
        "start_time": "2022-11-15T16:14:26.792Z"
      },
      {
        "duration": 1181,
        "start_time": "2022-11-15T16:35:03.852Z"
      },
      {
        "duration": 995,
        "start_time": "2022-11-15T16:35:34.922Z"
      },
      {
        "duration": 1200,
        "start_time": "2022-11-15T16:36:33.363Z"
      },
      {
        "duration": 127,
        "start_time": "2022-11-15T16:56:15.598Z"
      },
      {
        "duration": 21,
        "start_time": "2022-11-15T16:56:17.775Z"
      },
      {
        "duration": 28,
        "start_time": "2022-11-15T16:56:19.428Z"
      },
      {
        "duration": 10,
        "start_time": "2022-11-15T16:56:20.036Z"
      },
      {
        "duration": 11,
        "start_time": "2022-11-15T16:56:20.515Z"
      },
      {
        "duration": 3,
        "start_time": "2022-11-15T16:56:21.027Z"
      },
      {
        "duration": 15,
        "start_time": "2022-11-15T16:56:21.517Z"
      },
      {
        "duration": 5,
        "start_time": "2022-11-15T16:56:21.996Z"
      },
      {
        "duration": 7,
        "start_time": "2022-11-15T16:56:22.436Z"
      },
      {
        "duration": 6,
        "start_time": "2022-11-15T16:56:23.757Z"
      },
      {
        "duration": 158,
        "start_time": "2022-11-15T16:56:24.379Z"
      },
      {
        "duration": 416,
        "start_time": "2022-11-15T16:56:26.831Z"
      },
      {
        "duration": 1256,
        "start_time": "2022-11-15T16:56:29.932Z"
      },
      {
        "duration": 6,
        "start_time": "2022-11-15T16:56:35.709Z"
      },
      {
        "duration": 89,
        "start_time": "2022-11-15T17:26:10.619Z"
      },
      {
        "duration": 562,
        "start_time": "2022-11-15T17:33:39.153Z"
      },
      {
        "duration": 462,
        "start_time": "2022-11-15T17:34:22.859Z"
      },
      {
        "duration": 216,
        "start_time": "2022-11-15T17:35:32.137Z"
      },
      {
        "duration": 470,
        "start_time": "2022-11-15T17:35:51.161Z"
      },
      {
        "duration": 643,
        "start_time": "2022-11-15T17:36:10.323Z"
      },
      {
        "duration": 134,
        "start_time": "2022-11-15T17:40:01.923Z"
      },
      {
        "duration": 484,
        "start_time": "2022-11-15T17:40:14.531Z"
      },
      {
        "duration": 522,
        "start_time": "2022-11-15T17:49:43.789Z"
      },
      {
        "duration": 16,
        "start_time": "2022-11-15T17:57:38.573Z"
      },
      {
        "duration": 344,
        "start_time": "2022-11-15T17:58:35.646Z"
      },
      {
        "duration": 15,
        "start_time": "2022-11-15T19:22:12.844Z"
      },
      {
        "duration": 10,
        "start_time": "2022-11-15T20:04:44.203Z"
      },
      {
        "duration": 1474,
        "start_time": "2022-11-16T15:57:51.888Z"
      },
      {
        "duration": 24,
        "start_time": "2022-11-16T15:57:53.364Z"
      },
      {
        "duration": 35,
        "start_time": "2022-11-16T15:57:55.199Z"
      },
      {
        "duration": 10,
        "start_time": "2022-11-16T15:57:56.854Z"
      },
      {
        "duration": 12,
        "start_time": "2022-11-16T15:57:57.982Z"
      },
      {
        "duration": 3,
        "start_time": "2022-11-16T15:58:00.135Z"
      },
      {
        "duration": 12,
        "start_time": "2022-11-16T15:58:01.590Z"
      },
      {
        "duration": 5,
        "start_time": "2022-11-16T15:58:03.534Z"
      },
      {
        "duration": 8,
        "start_time": "2022-11-16T15:58:04.986Z"
      },
      {
        "duration": 6,
        "start_time": "2022-11-16T15:58:05.604Z"
      },
      {
        "duration": 145,
        "start_time": "2022-11-16T15:58:07.319Z"
      },
      {
        "duration": 237,
        "start_time": "2022-11-16T15:58:09.134Z"
      },
      {
        "duration": 986,
        "start_time": "2022-11-16T15:58:11.534Z"
      },
      {
        "duration": 7,
        "start_time": "2022-11-16T15:59:20.615Z"
      },
      {
        "duration": 474,
        "start_time": "2022-11-16T15:59:36.256Z"
      },
      {
        "duration": 9,
        "start_time": "2022-11-16T15:59:41.139Z"
      },
      {
        "duration": 193,
        "start_time": "2022-11-16T16:01:42.682Z"
      },
      {
        "duration": 303,
        "start_time": "2022-11-16T16:02:18.825Z"
      },
      {
        "duration": 566,
        "start_time": "2022-11-16T16:03:30.296Z"
      },
      {
        "duration": 12,
        "start_time": "2022-11-16T16:03:39.023Z"
      },
      {
        "duration": 8,
        "start_time": "2022-11-16T16:03:41.978Z"
      },
      {
        "duration": 12,
        "start_time": "2022-11-16T16:03:50.986Z"
      },
      {
        "duration": 21,
        "start_time": "2022-11-16T16:04:31.184Z"
      },
      {
        "duration": 139,
        "start_time": "2022-11-16T16:04:39.520Z"
      },
      {
        "duration": 11,
        "start_time": "2022-11-16T16:05:26.040Z"
      },
      {
        "duration": 17,
        "start_time": "2022-11-16T16:22:31.635Z"
      },
      {
        "duration": 53,
        "start_time": "2022-11-16T16:23:18.651Z"
      },
      {
        "duration": 62,
        "start_time": "2022-11-16T16:23:48.819Z"
      },
      {
        "duration": 16,
        "start_time": "2022-11-16T16:24:32.503Z"
      },
      {
        "duration": 13,
        "start_time": "2022-11-16T16:29:29.389Z"
      },
      {
        "duration": 175,
        "start_time": "2022-11-16T16:30:04.172Z"
      },
      {
        "duration": 135,
        "start_time": "2022-11-16T16:31:48.477Z"
      },
      {
        "duration": 1084,
        "start_time": "2022-11-16T19:55:55.223Z"
      },
      {
        "duration": 1060,
        "start_time": "2022-11-16T19:56:11.740Z"
      },
      {
        "duration": 20,
        "start_time": "2022-11-16T20:06:58.634Z"
      },
      {
        "duration": 20,
        "start_time": "2022-11-16T20:08:42.855Z"
      },
      {
        "duration": 21,
        "start_time": "2022-11-16T20:09:04.239Z"
      },
      {
        "duration": 37,
        "start_time": "2022-11-16T20:18:13.591Z"
      },
      {
        "duration": 3,
        "start_time": "2022-11-16T20:35:25.538Z"
      },
      {
        "duration": 17,
        "start_time": "2022-11-16T20:35:26.244Z"
      },
      {
        "duration": 4,
        "start_time": "2022-11-16T20:36:57.997Z"
      },
      {
        "duration": 19,
        "start_time": "2022-11-16T20:36:58.514Z"
      },
      {
        "duration": 3,
        "start_time": "2022-11-16T20:37:11.746Z"
      },
      {
        "duration": 124,
        "start_time": "2022-11-16T20:37:12.226Z"
      },
      {
        "duration": 3,
        "start_time": "2022-11-16T20:37:48.931Z"
      },
      {
        "duration": 18,
        "start_time": "2022-11-16T20:37:50.164Z"
      },
      {
        "duration": 3,
        "start_time": "2022-11-16T20:49:20.180Z"
      },
      {
        "duration": 12,
        "start_time": "2022-11-16T20:49:21.343Z"
      },
      {
        "duration": 4,
        "start_time": "2022-11-16T20:53:09.970Z"
      },
      {
        "duration": 19,
        "start_time": "2022-11-16T20:53:10.495Z"
      },
      {
        "duration": 3,
        "start_time": "2022-11-16T20:53:38.270Z"
      },
      {
        "duration": 21,
        "start_time": "2022-11-16T20:53:38.988Z"
      },
      {
        "duration": 4,
        "start_time": "2022-11-16T20:54:04.980Z"
      },
      {
        "duration": 18,
        "start_time": "2022-11-16T20:54:05.452Z"
      },
      {
        "duration": 4,
        "start_time": "2022-11-16T20:54:15.717Z"
      },
      {
        "duration": 135,
        "start_time": "2022-11-16T20:54:16.101Z"
      },
      {
        "duration": 4,
        "start_time": "2022-11-16T20:55:00.046Z"
      },
      {
        "duration": 109,
        "start_time": "2022-11-16T20:55:01.405Z"
      },
      {
        "duration": 4,
        "start_time": "2022-11-16T20:55:22.381Z"
      },
      {
        "duration": 207,
        "start_time": "2022-11-16T20:55:23.005Z"
      },
      {
        "duration": 1390,
        "start_time": "2022-11-17T17:43:14.825Z"
      },
      {
        "duration": 26,
        "start_time": "2022-11-17T17:43:16.217Z"
      },
      {
        "duration": 30,
        "start_time": "2022-11-17T17:43:18.300Z"
      },
      {
        "duration": 8,
        "start_time": "2022-11-17T17:43:19.939Z"
      },
      {
        "duration": 12,
        "start_time": "2022-11-17T17:43:21.134Z"
      },
      {
        "duration": 4,
        "start_time": "2022-11-17T17:43:22.559Z"
      },
      {
        "duration": 13,
        "start_time": "2022-11-17T17:43:23.653Z"
      },
      {
        "duration": 6,
        "start_time": "2022-11-17T17:43:25.291Z"
      },
      {
        "duration": 6,
        "start_time": "2022-11-17T17:43:26.025Z"
      },
      {
        "duration": 5,
        "start_time": "2022-11-17T17:43:26.563Z"
      },
      {
        "duration": 179,
        "start_time": "2022-11-17T17:43:27.155Z"
      },
      {
        "duration": 307,
        "start_time": "2022-11-17T17:43:28.839Z"
      },
      {
        "duration": 1179,
        "start_time": "2022-11-17T17:43:31.304Z"
      },
      {
        "duration": 7,
        "start_time": "2022-11-17T17:43:37.163Z"
      },
      {
        "duration": 593,
        "start_time": "2022-11-17T17:43:38.571Z"
      },
      {
        "duration": 10,
        "start_time": "2022-11-17T17:43:42.426Z"
      },
      {
        "duration": 392,
        "start_time": "2022-11-17T17:43:44.667Z"
      },
      {
        "duration": 652,
        "start_time": "2022-11-17T17:44:30.895Z"
      },
      {
        "duration": 12,
        "start_time": "2022-11-17T17:44:34.787Z"
      },
      {
        "duration": 169,
        "start_time": "2022-11-17T17:44:45.014Z"
      },
      {
        "duration": 210,
        "start_time": "2022-11-17T17:44:49.215Z"
      },
      {
        "duration": 126,
        "start_time": "2022-11-17T18:43:01.369Z"
      },
      {
        "duration": 5,
        "start_time": "2022-11-17T19:00:55.941Z"
      },
      {
        "duration": 266,
        "start_time": "2022-11-17T19:00:56.721Z"
      },
      {
        "duration": 3,
        "start_time": "2022-11-17T19:06:30.370Z"
      },
      {
        "duration": 228,
        "start_time": "2022-11-17T19:06:31.007Z"
      },
      {
        "duration": 4,
        "start_time": "2022-11-17T19:09:15.583Z"
      },
      {
        "duration": 137,
        "start_time": "2022-11-17T19:09:16.180Z"
      },
      {
        "duration": 27,
        "start_time": "2022-11-17T19:11:43.608Z"
      },
      {
        "duration": 27,
        "start_time": "2022-11-17T19:12:31.753Z"
      },
      {
        "duration": 19,
        "start_time": "2022-11-17T19:49:59.351Z"
      },
      {
        "duration": 18,
        "start_time": "2022-11-17T19:50:10.282Z"
      },
      {
        "duration": 11,
        "start_time": "2022-11-17T19:50:16.664Z"
      },
      {
        "duration": 14,
        "start_time": "2022-11-17T19:51:03.255Z"
      },
      {
        "duration": 9,
        "start_time": "2022-11-17T19:55:43.217Z"
      },
      {
        "duration": 9,
        "start_time": "2022-11-17T19:58:51.040Z"
      },
      {
        "duration": 9,
        "start_time": "2022-11-17T20:00:16.819Z"
      },
      {
        "duration": 9,
        "start_time": "2022-11-17T20:00:28.788Z"
      },
      {
        "duration": 13,
        "start_time": "2022-11-17T20:01:26.221Z"
      },
      {
        "duration": 15,
        "start_time": "2022-11-17T20:01:33.283Z"
      },
      {
        "duration": 75,
        "start_time": "2022-11-17T20:04:05.080Z"
      },
      {
        "duration": 1422,
        "start_time": "2022-11-18T18:08:28.507Z"
      },
      {
        "duration": 23,
        "start_time": "2022-11-18T18:08:29.931Z"
      },
      {
        "duration": 22,
        "start_time": "2022-11-18T18:08:29.955Z"
      },
      {
        "duration": 21,
        "start_time": "2022-11-18T18:11:58.100Z"
      },
      {
        "duration": 11,
        "start_time": "2022-11-18T18:11:58.627Z"
      },
      {
        "duration": 3,
        "start_time": "2022-11-18T18:12:02.060Z"
      },
      {
        "duration": 20,
        "start_time": "2022-11-18T18:12:03.418Z"
      },
      {
        "duration": 5,
        "start_time": "2022-11-18T18:12:04.739Z"
      },
      {
        "duration": 6,
        "start_time": "2022-11-18T18:12:05.756Z"
      },
      {
        "duration": 9,
        "start_time": "2022-11-18T18:12:06.418Z"
      },
      {
        "duration": 191,
        "start_time": "2022-11-18T18:12:07.981Z"
      },
      {
        "duration": 266,
        "start_time": "2022-11-18T18:12:09.340Z"
      },
      {
        "duration": 1094,
        "start_time": "2022-11-18T18:12:10.868Z"
      },
      {
        "duration": 8,
        "start_time": "2022-11-18T18:12:13.135Z"
      },
      {
        "duration": 522,
        "start_time": "2022-11-18T18:12:13.547Z"
      },
      {
        "duration": 12,
        "start_time": "2022-11-18T18:12:16.611Z"
      },
      {
        "duration": 380,
        "start_time": "2022-11-18T18:12:17.371Z"
      },
      {
        "duration": 588,
        "start_time": "2022-11-18T18:12:19.544Z"
      },
      {
        "duration": 11,
        "start_time": "2022-11-18T18:12:23.260Z"
      },
      {
        "duration": 141,
        "start_time": "2022-11-18T18:12:26.058Z"
      },
      {
        "duration": 188,
        "start_time": "2022-11-18T18:12:27.507Z"
      },
      {
        "duration": 7,
        "start_time": "2022-11-18T18:13:37.230Z"
      },
      {
        "duration": 10,
        "start_time": "2022-11-18T18:13:54.731Z"
      },
      {
        "duration": 73,
        "start_time": "2022-11-18T19:33:04.522Z"
      },
      {
        "duration": 99,
        "start_time": "2022-11-18T19:33:23.702Z"
      },
      {
        "duration": 118,
        "start_time": "2022-11-18T19:33:55.575Z"
      },
      {
        "duration": 155,
        "start_time": "2022-11-18T19:37:34.591Z"
      },
      {
        "duration": 1110,
        "start_time": "2022-11-18T19:38:23.120Z"
      },
      {
        "duration": 1137,
        "start_time": "2022-11-18T19:38:48.474Z"
      },
      {
        "duration": 17,
        "start_time": "2022-11-18T19:39:01.024Z"
      },
      {
        "duration": 1363,
        "start_time": "2022-11-20T14:32:15.566Z"
      },
      {
        "duration": 25,
        "start_time": "2022-11-20T14:32:16.932Z"
      },
      {
        "duration": 25,
        "start_time": "2022-11-20T14:32:19.714Z"
      },
      {
        "duration": 14,
        "start_time": "2022-11-20T14:32:29.593Z"
      },
      {
        "duration": 14,
        "start_time": "2022-11-20T14:34:00.554Z"
      },
      {
        "duration": 15,
        "start_time": "2022-11-20T14:34:30.735Z"
      },
      {
        "duration": 16,
        "start_time": "2022-11-20T14:34:38.371Z"
      },
      {
        "duration": 3,
        "start_time": "2022-11-20T14:35:39.467Z"
      },
      {
        "duration": 13,
        "start_time": "2022-11-20T14:35:39.874Z"
      },
      {
        "duration": 4,
        "start_time": "2022-11-20T14:35:41.099Z"
      },
      {
        "duration": 5,
        "start_time": "2022-11-20T14:35:43.307Z"
      },
      {
        "duration": 7,
        "start_time": "2022-11-20T14:35:44.454Z"
      },
      {
        "duration": 4,
        "start_time": "2022-11-20T14:35:45.548Z"
      },
      {
        "duration": 159,
        "start_time": "2022-11-20T14:35:47.427Z"
      },
      {
        "duration": 253,
        "start_time": "2022-11-20T14:35:51.697Z"
      },
      {
        "duration": 1067,
        "start_time": "2022-11-20T14:35:54.403Z"
      },
      {
        "duration": 7,
        "start_time": "2022-11-20T14:35:58.203Z"
      },
      {
        "duration": 452,
        "start_time": "2022-11-20T14:36:02.017Z"
      },
      {
        "duration": 8,
        "start_time": "2022-11-20T14:36:05.636Z"
      },
      {
        "duration": 365,
        "start_time": "2022-11-20T14:36:07.667Z"
      },
      {
        "duration": 580,
        "start_time": "2022-11-20T14:36:11.435Z"
      },
      {
        "duration": 11,
        "start_time": "2022-11-20T14:36:14.574Z"
      },
      {
        "duration": 218,
        "start_time": "2022-11-20T14:36:30.720Z"
      },
      {
        "duration": 170,
        "start_time": "2022-11-20T14:36:38.253Z"
      },
      {
        "duration": 8,
        "start_time": "2022-11-20T14:36:47.163Z"
      },
      {
        "duration": 10,
        "start_time": "2022-11-20T14:36:50.090Z"
      },
      {
        "duration": 658,
        "start_time": "2022-11-20T19:45:02.499Z"
      },
      {
        "duration": 298,
        "start_time": "2022-11-20T19:45:27.082Z"
      },
      {
        "duration": 390,
        "start_time": "2022-11-20T19:45:39.130Z"
      },
      {
        "duration": 32,
        "start_time": "2022-11-20T20:10:26.093Z"
      },
      {
        "duration": 4,
        "start_time": "2022-11-20T21:48:14.230Z"
      },
      {
        "duration": 338,
        "start_time": "2022-11-20T21:52:48.465Z"
      },
      {
        "duration": 253,
        "start_time": "2022-11-20T21:53:11.010Z"
      },
      {
        "duration": 4,
        "start_time": "2022-11-20T21:55:07.865Z"
      },
      {
        "duration": 250,
        "start_time": "2022-11-20T21:55:08.584Z"
      },
      {
        "duration": 8,
        "start_time": "2022-11-21T13:14:18.754Z"
      },
      {
        "duration": 41,
        "start_time": "2022-11-21T13:14:19.455Z"
      },
      {
        "duration": 9,
        "start_time": "2022-11-21T13:14:48.093Z"
      },
      {
        "duration": 1462,
        "start_time": "2022-11-21T13:15:00.452Z"
      },
      {
        "duration": 23,
        "start_time": "2022-11-21T13:15:01.916Z"
      },
      {
        "duration": 25,
        "start_time": "2022-11-21T13:15:03.429Z"
      },
      {
        "duration": 28,
        "start_time": "2022-11-21T13:15:04.021Z"
      },
      {
        "duration": 15,
        "start_time": "2022-11-21T13:15:05.814Z"
      },
      {
        "duration": 3,
        "start_time": "2022-11-21T13:15:07.629Z"
      },
      {
        "duration": 9,
        "start_time": "2022-11-21T13:15:08.196Z"
      },
      {
        "duration": 4,
        "start_time": "2022-11-21T13:15:08.865Z"
      },
      {
        "duration": 5,
        "start_time": "2022-11-21T13:15:09.472Z"
      },
      {
        "duration": 6,
        "start_time": "2022-11-21T13:15:10.005Z"
      },
      {
        "duration": 6,
        "start_time": "2022-11-21T13:15:13.928Z"
      },
      {
        "duration": 166,
        "start_time": "2022-11-21T13:15:16.013Z"
      },
      {
        "duration": 259,
        "start_time": "2022-11-21T13:15:19.301Z"
      },
      {
        "duration": 1024,
        "start_time": "2022-11-21T13:15:21.309Z"
      },
      {
        "duration": 7,
        "start_time": "2022-11-21T13:15:30.809Z"
      },
      {
        "duration": 395,
        "start_time": "2022-11-21T13:15:31.798Z"
      },
      {
        "duration": 8,
        "start_time": "2022-11-21T13:15:53.421Z"
      },
      {
        "duration": 316,
        "start_time": "2022-11-21T13:15:57.028Z"
      },
      {
        "duration": 548,
        "start_time": "2022-11-21T13:16:43.757Z"
      },
      {
        "duration": 10,
        "start_time": "2022-11-21T13:16:57.013Z"
      },
      {
        "duration": 162,
        "start_time": "2022-11-21T13:17:31.581Z"
      },
      {
        "duration": 169,
        "start_time": "2022-11-21T13:17:45.766Z"
      },
      {
        "duration": 7,
        "start_time": "2022-11-21T13:18:15.830Z"
      },
      {
        "duration": 9,
        "start_time": "2022-11-21T13:18:24.613Z"
      },
      {
        "duration": 7,
        "start_time": "2022-11-21T13:34:14.240Z"
      },
      {
        "duration": 8,
        "start_time": "2022-11-21T13:34:24.247Z"
      },
      {
        "duration": 3,
        "start_time": "2022-11-21T14:11:53.238Z"
      },
      {
        "duration": 19,
        "start_time": "2022-11-21T14:11:54.647Z"
      },
      {
        "duration": 87,
        "start_time": "2022-11-21T14:12:27.344Z"
      },
      {
        "duration": 64,
        "start_time": "2022-11-21T14:12:32.269Z"
      },
      {
        "duration": 69,
        "start_time": "2022-11-21T14:12:46.798Z"
      },
      {
        "duration": 12,
        "start_time": "2022-11-21T14:12:51.461Z"
      },
      {
        "duration": 20,
        "start_time": "2022-11-21T14:13:45.910Z"
      },
      {
        "duration": 15,
        "start_time": "2022-11-21T14:16:09.631Z"
      },
      {
        "duration": 24,
        "start_time": "2022-11-21T14:16:19.313Z"
      },
      {
        "duration": 25,
        "start_time": "2022-11-21T14:16:28.886Z"
      },
      {
        "duration": 26,
        "start_time": "2022-11-21T14:16:55.185Z"
      },
      {
        "duration": 24,
        "start_time": "2022-11-21T14:17:16.606Z"
      },
      {
        "duration": 27,
        "start_time": "2022-11-21T14:17:36.927Z"
      },
      {
        "duration": 24,
        "start_time": "2022-11-21T14:18:19.847Z"
      },
      {
        "duration": 32,
        "start_time": "2022-11-21T14:20:45.301Z"
      },
      {
        "duration": 39,
        "start_time": "2022-11-21T14:23:57.929Z"
      },
      {
        "duration": 35,
        "start_time": "2022-11-21T14:25:27.657Z"
      },
      {
        "duration": 129,
        "start_time": "2022-11-21T14:37:54.042Z"
      },
      {
        "duration": 154,
        "start_time": "2022-11-21T14:38:08.544Z"
      },
      {
        "duration": 130,
        "start_time": "2022-11-21T14:38:23.838Z"
      },
      {
        "duration": 206,
        "start_time": "2022-11-21T14:38:31.734Z"
      },
      {
        "duration": 166,
        "start_time": "2022-11-21T14:38:53.984Z"
      },
      {
        "duration": 171,
        "start_time": "2022-11-21T14:39:51.864Z"
      },
      {
        "duration": 302,
        "start_time": "2022-11-21T14:59:29.635Z"
      },
      {
        "duration": 4,
        "start_time": "2022-11-21T15:08:26.860Z"
      },
      {
        "duration": 8,
        "start_time": "2022-11-21T15:08:28.772Z"
      },
      {
        "duration": 289,
        "start_time": "2022-11-21T15:08:34.614Z"
      },
      {
        "duration": 3,
        "start_time": "2022-11-21T15:10:12.621Z"
      },
      {
        "duration": 251,
        "start_time": "2022-11-21T15:10:13.149Z"
      },
      {
        "duration": 26,
        "start_time": "2022-11-21T15:14:25.085Z"
      },
      {
        "duration": 24,
        "start_time": "2022-11-21T15:14:35.502Z"
      },
      {
        "duration": 235,
        "start_time": "2022-11-21T15:14:47.493Z"
      },
      {
        "duration": 23,
        "start_time": "2022-11-21T15:14:56.645Z"
      },
      {
        "duration": 24,
        "start_time": "2022-11-21T15:15:08.837Z"
      },
      {
        "duration": 350,
        "start_time": "2022-11-21T15:15:17.015Z"
      },
      {
        "duration": 5,
        "start_time": "2022-11-21T15:51:17.763Z"
      },
      {
        "duration": 258,
        "start_time": "2022-11-21T15:51:18.484Z"
      },
      {
        "duration": 5,
        "start_time": "2022-11-21T15:51:44.963Z"
      },
      {
        "duration": 346,
        "start_time": "2022-11-21T15:51:45.547Z"
      },
      {
        "duration": 4,
        "start_time": "2022-11-21T15:52:18.669Z"
      },
      {
        "duration": 359,
        "start_time": "2022-11-21T15:52:19.147Z"
      },
      {
        "duration": 4,
        "start_time": "2022-11-21T15:52:34.488Z"
      },
      {
        "duration": 325,
        "start_time": "2022-11-21T15:52:35.061Z"
      },
      {
        "duration": 5,
        "start_time": "2022-11-21T15:53:25.059Z"
      },
      {
        "duration": 334,
        "start_time": "2022-11-21T15:53:25.804Z"
      },
      {
        "duration": 4,
        "start_time": "2022-11-21T15:53:33.957Z"
      },
      {
        "duration": 383,
        "start_time": "2022-11-21T15:53:34.492Z"
      },
      {
        "duration": 4,
        "start_time": "2022-11-21T15:53:50.913Z"
      },
      {
        "duration": 465,
        "start_time": "2022-11-21T15:53:51.613Z"
      },
      {
        "duration": 4,
        "start_time": "2022-11-21T15:53:59.212Z"
      },
      {
        "duration": 341,
        "start_time": "2022-11-21T15:53:59.852Z"
      },
      {
        "duration": 4,
        "start_time": "2022-11-21T15:54:08.139Z"
      },
      {
        "duration": 334,
        "start_time": "2022-11-21T15:54:08.596Z"
      },
      {
        "duration": 4,
        "start_time": "2022-11-21T15:54:24.301Z"
      },
      {
        "duration": 338,
        "start_time": "2022-11-21T15:54:26.117Z"
      },
      {
        "duration": 4,
        "start_time": "2022-11-21T15:54:50.100Z"
      },
      {
        "duration": 333,
        "start_time": "2022-11-21T15:54:50.631Z"
      },
      {
        "duration": 5,
        "start_time": "2022-11-21T15:55:04.839Z"
      },
      {
        "duration": 256,
        "start_time": "2022-11-21T15:55:05.284Z"
      },
      {
        "duration": 5,
        "start_time": "2022-11-21T15:55:15.683Z"
      },
      {
        "duration": 353,
        "start_time": "2022-11-21T15:55:17.612Z"
      },
      {
        "duration": 72,
        "start_time": "2022-11-21T15:55:25.626Z"
      },
      {
        "duration": 453,
        "start_time": "2022-11-21T15:55:26.137Z"
      },
      {
        "duration": 6,
        "start_time": "2022-11-21T15:55:38.864Z"
      },
      {
        "duration": 349,
        "start_time": "2022-11-21T15:55:39.364Z"
      },
      {
        "duration": 6,
        "start_time": "2022-11-21T15:55:50.264Z"
      },
      {
        "duration": 347,
        "start_time": "2022-11-21T15:55:51.290Z"
      },
      {
        "duration": 4,
        "start_time": "2022-11-21T15:56:01.462Z"
      },
      {
        "duration": 362,
        "start_time": "2022-11-21T15:56:02.753Z"
      },
      {
        "duration": 4,
        "start_time": "2022-11-21T15:56:21.884Z"
      },
      {
        "duration": 344,
        "start_time": "2022-11-21T15:56:22.654Z"
      },
      {
        "duration": 4,
        "start_time": "2022-11-21T15:56:28.116Z"
      },
      {
        "duration": 348,
        "start_time": "2022-11-21T15:56:28.453Z"
      },
      {
        "duration": 5,
        "start_time": "2022-11-21T15:56:39.484Z"
      },
      {
        "duration": 337,
        "start_time": "2022-11-21T15:56:39.753Z"
      },
      {
        "duration": 5,
        "start_time": "2022-11-21T15:56:45.795Z"
      },
      {
        "duration": 480,
        "start_time": "2022-11-21T15:56:46.069Z"
      },
      {
        "duration": 4,
        "start_time": "2022-11-21T15:56:50.916Z"
      },
      {
        "duration": 362,
        "start_time": "2022-11-21T15:56:51.207Z"
      },
      {
        "duration": 346,
        "start_time": "2022-11-21T15:57:23.296Z"
      },
      {
        "duration": 357,
        "start_time": "2022-11-21T15:57:32.240Z"
      },
      {
        "duration": 354,
        "start_time": "2022-11-21T15:57:38.245Z"
      },
      {
        "duration": 401,
        "start_time": "2022-11-21T15:57:45.305Z"
      },
      {
        "duration": 485,
        "start_time": "2022-11-21T15:59:18.763Z"
      },
      {
        "duration": 561,
        "start_time": "2022-11-21T15:59:22.364Z"
      },
      {
        "duration": 4,
        "start_time": "2022-11-21T16:00:14.512Z"
      },
      {
        "duration": 401,
        "start_time": "2022-11-21T16:00:17.021Z"
      },
      {
        "duration": 5,
        "start_time": "2022-11-21T17:09:32.127Z"
      },
      {
        "duration": 26,
        "start_time": "2022-11-21T17:09:32.776Z"
      },
      {
        "duration": 5,
        "start_time": "2022-11-21T17:09:50.472Z"
      },
      {
        "duration": 412,
        "start_time": "2022-11-21T17:09:50.884Z"
      },
      {
        "duration": 441,
        "start_time": "2022-11-21T17:40:26.812Z"
      },
      {
        "duration": 403,
        "start_time": "2022-11-21T17:40:47.980Z"
      },
      {
        "duration": 4,
        "start_time": "2022-11-21T17:58:01.519Z"
      },
      {
        "duration": 402,
        "start_time": "2022-11-21T17:58:02.286Z"
      },
      {
        "duration": 185,
        "start_time": "2022-11-21T18:07:49.030Z"
      },
      {
        "duration": 181,
        "start_time": "2022-11-21T18:08:34.872Z"
      },
      {
        "duration": 20,
        "start_time": "2022-11-21T18:17:29.003Z"
      },
      {
        "duration": 138,
        "start_time": "2022-11-21T18:17:59.328Z"
      },
      {
        "duration": 239,
        "start_time": "2022-11-21T18:18:14.982Z"
      },
      {
        "duration": 124,
        "start_time": "2022-11-21T18:27:06.997Z"
      },
      {
        "duration": 9,
        "start_time": "2022-11-21T18:27:18.608Z"
      },
      {
        "duration": 125,
        "start_time": "2022-11-21T18:27:19.883Z"
      },
      {
        "duration": 179,
        "start_time": "2022-11-21T18:29:05.855Z"
      },
      {
        "duration": 117,
        "start_time": "2022-11-21T18:30:05.434Z"
      },
      {
        "duration": 154,
        "start_time": "2022-11-21T18:30:22.654Z"
      },
      {
        "duration": 189,
        "start_time": "2022-11-21T18:30:49.753Z"
      },
      {
        "duration": 176,
        "start_time": "2022-11-21T18:31:16.939Z"
      },
      {
        "duration": 191,
        "start_time": "2022-11-21T18:31:25.221Z"
      },
      {
        "duration": 166,
        "start_time": "2022-11-21T18:31:40.572Z"
      },
      {
        "duration": 3,
        "start_time": "2022-11-21T18:34:33.832Z"
      },
      {
        "duration": 381,
        "start_time": "2022-11-21T18:34:34.970Z"
      },
      {
        "duration": 4,
        "start_time": "2022-11-21T18:35:27.927Z"
      },
      {
        "duration": 421,
        "start_time": "2022-11-21T18:35:28.404Z"
      },
      {
        "duration": 4,
        "start_time": "2022-11-21T18:41:20.613Z"
      },
      {
        "duration": 412,
        "start_time": "2022-11-21T18:41:21.276Z"
      },
      {
        "duration": 4,
        "start_time": "2022-11-21T21:35:51.664Z"
      },
      {
        "duration": 561,
        "start_time": "2022-11-21T21:35:52.119Z"
      },
      {
        "duration": 455,
        "start_time": "2022-11-21T21:36:20.888Z"
      },
      {
        "duration": 414,
        "start_time": "2022-11-21T21:36:32.463Z"
      },
      {
        "duration": 1356,
        "start_time": "2022-11-21T22:34:50.248Z"
      },
      {
        "duration": 1563,
        "start_time": "2022-11-21T22:35:08.639Z"
      },
      {
        "duration": 1339,
        "start_time": "2022-11-21T22:36:39.305Z"
      },
      {
        "duration": 581,
        "start_time": "2022-11-21T22:39:44.409Z"
      },
      {
        "duration": 393,
        "start_time": "2022-11-21T22:40:13.665Z"
      },
      {
        "duration": 434,
        "start_time": "2022-11-21T22:41:23.664Z"
      },
      {
        "duration": 461,
        "start_time": "2022-11-21T22:42:50.050Z"
      },
      {
        "duration": 429,
        "start_time": "2022-11-21T22:44:57.170Z"
      },
      {
        "duration": 588,
        "start_time": "2022-11-21T22:45:52.089Z"
      },
      {
        "duration": 437,
        "start_time": "2022-11-21T22:48:03.354Z"
      },
      {
        "duration": 421,
        "start_time": "2022-11-21T22:48:19.059Z"
      },
      {
        "duration": 425,
        "start_time": "2022-11-21T22:48:33.992Z"
      },
      {
        "duration": 438,
        "start_time": "2022-11-21T22:49:25.680Z"
      },
      {
        "duration": 3,
        "start_time": "2022-11-21T23:04:57.658Z"
      },
      {
        "duration": 360,
        "start_time": "2022-11-21T23:04:58.102Z"
      },
      {
        "duration": 498,
        "start_time": "2022-11-21T23:05:04.326Z"
      },
      {
        "duration": 328,
        "start_time": "2022-11-21T23:05:06.030Z"
      },
      {
        "duration": 340,
        "start_time": "2022-11-21T23:06:00.952Z"
      },
      {
        "duration": 345,
        "start_time": "2022-11-21T23:06:12.686Z"
      },
      {
        "duration": 360,
        "start_time": "2022-11-21T23:06:27.335Z"
      },
      {
        "duration": 324,
        "start_time": "2022-11-21T23:06:32.375Z"
      },
      {
        "duration": 300,
        "start_time": "2022-11-21T23:07:34.182Z"
      },
      {
        "duration": 98,
        "start_time": "2022-11-21T23:07:37.335Z"
      },
      {
        "duration": 309,
        "start_time": "2022-11-21T23:07:52.528Z"
      },
      {
        "duration": 1422,
        "start_time": "2022-11-22T11:54:28.929Z"
      },
      {
        "duration": 26,
        "start_time": "2022-11-22T11:54:30.353Z"
      },
      {
        "duration": 25,
        "start_time": "2022-11-22T11:54:31.637Z"
      },
      {
        "duration": 38,
        "start_time": "2022-11-22T11:54:32.612Z"
      },
      {
        "duration": 17,
        "start_time": "2022-11-22T11:54:34.713Z"
      },
      {
        "duration": 3,
        "start_time": "2022-11-22T11:54:43.874Z"
      },
      {
        "duration": 8,
        "start_time": "2022-11-22T11:54:44.313Z"
      },
      {
        "duration": 7,
        "start_time": "2022-11-22T11:54:44.747Z"
      },
      {
        "duration": 5,
        "start_time": "2022-11-22T11:54:45.171Z"
      },
      {
        "duration": 6,
        "start_time": "2022-11-22T11:54:45.610Z"
      },
      {
        "duration": 5,
        "start_time": "2022-11-22T11:54:46.570Z"
      },
      {
        "duration": 176,
        "start_time": "2022-11-22T11:55:03.794Z"
      },
      {
        "duration": 279,
        "start_time": "2022-11-22T11:55:16.346Z"
      },
      {
        "duration": 5,
        "start_time": "2022-11-22T11:55:20.979Z"
      },
      {
        "duration": 459,
        "start_time": "2022-11-22T11:55:22.226Z"
      },
      {
        "duration": 4,
        "start_time": "2022-11-22T11:59:00.253Z"
      },
      {
        "duration": 378,
        "start_time": "2022-11-22T11:59:00.637Z"
      },
      {
        "duration": 3,
        "start_time": "2022-11-22T11:59:14.827Z"
      },
      {
        "duration": 397,
        "start_time": "2022-11-22T11:59:15.434Z"
      },
      {
        "duration": 4,
        "start_time": "2022-11-22T11:59:32.363Z"
      },
      {
        "duration": 442,
        "start_time": "2022-11-22T11:59:33.514Z"
      },
      {
        "duration": 3,
        "start_time": "2022-11-22T11:59:51.013Z"
      },
      {
        "duration": 371,
        "start_time": "2022-11-22T11:59:51.659Z"
      },
      {
        "duration": 3,
        "start_time": "2022-11-22T12:07:54.318Z"
      },
      {
        "duration": 393,
        "start_time": "2022-11-22T12:07:54.757Z"
      },
      {
        "duration": 4,
        "start_time": "2022-11-22T12:08:41.692Z"
      },
      {
        "duration": 427,
        "start_time": "2022-11-22T12:08:42.141Z"
      },
      {
        "duration": 3,
        "start_time": "2022-11-22T12:09:29.597Z"
      },
      {
        "duration": 305,
        "start_time": "2022-11-22T12:09:29.932Z"
      },
      {
        "duration": 3,
        "start_time": "2022-11-22T12:10:04.623Z"
      },
      {
        "duration": 309,
        "start_time": "2022-11-22T12:10:05.029Z"
      },
      {
        "duration": 3,
        "start_time": "2022-11-22T12:10:22.118Z"
      },
      {
        "duration": 315,
        "start_time": "2022-11-22T12:10:22.461Z"
      },
      {
        "duration": 3,
        "start_time": "2022-11-22T12:10:40.831Z"
      },
      {
        "duration": 444,
        "start_time": "2022-11-22T12:10:41.149Z"
      },
      {
        "duration": 4,
        "start_time": "2022-11-22T12:11:04.717Z"
      },
      {
        "duration": 350,
        "start_time": "2022-11-22T12:11:05.157Z"
      },
      {
        "duration": 4,
        "start_time": "2022-11-22T12:12:51.213Z"
      },
      {
        "duration": 398,
        "start_time": "2022-11-22T12:12:51.668Z"
      },
      {
        "duration": 3,
        "start_time": "2022-11-22T12:13:13.390Z"
      },
      {
        "duration": 331,
        "start_time": "2022-11-22T12:13:13.815Z"
      },
      {
        "duration": 3,
        "start_time": "2022-11-22T12:14:01.062Z"
      },
      {
        "duration": 341,
        "start_time": "2022-11-22T12:14:01.533Z"
      },
      {
        "duration": 387,
        "start_time": "2022-11-22T12:14:13.261Z"
      },
      {
        "duration": 289,
        "start_time": "2022-11-22T12:14:17.669Z"
      },
      {
        "duration": 4,
        "start_time": "2022-11-22T12:15:37.229Z"
      },
      {
        "duration": 362,
        "start_time": "2022-11-22T12:15:37.573Z"
      },
      {
        "duration": 331,
        "start_time": "2022-11-22T12:15:40.027Z"
      },
      {
        "duration": 332,
        "start_time": "2022-11-22T12:15:41.621Z"
      },
      {
        "duration": 4,
        "start_time": "2022-11-22T12:19:16.390Z"
      },
      {
        "duration": 309,
        "start_time": "2022-11-22T12:19:17.629Z"
      },
      {
        "duration": 6,
        "start_time": "2022-11-22T12:19:27.669Z"
      },
      {
        "duration": 403,
        "start_time": "2022-11-22T12:19:28.350Z"
      },
      {
        "duration": 8,
        "start_time": "2022-11-22T12:19:32.193Z"
      },
      {
        "duration": 336,
        "start_time": "2022-11-22T12:19:34.390Z"
      },
      {
        "duration": 608,
        "start_time": "2022-11-22T12:19:49.317Z"
      },
      {
        "duration": 12,
        "start_time": "2022-11-22T12:19:53.225Z"
      },
      {
        "duration": 3,
        "start_time": "2022-11-22T12:19:58.353Z"
      },
      {
        "duration": 39,
        "start_time": "2022-11-22T12:19:59.368Z"
      },
      {
        "duration": 189,
        "start_time": "2022-11-22T12:20:07.479Z"
      },
      {
        "duration": 181,
        "start_time": "2022-11-22T12:20:29.369Z"
      },
      {
        "duration": 4,
        "start_time": "2022-11-22T12:20:34.878Z"
      },
      {
        "duration": 405,
        "start_time": "2022-11-22T12:20:35.668Z"
      },
      {
        "duration": 4,
        "start_time": "2022-11-22T12:22:56.703Z"
      },
      {
        "duration": 528,
        "start_time": "2022-11-22T12:22:57.167Z"
      },
      {
        "duration": 4,
        "start_time": "2022-11-22T12:24:36.319Z"
      },
      {
        "duration": 428,
        "start_time": "2022-11-22T12:24:36.662Z"
      },
      {
        "duration": 4,
        "start_time": "2022-11-22T12:25:06.608Z"
      },
      {
        "duration": 433,
        "start_time": "2022-11-22T12:25:06.944Z"
      },
      {
        "duration": 6,
        "start_time": "2022-11-22T12:25:42.542Z"
      },
      {
        "duration": 426,
        "start_time": "2022-11-22T12:25:42.849Z"
      },
      {
        "duration": 293,
        "start_time": "2022-11-22T12:27:56.896Z"
      },
      {
        "duration": 298,
        "start_time": "2022-11-22T12:29:05.338Z"
      },
      {
        "duration": 270,
        "start_time": "2022-11-22T12:29:30.768Z"
      },
      {
        "duration": 370,
        "start_time": "2022-11-22T12:30:00.111Z"
      },
      {
        "duration": 502,
        "start_time": "2022-11-22T12:30:30.175Z"
      },
      {
        "duration": 501,
        "start_time": "2022-11-22T12:30:35.948Z"
      },
      {
        "duration": 8,
        "start_time": "2022-11-22T12:30:54.111Z"
      },
      {
        "duration": 9,
        "start_time": "2022-11-22T12:30:56.368Z"
      },
      {
        "duration": 5,
        "start_time": "2022-11-22T12:40:16.457Z"
      },
      {
        "duration": 452,
        "start_time": "2022-11-22T12:40:16.834Z"
      },
      {
        "duration": 506,
        "start_time": "2022-11-22T12:40:26.553Z"
      },
      {
        "duration": 434,
        "start_time": "2022-11-22T12:40:30.321Z"
      },
      {
        "duration": 83,
        "start_time": "2022-11-22T14:12:32.750Z"
      },
      {
        "duration": 440,
        "start_time": "2022-11-22T14:12:53.942Z"
      },
      {
        "duration": 519,
        "start_time": "2022-11-22T14:16:26.037Z"
      },
      {
        "duration": 397,
        "start_time": "2022-11-22T14:20:22.914Z"
      },
      {
        "duration": 382,
        "start_time": "2022-11-22T14:20:34.572Z"
      },
      {
        "duration": 1532,
        "start_time": "2022-11-22T17:01:15.553Z"
      },
      {
        "duration": 24,
        "start_time": "2022-11-22T17:01:17.087Z"
      },
      {
        "duration": 24,
        "start_time": "2022-11-22T17:01:17.275Z"
      },
      {
        "duration": 41,
        "start_time": "2022-11-22T17:01:17.733Z"
      },
      {
        "duration": 18,
        "start_time": "2022-11-22T17:01:19.309Z"
      },
      {
        "duration": 3,
        "start_time": "2022-11-22T17:01:20.063Z"
      },
      {
        "duration": 9,
        "start_time": "2022-11-22T17:01:21.308Z"
      },
      {
        "duration": 4,
        "start_time": "2022-11-22T17:01:21.796Z"
      },
      {
        "duration": 5,
        "start_time": "2022-11-22T17:01:22.227Z"
      },
      {
        "duration": 6,
        "start_time": "2022-11-22T17:01:22.635Z"
      },
      {
        "duration": 5,
        "start_time": "2022-11-22T17:01:23.019Z"
      },
      {
        "duration": 178,
        "start_time": "2022-11-22T17:01:25.987Z"
      },
      {
        "duration": 267,
        "start_time": "2022-11-22T17:01:30.963Z"
      },
      {
        "duration": 4,
        "start_time": "2022-11-22T17:01:33.148Z"
      },
      {
        "duration": 448,
        "start_time": "2022-11-22T17:01:33.669Z"
      },
      {
        "duration": 331,
        "start_time": "2022-11-22T17:01:35.099Z"
      },
      {
        "duration": 430,
        "start_time": "2022-11-22T17:01:36.581Z"
      },
      {
        "duration": 7,
        "start_time": "2022-11-22T17:01:43.309Z"
      },
      {
        "duration": 514,
        "start_time": "2022-11-22T17:01:44.723Z"
      },
      {
        "duration": 11,
        "start_time": "2022-11-22T17:01:47.963Z"
      },
      {
        "duration": 258,
        "start_time": "2022-11-22T17:01:49.610Z"
      },
      {
        "duration": 569,
        "start_time": "2022-11-22T17:01:53.252Z"
      },
      {
        "duration": 11,
        "start_time": "2022-11-22T17:01:55.116Z"
      },
      {
        "duration": 3,
        "start_time": "2022-11-22T17:01:58.099Z"
      },
      {
        "duration": 51,
        "start_time": "2022-11-22T17:01:59.293Z"
      },
      {
        "duration": 182,
        "start_time": "2022-11-22T17:02:04.508Z"
      },
      {
        "duration": 188,
        "start_time": "2022-11-22T17:02:06.487Z"
      },
      {
        "duration": 5,
        "start_time": "2022-11-22T17:02:10.534Z"
      },
      {
        "duration": 546,
        "start_time": "2022-11-22T17:02:11.796Z"
      },
      {
        "duration": 500,
        "start_time": "2022-11-22T17:02:15.733Z"
      },
      {
        "duration": 421,
        "start_time": "2022-11-22T17:02:18.611Z"
      },
      {
        "duration": 8,
        "start_time": "2022-11-22T17:02:20.699Z"
      },
      {
        "duration": 9,
        "start_time": "2022-11-22T17:02:22.691Z"
      },
      {
        "duration": 4,
        "start_time": "2022-11-22T18:21:42.559Z"
      },
      {
        "duration": 429,
        "start_time": "2022-11-22T18:21:43.231Z"
      },
      {
        "duration": 434,
        "start_time": "2022-11-22T18:22:50.657Z"
      },
      {
        "duration": 465,
        "start_time": "2022-11-22T18:23:28.488Z"
      },
      {
        "duration": 548,
        "start_time": "2022-11-22T18:24:06.641Z"
      },
      {
        "duration": 102,
        "start_time": "2022-11-22T22:16:06.021Z"
      },
      {
        "duration": 20,
        "start_time": "2022-11-22T22:16:06.739Z"
      },
      {
        "duration": 25,
        "start_time": "2022-11-22T22:16:07.175Z"
      },
      {
        "duration": 29,
        "start_time": "2022-11-22T22:16:07.560Z"
      },
      {
        "duration": 17,
        "start_time": "2022-11-22T22:16:08.266Z"
      },
      {
        "duration": 3,
        "start_time": "2022-11-22T22:16:08.706Z"
      },
      {
        "duration": 8,
        "start_time": "2022-11-22T22:16:09.147Z"
      },
      {
        "duration": 4,
        "start_time": "2022-11-22T22:16:09.578Z"
      },
      {
        "duration": 4,
        "start_time": "2022-11-22T22:16:09.979Z"
      },
      {
        "duration": 6,
        "start_time": "2022-11-22T22:16:10.355Z"
      },
      {
        "duration": 5,
        "start_time": "2022-11-22T22:16:10.722Z"
      },
      {
        "duration": 169,
        "start_time": "2022-11-22T22:16:12.298Z"
      },
      {
        "duration": 283,
        "start_time": "2022-11-22T22:16:13.498Z"
      },
      {
        "duration": 4,
        "start_time": "2022-11-22T22:16:13.914Z"
      },
      {
        "duration": 363,
        "start_time": "2022-11-22T22:16:14.341Z"
      },
      {
        "duration": 333,
        "start_time": "2022-11-22T22:16:14.798Z"
      },
      {
        "duration": 347,
        "start_time": "2022-11-22T22:16:15.290Z"
      },
      {
        "duration": 6,
        "start_time": "2022-11-22T22:16:16.587Z"
      },
      {
        "duration": 381,
        "start_time": "2022-11-22T22:16:17.045Z"
      },
      {
        "duration": 8,
        "start_time": "2022-11-22T22:16:18.474Z"
      },
      {
        "duration": 351,
        "start_time": "2022-11-22T22:16:18.945Z"
      },
      {
        "duration": 579,
        "start_time": "2022-11-22T22:16:20.350Z"
      },
      {
        "duration": 10,
        "start_time": "2022-11-22T22:16:20.931Z"
      },
      {
        "duration": 3,
        "start_time": "2022-11-22T22:16:22.248Z"
      },
      {
        "duration": 38,
        "start_time": "2022-11-22T22:16:22.699Z"
      },
      {
        "duration": 176,
        "start_time": "2022-11-22T22:16:24.155Z"
      },
      {
        "duration": 194,
        "start_time": "2022-11-22T22:16:24.666Z"
      },
      {
        "duration": 4,
        "start_time": "2022-11-22T22:16:26.658Z"
      },
      {
        "duration": 414,
        "start_time": "2022-11-22T22:16:27.139Z"
      },
      {
        "duration": 451,
        "start_time": "2022-11-22T22:16:28.747Z"
      },
      {
        "duration": 533,
        "start_time": "2022-11-22T22:16:30.202Z"
      },
      {
        "duration": 8,
        "start_time": "2022-11-22T22:16:32.641Z"
      },
      {
        "duration": 8,
        "start_time": "2022-11-22T22:16:33.698Z"
      },
      {
        "duration": 1555,
        "start_time": "2022-11-23T08:02:01.502Z"
      },
      {
        "duration": 36,
        "start_time": "2022-11-23T08:02:03.059Z"
      },
      {
        "duration": 29,
        "start_time": "2022-11-23T08:02:03.097Z"
      },
      {
        "duration": 52,
        "start_time": "2022-11-23T08:02:03.128Z"
      },
      {
        "duration": 18,
        "start_time": "2022-11-23T08:02:03.182Z"
      },
      {
        "duration": 32,
        "start_time": "2022-11-23T08:02:03.201Z"
      },
      {
        "duration": 25,
        "start_time": "2022-11-23T08:02:03.235Z"
      },
      {
        "duration": 41,
        "start_time": "2022-11-23T08:02:03.262Z"
      },
      {
        "duration": 15,
        "start_time": "2022-11-23T08:02:03.305Z"
      },
      {
        "duration": 27,
        "start_time": "2022-11-23T08:02:03.322Z"
      },
      {
        "duration": 24,
        "start_time": "2022-11-23T08:02:03.351Z"
      },
      {
        "duration": 233,
        "start_time": "2022-11-23T08:02:03.378Z"
      },
      {
        "duration": 339,
        "start_time": "2022-11-23T08:02:03.612Z"
      },
      {
        "duration": 4,
        "start_time": "2022-11-23T08:02:03.954Z"
      },
      {
        "duration": 422,
        "start_time": "2022-11-23T08:02:03.960Z"
      },
      {
        "duration": 414,
        "start_time": "2022-11-23T08:02:04.384Z"
      },
      {
        "duration": 425,
        "start_time": "2022-11-23T08:02:04.802Z"
      },
      {
        "duration": 7,
        "start_time": "2022-11-23T08:02:05.229Z"
      },
      {
        "duration": 514,
        "start_time": "2022-11-23T08:02:05.238Z"
      },
      {
        "duration": 10,
        "start_time": "2022-11-23T08:02:05.754Z"
      },
      {
        "duration": 323,
        "start_time": "2022-11-23T08:02:05.766Z"
      },
      {
        "duration": 699,
        "start_time": "2022-11-23T08:02:06.091Z"
      },
      {
        "duration": 12,
        "start_time": "2022-11-23T08:02:06.792Z"
      },
      {
        "duration": 5,
        "start_time": "2022-11-23T08:02:06.805Z"
      },
      {
        "duration": 66,
        "start_time": "2022-11-23T08:02:06.812Z"
      },
      {
        "duration": 236,
        "start_time": "2022-11-23T08:02:06.880Z"
      },
      {
        "duration": 278,
        "start_time": "2022-11-23T08:02:07.118Z"
      },
      {
        "duration": 4,
        "start_time": "2022-11-23T08:02:07.397Z"
      },
      {
        "duration": 580,
        "start_time": "2022-11-23T08:02:07.403Z"
      },
      {
        "duration": 611,
        "start_time": "2022-11-23T08:02:07.985Z"
      },
      {
        "duration": 553,
        "start_time": "2022-11-23T08:02:08.598Z"
      },
      {
        "duration": 12,
        "start_time": "2022-11-23T08:02:09.154Z"
      },
      {
        "duration": 22,
        "start_time": "2022-11-23T08:02:09.168Z"
      },
      {
        "duration": 431,
        "start_time": "2022-11-23T16:31:51.097Z"
      },
      {
        "duration": 10,
        "start_time": "2022-11-23T16:31:51.530Z"
      },
      {
        "duration": 1058,
        "start_time": "2022-11-23T16:31:51.936Z"
      },
      {
        "duration": 3,
        "start_time": "2022-11-23T16:31:52.996Z"
      },
      {
        "duration": 9,
        "start_time": "2022-11-23T16:31:53.001Z"
      },
      {
        "duration": 213,
        "start_time": "2022-11-23T16:31:53.736Z"
      },
      {
        "duration": 26,
        "start_time": "2022-11-23T16:31:55.849Z"
      },
      {
        "duration": 26,
        "start_time": "2022-11-23T16:32:16.249Z"
      },
      {
        "duration": 28,
        "start_time": "2022-11-23T16:32:18.175Z"
      },
      {
        "duration": 18,
        "start_time": "2022-11-23T16:34:30.159Z"
      },
      {
        "duration": 4,
        "start_time": "2022-11-23T16:34:31.897Z"
      },
      {
        "duration": 12,
        "start_time": "2022-11-23T16:34:33.519Z"
      },
      {
        "duration": 5,
        "start_time": "2022-11-23T16:34:35.319Z"
      },
      {
        "duration": 4,
        "start_time": "2022-11-23T16:34:36.638Z"
      },
      {
        "duration": 7,
        "start_time": "2022-11-23T16:34:37.502Z"
      },
      {
        "duration": 6,
        "start_time": "2022-11-23T16:34:38.799Z"
      },
      {
        "duration": 195,
        "start_time": "2022-11-23T16:34:42.039Z"
      },
      {
        "duration": 270,
        "start_time": "2022-11-23T16:35:10.582Z"
      },
      {
        "duration": 4,
        "start_time": "2022-11-23T16:37:27.004Z"
      },
      {
        "duration": 369,
        "start_time": "2022-11-23T16:37:28.031Z"
      },
      {
        "duration": 328,
        "start_time": "2022-11-23T16:37:30.046Z"
      },
      {
        "duration": 340,
        "start_time": "2022-11-23T16:37:32.051Z"
      },
      {
        "duration": 6,
        "start_time": "2022-11-23T16:37:35.583Z"
      },
      {
        "duration": 495,
        "start_time": "2022-11-23T16:37:37.991Z"
      },
      {
        "duration": 11,
        "start_time": "2022-11-23T16:37:42.937Z"
      },
      {
        "duration": 261,
        "start_time": "2022-11-23T16:37:44.521Z"
      },
      {
        "duration": 600,
        "start_time": "2022-11-23T16:38:29.410Z"
      },
      {
        "duration": 10,
        "start_time": "2022-11-23T16:38:32.747Z"
      },
      {
        "duration": 11,
        "start_time": "2022-11-23T16:38:38.266Z"
      },
      {
        "duration": 45,
        "start_time": "2022-11-23T16:38:40.688Z"
      },
      {
        "duration": 188,
        "start_time": "2022-11-23T16:38:45.947Z"
      },
      {
        "duration": 211,
        "start_time": "2022-11-23T16:39:10.371Z"
      },
      {
        "duration": 4,
        "start_time": "2022-11-23T16:39:16.915Z"
      },
      {
        "duration": 580,
        "start_time": "2022-11-23T16:39:17.463Z"
      },
      {
        "duration": 496,
        "start_time": "2022-11-23T16:39:19.911Z"
      },
      {
        "duration": 438,
        "start_time": "2022-11-23T16:39:21.199Z"
      },
      {
        "duration": 8,
        "start_time": "2022-11-23T16:39:24.753Z"
      },
      {
        "duration": 9,
        "start_time": "2022-11-23T16:39:26.410Z"
      },
      {
        "duration": 96,
        "start_time": "2022-11-23T16:59:35.438Z"
      },
      {
        "duration": 109,
        "start_time": "2022-11-23T17:00:29.987Z"
      },
      {
        "duration": 586,
        "start_time": "2022-11-23T17:00:34.493Z"
      },
      {
        "duration": 192,
        "start_time": "2022-11-23T17:11:41.029Z"
      },
      {
        "duration": 122,
        "start_time": "2022-11-23T17:13:47.870Z"
      },
      {
        "duration": 296,
        "start_time": "2022-11-23T17:18:25.342Z"
      },
      {
        "duration": 297,
        "start_time": "2022-11-23T17:18:45.582Z"
      },
      {
        "duration": 297,
        "start_time": "2022-11-23T17:22:05.081Z"
      },
      {
        "duration": 289,
        "start_time": "2022-11-23T17:25:53.016Z"
      },
      {
        "duration": 25,
        "start_time": "2022-11-23T17:26:38.965Z"
      },
      {
        "duration": 29,
        "start_time": "2022-11-23T17:27:08.078Z"
      },
      {
        "duration": 24,
        "start_time": "2022-11-23T17:27:35.120Z"
      },
      {
        "duration": 27,
        "start_time": "2022-11-23T17:29:19.306Z"
      },
      {
        "duration": 17,
        "start_time": "2022-11-23T17:29:40.962Z"
      },
      {
        "duration": 219,
        "start_time": "2022-11-23T17:30:38.945Z"
      },
      {
        "duration": 237,
        "start_time": "2022-11-23T17:43:10.459Z"
      },
      {
        "duration": 135,
        "start_time": "2022-11-23T17:43:24.475Z"
      },
      {
        "duration": 145,
        "start_time": "2022-11-23T17:44:00.994Z"
      },
      {
        "duration": 73,
        "start_time": "2022-11-23T17:45:40.226Z"
      },
      {
        "duration": 189,
        "start_time": "2022-11-23T17:45:49.739Z"
      },
      {
        "duration": 68,
        "start_time": "2022-11-23T18:06:53.862Z"
      },
      {
        "duration": 4,
        "start_time": "2022-11-23T18:29:34.251Z"
      },
      {
        "duration": 18,
        "start_time": "2022-11-23T18:29:35.030Z"
      },
      {
        "duration": 4,
        "start_time": "2022-11-23T18:29:45.977Z"
      },
      {
        "duration": 1346,
        "start_time": "2022-11-23T18:29:51.114Z"
      },
      {
        "duration": 3,
        "start_time": "2022-11-23T18:46:22.645Z"
      },
      {
        "duration": 19,
        "start_time": "2022-11-23T18:46:23.118Z"
      },
      {
        "duration": 3,
        "start_time": "2022-11-23T18:46:31.353Z"
      },
      {
        "duration": 40,
        "start_time": "2022-11-23T18:46:31.732Z"
      },
      {
        "duration": 70,
        "start_time": "2022-11-23T18:50:20.816Z"
      },
      {
        "duration": 67,
        "start_time": "2022-11-23T18:50:32.959Z"
      },
      {
        "duration": 302,
        "start_time": "2022-11-23T18:50:51.235Z"
      },
      {
        "duration": 525,
        "start_time": "2022-11-23T18:51:55.694Z"
      },
      {
        "duration": 233,
        "start_time": "2022-11-23T18:53:28.920Z"
      },
      {
        "duration": 414,
        "start_time": "2022-11-23T18:54:00.327Z"
      },
      {
        "duration": 254,
        "start_time": "2022-11-23T18:55:56.191Z"
      },
      {
        "duration": 285,
        "start_time": "2022-11-23T18:56:34.772Z"
      },
      {
        "duration": 256,
        "start_time": "2022-11-23T18:59:11.835Z"
      },
      {
        "duration": 232,
        "start_time": "2022-11-23T18:59:14.361Z"
      },
      {
        "duration": 246,
        "start_time": "2022-11-23T18:59:16.155Z"
      },
      {
        "duration": 268,
        "start_time": "2022-11-23T18:59:17.672Z"
      },
      {
        "duration": 268,
        "start_time": "2022-11-23T19:16:33.913Z"
      },
      {
        "duration": 258,
        "start_time": "2022-11-23T19:17:54.345Z"
      },
      {
        "duration": 296,
        "start_time": "2022-11-23T19:19:39.225Z"
      },
      {
        "duration": 253,
        "start_time": "2022-11-23T19:19:41.797Z"
      },
      {
        "duration": 394,
        "start_time": "2022-11-23T19:19:44.018Z"
      },
      {
        "duration": 273,
        "start_time": "2022-11-23T19:19:46.546Z"
      },
      {
        "duration": 13,
        "start_time": "2022-11-23T19:43:37.689Z"
      },
      {
        "duration": 27,
        "start_time": "2022-11-23T19:44:09.860Z"
      },
      {
        "duration": 25,
        "start_time": "2022-11-23T19:44:17.202Z"
      },
      {
        "duration": 1138,
        "start_time": "2022-11-23T19:45:12.081Z"
      },
      {
        "duration": 19,
        "start_time": "2022-11-23T19:45:53.902Z"
      },
      {
        "duration": 26,
        "start_time": "2022-11-23T19:47:54.381Z"
      },
      {
        "duration": 391,
        "start_time": "2022-11-23T19:48:21.005Z"
      },
      {
        "duration": 367,
        "start_time": "2022-11-23T19:49:36.262Z"
      },
      {
        "duration": 437,
        "start_time": "2022-11-23T19:50:24.142Z"
      },
      {
        "duration": 434,
        "start_time": "2022-11-23T19:51:28.694Z"
      },
      {
        "duration": 373,
        "start_time": "2022-11-23T19:56:46.551Z"
      },
      {
        "duration": 382,
        "start_time": "2022-11-23T19:57:30.184Z"
      },
      {
        "duration": 28,
        "start_time": "2022-11-23T19:58:31.732Z"
      },
      {
        "duration": 22,
        "start_time": "2022-11-23T19:58:53.476Z"
      },
      {
        "duration": 22,
        "start_time": "2022-11-23T19:59:57.752Z"
      },
      {
        "duration": 346,
        "start_time": "2022-11-23T20:08:06.477Z"
      },
      {
        "duration": 490,
        "start_time": "2022-11-23T20:10:21.494Z"
      },
      {
        "duration": 371,
        "start_time": "2022-11-23T20:10:27.922Z"
      },
      {
        "duration": 363,
        "start_time": "2022-11-23T20:15:21.243Z"
      },
      {
        "duration": 359,
        "start_time": "2022-11-23T20:16:18.447Z"
      },
      {
        "duration": 365,
        "start_time": "2022-11-23T20:17:02.505Z"
      },
      {
        "duration": 346,
        "start_time": "2022-11-23T20:17:40.703Z"
      },
      {
        "duration": 68,
        "start_time": "2022-11-23T20:24:37.261Z"
      },
      {
        "duration": 31,
        "start_time": "2022-11-23T20:24:57.076Z"
      },
      {
        "duration": 32,
        "start_time": "2022-11-23T20:25:29.850Z"
      },
      {
        "duration": 32,
        "start_time": "2022-11-23T20:26:14.154Z"
      },
      {
        "duration": 27,
        "start_time": "2022-11-23T20:27:10.575Z"
      },
      {
        "duration": 262,
        "start_time": "2022-11-23T20:30:39.855Z"
      },
      {
        "duration": 143,
        "start_time": "2022-11-23T20:31:54.479Z"
      },
      {
        "duration": 288,
        "start_time": "2022-11-23T20:32:01.826Z"
      },
      {
        "duration": 74,
        "start_time": "2022-11-23T20:36:09.102Z"
      },
      {
        "duration": 281,
        "start_time": "2022-11-23T20:47:31.919Z"
      },
      {
        "duration": 271,
        "start_time": "2022-11-23T20:53:29.040Z"
      },
      {
        "duration": 44,
        "start_time": "2022-11-24T16:36:46.319Z"
      },
      {
        "duration": 384,
        "start_time": "2022-11-24T16:36:50.741Z"
      },
      {
        "duration": 3,
        "start_time": "2022-11-24T16:36:51.127Z"
      },
      {
        "duration": 719,
        "start_time": "2022-11-24T16:36:51.131Z"
      },
      {
        "duration": 2,
        "start_time": "2022-11-24T16:36:51.852Z"
      },
      {
        "duration": 16,
        "start_time": "2022-11-24T16:36:51.856Z"
      },
      {
        "duration": 60,
        "start_time": "2022-11-24T16:36:51.874Z"
      },
      {
        "duration": 59,
        "start_time": "2022-11-24T16:36:51.935Z"
      },
      {
        "duration": 83,
        "start_time": "2022-11-24T16:36:51.995Z"
      },
      {
        "duration": 27,
        "start_time": "2022-11-24T16:36:52.080Z"
      },
      {
        "duration": 70,
        "start_time": "2022-11-24T16:36:52.109Z"
      },
      {
        "duration": 3,
        "start_time": "2022-11-24T16:36:52.181Z"
      },
      {
        "duration": 15,
        "start_time": "2022-11-24T16:36:52.186Z"
      },
      {
        "duration": 4,
        "start_time": "2022-11-24T16:36:52.203Z"
      },
      {
        "duration": 8,
        "start_time": "2022-11-24T16:36:52.212Z"
      },
      {
        "duration": 56,
        "start_time": "2022-11-24T16:36:52.222Z"
      },
      {
        "duration": 5,
        "start_time": "2022-11-24T16:36:52.280Z"
      },
      {
        "duration": 320,
        "start_time": "2022-11-24T16:36:52.287Z"
      },
      {
        "duration": 689,
        "start_time": "2022-11-24T16:36:52.609Z"
      },
      {
        "duration": 4,
        "start_time": "2022-11-24T16:36:53.299Z"
      },
      {
        "duration": 534,
        "start_time": "2022-11-24T16:36:53.305Z"
      },
      {
        "duration": 391,
        "start_time": "2022-11-24T16:36:53.840Z"
      },
      {
        "duration": 328,
        "start_time": "2022-11-24T16:36:54.232Z"
      },
      {
        "duration": 387,
        "start_time": "2022-11-24T16:36:54.561Z"
      },
      {
        "duration": 11,
        "start_time": "2022-11-24T16:36:54.951Z"
      },
      {
        "duration": 446,
        "start_time": "2022-11-24T16:36:54.966Z"
      },
      {
        "duration": 10,
        "start_time": "2022-11-24T16:36:55.415Z"
      },
      {
        "duration": 332,
        "start_time": "2022-11-24T16:36:55.427Z"
      },
      {
        "duration": 680,
        "start_time": "2022-11-24T16:36:55.761Z"
      },
      {
        "duration": 11,
        "start_time": "2022-11-24T16:36:56.443Z"
      },
      {
        "duration": 4,
        "start_time": "2022-11-24T16:36:56.456Z"
      },
      {
        "duration": 59,
        "start_time": "2022-11-24T16:36:56.462Z"
      },
      {
        "duration": 322,
        "start_time": "2022-11-24T16:36:56.523Z"
      },
      {
        "duration": 293,
        "start_time": "2022-11-24T16:36:56.846Z"
      },
      {
        "duration": 360,
        "start_time": "2022-11-24T16:36:57.141Z"
      },
      {
        "duration": 293,
        "start_time": "2022-11-24T16:36:57.503Z"
      },
      {
        "duration": 267,
        "start_time": "2022-11-24T16:36:57.797Z"
      },
      {
        "duration": 200,
        "start_time": "2022-11-24T16:36:58.066Z"
      },
      {
        "duration": 220,
        "start_time": "2022-11-24T16:36:58.268Z"
      },
      {
        "duration": 4,
        "start_time": "2022-11-24T16:36:58.490Z"
      },
      {
        "duration": 475,
        "start_time": "2022-11-24T16:36:58.496Z"
      },
      {
        "duration": 492,
        "start_time": "2022-11-24T16:36:58.978Z"
      },
      {
        "duration": 444,
        "start_time": "2022-11-24T16:36:59.472Z"
      },
      {
        "duration": 9,
        "start_time": "2022-11-24T16:36:59.918Z"
      },
      {
        "duration": 10,
        "start_time": "2022-11-24T16:36:59.928Z"
      }
    ],
    "kernelspec": {
      "display_name": "Python 3 (ipykernel)",
      "language": "python",
      "name": "python3"
    },
    "language_info": {
      "codemirror_mode": {
        "name": "ipython",
        "version": 3
      },
      "file_extension": ".py",
      "mimetype": "text/x-python",
      "name": "python",
      "nbconvert_exporter": "python",
      "pygments_lexer": "ipython3",
      "version": "3.9.5"
    },
    "toc": {
      "base_numbering": 1,
      "nav_menu": {},
      "number_sections": false,
      "sideBar": true,
      "skip_h1_title": false,
      "title_cell": "Table of Contents",
      "title_sidebar": "Contents",
      "toc_cell": false,
      "toc_position": {
        "height": "608.182px",
        "left": "329px",
        "top": "111.051px",
        "width": "302.188px"
      },
      "toc_section_display": true,
      "toc_window_display": false
    },
    "colab": {
      "provenance": []
    }
  },
  "nbformat": 4,
  "nbformat_minor": 0
}