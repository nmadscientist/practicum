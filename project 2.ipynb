{
 "cells": [
  {
   "cell_type": "markdown",
   "metadata": {
    "toc": true
   },
   "source": [
    "<h1>Содержание<span class=\"tocSkip\"></span></h1>\n",
    "<div class=\"toc\"><ul class=\"toc-item\"><li><span><a href=\"#Подготовка-данных\" data-toc-modified-id=\"Подготовка-данных-1\"><span class=\"toc-item-num\">1&nbsp;&nbsp;</span>Подготовка данных</a></span><ul class=\"toc-item\"><li><span><a href=\"#Общая-информация\" data-toc-modified-id=\"Общая-информация-1.1\"><span class=\"toc-item-num\">1.1&nbsp;&nbsp;</span>Общая информация</a></span></li><li><span><a href=\"#Расчет-эффективности-обогащения\" data-toc-modified-id=\"Расчет-эффективности-обогащения-1.2\"><span class=\"toc-item-num\">1.2&nbsp;&nbsp;</span>Расчет эффективности обогащения</a></span></li><li><span><a href=\"#Предобработка-данных\" data-toc-modified-id=\"Предобработка-данных-1.3\"><span class=\"toc-item-num\">1.3&nbsp;&nbsp;</span>Предобработка данных</a></span></li></ul></li><li><span><a href=\"#Анализ-данных\" data-toc-modified-id=\"Анализ-данных-2\"><span class=\"toc-item-num\">2&nbsp;&nbsp;</span>Анализ данных</a></span><ul class=\"toc-item\"><li><span><a href=\"#Различия-концентрации-металлов-на-разных-этапах-очистки\" data-toc-modified-id=\"Различия-концентрации-металлов-на-разных-этапах-очистки-2.1\"><span class=\"toc-item-num\">2.1&nbsp;&nbsp;</span>Различия концентрации металлов на разных этапах очистки</a></span></li><li><span><a href=\"#Распределение-размеров-гранул-сырья\" data-toc-modified-id=\"Распределение-размеров-гранул-сырья-2.2\"><span class=\"toc-item-num\">2.2&nbsp;&nbsp;</span>Распределение размеров гранул сырья</a></span></li></ul></li><li><span><a href=\"#Модель\" data-toc-modified-id=\"Модель-3\"><span class=\"toc-item-num\">3&nbsp;&nbsp;</span>Модель</a></span></li><li><span><a href=\"#Вывод\" data-toc-modified-id=\"Вывод-4\"><span class=\"toc-item-num\">4&nbsp;&nbsp;</span>Вывод</a></span></li><li><span><a href=\"#Чек-лист-готовности-проекта\" data-toc-modified-id=\"Чек-лист-готовности-проекта-5\"><span class=\"toc-item-num\">5&nbsp;&nbsp;</span>Чек-лист готовности проекта</a></span></li></ul></div>"
   ]
  },
  {
   "cell_type": "markdown",
   "metadata": {},
   "source": [
    "# Восстановление золота из руды"
   ]
  },
  {
   "cell_type": "markdown",
   "metadata": {},
   "source": [
    "Подготовьте прототип модели машинного обучения для «Цифры». Компания разрабатывает решения для эффективной работы промышленных предприятий.\n",
    "\n",
    "Модель должна предсказать коэффициент восстановления золота из золотосодержащей руды. Используйте данные с параметрами добычи и очистки. \n",
    "\n",
    "Модель поможет оптимизировать производство, чтобы не запускать предприятие с убыточными характеристиками.\n",
    "\n",
    "Вам нужно:\n",
    "\n",
    "1. Подготовить данные;\n",
    "2. Провести исследовательский анализ данных;\n",
    "3. Построить и обучить модель.\n",
    "\n",
    "Чтобы выполнить проект, обращайтесь к библиотекам *pandas*, *matplotlib* и *sklearn.* Вам поможет их документация."
   ]
  },
  {
   "cell_type": "markdown",
   "metadata": {},
   "source": [
    "# Описание данных\n",
    "\n",
    "**Технологический процесс**\n",
    "\n",
    "- Rougher feed — исходное сырье\n",
    "- Rougher additions (или reagent additions) — флотационные реагенты: Xanthate, Sulphate, Depressant  \n",
    " 1. Xanthate **— ксантогенат (промотер, или активатор флотации);\n",
    " 2. Sulphate — сульфат (на данном производстве сульфид натрия);\n",
    " 3. Depressant — депрессант (силикат натрия).\n",
    "\n",
    "\n",
    "- Rougher process (англ. «грубый процесс») — флотация\n",
    "- Rougher tails — отвальные хвосты\n",
    "- Float banks — флотационная установка\n",
    "- Cleaner process — очистка\n",
    "- Rougher Au — черновой концентрат золота\n",
    "- Final Au — финальный концентрат золота\n",
    "\n",
    "**Параметры этапов**\n",
    "\n",
    "- air amount — объём воздуха\n",
    "- fluid levels — уровень жидкости\n",
    "- feed size — размер гранул сырья\n",
    "- feed rate — скорость подачи"
   ]
  },
  {
   "cell_type": "markdown",
   "metadata": {},
   "source": [
    "## Подготовка данных"
   ]
  },
  {
   "cell_type": "markdown",
   "metadata": {},
   "source": [
    "### Общая информация"
   ]
  },
  {
   "cell_type": "code",
   "execution_count": 2,
   "metadata": {},
   "outputs": [],
   "source": [
    "import pandas as pd\n",
    "import numpy as np\n",
    "\n",
    "from sklearn.model_selection import cross_validate\n",
    "from sklearn.metrics import mean_absolute_error, make_scorer, fbeta_score\n",
    "from sklearn.preprocessing import StandardScaler\n",
    "\n",
    "from sklearn.linear_model import LinearRegression\n",
    "from sklearn.ensemble import RandomForestRegressor\n",
    "from sklearn.tree import DecisionTreeRegressor\n",
    "\n",
    "import matplotlib.pyplot as plt\n",
    "import seaborn as sns\n",
    "\n",
    "\n",
    "from sklearn.model_selection import cross_val_predict, cross_val_score\n",
    "from sklearn.dummy import DummyRegressor\n",
    "\n",
    "state = np.random.RandomState(12345)\n"
   ]
  },
  {
   "cell_type": "code",
   "execution_count": 3,
   "metadata": {},
   "outputs": [],
   "source": [
    "train = pd.read_csv('/datasets/gold_recovery_train_new.csv')\n",
    "test = pd.read_csv('/datasets/gold_recovery_test_new.csv')\n",
    "df = pd.read_csv('/datasets/gold_recovery_full_new.csv')"
   ]
  },
  {
   "cell_type": "code",
   "execution_count": 4,
   "metadata": {},
   "outputs": [
    {
     "data": {
      "text/html": [
       "<div>\n",
       "<style scoped>\n",
       "    .dataframe tbody tr th:only-of-type {\n",
       "        vertical-align: middle;\n",
       "    }\n",
       "\n",
       "    .dataframe tbody tr th {\n",
       "        vertical-align: top;\n",
       "    }\n",
       "\n",
       "    .dataframe thead th {\n",
       "        text-align: right;\n",
       "    }\n",
       "</style>\n",
       "<table border=\"1\" class=\"dataframe\">\n",
       "  <thead>\n",
       "    <tr style=\"text-align: right;\">\n",
       "      <th></th>\n",
       "      <th>date</th>\n",
       "      <th>final.output.concentrate_ag</th>\n",
       "      <th>final.output.concentrate_pb</th>\n",
       "      <th>final.output.concentrate_sol</th>\n",
       "      <th>final.output.concentrate_au</th>\n",
       "      <th>final.output.recovery</th>\n",
       "      <th>final.output.tail_ag</th>\n",
       "      <th>final.output.tail_pb</th>\n",
       "      <th>final.output.tail_sol</th>\n",
       "      <th>final.output.tail_au</th>\n",
       "      <th>...</th>\n",
       "      <th>secondary_cleaner.state.floatbank4_a_air</th>\n",
       "      <th>secondary_cleaner.state.floatbank4_a_level</th>\n",
       "      <th>secondary_cleaner.state.floatbank4_b_air</th>\n",
       "      <th>secondary_cleaner.state.floatbank4_b_level</th>\n",
       "      <th>secondary_cleaner.state.floatbank5_a_air</th>\n",
       "      <th>secondary_cleaner.state.floatbank5_a_level</th>\n",
       "      <th>secondary_cleaner.state.floatbank5_b_air</th>\n",
       "      <th>secondary_cleaner.state.floatbank5_b_level</th>\n",
       "      <th>secondary_cleaner.state.floatbank6_a_air</th>\n",
       "      <th>secondary_cleaner.state.floatbank6_a_level</th>\n",
       "    </tr>\n",
       "  </thead>\n",
       "  <tbody>\n",
       "    <tr>\n",
       "      <th>0</th>\n",
       "      <td>2016-01-15 00:00:00</td>\n",
       "      <td>6.055403</td>\n",
       "      <td>9.889648</td>\n",
       "      <td>5.507324</td>\n",
       "      <td>42.192020</td>\n",
       "      <td>70.541216</td>\n",
       "      <td>10.411962</td>\n",
       "      <td>0.895447</td>\n",
       "      <td>16.904297</td>\n",
       "      <td>2.143149</td>\n",
       "      <td>...</td>\n",
       "      <td>14.016835</td>\n",
       "      <td>-502.488007</td>\n",
       "      <td>12.099931</td>\n",
       "      <td>-504.715942</td>\n",
       "      <td>9.925633</td>\n",
       "      <td>-498.310211</td>\n",
       "      <td>8.079666</td>\n",
       "      <td>-500.470978</td>\n",
       "      <td>14.151341</td>\n",
       "      <td>-605.841980</td>\n",
       "    </tr>\n",
       "    <tr>\n",
       "      <th>1</th>\n",
       "      <td>2016-01-15 01:00:00</td>\n",
       "      <td>6.029369</td>\n",
       "      <td>9.968944</td>\n",
       "      <td>5.257781</td>\n",
       "      <td>42.701629</td>\n",
       "      <td>69.266198</td>\n",
       "      <td>10.462676</td>\n",
       "      <td>0.927452</td>\n",
       "      <td>16.634514</td>\n",
       "      <td>2.224930</td>\n",
       "      <td>...</td>\n",
       "      <td>13.992281</td>\n",
       "      <td>-505.503262</td>\n",
       "      <td>11.950531</td>\n",
       "      <td>-501.331529</td>\n",
       "      <td>10.039245</td>\n",
       "      <td>-500.169983</td>\n",
       "      <td>7.984757</td>\n",
       "      <td>-500.582168</td>\n",
       "      <td>13.998353</td>\n",
       "      <td>-599.787184</td>\n",
       "    </tr>\n",
       "    <tr>\n",
       "      <th>2</th>\n",
       "      <td>2016-01-15 02:00:00</td>\n",
       "      <td>6.055926</td>\n",
       "      <td>10.213995</td>\n",
       "      <td>5.383759</td>\n",
       "      <td>42.657501</td>\n",
       "      <td>68.116445</td>\n",
       "      <td>10.507046</td>\n",
       "      <td>0.953716</td>\n",
       "      <td>16.208849</td>\n",
       "      <td>2.257889</td>\n",
       "      <td>...</td>\n",
       "      <td>14.015015</td>\n",
       "      <td>-502.520901</td>\n",
       "      <td>11.912783</td>\n",
       "      <td>-501.133383</td>\n",
       "      <td>10.070913</td>\n",
       "      <td>-500.129135</td>\n",
       "      <td>8.013877</td>\n",
       "      <td>-500.517572</td>\n",
       "      <td>14.028663</td>\n",
       "      <td>-601.427363</td>\n",
       "    </tr>\n",
       "    <tr>\n",
       "      <th>3</th>\n",
       "      <td>2016-01-15 03:00:00</td>\n",
       "      <td>6.047977</td>\n",
       "      <td>9.977019</td>\n",
       "      <td>4.858634</td>\n",
       "      <td>42.689819</td>\n",
       "      <td>68.347543</td>\n",
       "      <td>10.422762</td>\n",
       "      <td>0.883763</td>\n",
       "      <td>16.532835</td>\n",
       "      <td>2.146849</td>\n",
       "      <td>...</td>\n",
       "      <td>14.036510</td>\n",
       "      <td>-500.857308</td>\n",
       "      <td>11.999550</td>\n",
       "      <td>-501.193686</td>\n",
       "      <td>9.970366</td>\n",
       "      <td>-499.201640</td>\n",
       "      <td>7.977324</td>\n",
       "      <td>-500.255908</td>\n",
       "      <td>14.005551</td>\n",
       "      <td>-599.996129</td>\n",
       "    </tr>\n",
       "    <tr>\n",
       "      <th>4</th>\n",
       "      <td>2016-01-15 04:00:00</td>\n",
       "      <td>6.148599</td>\n",
       "      <td>10.142511</td>\n",
       "      <td>4.939416</td>\n",
       "      <td>42.774141</td>\n",
       "      <td>66.927016</td>\n",
       "      <td>10.360302</td>\n",
       "      <td>0.792826</td>\n",
       "      <td>16.525686</td>\n",
       "      <td>2.055292</td>\n",
       "      <td>...</td>\n",
       "      <td>14.027298</td>\n",
       "      <td>-499.838632</td>\n",
       "      <td>11.953070</td>\n",
       "      <td>-501.053894</td>\n",
       "      <td>9.925709</td>\n",
       "      <td>-501.686727</td>\n",
       "      <td>7.894242</td>\n",
       "      <td>-500.356035</td>\n",
       "      <td>13.996647</td>\n",
       "      <td>-601.496691</td>\n",
       "    </tr>\n",
       "  </tbody>\n",
       "</table>\n",
       "<p>5 rows × 87 columns</p>\n",
       "</div>"
      ],
      "text/plain": [
       "                  date  final.output.concentrate_ag  \\\n",
       "0  2016-01-15 00:00:00                     6.055403   \n",
       "1  2016-01-15 01:00:00                     6.029369   \n",
       "2  2016-01-15 02:00:00                     6.055926   \n",
       "3  2016-01-15 03:00:00                     6.047977   \n",
       "4  2016-01-15 04:00:00                     6.148599   \n",
       "\n",
       "   final.output.concentrate_pb  final.output.concentrate_sol  \\\n",
       "0                     9.889648                      5.507324   \n",
       "1                     9.968944                      5.257781   \n",
       "2                    10.213995                      5.383759   \n",
       "3                     9.977019                      4.858634   \n",
       "4                    10.142511                      4.939416   \n",
       "\n",
       "   final.output.concentrate_au  final.output.recovery  final.output.tail_ag  \\\n",
       "0                    42.192020              70.541216             10.411962   \n",
       "1                    42.701629              69.266198             10.462676   \n",
       "2                    42.657501              68.116445             10.507046   \n",
       "3                    42.689819              68.347543             10.422762   \n",
       "4                    42.774141              66.927016             10.360302   \n",
       "\n",
       "   final.output.tail_pb  final.output.tail_sol  final.output.tail_au  ...  \\\n",
       "0              0.895447              16.904297              2.143149  ...   \n",
       "1              0.927452              16.634514              2.224930  ...   \n",
       "2              0.953716              16.208849              2.257889  ...   \n",
       "3              0.883763              16.532835              2.146849  ...   \n",
       "4              0.792826              16.525686              2.055292  ...   \n",
       "\n",
       "   secondary_cleaner.state.floatbank4_a_air  \\\n",
       "0                                 14.016835   \n",
       "1                                 13.992281   \n",
       "2                                 14.015015   \n",
       "3                                 14.036510   \n",
       "4                                 14.027298   \n",
       "\n",
       "   secondary_cleaner.state.floatbank4_a_level  \\\n",
       "0                                 -502.488007   \n",
       "1                                 -505.503262   \n",
       "2                                 -502.520901   \n",
       "3                                 -500.857308   \n",
       "4                                 -499.838632   \n",
       "\n",
       "   secondary_cleaner.state.floatbank4_b_air  \\\n",
       "0                                 12.099931   \n",
       "1                                 11.950531   \n",
       "2                                 11.912783   \n",
       "3                                 11.999550   \n",
       "4                                 11.953070   \n",
       "\n",
       "   secondary_cleaner.state.floatbank4_b_level  \\\n",
       "0                                 -504.715942   \n",
       "1                                 -501.331529   \n",
       "2                                 -501.133383   \n",
       "3                                 -501.193686   \n",
       "4                                 -501.053894   \n",
       "\n",
       "   secondary_cleaner.state.floatbank5_a_air  \\\n",
       "0                                  9.925633   \n",
       "1                                 10.039245   \n",
       "2                                 10.070913   \n",
       "3                                  9.970366   \n",
       "4                                  9.925709   \n",
       "\n",
       "   secondary_cleaner.state.floatbank5_a_level  \\\n",
       "0                                 -498.310211   \n",
       "1                                 -500.169983   \n",
       "2                                 -500.129135   \n",
       "3                                 -499.201640   \n",
       "4                                 -501.686727   \n",
       "\n",
       "   secondary_cleaner.state.floatbank5_b_air  \\\n",
       "0                                  8.079666   \n",
       "1                                  7.984757   \n",
       "2                                  8.013877   \n",
       "3                                  7.977324   \n",
       "4                                  7.894242   \n",
       "\n",
       "   secondary_cleaner.state.floatbank5_b_level  \\\n",
       "0                                 -500.470978   \n",
       "1                                 -500.582168   \n",
       "2                                 -500.517572   \n",
       "3                                 -500.255908   \n",
       "4                                 -500.356035   \n",
       "\n",
       "   secondary_cleaner.state.floatbank6_a_air  \\\n",
       "0                                 14.151341   \n",
       "1                                 13.998353   \n",
       "2                                 14.028663   \n",
       "3                                 14.005551   \n",
       "4                                 13.996647   \n",
       "\n",
       "   secondary_cleaner.state.floatbank6_a_level  \n",
       "0                                 -605.841980  \n",
       "1                                 -599.787184  \n",
       "2                                 -601.427363  \n",
       "3                                 -599.996129  \n",
       "4                                 -601.496691  \n",
       "\n",
       "[5 rows x 87 columns]"
      ]
     },
     "execution_count": 4,
     "metadata": {},
     "output_type": "execute_result"
    }
   ],
   "source": [
    "df.head()"
   ]
  },
  {
   "cell_type": "code",
   "execution_count": 5,
   "metadata": {},
   "outputs": [
    {
     "name": "stdout",
     "output_type": "stream",
     "text": [
      "<class 'pandas.core.frame.DataFrame'>\n",
      "RangeIndex: 14149 entries, 0 to 14148\n",
      "Data columns (total 87 columns):\n",
      " #   Column                                              Non-Null Count  Dtype  \n",
      "---  ------                                              --------------  -----  \n",
      " 0   date                                                14149 non-null  object \n",
      " 1   final.output.concentrate_ag                         14148 non-null  float64\n",
      " 2   final.output.concentrate_pb                         14148 non-null  float64\n",
      " 3   final.output.concentrate_sol                        13938 non-null  float64\n",
      " 4   final.output.concentrate_au                         14149 non-null  float64\n",
      " 5   final.output.recovery                               14149 non-null  float64\n",
      " 6   final.output.tail_ag                                14149 non-null  float64\n",
      " 7   final.output.tail_pb                                14049 non-null  float64\n",
      " 8   final.output.tail_sol                               14144 non-null  float64\n",
      " 9   final.output.tail_au                                14149 non-null  float64\n",
      " 10  primary_cleaner.input.sulfate                       14129 non-null  float64\n",
      " 11  primary_cleaner.input.depressant                    14117 non-null  float64\n",
      " 12  primary_cleaner.input.feed_size                     14149 non-null  float64\n",
      " 13  primary_cleaner.input.xanthate                      14049 non-null  float64\n",
      " 14  primary_cleaner.output.concentrate_ag               14149 non-null  float64\n",
      " 15  primary_cleaner.output.concentrate_pb               14063 non-null  float64\n",
      " 16  primary_cleaner.output.concentrate_sol              13863 non-null  float64\n",
      " 17  primary_cleaner.output.concentrate_au               14149 non-null  float64\n",
      " 18  primary_cleaner.output.tail_ag                      14148 non-null  float64\n",
      " 19  primary_cleaner.output.tail_pb                      14134 non-null  float64\n",
      " 20  primary_cleaner.output.tail_sol                     14103 non-null  float64\n",
      " 21  primary_cleaner.output.tail_au                      14149 non-null  float64\n",
      " 22  primary_cleaner.state.floatbank8_a_air              14145 non-null  float64\n",
      " 23  primary_cleaner.state.floatbank8_a_level            14148 non-null  float64\n",
      " 24  primary_cleaner.state.floatbank8_b_air              14145 non-null  float64\n",
      " 25  primary_cleaner.state.floatbank8_b_level            14148 non-null  float64\n",
      " 26  primary_cleaner.state.floatbank8_c_air              14147 non-null  float64\n",
      " 27  primary_cleaner.state.floatbank8_c_level            14148 non-null  float64\n",
      " 28  primary_cleaner.state.floatbank8_d_air              14146 non-null  float64\n",
      " 29  primary_cleaner.state.floatbank8_d_level            14148 non-null  float64\n",
      " 30  rougher.calculation.sulfate_to_au_concentrate       14148 non-null  float64\n",
      " 31  rougher.calculation.floatbank10_sulfate_to_au_feed  14148 non-null  float64\n",
      " 32  rougher.calculation.floatbank11_sulfate_to_au_feed  14148 non-null  float64\n",
      " 33  rougher.calculation.au_pb_ratio                     14149 non-null  float64\n",
      " 34  rougher.input.feed_ag                               14149 non-null  float64\n",
      " 35  rougher.input.feed_pb                               14049 non-null  float64\n",
      " 36  rougher.input.feed_rate                             14141 non-null  float64\n",
      " 37  rougher.input.feed_size                             14005 non-null  float64\n",
      " 38  rougher.input.feed_sol                              14071 non-null  float64\n",
      " 39  rougher.input.feed_au                               14149 non-null  float64\n",
      " 40  rougher.input.floatbank10_sulfate                   14120 non-null  float64\n",
      " 41  rougher.input.floatbank10_xanthate                  14141 non-null  float64\n",
      " 42  rougher.input.floatbank11_sulfate                   14113 non-null  float64\n",
      " 43  rougher.input.floatbank11_xanthate                  13721 non-null  float64\n",
      " 44  rougher.output.concentrate_ag                       14149 non-null  float64\n",
      " 45  rougher.output.concentrate_pb                       14149 non-null  float64\n",
      " 46  rougher.output.concentrate_sol                      14127 non-null  float64\n",
      " 47  rougher.output.concentrate_au                       14149 non-null  float64\n",
      " 48  rougher.output.recovery                             14149 non-null  float64\n",
      " 49  rougher.output.tail_ag                              14148 non-null  float64\n",
      " 50  rougher.output.tail_pb                              14149 non-null  float64\n",
      " 51  rougher.output.tail_sol                             14149 non-null  float64\n",
      " 52  rougher.output.tail_au                              14149 non-null  float64\n",
      " 53  rougher.state.floatbank10_a_air                     14148 non-null  float64\n",
      " 54  rougher.state.floatbank10_a_level                   14148 non-null  float64\n",
      " 55  rougher.state.floatbank10_b_air                     14148 non-null  float64\n",
      " 56  rougher.state.floatbank10_b_level                   14148 non-null  float64\n",
      " 57  rougher.state.floatbank10_c_air                     14148 non-null  float64\n",
      " 58  rougher.state.floatbank10_c_level                   14148 non-null  float64\n",
      " 59  rougher.state.floatbank10_d_air                     14149 non-null  float64\n",
      " 60  rougher.state.floatbank10_d_level                   14149 non-null  float64\n",
      " 61  rougher.state.floatbank10_e_air                     13713 non-null  float64\n",
      " 62  rougher.state.floatbank10_e_level                   14149 non-null  float64\n",
      " 63  rougher.state.floatbank10_f_air                     14149 non-null  float64\n",
      " 64  rougher.state.floatbank10_f_level                   14149 non-null  float64\n",
      " 65  secondary_cleaner.output.tail_ag                    14147 non-null  float64\n",
      " 66  secondary_cleaner.output.tail_pb                    14139 non-null  float64\n",
      " 67  secondary_cleaner.output.tail_sol                   12544 non-null  float64\n",
      " 68  secondary_cleaner.output.tail_au                    14149 non-null  float64\n",
      " 69  secondary_cleaner.state.floatbank2_a_air            13932 non-null  float64\n",
      " 70  secondary_cleaner.state.floatbank2_a_level          14148 non-null  float64\n",
      " 71  secondary_cleaner.state.floatbank2_b_air            14128 non-null  float64\n",
      " 72  secondary_cleaner.state.floatbank2_b_level          14148 non-null  float64\n",
      " 73  secondary_cleaner.state.floatbank3_a_air            14145 non-null  float64\n",
      " 74  secondary_cleaner.state.floatbank3_a_level          14148 non-null  float64\n",
      " 75  secondary_cleaner.state.floatbank3_b_air            14148 non-null  float64\n",
      " 76  secondary_cleaner.state.floatbank3_b_level          14148 non-null  float64\n",
      " 77  secondary_cleaner.state.floatbank4_a_air            14143 non-null  float64\n",
      " 78  secondary_cleaner.state.floatbank4_a_level          14148 non-null  float64\n",
      " 79  secondary_cleaner.state.floatbank4_b_air            14148 non-null  float64\n",
      " 80  secondary_cleaner.state.floatbank4_b_level          14148 non-null  float64\n",
      " 81  secondary_cleaner.state.floatbank5_a_air            14148 non-null  float64\n",
      " 82  secondary_cleaner.state.floatbank5_a_level          14148 non-null  float64\n",
      " 83  secondary_cleaner.state.floatbank5_b_air            14148 non-null  float64\n",
      " 84  secondary_cleaner.state.floatbank5_b_level          14148 non-null  float64\n",
      " 85  secondary_cleaner.state.floatbank6_a_air            14147 non-null  float64\n",
      " 86  secondary_cleaner.state.floatbank6_a_level          14148 non-null  float64\n",
      "dtypes: float64(86), object(1)\n",
      "memory usage: 9.4+ MB\n",
      "\n",
      "Количество дубликатов: 0\n"
     ]
    }
   ],
   "source": [
    "train.info()\n",
    "print('\\nКоличество дубликатов:', train.duplicated().sum())"
   ]
  },
  {
   "cell_type": "code",
   "execution_count": 6,
   "metadata": {},
   "outputs": [
    {
     "name": "stdout",
     "output_type": "stream",
     "text": [
      "<class 'pandas.core.frame.DataFrame'>\n",
      "RangeIndex: 5290 entries, 0 to 5289\n",
      "Data columns (total 53 columns):\n",
      " #   Column                                      Non-Null Count  Dtype  \n",
      "---  ------                                      --------------  -----  \n",
      " 0   date                                        5290 non-null   object \n",
      " 1   primary_cleaner.input.sulfate               5286 non-null   float64\n",
      " 2   primary_cleaner.input.depressant            5285 non-null   float64\n",
      " 3   primary_cleaner.input.feed_size             5290 non-null   float64\n",
      " 4   primary_cleaner.input.xanthate              5286 non-null   float64\n",
      " 5   primary_cleaner.state.floatbank8_a_air      5290 non-null   float64\n",
      " 6   primary_cleaner.state.floatbank8_a_level    5290 non-null   float64\n",
      " 7   primary_cleaner.state.floatbank8_b_air      5290 non-null   float64\n",
      " 8   primary_cleaner.state.floatbank8_b_level    5290 non-null   float64\n",
      " 9   primary_cleaner.state.floatbank8_c_air      5290 non-null   float64\n",
      " 10  primary_cleaner.state.floatbank8_c_level    5290 non-null   float64\n",
      " 11  primary_cleaner.state.floatbank8_d_air      5290 non-null   float64\n",
      " 12  primary_cleaner.state.floatbank8_d_level    5290 non-null   float64\n",
      " 13  rougher.input.feed_ag                       5290 non-null   float64\n",
      " 14  rougher.input.feed_pb                       5290 non-null   float64\n",
      " 15  rougher.input.feed_rate                     5287 non-null   float64\n",
      " 16  rougher.input.feed_size                     5289 non-null   float64\n",
      " 17  rougher.input.feed_sol                      5269 non-null   float64\n",
      " 18  rougher.input.feed_au                       5290 non-null   float64\n",
      " 19  rougher.input.floatbank10_sulfate           5285 non-null   float64\n",
      " 20  rougher.input.floatbank10_xanthate          5290 non-null   float64\n",
      " 21  rougher.input.floatbank11_sulfate           5282 non-null   float64\n",
      " 22  rougher.input.floatbank11_xanthate          5265 non-null   float64\n",
      " 23  rougher.state.floatbank10_a_air             5290 non-null   float64\n",
      " 24  rougher.state.floatbank10_a_level           5290 non-null   float64\n",
      " 25  rougher.state.floatbank10_b_air             5290 non-null   float64\n",
      " 26  rougher.state.floatbank10_b_level           5290 non-null   float64\n",
      " 27  rougher.state.floatbank10_c_air             5290 non-null   float64\n",
      " 28  rougher.state.floatbank10_c_level           5290 non-null   float64\n",
      " 29  rougher.state.floatbank10_d_air             5290 non-null   float64\n",
      " 30  rougher.state.floatbank10_d_level           5290 non-null   float64\n",
      " 31  rougher.state.floatbank10_e_air             5290 non-null   float64\n",
      " 32  rougher.state.floatbank10_e_level           5290 non-null   float64\n",
      " 33  rougher.state.floatbank10_f_air             5290 non-null   float64\n",
      " 34  rougher.state.floatbank10_f_level           5290 non-null   float64\n",
      " 35  secondary_cleaner.state.floatbank2_a_air    5287 non-null   float64\n",
      " 36  secondary_cleaner.state.floatbank2_a_level  5290 non-null   float64\n",
      " 37  secondary_cleaner.state.floatbank2_b_air    5288 non-null   float64\n",
      " 38  secondary_cleaner.state.floatbank2_b_level  5290 non-null   float64\n",
      " 39  secondary_cleaner.state.floatbank3_a_air    5281 non-null   float64\n",
      " 40  secondary_cleaner.state.floatbank3_a_level  5290 non-null   float64\n",
      " 41  secondary_cleaner.state.floatbank3_b_air    5290 non-null   float64\n",
      " 42  secondary_cleaner.state.floatbank3_b_level  5290 non-null   float64\n",
      " 43  secondary_cleaner.state.floatbank4_a_air    5290 non-null   float64\n",
      " 44  secondary_cleaner.state.floatbank4_a_level  5290 non-null   float64\n",
      " 45  secondary_cleaner.state.floatbank4_b_air    5290 non-null   float64\n",
      " 46  secondary_cleaner.state.floatbank4_b_level  5290 non-null   float64\n",
      " 47  secondary_cleaner.state.floatbank5_a_air    5290 non-null   float64\n",
      " 48  secondary_cleaner.state.floatbank5_a_level  5290 non-null   float64\n",
      " 49  secondary_cleaner.state.floatbank5_b_air    5290 non-null   float64\n",
      " 50  secondary_cleaner.state.floatbank5_b_level  5290 non-null   float64\n",
      " 51  secondary_cleaner.state.floatbank6_a_air    5290 non-null   float64\n",
      " 52  secondary_cleaner.state.floatbank6_a_level  5290 non-null   float64\n",
      "dtypes: float64(52), object(1)\n",
      "memory usage: 2.1+ MB\n",
      "\n",
      "Количество дубликатов: 0\n"
     ]
    }
   ],
   "source": [
    "test.info()\n",
    "print('\\nКоличество дубликатов:', test.duplicated().sum())"
   ]
  },
  {
   "cell_type": "code",
   "execution_count": 7,
   "metadata": {},
   "outputs": [
    {
     "name": "stdout",
     "output_type": "stream",
     "text": [
      "<class 'pandas.core.frame.DataFrame'>\n",
      "RangeIndex: 19439 entries, 0 to 19438\n",
      "Data columns (total 87 columns):\n",
      " #   Column                                              Non-Null Count  Dtype  \n",
      "---  ------                                              --------------  -----  \n",
      " 0   date                                                19439 non-null  object \n",
      " 1   final.output.concentrate_ag                         19438 non-null  float64\n",
      " 2   final.output.concentrate_pb                         19438 non-null  float64\n",
      " 3   final.output.concentrate_sol                        19228 non-null  float64\n",
      " 4   final.output.concentrate_au                         19439 non-null  float64\n",
      " 5   final.output.recovery                               19439 non-null  float64\n",
      " 6   final.output.tail_ag                                19438 non-null  float64\n",
      " 7   final.output.tail_pb                                19338 non-null  float64\n",
      " 8   final.output.tail_sol                               19433 non-null  float64\n",
      " 9   final.output.tail_au                                19439 non-null  float64\n",
      " 10  primary_cleaner.input.sulfate                       19415 non-null  float64\n",
      " 11  primary_cleaner.input.depressant                    19402 non-null  float64\n",
      " 12  primary_cleaner.input.feed_size                     19439 non-null  float64\n",
      " 13  primary_cleaner.input.xanthate                      19335 non-null  float64\n",
      " 14  primary_cleaner.output.concentrate_ag               19439 non-null  float64\n",
      " 15  primary_cleaner.output.concentrate_pb               19323 non-null  float64\n",
      " 16  primary_cleaner.output.concentrate_sol              19069 non-null  float64\n",
      " 17  primary_cleaner.output.concentrate_au               19439 non-null  float64\n",
      " 18  primary_cleaner.output.tail_ag                      19435 non-null  float64\n",
      " 19  primary_cleaner.output.tail_pb                      19418 non-null  float64\n",
      " 20  primary_cleaner.output.tail_sol                     19377 non-null  float64\n",
      " 21  primary_cleaner.output.tail_au                      19439 non-null  float64\n",
      " 22  primary_cleaner.state.floatbank8_a_air              19435 non-null  float64\n",
      " 23  primary_cleaner.state.floatbank8_a_level            19438 non-null  float64\n",
      " 24  primary_cleaner.state.floatbank8_b_air              19435 non-null  float64\n",
      " 25  primary_cleaner.state.floatbank8_b_level            19438 non-null  float64\n",
      " 26  primary_cleaner.state.floatbank8_c_air              19437 non-null  float64\n",
      " 27  primary_cleaner.state.floatbank8_c_level            19438 non-null  float64\n",
      " 28  primary_cleaner.state.floatbank8_d_air              19436 non-null  float64\n",
      " 29  primary_cleaner.state.floatbank8_d_level            19438 non-null  float64\n",
      " 30  rougher.calculation.sulfate_to_au_concentrate       19437 non-null  float64\n",
      " 31  rougher.calculation.floatbank10_sulfate_to_au_feed  19437 non-null  float64\n",
      " 32  rougher.calculation.floatbank11_sulfate_to_au_feed  19437 non-null  float64\n",
      " 33  rougher.calculation.au_pb_ratio                     19439 non-null  float64\n",
      " 34  rougher.input.feed_ag                               19439 non-null  float64\n",
      " 35  rougher.input.feed_pb                               19339 non-null  float64\n",
      " 36  rougher.input.feed_rate                             19428 non-null  float64\n",
      " 37  rougher.input.feed_size                             19294 non-null  float64\n",
      " 38  rougher.input.feed_sol                              19340 non-null  float64\n",
      " 39  rougher.input.feed_au                               19439 non-null  float64\n",
      " 40  rougher.input.floatbank10_sulfate                   19405 non-null  float64\n",
      " 41  rougher.input.floatbank10_xanthate                  19431 non-null  float64\n",
      " 42  rougher.input.floatbank11_sulfate                   19395 non-null  float64\n",
      " 43  rougher.input.floatbank11_xanthate                  18986 non-null  float64\n",
      " 44  rougher.output.concentrate_ag                       19439 non-null  float64\n",
      " 45  rougher.output.concentrate_pb                       19439 non-null  float64\n",
      " 46  rougher.output.concentrate_sol                      19416 non-null  float64\n",
      " 47  rougher.output.concentrate_au                       19439 non-null  float64\n",
      " 48  rougher.output.recovery                             19439 non-null  float64\n",
      " 49  rougher.output.tail_ag                              19438 non-null  float64\n",
      " 50  rougher.output.tail_pb                              19439 non-null  float64\n",
      " 51  rougher.output.tail_sol                             19439 non-null  float64\n",
      " 52  rougher.output.tail_au                              19439 non-null  float64\n",
      " 53  rougher.state.floatbank10_a_air                     19438 non-null  float64\n",
      " 54  rougher.state.floatbank10_a_level                   19438 non-null  float64\n",
      " 55  rougher.state.floatbank10_b_air                     19438 non-null  float64\n",
      " 56  rougher.state.floatbank10_b_level                   19438 non-null  float64\n",
      " 57  rougher.state.floatbank10_c_air                     19438 non-null  float64\n",
      " 58  rougher.state.floatbank10_c_level                   19438 non-null  float64\n",
      " 59  rougher.state.floatbank10_d_air                     19439 non-null  float64\n",
      " 60  rougher.state.floatbank10_d_level                   19439 non-null  float64\n",
      " 61  rougher.state.floatbank10_e_air                     19003 non-null  float64\n",
      " 62  rougher.state.floatbank10_e_level                   19439 non-null  float64\n",
      " 63  rougher.state.floatbank10_f_air                     19439 non-null  float64\n",
      " 64  rougher.state.floatbank10_f_level                   19439 non-null  float64\n",
      " 65  secondary_cleaner.output.tail_ag                    19437 non-null  float64\n",
      " 66  secondary_cleaner.output.tail_pb                    19427 non-null  float64\n",
      " 67  secondary_cleaner.output.tail_sol                   17691 non-null  float64\n",
      " 68  secondary_cleaner.output.tail_au                    19439 non-null  float64\n",
      " 69  secondary_cleaner.state.floatbank2_a_air            19219 non-null  float64\n",
      " 70  secondary_cleaner.state.floatbank2_a_level          19438 non-null  float64\n",
      " 71  secondary_cleaner.state.floatbank2_b_air            19416 non-null  float64\n",
      " 72  secondary_cleaner.state.floatbank2_b_level          19438 non-null  float64\n",
      " 73  secondary_cleaner.state.floatbank3_a_air            19426 non-null  float64\n",
      " 74  secondary_cleaner.state.floatbank3_a_level          19438 non-null  float64\n",
      " 75  secondary_cleaner.state.floatbank3_b_air            19438 non-null  float64\n",
      " 76  secondary_cleaner.state.floatbank3_b_level          19438 non-null  float64\n",
      " 77  secondary_cleaner.state.floatbank4_a_air            19433 non-null  float64\n",
      " 78  secondary_cleaner.state.floatbank4_a_level          19438 non-null  float64\n",
      " 79  secondary_cleaner.state.floatbank4_b_air            19438 non-null  float64\n",
      " 80  secondary_cleaner.state.floatbank4_b_level          19438 non-null  float64\n",
      " 81  secondary_cleaner.state.floatbank5_a_air            19438 non-null  float64\n",
      " 82  secondary_cleaner.state.floatbank5_a_level          19438 non-null  float64\n",
      " 83  secondary_cleaner.state.floatbank5_b_air            19438 non-null  float64\n",
      " 84  secondary_cleaner.state.floatbank5_b_level          19438 non-null  float64\n",
      " 85  secondary_cleaner.state.floatbank6_a_air            19437 non-null  float64\n",
      " 86  secondary_cleaner.state.floatbank6_a_level          19438 non-null  float64\n",
      "dtypes: float64(86), object(1)\n",
      "memory usage: 12.9+ MB\n",
      "\n",
      "Количество дубликатов: 0\n"
     ]
    }
   ],
   "source": [
    "df.info()\n",
    "print('\\nКоличество дубликатов:', df.duplicated().sum())"
   ]
  },
  {
   "cell_type": "code",
   "execution_count": 8,
   "metadata": {},
   "outputs": [
    {
     "data": {
      "text/html": [
       "<div>\n",
       "<style scoped>\n",
       "    .dataframe tbody tr th:only-of-type {\n",
       "        vertical-align: middle;\n",
       "    }\n",
       "\n",
       "    .dataframe tbody tr th {\n",
       "        vertical-align: top;\n",
       "    }\n",
       "\n",
       "    .dataframe thead th {\n",
       "        text-align: right;\n",
       "    }\n",
       "</style>\n",
       "<table border=\"1\" class=\"dataframe\">\n",
       "  <thead>\n",
       "    <tr style=\"text-align: right;\">\n",
       "      <th></th>\n",
       "      <th>final.output.concentrate_ag</th>\n",
       "      <th>final.output.concentrate_pb</th>\n",
       "      <th>final.output.concentrate_sol</th>\n",
       "      <th>final.output.concentrate_au</th>\n",
       "      <th>final.output.recovery</th>\n",
       "      <th>final.output.tail_ag</th>\n",
       "      <th>final.output.tail_pb</th>\n",
       "      <th>final.output.tail_sol</th>\n",
       "      <th>final.output.tail_au</th>\n",
       "      <th>primary_cleaner.input.sulfate</th>\n",
       "      <th>...</th>\n",
       "      <th>secondary_cleaner.state.floatbank4_a_air</th>\n",
       "      <th>secondary_cleaner.state.floatbank4_a_level</th>\n",
       "      <th>secondary_cleaner.state.floatbank4_b_air</th>\n",
       "      <th>secondary_cleaner.state.floatbank4_b_level</th>\n",
       "      <th>secondary_cleaner.state.floatbank5_a_air</th>\n",
       "      <th>secondary_cleaner.state.floatbank5_a_level</th>\n",
       "      <th>secondary_cleaner.state.floatbank5_b_air</th>\n",
       "      <th>secondary_cleaner.state.floatbank5_b_level</th>\n",
       "      <th>secondary_cleaner.state.floatbank6_a_air</th>\n",
       "      <th>secondary_cleaner.state.floatbank6_a_level</th>\n",
       "    </tr>\n",
       "  </thead>\n",
       "  <tbody>\n",
       "    <tr>\n",
       "      <th>count</th>\n",
       "      <td>14148.000000</td>\n",
       "      <td>14148.000000</td>\n",
       "      <td>13938.000000</td>\n",
       "      <td>14149.000000</td>\n",
       "      <td>14149.000000</td>\n",
       "      <td>14149.000000</td>\n",
       "      <td>14049.000000</td>\n",
       "      <td>14144.000000</td>\n",
       "      <td>14149.000000</td>\n",
       "      <td>14129.000000</td>\n",
       "      <td>...</td>\n",
       "      <td>14143.000000</td>\n",
       "      <td>14148.000000</td>\n",
       "      <td>14148.000000</td>\n",
       "      <td>14148.000000</td>\n",
       "      <td>14148.000000</td>\n",
       "      <td>14148.000000</td>\n",
       "      <td>14148.000000</td>\n",
       "      <td>14148.000000</td>\n",
       "      <td>14147.000000</td>\n",
       "      <td>14148.000000</td>\n",
       "    </tr>\n",
       "    <tr>\n",
       "      <th>mean</th>\n",
       "      <td>5.142034</td>\n",
       "      <td>10.132960</td>\n",
       "      <td>9.202849</td>\n",
       "      <td>44.003792</td>\n",
       "      <td>66.518832</td>\n",
       "      <td>9.607035</td>\n",
       "      <td>2.597298</td>\n",
       "      <td>10.512122</td>\n",
       "      <td>2.918421</td>\n",
       "      <td>133.320659</td>\n",
       "      <td>...</td>\n",
       "      <td>19.985454</td>\n",
       "      <td>-478.696836</td>\n",
       "      <td>15.487065</td>\n",
       "      <td>-460.229416</td>\n",
       "      <td>16.775136</td>\n",
       "      <td>-483.956022</td>\n",
       "      <td>13.064590</td>\n",
       "      <td>-483.966564</td>\n",
       "      <td>19.577539</td>\n",
       "      <td>-506.798480</td>\n",
       "    </tr>\n",
       "    <tr>\n",
       "      <th>std</th>\n",
       "      <td>1.369586</td>\n",
       "      <td>1.654930</td>\n",
       "      <td>2.790516</td>\n",
       "      <td>4.905261</td>\n",
       "      <td>10.295402</td>\n",
       "      <td>2.319069</td>\n",
       "      <td>0.971843</td>\n",
       "      <td>3.003617</td>\n",
       "      <td>0.903712</td>\n",
       "      <td>39.431659</td>\n",
       "      <td>...</td>\n",
       "      <td>5.657723</td>\n",
       "      <td>50.736021</td>\n",
       "      <td>5.255655</td>\n",
       "      <td>58.843586</td>\n",
       "      <td>5.831906</td>\n",
       "      <td>37.892788</td>\n",
       "      <td>5.765617</td>\n",
       "      <td>39.207913</td>\n",
       "      <td>5.764417</td>\n",
       "      <td>37.079249</td>\n",
       "    </tr>\n",
       "    <tr>\n",
       "      <th>min</th>\n",
       "      <td>0.000000</td>\n",
       "      <td>0.000000</td>\n",
       "      <td>0.000000</td>\n",
       "      <td>0.000000</td>\n",
       "      <td>0.000000</td>\n",
       "      <td>0.000000</td>\n",
       "      <td>0.000000</td>\n",
       "      <td>0.000000</td>\n",
       "      <td>0.000000</td>\n",
       "      <td>0.003112</td>\n",
       "      <td>...</td>\n",
       "      <td>0.000000</td>\n",
       "      <td>-799.709069</td>\n",
       "      <td>0.000000</td>\n",
       "      <td>-799.889113</td>\n",
       "      <td>-0.372054</td>\n",
       "      <td>-797.142475</td>\n",
       "      <td>0.646208</td>\n",
       "      <td>-800.006180</td>\n",
       "      <td>0.195324</td>\n",
       "      <td>-809.398668</td>\n",
       "    </tr>\n",
       "    <tr>\n",
       "      <th>25%</th>\n",
       "      <td>4.211620</td>\n",
       "      <td>9.297355</td>\n",
       "      <td>7.484645</td>\n",
       "      <td>43.276111</td>\n",
       "      <td>62.545817</td>\n",
       "      <td>7.997429</td>\n",
       "      <td>1.905973</td>\n",
       "      <td>8.811324</td>\n",
       "      <td>2.368607</td>\n",
       "      <td>107.006651</td>\n",
       "      <td>...</td>\n",
       "      <td>14.990775</td>\n",
       "      <td>-500.628656</td>\n",
       "      <td>11.894558</td>\n",
       "      <td>-500.149000</td>\n",
       "      <td>11.083980</td>\n",
       "      <td>-500.363177</td>\n",
       "      <td>8.994405</td>\n",
       "      <td>-500.105994</td>\n",
       "      <td>14.989304</td>\n",
       "      <td>-500.745104</td>\n",
       "    </tr>\n",
       "    <tr>\n",
       "      <th>50%</th>\n",
       "      <td>4.994652</td>\n",
       "      <td>10.297144</td>\n",
       "      <td>8.845462</td>\n",
       "      <td>44.872436</td>\n",
       "      <td>67.432775</td>\n",
       "      <td>9.480270</td>\n",
       "      <td>2.592022</td>\n",
       "      <td>10.514621</td>\n",
       "      <td>2.851025</td>\n",
       "      <td>133.018328</td>\n",
       "      <td>...</td>\n",
       "      <td>20.001789</td>\n",
       "      <td>-499.681450</td>\n",
       "      <td>14.975536</td>\n",
       "      <td>-499.388738</td>\n",
       "      <td>17.932223</td>\n",
       "      <td>-499.702452</td>\n",
       "      <td>11.997547</td>\n",
       "      <td>-499.914556</td>\n",
       "      <td>19.984175</td>\n",
       "      <td>-500.061431</td>\n",
       "    </tr>\n",
       "    <tr>\n",
       "      <th>75%</th>\n",
       "      <td>5.859540</td>\n",
       "      <td>11.170603</td>\n",
       "      <td>10.487508</td>\n",
       "      <td>46.166425</td>\n",
       "      <td>72.346428</td>\n",
       "      <td>11.003707</td>\n",
       "      <td>3.241723</td>\n",
       "      <td>11.933009</td>\n",
       "      <td>3.434764</td>\n",
       "      <td>159.825396</td>\n",
       "      <td>...</td>\n",
       "      <td>24.990826</td>\n",
       "      <td>-477.472413</td>\n",
       "      <td>20.059375</td>\n",
       "      <td>-400.039008</td>\n",
       "      <td>21.346550</td>\n",
       "      <td>-487.712108</td>\n",
       "      <td>17.982903</td>\n",
       "      <td>-453.186936</td>\n",
       "      <td>24.991623</td>\n",
       "      <td>-499.536466</td>\n",
       "    </tr>\n",
       "    <tr>\n",
       "      <th>max</th>\n",
       "      <td>16.001945</td>\n",
       "      <td>17.031899</td>\n",
       "      <td>18.124851</td>\n",
       "      <td>52.756638</td>\n",
       "      <td>100.000000</td>\n",
       "      <td>19.552149</td>\n",
       "      <td>5.639565</td>\n",
       "      <td>22.317730</td>\n",
       "      <td>8.197408</td>\n",
       "      <td>250.127834</td>\n",
       "      <td>...</td>\n",
       "      <td>30.115735</td>\n",
       "      <td>-245.239184</td>\n",
       "      <td>24.007913</td>\n",
       "      <td>-145.071088</td>\n",
       "      <td>43.709931</td>\n",
       "      <td>-275.073125</td>\n",
       "      <td>27.926001</td>\n",
       "      <td>-157.396071</td>\n",
       "      <td>32.188906</td>\n",
       "      <td>-104.427459</td>\n",
       "    </tr>\n",
       "  </tbody>\n",
       "</table>\n",
       "<p>8 rows × 86 columns</p>\n",
       "</div>"
      ],
      "text/plain": [
       "       final.output.concentrate_ag  final.output.concentrate_pb  \\\n",
       "count                 14148.000000                 14148.000000   \n",
       "mean                      5.142034                    10.132960   \n",
       "std                       1.369586                     1.654930   \n",
       "min                       0.000000                     0.000000   \n",
       "25%                       4.211620                     9.297355   \n",
       "50%                       4.994652                    10.297144   \n",
       "75%                       5.859540                    11.170603   \n",
       "max                      16.001945                    17.031899   \n",
       "\n",
       "       final.output.concentrate_sol  final.output.concentrate_au  \\\n",
       "count                  13938.000000                 14149.000000   \n",
       "mean                       9.202849                    44.003792   \n",
       "std                        2.790516                     4.905261   \n",
       "min                        0.000000                     0.000000   \n",
       "25%                        7.484645                    43.276111   \n",
       "50%                        8.845462                    44.872436   \n",
       "75%                       10.487508                    46.166425   \n",
       "max                       18.124851                    52.756638   \n",
       "\n",
       "       final.output.recovery  final.output.tail_ag  final.output.tail_pb  \\\n",
       "count           14149.000000          14149.000000          14049.000000   \n",
       "mean               66.518832              9.607035              2.597298   \n",
       "std                10.295402              2.319069              0.971843   \n",
       "min                 0.000000              0.000000              0.000000   \n",
       "25%                62.545817              7.997429              1.905973   \n",
       "50%                67.432775              9.480270              2.592022   \n",
       "75%                72.346428             11.003707              3.241723   \n",
       "max               100.000000             19.552149              5.639565   \n",
       "\n",
       "       final.output.tail_sol  final.output.tail_au  \\\n",
       "count           14144.000000          14149.000000   \n",
       "mean               10.512122              2.918421   \n",
       "std                 3.003617              0.903712   \n",
       "min                 0.000000              0.000000   \n",
       "25%                 8.811324              2.368607   \n",
       "50%                10.514621              2.851025   \n",
       "75%                11.933009              3.434764   \n",
       "max                22.317730              8.197408   \n",
       "\n",
       "       primary_cleaner.input.sulfate  ...  \\\n",
       "count                   14129.000000  ...   \n",
       "mean                      133.320659  ...   \n",
       "std                        39.431659  ...   \n",
       "min                         0.003112  ...   \n",
       "25%                       107.006651  ...   \n",
       "50%                       133.018328  ...   \n",
       "75%                       159.825396  ...   \n",
       "max                       250.127834  ...   \n",
       "\n",
       "       secondary_cleaner.state.floatbank4_a_air  \\\n",
       "count                              14143.000000   \n",
       "mean                                  19.985454   \n",
       "std                                    5.657723   \n",
       "min                                    0.000000   \n",
       "25%                                   14.990775   \n",
       "50%                                   20.001789   \n",
       "75%                                   24.990826   \n",
       "max                                   30.115735   \n",
       "\n",
       "       secondary_cleaner.state.floatbank4_a_level  \\\n",
       "count                                14148.000000   \n",
       "mean                                  -478.696836   \n",
       "std                                     50.736021   \n",
       "min                                   -799.709069   \n",
       "25%                                   -500.628656   \n",
       "50%                                   -499.681450   \n",
       "75%                                   -477.472413   \n",
       "max                                   -245.239184   \n",
       "\n",
       "       secondary_cleaner.state.floatbank4_b_air  \\\n",
       "count                              14148.000000   \n",
       "mean                                  15.487065   \n",
       "std                                    5.255655   \n",
       "min                                    0.000000   \n",
       "25%                                   11.894558   \n",
       "50%                                   14.975536   \n",
       "75%                                   20.059375   \n",
       "max                                   24.007913   \n",
       "\n",
       "       secondary_cleaner.state.floatbank4_b_level  \\\n",
       "count                                14148.000000   \n",
       "mean                                  -460.229416   \n",
       "std                                     58.843586   \n",
       "min                                   -799.889113   \n",
       "25%                                   -500.149000   \n",
       "50%                                   -499.388738   \n",
       "75%                                   -400.039008   \n",
       "max                                   -145.071088   \n",
       "\n",
       "       secondary_cleaner.state.floatbank5_a_air  \\\n",
       "count                              14148.000000   \n",
       "mean                                  16.775136   \n",
       "std                                    5.831906   \n",
       "min                                   -0.372054   \n",
       "25%                                   11.083980   \n",
       "50%                                   17.932223   \n",
       "75%                                   21.346550   \n",
       "max                                   43.709931   \n",
       "\n",
       "       secondary_cleaner.state.floatbank5_a_level  \\\n",
       "count                                14148.000000   \n",
       "mean                                  -483.956022   \n",
       "std                                     37.892788   \n",
       "min                                   -797.142475   \n",
       "25%                                   -500.363177   \n",
       "50%                                   -499.702452   \n",
       "75%                                   -487.712108   \n",
       "max                                   -275.073125   \n",
       "\n",
       "       secondary_cleaner.state.floatbank5_b_air  \\\n",
       "count                              14148.000000   \n",
       "mean                                  13.064590   \n",
       "std                                    5.765617   \n",
       "min                                    0.646208   \n",
       "25%                                    8.994405   \n",
       "50%                                   11.997547   \n",
       "75%                                   17.982903   \n",
       "max                                   27.926001   \n",
       "\n",
       "       secondary_cleaner.state.floatbank5_b_level  \\\n",
       "count                                14148.000000   \n",
       "mean                                  -483.966564   \n",
       "std                                     39.207913   \n",
       "min                                   -800.006180   \n",
       "25%                                   -500.105994   \n",
       "50%                                   -499.914556   \n",
       "75%                                   -453.186936   \n",
       "max                                   -157.396071   \n",
       "\n",
       "       secondary_cleaner.state.floatbank6_a_air  \\\n",
       "count                              14147.000000   \n",
       "mean                                  19.577539   \n",
       "std                                    5.764417   \n",
       "min                                    0.195324   \n",
       "25%                                   14.989304   \n",
       "50%                                   19.984175   \n",
       "75%                                   24.991623   \n",
       "max                                   32.188906   \n",
       "\n",
       "       secondary_cleaner.state.floatbank6_a_level  \n",
       "count                                14148.000000  \n",
       "mean                                  -506.798480  \n",
       "std                                     37.079249  \n",
       "min                                   -809.398668  \n",
       "25%                                   -500.745104  \n",
       "50%                                   -500.061431  \n",
       "75%                                   -499.536466  \n",
       "max                                   -104.427459  \n",
       "\n",
       "[8 rows x 86 columns]"
      ]
     },
     "execution_count": 8,
     "metadata": {},
     "output_type": "execute_result"
    }
   ],
   "source": [
    "train.describe()"
   ]
  },
  {
   "cell_type": "code",
   "execution_count": 9,
   "metadata": {},
   "outputs": [
    {
     "data": {
      "text/html": [
       "<div>\n",
       "<style scoped>\n",
       "    .dataframe tbody tr th:only-of-type {\n",
       "        vertical-align: middle;\n",
       "    }\n",
       "\n",
       "    .dataframe tbody tr th {\n",
       "        vertical-align: top;\n",
       "    }\n",
       "\n",
       "    .dataframe thead th {\n",
       "        text-align: right;\n",
       "    }\n",
       "</style>\n",
       "<table border=\"1\" class=\"dataframe\">\n",
       "  <thead>\n",
       "    <tr style=\"text-align: right;\">\n",
       "      <th></th>\n",
       "      <th>primary_cleaner.input.sulfate</th>\n",
       "      <th>primary_cleaner.input.depressant</th>\n",
       "      <th>primary_cleaner.input.feed_size</th>\n",
       "      <th>primary_cleaner.input.xanthate</th>\n",
       "      <th>primary_cleaner.state.floatbank8_a_air</th>\n",
       "      <th>primary_cleaner.state.floatbank8_a_level</th>\n",
       "      <th>primary_cleaner.state.floatbank8_b_air</th>\n",
       "      <th>primary_cleaner.state.floatbank8_b_level</th>\n",
       "      <th>primary_cleaner.state.floatbank8_c_air</th>\n",
       "      <th>primary_cleaner.state.floatbank8_c_level</th>\n",
       "      <th>...</th>\n",
       "      <th>secondary_cleaner.state.floatbank4_a_air</th>\n",
       "      <th>secondary_cleaner.state.floatbank4_a_level</th>\n",
       "      <th>secondary_cleaner.state.floatbank4_b_air</th>\n",
       "      <th>secondary_cleaner.state.floatbank4_b_level</th>\n",
       "      <th>secondary_cleaner.state.floatbank5_a_air</th>\n",
       "      <th>secondary_cleaner.state.floatbank5_a_level</th>\n",
       "      <th>secondary_cleaner.state.floatbank5_b_air</th>\n",
       "      <th>secondary_cleaner.state.floatbank5_b_level</th>\n",
       "      <th>secondary_cleaner.state.floatbank6_a_air</th>\n",
       "      <th>secondary_cleaner.state.floatbank6_a_level</th>\n",
       "    </tr>\n",
       "  </thead>\n",
       "  <tbody>\n",
       "    <tr>\n",
       "      <th>count</th>\n",
       "      <td>5286.000000</td>\n",
       "      <td>5285.000000</td>\n",
       "      <td>5290.000000</td>\n",
       "      <td>5286.000000</td>\n",
       "      <td>5.290000e+03</td>\n",
       "      <td>5290.000000</td>\n",
       "      <td>5.290000e+03</td>\n",
       "      <td>5290.000000</td>\n",
       "      <td>5.290000e+03</td>\n",
       "      <td>5290.000000</td>\n",
       "      <td>...</td>\n",
       "      <td>5.290000e+03</td>\n",
       "      <td>5290.000000</td>\n",
       "      <td>5.290000e+03</td>\n",
       "      <td>5290.000000</td>\n",
       "      <td>5290.000000</td>\n",
       "      <td>5290.000000</td>\n",
       "      <td>5290.000000</td>\n",
       "      <td>5290.000000</td>\n",
       "      <td>5290.000000</td>\n",
       "      <td>5290.000000</td>\n",
       "    </tr>\n",
       "    <tr>\n",
       "      <th>mean</th>\n",
       "      <td>174.839652</td>\n",
       "      <td>8.683596</td>\n",
       "      <td>7.266339</td>\n",
       "      <td>1.383803</td>\n",
       "      <td>1.539494e+03</td>\n",
       "      <td>-497.665883</td>\n",
       "      <td>1.545174e+03</td>\n",
       "      <td>-500.273098</td>\n",
       "      <td>1.527272e+03</td>\n",
       "      <td>-498.330680</td>\n",
       "      <td>...</td>\n",
       "      <td>1.632007e+01</td>\n",
       "      <td>-505.144570</td>\n",
       "      <td>1.373544e+01</td>\n",
       "      <td>-463.349858</td>\n",
       "      <td>12.804186</td>\n",
       "      <td>-501.329122</td>\n",
       "      <td>9.881145</td>\n",
       "      <td>-495.663398</td>\n",
       "      <td>17.304935</td>\n",
       "      <td>-501.793193</td>\n",
       "    </tr>\n",
       "    <tr>\n",
       "      <th>std</th>\n",
       "      <td>43.027080</td>\n",
       "      <td>3.072050</td>\n",
       "      <td>0.610219</td>\n",
       "      <td>0.643474</td>\n",
       "      <td>1.167979e+02</td>\n",
       "      <td>19.952431</td>\n",
       "      <td>1.222246e+02</td>\n",
       "      <td>32.968307</td>\n",
       "      <td>1.225380e+02</td>\n",
       "      <td>21.964876</td>\n",
       "      <td>...</td>\n",
       "      <td>3.493583e+00</td>\n",
       "      <td>31.427337</td>\n",
       "      <td>3.430484e+00</td>\n",
       "      <td>86.189107</td>\n",
       "      <td>3.026591</td>\n",
       "      <td>17.951495</td>\n",
       "      <td>2.868205</td>\n",
       "      <td>34.535007</td>\n",
       "      <td>4.536544</td>\n",
       "      <td>39.044215</td>\n",
       "    </tr>\n",
       "    <tr>\n",
       "      <th>min</th>\n",
       "      <td>2.566156</td>\n",
       "      <td>0.003839</td>\n",
       "      <td>5.650000</td>\n",
       "      <td>0.004984</td>\n",
       "      <td>5.445860e-32</td>\n",
       "      <td>-795.316337</td>\n",
       "      <td>6.647490e-32</td>\n",
       "      <td>-799.997015</td>\n",
       "      <td>4.033736e-32</td>\n",
       "      <td>-799.960571</td>\n",
       "      <td>...</td>\n",
       "      <td>1.079872e-16</td>\n",
       "      <td>-799.798523</td>\n",
       "      <td>2.489718e-17</td>\n",
       "      <td>-800.836914</td>\n",
       "      <td>0.069227</td>\n",
       "      <td>-797.323986</td>\n",
       "      <td>0.528083</td>\n",
       "      <td>-800.220337</td>\n",
       "      <td>-0.079426</td>\n",
       "      <td>-809.741464</td>\n",
       "    </tr>\n",
       "    <tr>\n",
       "      <th>25%</th>\n",
       "      <td>147.121401</td>\n",
       "      <td>6.489555</td>\n",
       "      <td>6.890000</td>\n",
       "      <td>0.907623</td>\n",
       "      <td>1.498936e+03</td>\n",
       "      <td>-500.357298</td>\n",
       "      <td>1.498971e+03</td>\n",
       "      <td>-500.703002</td>\n",
       "      <td>1.473230e+03</td>\n",
       "      <td>-501.018117</td>\n",
       "      <td>...</td>\n",
       "      <td>1.403618e+01</td>\n",
       "      <td>-500.868258</td>\n",
       "      <td>1.202862e+01</td>\n",
       "      <td>-500.323028</td>\n",
       "      <td>10.914838</td>\n",
       "      <td>-500.726841</td>\n",
       "      <td>8.036719</td>\n",
       "      <td>-500.194668</td>\n",
       "      <td>13.997317</td>\n",
       "      <td>-500.690984</td>\n",
       "    </tr>\n",
       "    <tr>\n",
       "      <th>50%</th>\n",
       "      <td>177.828489</td>\n",
       "      <td>8.052207</td>\n",
       "      <td>7.250000</td>\n",
       "      <td>1.197610</td>\n",
       "      <td>1.585129e+03</td>\n",
       "      <td>-499.969164</td>\n",
       "      <td>1.595622e+03</td>\n",
       "      <td>-500.028514</td>\n",
       "      <td>1.549595e+03</td>\n",
       "      <td>-500.017711</td>\n",
       "      <td>...</td>\n",
       "      <td>1.700847e+01</td>\n",
       "      <td>-500.115727</td>\n",
       "      <td>1.496486e+01</td>\n",
       "      <td>-499.576513</td>\n",
       "      <td>12.954182</td>\n",
       "      <td>-499.990332</td>\n",
       "      <td>10.004301</td>\n",
       "      <td>-499.990535</td>\n",
       "      <td>16.014935</td>\n",
       "      <td>-500.007126</td>\n",
       "    </tr>\n",
       "    <tr>\n",
       "      <th>75%</th>\n",
       "      <td>208.125438</td>\n",
       "      <td>10.027764</td>\n",
       "      <td>7.600000</td>\n",
       "      <td>1.797819</td>\n",
       "      <td>1.602077e+03</td>\n",
       "      <td>-499.568951</td>\n",
       "      <td>1.602324e+03</td>\n",
       "      <td>-499.293257</td>\n",
       "      <td>1.601144e+03</td>\n",
       "      <td>-498.994130</td>\n",
       "      <td>...</td>\n",
       "      <td>1.803862e+01</td>\n",
       "      <td>-499.404224</td>\n",
       "      <td>1.596213e+01</td>\n",
       "      <td>-400.933805</td>\n",
       "      <td>15.097528</td>\n",
       "      <td>-499.283191</td>\n",
       "      <td>11.997467</td>\n",
       "      <td>-499.719913</td>\n",
       "      <td>21.020013</td>\n",
       "      <td>-499.373018</td>\n",
       "    </tr>\n",
       "    <tr>\n",
       "      <th>max</th>\n",
       "      <td>265.983123</td>\n",
       "      <td>40.000000</td>\n",
       "      <td>15.500000</td>\n",
       "      <td>4.102454</td>\n",
       "      <td>2.103104e+03</td>\n",
       "      <td>-57.195404</td>\n",
       "      <td>1.813084e+03</td>\n",
       "      <td>-142.527229</td>\n",
       "      <td>1.715054e+03</td>\n",
       "      <td>-150.937035</td>\n",
       "      <td>...</td>\n",
       "      <td>3.005180e+01</td>\n",
       "      <td>-401.565212</td>\n",
       "      <td>3.126971e+01</td>\n",
       "      <td>-6.506986</td>\n",
       "      <td>25.258848</td>\n",
       "      <td>-244.483566</td>\n",
       "      <td>14.086866</td>\n",
       "      <td>-137.740004</td>\n",
       "      <td>26.705889</td>\n",
       "      <td>-123.307487</td>\n",
       "    </tr>\n",
       "  </tbody>\n",
       "</table>\n",
       "<p>8 rows × 52 columns</p>\n",
       "</div>"
      ],
      "text/plain": [
       "       primary_cleaner.input.sulfate  primary_cleaner.input.depressant  \\\n",
       "count                    5286.000000                       5285.000000   \n",
       "mean                      174.839652                          8.683596   \n",
       "std                        43.027080                          3.072050   \n",
       "min                         2.566156                          0.003839   \n",
       "25%                       147.121401                          6.489555   \n",
       "50%                       177.828489                          8.052207   \n",
       "75%                       208.125438                         10.027764   \n",
       "max                       265.983123                         40.000000   \n",
       "\n",
       "       primary_cleaner.input.feed_size  primary_cleaner.input.xanthate  \\\n",
       "count                      5290.000000                     5286.000000   \n",
       "mean                          7.266339                        1.383803   \n",
       "std                           0.610219                        0.643474   \n",
       "min                           5.650000                        0.004984   \n",
       "25%                           6.890000                        0.907623   \n",
       "50%                           7.250000                        1.197610   \n",
       "75%                           7.600000                        1.797819   \n",
       "max                          15.500000                        4.102454   \n",
       "\n",
       "       primary_cleaner.state.floatbank8_a_air  \\\n",
       "count                            5.290000e+03   \n",
       "mean                             1.539494e+03   \n",
       "std                              1.167979e+02   \n",
       "min                              5.445860e-32   \n",
       "25%                              1.498936e+03   \n",
       "50%                              1.585129e+03   \n",
       "75%                              1.602077e+03   \n",
       "max                              2.103104e+03   \n",
       "\n",
       "       primary_cleaner.state.floatbank8_a_level  \\\n",
       "count                               5290.000000   \n",
       "mean                                -497.665883   \n",
       "std                                   19.952431   \n",
       "min                                 -795.316337   \n",
       "25%                                 -500.357298   \n",
       "50%                                 -499.969164   \n",
       "75%                                 -499.568951   \n",
       "max                                  -57.195404   \n",
       "\n",
       "       primary_cleaner.state.floatbank8_b_air  \\\n",
       "count                            5.290000e+03   \n",
       "mean                             1.545174e+03   \n",
       "std                              1.222246e+02   \n",
       "min                              6.647490e-32   \n",
       "25%                              1.498971e+03   \n",
       "50%                              1.595622e+03   \n",
       "75%                              1.602324e+03   \n",
       "max                              1.813084e+03   \n",
       "\n",
       "       primary_cleaner.state.floatbank8_b_level  \\\n",
       "count                               5290.000000   \n",
       "mean                                -500.273098   \n",
       "std                                   32.968307   \n",
       "min                                 -799.997015   \n",
       "25%                                 -500.703002   \n",
       "50%                                 -500.028514   \n",
       "75%                                 -499.293257   \n",
       "max                                 -142.527229   \n",
       "\n",
       "       primary_cleaner.state.floatbank8_c_air  \\\n",
       "count                            5.290000e+03   \n",
       "mean                             1.527272e+03   \n",
       "std                              1.225380e+02   \n",
       "min                              4.033736e-32   \n",
       "25%                              1.473230e+03   \n",
       "50%                              1.549595e+03   \n",
       "75%                              1.601144e+03   \n",
       "max                              1.715054e+03   \n",
       "\n",
       "       primary_cleaner.state.floatbank8_c_level  ...  \\\n",
       "count                               5290.000000  ...   \n",
       "mean                                -498.330680  ...   \n",
       "std                                   21.964876  ...   \n",
       "min                                 -799.960571  ...   \n",
       "25%                                 -501.018117  ...   \n",
       "50%                                 -500.017711  ...   \n",
       "75%                                 -498.994130  ...   \n",
       "max                                 -150.937035  ...   \n",
       "\n",
       "       secondary_cleaner.state.floatbank4_a_air  \\\n",
       "count                              5.290000e+03   \n",
       "mean                               1.632007e+01   \n",
       "std                                3.493583e+00   \n",
       "min                                1.079872e-16   \n",
       "25%                                1.403618e+01   \n",
       "50%                                1.700847e+01   \n",
       "75%                                1.803862e+01   \n",
       "max                                3.005180e+01   \n",
       "\n",
       "       secondary_cleaner.state.floatbank4_a_level  \\\n",
       "count                                 5290.000000   \n",
       "mean                                  -505.144570   \n",
       "std                                     31.427337   \n",
       "min                                   -799.798523   \n",
       "25%                                   -500.868258   \n",
       "50%                                   -500.115727   \n",
       "75%                                   -499.404224   \n",
       "max                                   -401.565212   \n",
       "\n",
       "       secondary_cleaner.state.floatbank4_b_air  \\\n",
       "count                              5.290000e+03   \n",
       "mean                               1.373544e+01   \n",
       "std                                3.430484e+00   \n",
       "min                                2.489718e-17   \n",
       "25%                                1.202862e+01   \n",
       "50%                                1.496486e+01   \n",
       "75%                                1.596213e+01   \n",
       "max                                3.126971e+01   \n",
       "\n",
       "       secondary_cleaner.state.floatbank4_b_level  \\\n",
       "count                                 5290.000000   \n",
       "mean                                  -463.349858   \n",
       "std                                     86.189107   \n",
       "min                                   -800.836914   \n",
       "25%                                   -500.323028   \n",
       "50%                                   -499.576513   \n",
       "75%                                   -400.933805   \n",
       "max                                     -6.506986   \n",
       "\n",
       "       secondary_cleaner.state.floatbank5_a_air  \\\n",
       "count                               5290.000000   \n",
       "mean                                  12.804186   \n",
       "std                                    3.026591   \n",
       "min                                    0.069227   \n",
       "25%                                   10.914838   \n",
       "50%                                   12.954182   \n",
       "75%                                   15.097528   \n",
       "max                                   25.258848   \n",
       "\n",
       "       secondary_cleaner.state.floatbank5_a_level  \\\n",
       "count                                 5290.000000   \n",
       "mean                                  -501.329122   \n",
       "std                                     17.951495   \n",
       "min                                   -797.323986   \n",
       "25%                                   -500.726841   \n",
       "50%                                   -499.990332   \n",
       "75%                                   -499.283191   \n",
       "max                                   -244.483566   \n",
       "\n",
       "       secondary_cleaner.state.floatbank5_b_air  \\\n",
       "count                               5290.000000   \n",
       "mean                                   9.881145   \n",
       "std                                    2.868205   \n",
       "min                                    0.528083   \n",
       "25%                                    8.036719   \n",
       "50%                                   10.004301   \n",
       "75%                                   11.997467   \n",
       "max                                   14.086866   \n",
       "\n",
       "       secondary_cleaner.state.floatbank5_b_level  \\\n",
       "count                                 5290.000000   \n",
       "mean                                  -495.663398   \n",
       "std                                     34.535007   \n",
       "min                                   -800.220337   \n",
       "25%                                   -500.194668   \n",
       "50%                                   -499.990535   \n",
       "75%                                   -499.719913   \n",
       "max                                   -137.740004   \n",
       "\n",
       "       secondary_cleaner.state.floatbank6_a_air  \\\n",
       "count                               5290.000000   \n",
       "mean                                  17.304935   \n",
       "std                                    4.536544   \n",
       "min                                   -0.079426   \n",
       "25%                                   13.997317   \n",
       "50%                                   16.014935   \n",
       "75%                                   21.020013   \n",
       "max                                   26.705889   \n",
       "\n",
       "       secondary_cleaner.state.floatbank6_a_level  \n",
       "count                                 5290.000000  \n",
       "mean                                  -501.793193  \n",
       "std                                     39.044215  \n",
       "min                                   -809.741464  \n",
       "25%                                   -500.690984  \n",
       "50%                                   -500.007126  \n",
       "75%                                   -499.373018  \n",
       "max                                   -123.307487  \n",
       "\n",
       "[8 rows x 52 columns]"
      ]
     },
     "execution_count": 9,
     "metadata": {},
     "output_type": "execute_result"
    }
   ],
   "source": [
    "test.describe()"
   ]
  },
  {
   "cell_type": "code",
   "execution_count": 10,
   "metadata": {},
   "outputs": [
    {
     "data": {
      "text/html": [
       "<div>\n",
       "<style scoped>\n",
       "    .dataframe tbody tr th:only-of-type {\n",
       "        vertical-align: middle;\n",
       "    }\n",
       "\n",
       "    .dataframe tbody tr th {\n",
       "        vertical-align: top;\n",
       "    }\n",
       "\n",
       "    .dataframe thead th {\n",
       "        text-align: right;\n",
       "    }\n",
       "</style>\n",
       "<table border=\"1\" class=\"dataframe\">\n",
       "  <thead>\n",
       "    <tr style=\"text-align: right;\">\n",
       "      <th></th>\n",
       "      <th>final.output.concentrate_ag</th>\n",
       "      <th>final.output.concentrate_pb</th>\n",
       "      <th>final.output.concentrate_sol</th>\n",
       "      <th>final.output.concentrate_au</th>\n",
       "      <th>final.output.recovery</th>\n",
       "      <th>final.output.tail_ag</th>\n",
       "      <th>final.output.tail_pb</th>\n",
       "      <th>final.output.tail_sol</th>\n",
       "      <th>final.output.tail_au</th>\n",
       "      <th>primary_cleaner.input.sulfate</th>\n",
       "      <th>...</th>\n",
       "      <th>secondary_cleaner.state.floatbank4_a_air</th>\n",
       "      <th>secondary_cleaner.state.floatbank4_a_level</th>\n",
       "      <th>secondary_cleaner.state.floatbank4_b_air</th>\n",
       "      <th>secondary_cleaner.state.floatbank4_b_level</th>\n",
       "      <th>secondary_cleaner.state.floatbank5_a_air</th>\n",
       "      <th>secondary_cleaner.state.floatbank5_a_level</th>\n",
       "      <th>secondary_cleaner.state.floatbank5_b_air</th>\n",
       "      <th>secondary_cleaner.state.floatbank5_b_level</th>\n",
       "      <th>secondary_cleaner.state.floatbank6_a_air</th>\n",
       "      <th>secondary_cleaner.state.floatbank6_a_level</th>\n",
       "    </tr>\n",
       "  </thead>\n",
       "  <tbody>\n",
       "    <tr>\n",
       "      <th>count</th>\n",
       "      <td>19438.000000</td>\n",
       "      <td>19438.000000</td>\n",
       "      <td>19228.000000</td>\n",
       "      <td>19439.000000</td>\n",
       "      <td>19439.000000</td>\n",
       "      <td>19438.000000</td>\n",
       "      <td>19338.000000</td>\n",
       "      <td>19433.000000</td>\n",
       "      <td>19439.000000</td>\n",
       "      <td>19415.000000</td>\n",
       "      <td>...</td>\n",
       "      <td>19433.000000</td>\n",
       "      <td>19438.000000</td>\n",
       "      <td>19438.000000</td>\n",
       "      <td>19438.000000</td>\n",
       "      <td>19438.000000</td>\n",
       "      <td>19438.000000</td>\n",
       "      <td>19438.000000</td>\n",
       "      <td>19438.000000</td>\n",
       "      <td>19437.000000</td>\n",
       "      <td>19438.000000</td>\n",
       "    </tr>\n",
       "    <tr>\n",
       "      <th>mean</th>\n",
       "      <td>5.168470</td>\n",
       "      <td>9.978895</td>\n",
       "      <td>9.501224</td>\n",
       "      <td>44.076513</td>\n",
       "      <td>67.050208</td>\n",
       "      <td>9.688589</td>\n",
       "      <td>2.705795</td>\n",
       "      <td>10.583728</td>\n",
       "      <td>3.042467</td>\n",
       "      <td>144.624774</td>\n",
       "      <td>...</td>\n",
       "      <td>18.987674</td>\n",
       "      <td>-485.894516</td>\n",
       "      <td>15.010366</td>\n",
       "      <td>-461.078636</td>\n",
       "      <td>15.694452</td>\n",
       "      <td>-488.684065</td>\n",
       "      <td>12.198224</td>\n",
       "      <td>-487.149827</td>\n",
       "      <td>18.959024</td>\n",
       "      <td>-505.436305</td>\n",
       "    </tr>\n",
       "    <tr>\n",
       "      <th>std</th>\n",
       "      <td>1.372348</td>\n",
       "      <td>1.669240</td>\n",
       "      <td>2.787537</td>\n",
       "      <td>5.129784</td>\n",
       "      <td>10.125840</td>\n",
       "      <td>2.328642</td>\n",
       "      <td>0.949077</td>\n",
       "      <td>2.868782</td>\n",
       "      <td>0.922808</td>\n",
       "      <td>44.464071</td>\n",
       "      <td>...</td>\n",
       "      <td>5.411058</td>\n",
       "      <td>47.758570</td>\n",
       "      <td>4.890228</td>\n",
       "      <td>67.405524</td>\n",
       "      <td>5.510974</td>\n",
       "      <td>34.533396</td>\n",
       "      <td>5.333024</td>\n",
       "      <td>38.347312</td>\n",
       "      <td>5.550498</td>\n",
       "      <td>37.689057</td>\n",
       "    </tr>\n",
       "    <tr>\n",
       "      <th>min</th>\n",
       "      <td>0.000000</td>\n",
       "      <td>0.000000</td>\n",
       "      <td>0.000000</td>\n",
       "      <td>0.000000</td>\n",
       "      <td>0.000000</td>\n",
       "      <td>0.000000</td>\n",
       "      <td>0.000000</td>\n",
       "      <td>0.000000</td>\n",
       "      <td>0.000000</td>\n",
       "      <td>0.003112</td>\n",
       "      <td>...</td>\n",
       "      <td>0.000000</td>\n",
       "      <td>-799.798523</td>\n",
       "      <td>0.000000</td>\n",
       "      <td>-800.836914</td>\n",
       "      <td>-0.372054</td>\n",
       "      <td>-797.323986</td>\n",
       "      <td>0.528083</td>\n",
       "      <td>-800.220337</td>\n",
       "      <td>-0.079426</td>\n",
       "      <td>-809.741464</td>\n",
       "    </tr>\n",
       "    <tr>\n",
       "      <th>25%</th>\n",
       "      <td>4.251240</td>\n",
       "      <td>9.137262</td>\n",
       "      <td>7.722820</td>\n",
       "      <td>43.402215</td>\n",
       "      <td>63.299712</td>\n",
       "      <td>8.062878</td>\n",
       "      <td>2.040119</td>\n",
       "      <td>8.938947</td>\n",
       "      <td>2.461138</td>\n",
       "      <td>114.107029</td>\n",
       "      <td>...</td>\n",
       "      <td>14.975734</td>\n",
       "      <td>-500.704892</td>\n",
       "      <td>11.940294</td>\n",
       "      <td>-500.187742</td>\n",
       "      <td>10.988606</td>\n",
       "      <td>-500.458467</td>\n",
       "      <td>8.971105</td>\n",
       "      <td>-500.129462</td>\n",
       "      <td>14.983037</td>\n",
       "      <td>-500.728067</td>\n",
       "    </tr>\n",
       "    <tr>\n",
       "      <th>50%</th>\n",
       "      <td>5.066094</td>\n",
       "      <td>10.102433</td>\n",
       "      <td>9.218961</td>\n",
       "      <td>45.011244</td>\n",
       "      <td>68.172738</td>\n",
       "      <td>9.743623</td>\n",
       "      <td>2.748730</td>\n",
       "      <td>10.622456</td>\n",
       "      <td>2.984909</td>\n",
       "      <td>143.232103</td>\n",
       "      <td>...</td>\n",
       "      <td>18.017481</td>\n",
       "      <td>-499.837793</td>\n",
       "      <td>14.971014</td>\n",
       "      <td>-499.459786</td>\n",
       "      <td>15.000036</td>\n",
       "      <td>-499.802605</td>\n",
       "      <td>11.019433</td>\n",
       "      <td>-499.935317</td>\n",
       "      <td>19.960541</td>\n",
       "      <td>-500.048400</td>\n",
       "    </tr>\n",
       "    <tr>\n",
       "      <th>75%</th>\n",
       "      <td>5.895527</td>\n",
       "      <td>11.035769</td>\n",
       "      <td>10.947813</td>\n",
       "      <td>46.275313</td>\n",
       "      <td>72.686642</td>\n",
       "      <td>11.134294</td>\n",
       "      <td>3.333216</td>\n",
       "      <td>12.104271</td>\n",
       "      <td>3.571351</td>\n",
       "      <td>175.075656</td>\n",
       "      <td>...</td>\n",
       "      <td>23.012470</td>\n",
       "      <td>-498.249730</td>\n",
       "      <td>19.034162</td>\n",
       "      <td>-400.118106</td>\n",
       "      <td>18.026190</td>\n",
       "      <td>-498.384187</td>\n",
       "      <td>14.019088</td>\n",
       "      <td>-499.436708</td>\n",
       "      <td>24.003170</td>\n",
       "      <td>-499.495378</td>\n",
       "    </tr>\n",
       "    <tr>\n",
       "      <th>max</th>\n",
       "      <td>16.001945</td>\n",
       "      <td>17.031899</td>\n",
       "      <td>19.615720</td>\n",
       "      <td>52.756638</td>\n",
       "      <td>100.000000</td>\n",
       "      <td>19.552149</td>\n",
       "      <td>5.804178</td>\n",
       "      <td>22.317730</td>\n",
       "      <td>8.245022</td>\n",
       "      <td>265.983123</td>\n",
       "      <td>...</td>\n",
       "      <td>30.115735</td>\n",
       "      <td>-245.239184</td>\n",
       "      <td>31.269706</td>\n",
       "      <td>-6.506986</td>\n",
       "      <td>43.709931</td>\n",
       "      <td>-244.483566</td>\n",
       "      <td>27.926001</td>\n",
       "      <td>-137.740004</td>\n",
       "      <td>32.188906</td>\n",
       "      <td>-104.427459</td>\n",
       "    </tr>\n",
       "  </tbody>\n",
       "</table>\n",
       "<p>8 rows × 86 columns</p>\n",
       "</div>"
      ],
      "text/plain": [
       "       final.output.concentrate_ag  final.output.concentrate_pb  \\\n",
       "count                 19438.000000                 19438.000000   \n",
       "mean                      5.168470                     9.978895   \n",
       "std                       1.372348                     1.669240   \n",
       "min                       0.000000                     0.000000   \n",
       "25%                       4.251240                     9.137262   \n",
       "50%                       5.066094                    10.102433   \n",
       "75%                       5.895527                    11.035769   \n",
       "max                      16.001945                    17.031899   \n",
       "\n",
       "       final.output.concentrate_sol  final.output.concentrate_au  \\\n",
       "count                  19228.000000                 19439.000000   \n",
       "mean                       9.501224                    44.076513   \n",
       "std                        2.787537                     5.129784   \n",
       "min                        0.000000                     0.000000   \n",
       "25%                        7.722820                    43.402215   \n",
       "50%                        9.218961                    45.011244   \n",
       "75%                       10.947813                    46.275313   \n",
       "max                       19.615720                    52.756638   \n",
       "\n",
       "       final.output.recovery  final.output.tail_ag  final.output.tail_pb  \\\n",
       "count           19439.000000          19438.000000          19338.000000   \n",
       "mean               67.050208              9.688589              2.705795   \n",
       "std                10.125840              2.328642              0.949077   \n",
       "min                 0.000000              0.000000              0.000000   \n",
       "25%                63.299712              8.062878              2.040119   \n",
       "50%                68.172738              9.743623              2.748730   \n",
       "75%                72.686642             11.134294              3.333216   \n",
       "max               100.000000             19.552149              5.804178   \n",
       "\n",
       "       final.output.tail_sol  final.output.tail_au  \\\n",
       "count           19433.000000          19439.000000   \n",
       "mean               10.583728              3.042467   \n",
       "std                 2.868782              0.922808   \n",
       "min                 0.000000              0.000000   \n",
       "25%                 8.938947              2.461138   \n",
       "50%                10.622456              2.984909   \n",
       "75%                12.104271              3.571351   \n",
       "max                22.317730              8.245022   \n",
       "\n",
       "       primary_cleaner.input.sulfate  ...  \\\n",
       "count                   19415.000000  ...   \n",
       "mean                      144.624774  ...   \n",
       "std                        44.464071  ...   \n",
       "min                         0.003112  ...   \n",
       "25%                       114.107029  ...   \n",
       "50%                       143.232103  ...   \n",
       "75%                       175.075656  ...   \n",
       "max                       265.983123  ...   \n",
       "\n",
       "       secondary_cleaner.state.floatbank4_a_air  \\\n",
       "count                              19433.000000   \n",
       "mean                                  18.987674   \n",
       "std                                    5.411058   \n",
       "min                                    0.000000   \n",
       "25%                                   14.975734   \n",
       "50%                                   18.017481   \n",
       "75%                                   23.012470   \n",
       "max                                   30.115735   \n",
       "\n",
       "       secondary_cleaner.state.floatbank4_a_level  \\\n",
       "count                                19438.000000   \n",
       "mean                                  -485.894516   \n",
       "std                                     47.758570   \n",
       "min                                   -799.798523   \n",
       "25%                                   -500.704892   \n",
       "50%                                   -499.837793   \n",
       "75%                                   -498.249730   \n",
       "max                                   -245.239184   \n",
       "\n",
       "       secondary_cleaner.state.floatbank4_b_air  \\\n",
       "count                              19438.000000   \n",
       "mean                                  15.010366   \n",
       "std                                    4.890228   \n",
       "min                                    0.000000   \n",
       "25%                                   11.940294   \n",
       "50%                                   14.971014   \n",
       "75%                                   19.034162   \n",
       "max                                   31.269706   \n",
       "\n",
       "       secondary_cleaner.state.floatbank4_b_level  \\\n",
       "count                                19438.000000   \n",
       "mean                                  -461.078636   \n",
       "std                                     67.405524   \n",
       "min                                   -800.836914   \n",
       "25%                                   -500.187742   \n",
       "50%                                   -499.459786   \n",
       "75%                                   -400.118106   \n",
       "max                                     -6.506986   \n",
       "\n",
       "       secondary_cleaner.state.floatbank5_a_air  \\\n",
       "count                              19438.000000   \n",
       "mean                                  15.694452   \n",
       "std                                    5.510974   \n",
       "min                                   -0.372054   \n",
       "25%                                   10.988606   \n",
       "50%                                   15.000036   \n",
       "75%                                   18.026190   \n",
       "max                                   43.709931   \n",
       "\n",
       "       secondary_cleaner.state.floatbank5_a_level  \\\n",
       "count                                19438.000000   \n",
       "mean                                  -488.684065   \n",
       "std                                     34.533396   \n",
       "min                                   -797.323986   \n",
       "25%                                   -500.458467   \n",
       "50%                                   -499.802605   \n",
       "75%                                   -498.384187   \n",
       "max                                   -244.483566   \n",
       "\n",
       "       secondary_cleaner.state.floatbank5_b_air  \\\n",
       "count                              19438.000000   \n",
       "mean                                  12.198224   \n",
       "std                                    5.333024   \n",
       "min                                    0.528083   \n",
       "25%                                    8.971105   \n",
       "50%                                   11.019433   \n",
       "75%                                   14.019088   \n",
       "max                                   27.926001   \n",
       "\n",
       "       secondary_cleaner.state.floatbank5_b_level  \\\n",
       "count                                19438.000000   \n",
       "mean                                  -487.149827   \n",
       "std                                     38.347312   \n",
       "min                                   -800.220337   \n",
       "25%                                   -500.129462   \n",
       "50%                                   -499.935317   \n",
       "75%                                   -499.436708   \n",
       "max                                   -137.740004   \n",
       "\n",
       "       secondary_cleaner.state.floatbank6_a_air  \\\n",
       "count                              19437.000000   \n",
       "mean                                  18.959024   \n",
       "std                                    5.550498   \n",
       "min                                   -0.079426   \n",
       "25%                                   14.983037   \n",
       "50%                                   19.960541   \n",
       "75%                                   24.003170   \n",
       "max                                   32.188906   \n",
       "\n",
       "       secondary_cleaner.state.floatbank6_a_level  \n",
       "count                                19438.000000  \n",
       "mean                                  -505.436305  \n",
       "std                                     37.689057  \n",
       "min                                   -809.741464  \n",
       "25%                                   -500.728067  \n",
       "50%                                   -500.048400  \n",
       "75%                                   -499.495378  \n",
       "max                                   -104.427459  \n",
       "\n",
       "[8 rows x 86 columns]"
      ]
     },
     "execution_count": 10,
     "metadata": {},
     "output_type": "execute_result"
    }
   ],
   "source": [
    "df.describe()"
   ]
  },
  {
   "cell_type": "markdown",
   "metadata": {},
   "source": [
    "- Явные дубликаты отсутсвтуют.\n",
    "- В данных присутствуют пропуски.\n",
    "- В тестовой выборке нет неторых признаков, которые есть в обучающей выборке. В частности отсутствуют целевые признаки  'rougher.output.recovery' и 'final.output.recovery'.\n"
   ]
  },
  {
   "cell_type": "markdown",
   "metadata": {},
   "source": [
    "### Расчет эффективности обогащения"
   ]
  },
  {
   "cell_type": "markdown",
   "metadata": {},
   "source": [
    "Эффективность обогащения рассчитывается по формуле\n",
    "\n",
    "- C — доля золота в концентрате после флотации/очистки;\n",
    "- F — доля золота в сырье/концентрате до флотации/очистки;\n",
    "- T — доля золота в отвальных хвостах после флотации/очистки."
   ]
  },
  {
   "attachments": {
    "image-2.png": {
     "image/png": "[encoded data removed]"
    }
   },
   "cell_type": "markdown",
   "metadata": {},
   "source": [
    "![image-2.png](attachment:image-2.png)"
   ]
  },
  {
   "cell_type": "code",
   "execution_count": 11,
   "metadata": {},
   "outputs": [
    {
     "name": "stdout",
     "output_type": "stream",
     "text": [
      "Эффективность обогащения: 0        87.107763\n",
      "1        86.843261\n",
      "2        86.842308\n",
      "3        87.226430\n",
      "4        86.688794\n",
      "           ...    \n",
      "14144    89.574376\n",
      "14145    87.724007\n",
      "14146    88.890579\n",
      "14147    89.858126\n",
      "14148    89.514960\n",
      "Length: 14149, dtype: float64 \n",
      "MAE: 1.0748911125799084e-14\n"
     ]
    }
   ],
   "source": [
    "recovery = train['rougher.output.concentrate_au'] * (train['rougher.input.feed_au'] - \n",
    "        train['rougher.output.tail_au']) / train['rougher.input.feed_au'] / (train['rougher.output.concentrate_au'] - \n",
    "        train['rougher.output.tail_au']) * 100                                                                 \n",
    "print('Эффективность обогащения:', recovery, '\\nMAE:', mean_absolute_error(train['rougher.output.recovery'], recovery))"
   ]
  },
  {
   "cell_type": "markdown",
   "metadata": {},
   "source": [
    "Полученные значения МАЕ близки к 0. Значит, эффективность обогащения рассчитана правильно."
   ]
  },
  {
   "cell_type": "markdown",
   "metadata": {},
   "source": [
    "### Предобработка данных"
   ]
  },
  {
   "cell_type": "markdown",
   "metadata": {},
   "source": [
    "Проверим, какие признаки отсутствуют в тестовой выборке."
   ]
  },
  {
   "cell_type": "code",
   "execution_count": 12,
   "metadata": {},
   "outputs": [],
   "source": [
    "def delete_features(df1, df2):\n",
    "    return set(df1.columns.to_list()) - set(df2.columns.to_list())"
   ]
  },
  {
   "cell_type": "code",
   "execution_count": 13,
   "metadata": {},
   "outputs": [
    {
     "name": "stdout",
     "output_type": "stream",
     "text": [
      "final.output.concentrate_pb                           float64\n",
      "final.output.concentrate_ag                           float64\n",
      "final.output.tail_au                                  float64\n",
      "final.output.tail_pb                                  float64\n",
      "rougher.calculation.floatbank11_sulfate_to_au_feed    float64\n",
      "rougher.output.concentrate_sol                        float64\n",
      "primary_cleaner.output.concentrate_au                 float64\n",
      "rougher.calculation.floatbank10_sulfate_to_au_feed    float64\n",
      "final.output.concentrate_au                           float64\n",
      "rougher.output.tail_ag                                float64\n",
      "rougher.output.concentrate_au                         float64\n",
      "rougher.output.tail_au                                float64\n",
      "rougher.output.tail_sol                               float64\n",
      "primary_cleaner.output.concentrate_sol                float64\n",
      "final.output.concentrate_sol                          float64\n",
      "final.output.recovery                                 float64\n",
      "secondary_cleaner.output.tail_pb                      float64\n",
      "rougher.output.recovery                               float64\n",
      "rougher.output.concentrate_pb                         float64\n",
      "rougher.output.concentrate_ag                         float64\n",
      "primary_cleaner.output.tail_sol                       float64\n",
      "rougher.calculation.sulfate_to_au_concentrate         float64\n",
      "secondary_cleaner.output.tail_sol                     float64\n",
      "primary_cleaner.output.concentrate_pb                 float64\n",
      "secondary_cleaner.output.tail_ag                      float64\n",
      "final.output.tail_sol                                 float64\n",
      "primary_cleaner.output.tail_pb                        float64\n",
      "secondary_cleaner.output.tail_au                      float64\n",
      "rougher.output.tail_pb                                float64\n",
      "primary_cleaner.output.tail_ag                        float64\n",
      "primary_cleaner.output.concentrate_ag                 float64\n",
      "primary_cleaner.output.tail_au                        float64\n",
      "rougher.calculation.au_pb_ratio                       float64\n",
      "final.output.tail_ag                                  float64\n",
      "dtype: object\n"
     ]
    }
   ],
   "source": [
    "missing_test = delete_features(train, test)\n",
    "print(train[missing_test].dtypes)"
   ]
  },
  {
   "cell_type": "markdown",
   "metadata": {},
   "source": [
    "Заполним пропуски ближайшими значениями методом ffill. "
   ]
  },
  {
   "cell_type": "code",
   "execution_count": 14,
   "metadata": {},
   "outputs": [
    {
     "name": "stdout",
     "output_type": "stream",
     "text": [
      "date                                          0\n",
      "final.output.concentrate_ag                   0\n",
      "final.output.concentrate_pb                   0\n",
      "final.output.concentrate_sol                  0\n",
      "final.output.concentrate_au                   0\n",
      "                                             ..\n",
      "secondary_cleaner.state.floatbank5_a_level    0\n",
      "secondary_cleaner.state.floatbank5_b_air      0\n",
      "secondary_cleaner.state.floatbank5_b_level    0\n",
      "secondary_cleaner.state.floatbank6_a_air      0\n",
      "secondary_cleaner.state.floatbank6_a_level    0\n",
      "Length: 87, dtype: int64\n",
      "date                                          0\n",
      "primary_cleaner.input.sulfate                 0\n",
      "primary_cleaner.input.depressant              0\n",
      "primary_cleaner.input.feed_size               0\n",
      "primary_cleaner.input.xanthate                0\n",
      "primary_cleaner.state.floatbank8_a_air        0\n",
      "primary_cleaner.state.floatbank8_a_level      0\n",
      "primary_cleaner.state.floatbank8_b_air        0\n",
      "primary_cleaner.state.floatbank8_b_level      0\n",
      "primary_cleaner.state.floatbank8_c_air        0\n",
      "primary_cleaner.state.floatbank8_c_level      0\n",
      "primary_cleaner.state.floatbank8_d_air        0\n",
      "primary_cleaner.state.floatbank8_d_level      0\n",
      "rougher.input.feed_ag                         0\n",
      "rougher.input.feed_pb                         0\n",
      "rougher.input.feed_rate                       0\n",
      "rougher.input.feed_size                       0\n",
      "rougher.input.feed_sol                        0\n",
      "rougher.input.feed_au                         0\n",
      "rougher.input.floatbank10_sulfate             0\n",
      "rougher.input.floatbank10_xanthate            0\n",
      "rougher.input.floatbank11_sulfate             0\n",
      "rougher.input.floatbank11_xanthate            0\n",
      "rougher.state.floatbank10_a_air               0\n",
      "rougher.state.floatbank10_a_level             0\n",
      "rougher.state.floatbank10_b_air               0\n",
      "rougher.state.floatbank10_b_level             0\n",
      "rougher.state.floatbank10_c_air               0\n",
      "rougher.state.floatbank10_c_level             0\n",
      "rougher.state.floatbank10_d_air               0\n",
      "rougher.state.floatbank10_d_level             0\n",
      "rougher.state.floatbank10_e_air               0\n",
      "rougher.state.floatbank10_e_level             0\n",
      "rougher.state.floatbank10_f_air               0\n",
      "rougher.state.floatbank10_f_level             0\n",
      "secondary_cleaner.state.floatbank2_a_air      0\n",
      "secondary_cleaner.state.floatbank2_a_level    0\n",
      "secondary_cleaner.state.floatbank2_b_air      0\n",
      "secondary_cleaner.state.floatbank2_b_level    0\n",
      "secondary_cleaner.state.floatbank3_a_air      0\n",
      "secondary_cleaner.state.floatbank3_a_level    0\n",
      "secondary_cleaner.state.floatbank3_b_air      0\n",
      "secondary_cleaner.state.floatbank3_b_level    0\n",
      "secondary_cleaner.state.floatbank4_a_air      0\n",
      "secondary_cleaner.state.floatbank4_a_level    0\n",
      "secondary_cleaner.state.floatbank4_b_air      0\n",
      "secondary_cleaner.state.floatbank4_b_level    0\n",
      "secondary_cleaner.state.floatbank5_a_air      0\n",
      "secondary_cleaner.state.floatbank5_a_level    0\n",
      "secondary_cleaner.state.floatbank5_b_air      0\n",
      "secondary_cleaner.state.floatbank5_b_level    0\n",
      "secondary_cleaner.state.floatbank6_a_air      0\n",
      "secondary_cleaner.state.floatbank6_a_level    0\n",
      "dtype: int64\n",
      "date                                          0\n",
      "final.output.concentrate_ag                   0\n",
      "final.output.concentrate_pb                   0\n",
      "final.output.concentrate_sol                  0\n",
      "final.output.concentrate_au                   0\n",
      "                                             ..\n",
      "secondary_cleaner.state.floatbank5_a_level    0\n",
      "secondary_cleaner.state.floatbank5_b_air      0\n",
      "secondary_cleaner.state.floatbank5_b_level    0\n",
      "secondary_cleaner.state.floatbank6_a_air      0\n",
      "secondary_cleaner.state.floatbank6_a_level    0\n",
      "Length: 87, dtype: int64\n"
     ]
    }
   ],
   "source": [
    "for data in [train, test, df]:\n",
    "    data.ffill(axis='rows', inplace=True)\n",
    "    print(data.isna().sum())"
   ]
  },
  {
   "cell_type": "markdown",
   "metadata": {},
   "source": [
    "## Анализ данных"
   ]
  },
  {
   "cell_type": "markdown",
   "metadata": {},
   "source": [
    "### Различия концентрации металлов на разных этапах очистки"
   ]
  },
  {
   "cell_type": "code",
   "execution_count": 15,
   "metadata": {},
   "outputs": [],
   "source": [
    "au = train[[\"rougher.input.feed_au\", \"rougher.output.concentrate_au\", \"primary_cleaner.output.concentrate_au\", \"final.output.concentrate_au\"]]\n",
    "ag = train[[\"rougher.input.feed_ag\", \"rougher.output.concentrate_ag\", \"primary_cleaner.output.concentrate_ag\", \"final.output.concentrate_ag\"]]\n",
    "pb = train[[\"rougher.input.feed_pb\", \"rougher.output.concentrate_pb\", \"primary_cleaner.output.concentrate_pb\", \"final.output.concentrate_pb\"]]"
   ]
  },
  {
   "cell_type": "code",
   "execution_count": 16,
   "metadata": {},
   "outputs": [
    {
     "name": "stderr",
     "output_type": "stream",
     "text": [
      "/opt/conda/lib/python3.9/site-packages/seaborn/distributions.py:2557: FutureWarning: `distplot` is a deprecated function and will be removed in a future version. Please adapt your code to use either `displot` (a figure-level function with similar flexibility) or `histplot` (an axes-level function for histograms).\n",
      "  warnings.warn(msg, FutureWarning)\n"
     ]
    },
    {
     "data": {
      "image/png": "[encoded data removed]",
      "text/plain": [
       "<Figure size 1080x1440 with 3 Axes>"
      ]
     },
     "metadata": {
      "needs_background": "light"
     },
     "output_type": "display_data"
    }
   ],
   "source": [
    "fig, axes = plt.subplots(3, 1, figsize=(15, 20))\n",
    "for column in list(au):\n",
    "    sns.distplot(au[column], ax=axes[0], kde=False)\n",
    "axes[0].set(title=\"Концентрация Золота\", xlabel=\"Концентрация\", ylabel=\"Количество\")\n",
    "for column in list(ag):\n",
    "    sns.distplot(ag[column], ax=axes[1], kde=False)\n",
    "axes[1].set(title=\"Концентрация Серебра\", xlabel=\"Концентрация\", ylabel=\"Количество\")\n",
    "for column in list(pb):\n",
    "    sns.distplot(pb[column], ax=axes[2], kde=False)\n",
    "axes[2].set(title=\"Концентрация Свинца\", xlabel=\"Концентрация\", ylabel=\"Количество\")\n",
    "fig.suptitle(\"Стадии очистки\")\n",
    "fig.legend([\"Флотация\", \"Черновой концентрат\", \"Первичная очистка\", \"Финальный концентрат\",])\n",
    "fig.show()"
   ]
  },
  {
   "cell_type": "markdown",
   "metadata": {},
   "source": [
    "1. Доля золота на после каждого этапа очитски постепенно увеличивается.\n",
    "2. Концентрация серебра уменьшается в процессе очистки. Самая большая концентрация на первой стадии и самая маленькая на конечной.\n",
    "3. Концентрация свинца значительно повышается от стадии флотации к первичной очистке, и еще немного повышается на стадии финальной очистки."
   ]
  },
  {
   "cell_type": "markdown",
   "metadata": {},
   "source": [
    "### Распределение размеров гранул сырья"
   ]
  },
  {
   "cell_type": "code",
   "execution_count": 27,
   "metadata": {},
   "outputs": [
    {
     "data": {
      "image/png": "[encoded data removed]",
      "text/plain": [
       "<Figure size 1080x648 with 1 Axes>"
      ]
     },
     "metadata": {
      "needs_background": "light"
     },
     "output_type": "display_data"
    }
   ],
   "source": [
    "plt.figure(figsize=[15, 9])\n",
    "\n",
    "plt.hist(train['rougher.input.feed_size'], label='обучающая выборка', bins=120, alpha=.5, density=True)\n",
    "plt.hist(test['rougher.input.feed_size'], label='тестовая выборка', bins=120, alpha=.5, density=True)\n",
    "\n",
    "plt.xlim([0, 150])\n",
    "#plt.ylim([0, 20])\n",
    "\n",
    "plt.legend()\n",
    "\n",
    "plt.title('Распределение размеров гранул сырья', fontsize=12)\n",
    "plt.show()"
   ]
  },
  {
   "cell_type": "code",
   "execution_count": 25,
   "metadata": {},
   "outputs": [
    {
     "data": {
      "image/png": "[encoded data removed]",
      "text/plain": [
       "<Figure size 1080x648 with 1 Axes>"
      ]
     },
     "metadata": {
      "needs_background": "light"
     },
     "output_type": "display_data"
    }
   ],
   "source": [
    "plt.figure(figsize=[15, 9])\n",
    "\n",
    "plt.hist(train['primary_cleaner.input.feed_size'], label='обучающая выборка', bins=120, alpha=.5, density=True)\n",
    "plt.hist(test['primary_cleaner.input.feed_size'], label='тестовая выборка', bins=120, alpha=.5, density=True)\n",
    "\n",
    "plt.xlim([0, 18])\n",
    "#plt.ylim([0, 900])\n",
    "\n",
    "plt.legend()\n",
    "\n",
    "plt.title('Распределение гранул сырья', fontsize=12)\n",
    "plt.show()"
   ]
  },
  {
   "cell_type": "code",
   "execution_count": 26,
   "metadata": {},
   "outputs": [
    {
     "data": {
      "image/png": "[encoded data removed]",
      "text/plain": [
       "<Figure size 1080x648 with 1 Axes>"
      ]
     },
     "metadata": {
      "needs_background": "light"
     },
     "output_type": "display_data"
    }
   ],
   "source": [
    "final = (train['final.output.concentrate_au'] + train['final.output.concentrate_ag'] + \n",
    "               train['final.output.concentrate_pb'] + train['final.output.concentrate_sol'])\n",
    "primary_cleaner = (train['primary_cleaner.output.concentrate_au'] + train['primary_cleaner.output.concentrate_ag'] + \n",
    "                train['primary_cleaner.output.concentrate_pb'] + train['primary_cleaner.output.concentrate_sol'])\n",
    "rougher = (train['rougher.output.concentrate_au'] + train['rougher.output.concentrate_ag'] +\n",
    "           train['rougher.output.concentrate_pb'] + train['rougher.output.concentrate_sol'])\n",
    "\n",
    "\n",
    "plt.figure(figsize=[15, 9])\n",
    "\n",
    "plt.hist(final, label='final', bins=120, alpha=.5, density=True)\n",
    "plt.hist(primary_cleaner, label='primary cleaner', bins=120, alpha=.5, density=True)\n",
    "plt.hist(rougher, label='rougher', bins=120, alpha=.5, density=True)\n",
    "\n",
    "plt.xlim([0, 100])\n",
    "#plt.ylim([0, 1500])\n",
    "\n",
    "plt.legend()\n",
    "\n",
    "plt.title('Суммарная концентрация веществ на стадиях очстки', fontsize=12)\n",
    "plt.show()"
   ]
  },
  {
   "cell_type": "markdown",
   "metadata": {},
   "source": [
    "1. Распределения гранул похожи, что говорит об однородности данных размеров сырья в выборках train и test\n",
    "2. Суммарная концентрация веществ увеличивается к финальному этапу, а диапазон распределения суммарной концентрации веществ уменьшается.\n",
    "\n",
    "\n",
    "Удалим аномальные нулевые значения"
   ]
  },
  {
   "cell_type": "code",
   "execution_count": 28,
   "metadata": {},
   "outputs": [],
   "source": [
    "train = train[(train['rougher.output.concentrate_au'] != 0) & (train['rougher.output.concentrate_ag'] != 0) & (train['rougher.output.concentrate_pb'] != 0) & (train['rougher.output.concentrate_sol'] != 0)]\n",
    "train = train[(train['final.output.concentrate_au'] != 0) & (train['final.output.concentrate_ag'] != 0) & (train['final.output.concentrate_pb'] != 0) & (train['final.output.concentrate_sol'] != 0)]\n",
    "\n",
    "df = df[(df['rougher.output.concentrate_au'] != 0) & (df['rougher.output.concentrate_ag'] != 0) & (df['rougher.output.concentrate_pb'] != 0) & (df['rougher.output.concentrate_sol'] != 0)]\n",
    "df = df[(df['final.output.concentrate_au'] != 0) & (df['final.output.concentrate_ag'] != 0) & (df['final.output.concentrate_pb'] != 0) & (df['final.output.concentrate_sol'] !=0)]"
   ]
  },
  {
   "cell_type": "markdown",
   "metadata": {},
   "source": [
    "## Модель"
   ]
  },
  {
   "cell_type": "code",
   "execution_count": 29,
   "metadata": {},
   "outputs": [
    {
     "data": {
      "text/html": [
       "<div>\n",
       "<style scoped>\n",
       "    .dataframe tbody tr th:only-of-type {\n",
       "        vertical-align: middle;\n",
       "    }\n",
       "\n",
       "    .dataframe tbody tr th {\n",
       "        vertical-align: top;\n",
       "    }\n",
       "\n",
       "    .dataframe thead th {\n",
       "        text-align: right;\n",
       "    }\n",
       "</style>\n",
       "<table border=\"1\" class=\"dataframe\">\n",
       "  <thead>\n",
       "    <tr style=\"text-align: right;\">\n",
       "      <th></th>\n",
       "      <th>date</th>\n",
       "      <th>rougher.output.recovery</th>\n",
       "      <th>final.output.recovery</th>\n",
       "    </tr>\n",
       "  </thead>\n",
       "  <tbody>\n",
       "    <tr>\n",
       "      <th>0</th>\n",
       "      <td>2016-01-15 00:00:00</td>\n",
       "      <td>87.107763</td>\n",
       "      <td>70.541216</td>\n",
       "    </tr>\n",
       "    <tr>\n",
       "      <th>1</th>\n",
       "      <td>2016-01-15 01:00:00</td>\n",
       "      <td>86.843261</td>\n",
       "      <td>69.266198</td>\n",
       "    </tr>\n",
       "    <tr>\n",
       "      <th>2</th>\n",
       "      <td>2016-01-15 02:00:00</td>\n",
       "      <td>86.842308</td>\n",
       "      <td>68.116445</td>\n",
       "    </tr>\n",
       "    <tr>\n",
       "      <th>3</th>\n",
       "      <td>2016-01-15 03:00:00</td>\n",
       "      <td>87.226430</td>\n",
       "      <td>68.347543</td>\n",
       "    </tr>\n",
       "    <tr>\n",
       "      <th>4</th>\n",
       "      <td>2016-01-15 04:00:00</td>\n",
       "      <td>86.688794</td>\n",
       "      <td>66.927016</td>\n",
       "    </tr>\n",
       "  </tbody>\n",
       "</table>\n",
       "</div>"
      ],
      "text/plain": [
       "                  date  rougher.output.recovery  final.output.recovery\n",
       "0  2016-01-15 00:00:00                87.107763              70.541216\n",
       "1  2016-01-15 01:00:00                86.843261              69.266198\n",
       "2  2016-01-15 02:00:00                86.842308              68.116445\n",
       "3  2016-01-15 03:00:00                87.226430              68.347543\n",
       "4  2016-01-15 04:00:00                86.688794              66.927016"
      ]
     },
     "execution_count": 29,
     "metadata": {},
     "output_type": "execute_result"
    }
   ],
   "source": [
    "#датасет с целевыми признаками. Добавим их в тестовую\n",
    "df_target = df[['date', 'rougher.output.recovery', 'final.output.recovery']]\n",
    "df_target.head()"
   ]
  },
  {
   "cell_type": "code",
   "execution_count": 30,
   "metadata": {},
   "outputs": [],
   "source": [
    "test = test.merge(df_target, how ='left', on ='date')"
   ]
  },
  {
   "cell_type": "code",
   "execution_count": 31,
   "metadata": {},
   "outputs": [],
   "source": [
    "#Сделаем выборки одинаковыми по признакам\n",
    "test.drop(['date'], axis=1, inplace=True)\n",
    "\n",
    "train = train.drop(set(train.columns)-set(test.columns), axis=1)"
   ]
  },
  {
   "cell_type": "code",
   "execution_count": 32,
   "metadata": {},
   "outputs": [],
   "source": [
    "#Функция для расчета sMAPE\n",
    "def smape_total(target_rougher, predicted_rougher, target_final, predicted_final):\n",
    "    smape_rough = 1/len(target_rougher) * np.sum(2 * np.abs(\n",
    "      target_rougher - predicted_rougher) / (np.abs(target_rougher) + np.abs(predicted_rougher))*100)\n",
    "    smape_fin = 1/len(target_final) * np.sum(2 * np.abs(\n",
    "      target_final - predicted_final) / (np.abs(target_final) + np.abs(predicted_final))*100)\n",
    "    return (0.25*smape_rough) + (0.75*smape_fin)"
   ]
  },
  {
   "cell_type": "code",
   "execution_count": 33,
   "metadata": {},
   "outputs": [],
   "source": [
    "def smape(target, predicted):\n",
    "    return 1/len(target) * np.sum(2 * np.abs(\n",
    "       target - predicted) / (np.abs(target) + np.abs(predicted))*100)\n",
    "def smape_final(rougher, final):\n",
    "    return 0.25*rougher + 0.75*final"
   ]
  },
  {
   "cell_type": "code",
   "execution_count": 34,
   "metadata": {},
   "outputs": [],
   "source": [
    "# выделим признаки на тренировочной выборке для чернового и финального концентратов\n",
    "features_train_r = train.filter(regex='^rougher',axis=1)\n",
    "features_train_r = features_train_r.drop(['rougher.output.recovery'], axis=1)\n",
    "target_train_r = train['rougher.output.recovery']\n"
   ]
  },
  {
   "cell_type": "code",
   "execution_count": 35,
   "metadata": {},
   "outputs": [],
   "source": [
    "features_train_f = train.drop(['rougher.output.recovery', 'final.output.recovery'], axis=1)\n",
    "target_train_f = train['final.output.recovery']"
   ]
  },
  {
   "cell_type": "code",
   "execution_count": 36,
   "metadata": {},
   "outputs": [],
   "source": [
    "# #выделим признаки на тестовой выборке для чернового и финального концентратов\n",
    "features_test_r = test.filter(regex='^rougher',axis=1)\n",
    "features_test_r = features_test_r.drop(['rougher.output.recovery'], axis=1)\n",
    "target_test_r = test['rougher.output.recovery']"
   ]
  },
  {
   "cell_type": "code",
   "execution_count": 37,
   "metadata": {},
   "outputs": [],
   "source": [
    "features_test_f = test.drop(['rougher.output.recovery', 'final.output.recovery'], axis=1)\n",
    "target_test_f = test['final.output.recovery']"
   ]
  },
  {
   "cell_type": "code",
   "execution_count": 38,
   "metadata": {},
   "outputs": [
    {
     "data": {
      "text/plain": [
       "(13792, 22)"
      ]
     },
     "metadata": {},
     "output_type": "display_data"
    },
    {
     "data": {
      "text/plain": [
       "(13792,)"
      ]
     },
     "metadata": {},
     "output_type": "display_data"
    },
    {
     "data": {
      "text/plain": [
       "(13792, 52)"
      ]
     },
     "metadata": {},
     "output_type": "display_data"
    },
    {
     "data": {
      "text/plain": [
       "(13792,)"
      ]
     },
     "metadata": {},
     "output_type": "display_data"
    },
    {
     "data": {
      "text/plain": [
       "(5290, 22)"
      ]
     },
     "metadata": {},
     "output_type": "display_data"
    },
    {
     "data": {
      "text/plain": [
       "(5290,)"
      ]
     },
     "metadata": {},
     "output_type": "display_data"
    },
    {
     "data": {
      "text/plain": [
       "(5290, 52)"
      ]
     },
     "metadata": {},
     "output_type": "display_data"
    },
    {
     "data": {
      "text/plain": [
       "(5290,)"
      ]
     },
     "metadata": {},
     "output_type": "display_data"
    }
   ],
   "source": [
    "display(features_train_r.shape)\n",
    "display(target_train_r.shape)\n",
    "\n",
    "display(features_train_f.shape)\n",
    "display(target_train_f.shape)\n",
    "\n",
    "display(features_test_r.shape)\n",
    "display(target_test_r.shape)\n",
    "\n",
    "display(features_test_f.shape)\n",
    "display(target_test_f.shape)"
   ]
  },
  {
   "cell_type": "markdown",
   "metadata": {},
   "source": [
    "**Проверка моделей на обучающей выборке**"
   ]
  },
  {
   "cell_type": "code",
   "execution_count": 39,
   "metadata": {},
   "outputs": [
    {
     "name": "stdout",
     "output_type": "stream",
     "text": [
      "depth: 2 \n",
      "sMAPE : -8.90355912232564\n",
      "depth: 3 \n",
      "sMAPE : -8.870118066376161\n",
      "depth: 4 \n",
      "sMAPE : -8.97351044498847\n",
      "depth: 5 \n",
      "sMAPE : -9.959589834464662\n",
      "depth: 6 \n",
      "sMAPE : -10.022474450377022\n",
      "depth: 7 \n",
      "sMAPE : -10.849926238046313\n",
      "depth: 8 \n",
      "sMAPE : -12.0604758012237\n",
      "depth: 9 \n",
      "sMAPE : -11.608826440668697\n",
      "depth: 10 \n",
      "sMAPE : -12.74614697990095\n",
      "depth: 11 \n",
      "sMAPE : -13.258627734205822\n",
      "depth: 12 \n",
      "sMAPE : -13.138949885233083\n",
      "depth: 13 \n",
      "sMAPE : -13.650324210947701\n",
      "depth: 14 \n",
      "sMAPE : -13.28107806918845\n"
     ]
    }
   ],
   "source": [
    "for depth in range(2, 15):\n",
    "    model2 = DecisionTreeRegressor(random_state=state, max_depth = depth)\n",
    "    scorer = make_scorer(smape, greater_is_better=False)\n",
    "    rougher_tree = cross_val_score(model2, features_train_r, target_train_r, scoring=scorer, cv=5)\n",
    "    final_tree = cross_val_score(model2, features_train_f, target_train_f, scoring=scorer, cv=5)\n",
    "  \n",
    "    print('depth:', depth, '\\nsMAPE :', smape_final(rougher_tree, final_tree).mean())"
   ]
  },
  {
   "cell_type": "code",
   "execution_count": 31,
   "metadata": {},
   "outputs": [
    {
     "name": "stdout",
     "output_type": "stream",
     "text": [
      "Estimators: 15 \n",
      "sMAPE: -9.442377017338844\n",
      "Estimators: 16 \n",
      "sMAPE: -9.420115033476879\n",
      "Estimators: 17 \n",
      "sMAPE: -9.53073266541951\n",
      "Estimators: 18 \n",
      "sMAPE: -9.532387078597022\n",
      "Estimators: 19 \n",
      "sMAPE: -9.505067722376277\n",
      "Estimators: 20 \n",
      "sMAPE: -9.463347341565258\n",
      "CPU times: user 6min 8s, sys: 648 ms, total: 6min 8s\n",
      "Wall time: 6min 9s\n"
     ]
    }
   ],
   "source": [
    "%%time\n",
    "for estim in range(15, 21):\n",
    "    model2 = RandomForestRegressor(random_state=state, n_estimators = estim)\n",
    "    scorer = make_scorer(smape, greater_is_better=False)\n",
    "    rougher_tree = cross_val_score(model2, features_train_r, target_train_r, scoring=scorer, cv=5)\n",
    "    final_tree = cross_val_score(model2, features_train_f, target_train_f, scoring=scorer, cv=5)\n",
    "\n",
    "    print('Estimators:', estim, '\\nsMAPE:', smape_final(rougher_tree, final_tree).mean())"
   ]
  },
  {
   "cell_type": "code",
   "execution_count": 32,
   "metadata": {},
   "outputs": [
    {
     "name": "stdout",
     "output_type": "stream",
     "text": [
      "sMape: -9.906233890321714\n"
     ]
    }
   ],
   "source": [
    "model = LinearRegression()\n",
    "scorer = make_scorer(smape, greater_is_better=False)\n",
    "rougher_lin = cross_val_score(model, features_train_r, target_train_r, scoring=scorer, cv=5)\n",
    "final_lin =  cross_val_score(model, features_train_f, target_train_f, scoring=scorer, cv=5)\n",
    "print('sMape:', smape_final(rougher_lin, final_lin).mean())"
   ]
  },
  {
   "cell_type": "markdown",
   "metadata": {},
   "source": [
    "Лучше всех себя показало дерево решений с гиперпараметом max depth=3. sMAPE данной модели равно 8.87."
   ]
  },
  {
   "cell_type": "markdown",
   "metadata": {},
   "source": [
    "**Проверка на тестовой выборке**"
   ]
  },
  {
   "cell_type": "code",
   "execution_count": 40,
   "metadata": {},
   "outputs": [
    {
     "name": "stdout",
     "output_type": "stream",
     "text": [
      "sMAPE: 7.391234197880652\n"
     ]
    }
   ],
   "source": [
    "model_r = DecisionTreeRegressor(random_state=state, max_depth = 3)\n",
    "model_f = DecisionTreeRegressor(random_state=state, max_depth = 3)\n",
    "model_r.fit(features_train_r, target_train_r)\n",
    "model_f.fit(features_train_f, target_train_f)\n",
    "test_predictions_r = model_r.predict(features_test_r)\n",
    "test_predictions_f = model_f.predict(features_test_f)\n",
    "print('sMAPE:',smape_total(\n",
    "    target_test_r, test_predictions_r, target_test_f, test_predictions_f).mean())"
   ]
  },
  {
   "cell_type": "code",
   "execution_count": 47,
   "metadata": {},
   "outputs": [
    {
     "name": "stdout",
     "output_type": "stream",
     "text": [
      "sMAPE: 6.975650522017238\n"
     ]
    }
   ],
   "source": [
    "#Стало интересно, какое значение выдаст случайный лес на тестовой выборке. Так и думал, что результат будет лучше.(=\n",
    "model_r = RandomForestRegressor(random_state=state, max_depth = 3, n_estimators = 48)\n",
    "model_f = RandomForestRegressor(random_state=state, max_depth = 3, n_estimators = 48)\n",
    "\n",
    "model_r.fit(features_train_r, target_train_r)\n",
    "model_f.fit(features_train_f, target_train_f)\n",
    "test_predictions_r = model_r.predict(features_test_r)\n",
    "test_predictions_f = model_f.predict(features_test_f)\n",
    "print('sMAPE:',smape_total(\n",
    "    target_test_r, test_predictions_r, target_test_f, test_predictions_f).mean())"
   ]
  },
  {
   "cell_type": "code",
   "execution_count": 34,
   "metadata": {},
   "outputs": [
    {
     "name": "stdout",
     "output_type": "stream",
     "text": [
      "sMAPE: 7.565573689898333\n"
     ]
    }
   ],
   "source": [
    "dummy_model_r = DummyRegressor(strategy=\"mean\")\n",
    "dummy_model_f = DummyRegressor(strategy=\"mean\")\n",
    "dummy_model_r.fit(features_train_r, target_train_r)\n",
    "dummy_model_f.fit(features_train_f, target_train_f)\n",
    "test_predictions_r = dummy_model_r.predict(features_test_r)\n",
    "test_predictions_f = dummy_model_f.predict(features_test_f)\n",
    "\n",
    "print('sMAPE:',smape_total(\n",
    "    target_test_r, test_predictions_r, target_test_f, test_predictions_f).mean())"
   ]
  },
  {
   "cell_type": "markdown",
   "metadata": {},
   "source": [
    "Показатель нашей модели меньше, чем у константной, следовательно, полученная модель имеет хорошее качество."
   ]
  },
  {
   "cell_type": "markdown",
   "metadata": {},
   "source": [
    "## Вывод"
   ]
  },
  {
   "cell_type": "markdown",
   "metadata": {},
   "source": [
    "*В ходе исследования было сделано:*\n",
    "\n",
    "1. Проверен расчёт эффективности обогащения. Вычислено значение MAE между данными и расчётными значениями эффективности. Полученные значения МАЕ близки к 0.\n",
    "\n",
    "\n",
    "\n",
    "2. Анализ концентрации металлов показал, что концентрация золота значительно увеличивается на каждом этапе обработки сырья.. Построены графики распределения  размеров гранул  выборок train и test. Сами распределения похожи, что говорит об однородности данных размеров сырья. Исследована суммарная концентрация всех веществ на разных стадиях: в сырье, в черновом и финальном концентратах.\n",
    "\n",
    "\n",
    "\n",
    "3. На тренеровочных данных обучены модели линейной регрессии, дерева решений и случайного леса. В результате для дальнешего прогнозирования выбирана модель дерева решений. Итоговый расчёт на тестовых данных выбранной модели позволил получить прогноз  показателя smape равным 7.39 (6.9 для случайного леса). Проведена проверка модели на адекватность. Итоговая оценка smape константной модели на тестовых данных равна 7.56."
   ]
  },
  {
   "cell_type": "code",
   "execution_count": null,
   "metadata": {},
   "outputs": [],
   "source": []
  }
 ],
 "metadata": {
  "ExecuteTimeLog": [
   {
    "duration": 1667,
    "start_time": "2023-01-16T12:33:36.068Z"
   },
   {
    "duration": 175,
    "start_time": "2023-01-16T12:33:38.900Z"
   },
   {
    "duration": 3226,
    "start_time": "2023-01-16T12:34:49.202Z"
   },
   {
    "duration": 19,
    "start_time": "2023-01-16T12:35:06.802Z"
   },
   {
    "duration": 147,
    "start_time": "2023-01-16T12:36:35.682Z"
   },
   {
    "duration": 32,
    "start_time": "2023-01-16T12:37:18.235Z"
   },
   {
    "duration": 153,
    "start_time": "2023-01-16T12:37:20.898Z"
   },
   {
    "duration": 272,
    "start_time": "2023-01-16T12:51:00.532Z"
   },
   {
    "duration": 140,
    "start_time": "2023-01-16T12:51:13.940Z"
   },
   {
    "duration": 327,
    "start_time": "2023-01-16T12:51:25.047Z"
   },
   {
    "duration": 21,
    "start_time": "2023-01-16T13:04:51.679Z"
   },
   {
    "duration": 65,
    "start_time": "2023-01-16T16:50:43.768Z"
   },
   {
    "duration": 13,
    "start_time": "2023-01-16T16:51:15.592Z"
   },
   {
    "duration": 9,
    "start_time": "2023-01-16T16:51:17.875Z"
   },
   {
    "duration": 48,
    "start_time": "2023-01-16T22:14:06.191Z"
   },
   {
    "duration": 329,
    "start_time": "2023-01-16T22:23:45.563Z"
   },
   {
    "duration": 8,
    "start_time": "2023-01-16T22:25:12.196Z"
   },
   {
    "duration": 30,
    "start_time": "2023-01-16T22:27:34.267Z"
   },
   {
    "duration": 8,
    "start_time": "2023-01-16T22:27:43.211Z"
   },
   {
    "duration": 13,
    "start_time": "2023-01-16T22:28:28.556Z"
   },
   {
    "duration": 10,
    "start_time": "2023-01-16T22:29:04.900Z"
   },
   {
    "duration": 4,
    "start_time": "2023-01-16T22:29:20.060Z"
   },
   {
    "duration": 17,
    "start_time": "2023-01-16T22:29:24.275Z"
   },
   {
    "duration": 45,
    "start_time": "2023-01-17T16:21:44.648Z"
   },
   {
    "duration": 1500,
    "start_time": "2023-01-17T16:21:50.861Z"
   },
   {
    "duration": 2107,
    "start_time": "2023-01-17T16:21:52.363Z"
   },
   {
    "duration": 25,
    "start_time": "2023-01-17T16:21:56.454Z"
   },
   {
    "duration": 131,
    "start_time": "2023-01-17T16:21:59.541Z"
   },
   {
    "duration": 29,
    "start_time": "2023-01-17T16:21:59.916Z"
   },
   {
    "duration": 101,
    "start_time": "2023-01-17T16:22:00.316Z"
   },
   {
    "duration": 227,
    "start_time": "2023-01-17T16:22:00.796Z"
   },
   {
    "duration": 128,
    "start_time": "2023-01-17T16:22:01.220Z"
   },
   {
    "duration": 256,
    "start_time": "2023-01-17T16:22:01.636Z"
   },
   {
    "duration": 14,
    "start_time": "2023-01-17T16:22:04.155Z"
   },
   {
    "duration": 8,
    "start_time": "2023-01-17T16:22:04.556Z"
   },
   {
    "duration": 14,
    "start_time": "2023-01-17T16:22:06.491Z"
   },
   {
    "duration": 8,
    "start_time": "2023-01-17T16:22:09.115Z"
   },
   {
    "duration": 16,
    "start_time": "2023-01-17T16:22:10.876Z"
   },
   {
    "duration": 6,
    "start_time": "2023-01-17T16:22:12.836Z"
   },
   {
    "duration": 7,
    "start_time": "2023-01-17T16:23:54.787Z"
   },
   {
    "duration": 9,
    "start_time": "2023-01-17T16:24:51.846Z"
   },
   {
    "duration": 8,
    "start_time": "2023-01-17T16:24:54.270Z"
   },
   {
    "duration": 355,
    "start_time": "2023-01-17T17:09:29.243Z"
   },
   {
    "duration": 391,
    "start_time": "2023-01-17T17:13:55.818Z"
   },
   {
    "duration": 766,
    "start_time": "2023-01-17T17:15:04.235Z"
   },
   {
    "duration": 879,
    "start_time": "2023-01-17T17:15:11.226Z"
   },
   {
    "duration": 772,
    "start_time": "2023-01-17T17:15:24.193Z"
   },
   {
    "duration": 871,
    "start_time": "2023-01-17T17:15:36.146Z"
   },
   {
    "duration": 694,
    "start_time": "2023-01-17T17:15:46.297Z"
   },
   {
    "duration": 1001,
    "start_time": "2023-01-17T17:16:55.475Z"
   },
   {
    "duration": 1046,
    "start_time": "2023-01-17T17:22:58.499Z"
   },
   {
    "duration": 977,
    "start_time": "2023-01-17T17:23:19.389Z"
   },
   {
    "duration": 1028,
    "start_time": "2023-01-17T17:34:20.740Z"
   },
   {
    "duration": 920,
    "start_time": "2023-01-17T17:34:59.563Z"
   },
   {
    "duration": 1050,
    "start_time": "2023-01-17T17:35:24.146Z"
   },
   {
    "duration": 984,
    "start_time": "2023-01-17T17:35:36.170Z"
   },
   {
    "duration": 892,
    "start_time": "2023-01-17T17:35:43.242Z"
   },
   {
    "duration": 1037,
    "start_time": "2023-01-17T17:35:55.066Z"
   },
   {
    "duration": 1005,
    "start_time": "2023-01-17T17:36:30.475Z"
   },
   {
    "duration": 74,
    "start_time": "2023-01-17T17:37:00.906Z"
   },
   {
    "duration": 70,
    "start_time": "2023-01-17T17:37:07.860Z"
   },
   {
    "duration": 890,
    "start_time": "2023-01-17T17:37:17.207Z"
   },
   {
    "duration": 1021,
    "start_time": "2023-01-17T17:37:36.684Z"
   },
   {
    "duration": 1008,
    "start_time": "2023-01-17T17:37:55.129Z"
   },
   {
    "duration": 890,
    "start_time": "2023-01-17T17:44:11.987Z"
   },
   {
    "duration": 1059,
    "start_time": "2023-01-17T17:44:35.375Z"
   },
   {
    "duration": 532,
    "start_time": "2023-01-17T17:51:10.707Z"
   },
   {
    "duration": 723,
    "start_time": "2023-01-17T17:53:14.147Z"
   },
   {
    "duration": 561,
    "start_time": "2023-01-17T17:53:36.771Z"
   },
   {
    "duration": 600,
    "start_time": "2023-01-17T17:53:54.029Z"
   },
   {
    "duration": 657,
    "start_time": "2023-01-17T18:00:28.360Z"
   },
   {
    "duration": 547,
    "start_time": "2023-01-17T18:00:50.323Z"
   },
   {
    "duration": 1116,
    "start_time": "2023-01-17T18:21:46.287Z"
   },
   {
    "duration": 1131,
    "start_time": "2023-01-17T18:23:03.103Z"
   },
   {
    "duration": 6,
    "start_time": "2023-01-17T18:29:01.188Z"
   },
   {
    "duration": 773,
    "start_time": "2023-01-17T18:30:13.035Z"
   },
   {
    "duration": 687,
    "start_time": "2023-01-17T18:32:58.946Z"
   },
   {
    "duration": 797,
    "start_time": "2023-01-17T18:33:29.748Z"
   },
   {
    "duration": 687,
    "start_time": "2023-01-17T18:34:14.819Z"
   },
   {
    "duration": 53,
    "start_time": "2023-01-17T21:27:18.348Z"
   },
   {
    "duration": 678,
    "start_time": "2023-01-17T21:27:19.580Z"
   },
   {
    "duration": 19,
    "start_time": "2023-01-17T21:27:20.260Z"
   },
   {
    "duration": 125,
    "start_time": "2023-01-17T21:27:20.300Z"
   },
   {
    "duration": 28,
    "start_time": "2023-01-17T21:27:21.270Z"
   },
   {
    "duration": 101,
    "start_time": "2023-01-17T21:27:21.652Z"
   },
   {
    "duration": 214,
    "start_time": "2023-01-17T21:27:22.238Z"
   },
   {
    "duration": 117,
    "start_time": "2023-01-17T21:27:22.686Z"
   },
   {
    "duration": 207,
    "start_time": "2023-01-17T21:27:23.130Z"
   },
   {
    "duration": 8,
    "start_time": "2023-01-17T21:27:24.860Z"
   },
   {
    "duration": 8,
    "start_time": "2023-01-17T21:27:26.043Z"
   },
   {
    "duration": 13,
    "start_time": "2023-01-17T21:27:26.580Z"
   },
   {
    "duration": 7,
    "start_time": "2023-01-17T21:27:27.667Z"
   },
   {
    "duration": 15,
    "start_time": "2023-01-17T21:27:29.556Z"
   },
   {
    "duration": 7,
    "start_time": "2023-01-17T21:27:30.453Z"
   },
   {
    "duration": 6,
    "start_time": "2023-01-17T21:27:31.764Z"
   },
   {
    "duration": 7,
    "start_time": "2023-01-17T21:27:32.972Z"
   },
   {
    "duration": 6,
    "start_time": "2023-01-17T21:27:33.492Z"
   },
   {
    "duration": 6,
    "start_time": "2023-01-17T21:27:34.636Z"
   },
   {
    "duration": 6,
    "start_time": "2023-01-17T21:27:37.564Z"
   },
   {
    "duration": 13,
    "start_time": "2023-01-17T21:27:41.245Z"
   },
   {
    "duration": 5,
    "start_time": "2023-01-17T21:28:02.669Z"
   },
   {
    "duration": 843,
    "start_time": "2023-01-17T21:28:16.307Z"
   },
   {
    "duration": 816,
    "start_time": "2023-01-17T21:28:30.022Z"
   },
   {
    "duration": 1212,
    "start_time": "2023-01-17T21:29:08.791Z"
   },
   {
    "duration": 621,
    "start_time": "2023-01-17T21:30:05.006Z"
   },
   {
    "duration": 515,
    "start_time": "2023-01-17T21:30:09.975Z"
   },
   {
    "duration": 647,
    "start_time": "2023-01-17T21:30:12.585Z"
   },
   {
    "duration": 10,
    "start_time": "2023-01-17T21:30:17.677Z"
   },
   {
    "duration": 3,
    "start_time": "2023-01-17T21:34:54.324Z"
   },
   {
    "duration": 6,
    "start_time": "2023-01-17T21:34:54.829Z"
   },
   {
    "duration": 4,
    "start_time": "2023-01-17T21:34:59.397Z"
   },
   {
    "duration": 3,
    "start_time": "2023-01-17T21:35:00.867Z"
   },
   {
    "duration": 2117,
    "start_time": "2023-01-18T17:56:41.307Z"
   },
   {
    "duration": 2187,
    "start_time": "2023-01-18T17:56:45.494Z"
   },
   {
    "duration": 26,
    "start_time": "2023-01-18T17:56:47.683Z"
   },
   {
    "duration": 151,
    "start_time": "2023-01-18T17:56:48.150Z"
   },
   {
    "duration": 33,
    "start_time": "2023-01-18T17:56:49.375Z"
   },
   {
    "duration": 119,
    "start_time": "2023-01-18T17:56:50.638Z"
   },
   {
    "duration": 242,
    "start_time": "2023-01-18T17:56:53.799Z"
   },
   {
    "duration": 127,
    "start_time": "2023-01-18T17:56:55.448Z"
   },
   {
    "duration": 273,
    "start_time": "2023-01-18T17:56:56.968Z"
   },
   {
    "duration": 12,
    "start_time": "2023-01-18T17:57:00.366Z"
   },
   {
    "duration": 9,
    "start_time": "2023-01-18T17:57:01.999Z"
   },
   {
    "duration": 3,
    "start_time": "2023-01-18T17:57:04.845Z"
   },
   {
    "duration": 7,
    "start_time": "2023-01-18T17:57:07.726Z"
   },
   {
    "duration": 133,
    "start_time": "2023-01-18T17:57:12.430Z"
   },
   {
    "duration": 16,
    "start_time": "2023-01-18T18:04:34.017Z"
   },
   {
    "duration": 1387,
    "start_time": "2023-01-18T18:24:42.784Z"
   },
   {
    "duration": 743,
    "start_time": "2023-01-18T18:24:44.173Z"
   },
   {
    "duration": 32,
    "start_time": "2023-01-18T18:24:44.918Z"
   },
   {
    "duration": 150,
    "start_time": "2023-01-18T18:24:44.952Z"
   },
   {
    "duration": 44,
    "start_time": "2023-01-18T18:24:45.103Z"
   },
   {
    "duration": 126,
    "start_time": "2023-01-18T18:24:45.149Z"
   },
   {
    "duration": 253,
    "start_time": "2023-01-18T18:24:45.276Z"
   },
   {
    "duration": 135,
    "start_time": "2023-01-18T18:24:45.539Z"
   },
   {
    "duration": 282,
    "start_time": "2023-01-18T18:24:45.675Z"
   },
   {
    "duration": 14,
    "start_time": "2023-01-18T18:24:45.960Z"
   },
   {
    "duration": 13,
    "start_time": "2023-01-18T18:24:45.975Z"
   },
   {
    "duration": 22,
    "start_time": "2023-01-18T18:24:45.989Z"
   },
   {
    "duration": 34,
    "start_time": "2023-01-18T18:24:46.012Z"
   },
   {
    "duration": 152,
    "start_time": "2023-01-18T18:24:46.048Z"
   },
   {
    "duration": 0,
    "start_time": "2023-01-18T18:24:46.203Z"
   },
   {
    "duration": 0,
    "start_time": "2023-01-18T18:24:46.205Z"
   },
   {
    "duration": 0,
    "start_time": "2023-01-18T18:24:46.206Z"
   },
   {
    "duration": 0,
    "start_time": "2023-01-18T18:24:46.208Z"
   },
   {
    "duration": 0,
    "start_time": "2023-01-18T18:24:46.211Z"
   },
   {
    "duration": 1,
    "start_time": "2023-01-18T18:24:46.212Z"
   },
   {
    "duration": 0,
    "start_time": "2023-01-18T18:24:46.214Z"
   },
   {
    "duration": 0,
    "start_time": "2023-01-18T18:24:46.215Z"
   },
   {
    "duration": 0,
    "start_time": "2023-01-18T18:24:46.241Z"
   },
   {
    "duration": 0,
    "start_time": "2023-01-18T18:24:46.243Z"
   },
   {
    "duration": 0,
    "start_time": "2023-01-18T18:24:46.244Z"
   },
   {
    "duration": 0,
    "start_time": "2023-01-18T18:24:46.246Z"
   },
   {
    "duration": 0,
    "start_time": "2023-01-18T18:24:46.247Z"
   },
   {
    "duration": 0,
    "start_time": "2023-01-18T18:24:46.248Z"
   },
   {
    "duration": 0,
    "start_time": "2023-01-18T18:24:46.249Z"
   },
   {
    "duration": 0,
    "start_time": "2023-01-18T18:24:46.250Z"
   },
   {
    "duration": 0,
    "start_time": "2023-01-18T18:24:46.251Z"
   },
   {
    "duration": 0,
    "start_time": "2023-01-18T18:24:46.252Z"
   },
   {
    "duration": 0,
    "start_time": "2023-01-18T18:24:46.253Z"
   },
   {
    "duration": 0,
    "start_time": "2023-01-18T18:24:46.254Z"
   },
   {
    "duration": 0,
    "start_time": "2023-01-18T18:24:46.255Z"
   },
   {
    "duration": 0,
    "start_time": "2023-01-18T18:24:46.256Z"
   },
   {
    "duration": 0,
    "start_time": "2023-01-18T18:24:46.257Z"
   },
   {
    "duration": 0,
    "start_time": "2023-01-18T18:24:46.258Z"
   },
   {
    "duration": 0,
    "start_time": "2023-01-18T18:24:46.259Z"
   },
   {
    "duration": 0,
    "start_time": "2023-01-18T18:24:46.261Z"
   },
   {
    "duration": 4,
    "start_time": "2023-01-18T18:25:02.240Z"
   },
   {
    "duration": 742,
    "start_time": "2023-01-18T18:25:04.175Z"
   },
   {
    "duration": 26,
    "start_time": "2023-01-18T18:25:04.919Z"
   },
   {
    "duration": 134,
    "start_time": "2023-01-18T18:25:05.871Z"
   },
   {
    "duration": 32,
    "start_time": "2023-01-18T18:25:06.286Z"
   },
   {
    "duration": 107,
    "start_time": "2023-01-18T18:25:06.688Z"
   },
   {
    "duration": 239,
    "start_time": "2023-01-18T18:25:07.282Z"
   },
   {
    "duration": 133,
    "start_time": "2023-01-18T18:25:07.719Z"
   },
   {
    "duration": 264,
    "start_time": "2023-01-18T18:25:08.070Z"
   },
   {
    "duration": 9,
    "start_time": "2023-01-18T18:25:08.767Z"
   },
   {
    "duration": 9,
    "start_time": "2023-01-18T18:25:10.336Z"
   },
   {
    "duration": 3,
    "start_time": "2023-01-18T18:25:12.319Z"
   },
   {
    "duration": 7,
    "start_time": "2023-01-18T18:25:13.111Z"
   },
   {
    "duration": 18,
    "start_time": "2023-01-18T18:25:14.920Z"
   },
   {
    "duration": 17,
    "start_time": "2023-01-18T18:26:05.477Z"
   },
   {
    "duration": 17,
    "start_time": "2023-01-18T18:26:20.599Z"
   },
   {
    "duration": 7,
    "start_time": "2023-01-18T18:26:22.712Z"
   },
   {
    "duration": 18,
    "start_time": "2023-01-18T18:26:25.376Z"
   },
   {
    "duration": 7,
    "start_time": "2023-01-18T18:26:26.263Z"
   },
   {
    "duration": 7,
    "start_time": "2023-01-18T18:26:26.663Z"
   },
   {
    "duration": 7,
    "start_time": "2023-01-18T18:26:27.912Z"
   },
   {
    "duration": 6,
    "start_time": "2023-01-18T18:26:32.121Z"
   },
   {
    "duration": 7,
    "start_time": "2023-01-18T18:26:33.495Z"
   },
   {
    "duration": 7,
    "start_time": "2023-01-18T18:26:38.296Z"
   },
   {
    "duration": 14,
    "start_time": "2023-01-18T18:26:39.392Z"
   },
   {
    "duration": 17,
    "start_time": "2023-01-18T18:26:49.216Z"
   },
   {
    "duration": 6,
    "start_time": "2023-01-18T18:26:58.696Z"
   },
   {
    "duration": 1391,
    "start_time": "2023-01-18T18:26:59.720Z"
   },
   {
    "duration": 582,
    "start_time": "2023-01-18T18:27:19.570Z"
   },
   {
    "duration": 687,
    "start_time": "2023-01-18T18:27:22.240Z"
   },
   {
    "duration": 746,
    "start_time": "2023-01-18T18:27:23.903Z"
   },
   {
    "duration": 6,
    "start_time": "2023-01-18T18:27:29.128Z"
   },
   {
    "duration": 5,
    "start_time": "2023-01-18T18:27:30.880Z"
   },
   {
    "duration": 3,
    "start_time": "2023-01-18T18:27:32.351Z"
   },
   {
    "duration": 19,
    "start_time": "2023-01-18T18:27:33.791Z"
   },
   {
    "duration": 17,
    "start_time": "2023-01-18T18:33:42.530Z"
   },
   {
    "duration": 6,
    "start_time": "2023-01-18T18:50:47.837Z"
   },
   {
    "duration": 793,
    "start_time": "2023-01-18T18:50:49.248Z"
   },
   {
    "duration": 64,
    "start_time": "2023-01-18T18:50:50.255Z"
   },
   {
    "duration": 140,
    "start_time": "2023-01-18T18:50:51.269Z"
   },
   {
    "duration": 49,
    "start_time": "2023-01-18T18:50:51.804Z"
   },
   {
    "duration": 146,
    "start_time": "2023-01-18T18:50:52.211Z"
   },
   {
    "duration": 314,
    "start_time": "2023-01-18T18:50:52.732Z"
   },
   {
    "duration": 292,
    "start_time": "2023-01-18T18:50:53.233Z"
   },
   {
    "duration": 322,
    "start_time": "2023-01-18T18:50:53.749Z"
   },
   {
    "duration": 8,
    "start_time": "2023-01-18T18:50:56.901Z"
   },
   {
    "duration": 9,
    "start_time": "2023-01-18T18:51:06.772Z"
   },
   {
    "duration": 3,
    "start_time": "2023-01-18T18:51:08.499Z"
   },
   {
    "duration": 7,
    "start_time": "2023-01-18T18:51:10.284Z"
   },
   {
    "duration": 20,
    "start_time": "2023-01-18T18:51:12.283Z"
   },
   {
    "duration": 6,
    "start_time": "2023-01-18T18:51:15.140Z"
   },
   {
    "duration": 18,
    "start_time": "2023-01-18T18:51:16.579Z"
   },
   {
    "duration": 16,
    "start_time": "2023-01-18T18:51:19.303Z"
   },
   {
    "duration": 12,
    "start_time": "2023-01-18T18:51:33.516Z"
   },
   {
    "duration": 7,
    "start_time": "2023-01-18T18:51:34.557Z"
   },
   {
    "duration": 26,
    "start_time": "2023-01-18T18:51:37.949Z"
   },
   {
    "duration": 7,
    "start_time": "2023-01-18T18:51:48.284Z"
   },
   {
    "duration": 9,
    "start_time": "2023-01-18T18:51:54.499Z"
   },
   {
    "duration": 8,
    "start_time": "2023-01-18T18:51:57.100Z"
   },
   {
    "duration": 9,
    "start_time": "2023-01-18T18:51:58.908Z"
   },
   {
    "duration": 8,
    "start_time": "2023-01-18T18:52:00.820Z"
   },
   {
    "duration": 8,
    "start_time": "2023-01-18T18:52:02.771Z"
   },
   {
    "duration": 8,
    "start_time": "2023-01-18T18:52:07.950Z"
   },
   {
    "duration": 1319,
    "start_time": "2023-01-18T18:52:09.278Z"
   },
   {
    "duration": 747,
    "start_time": "2023-01-18T18:52:28.052Z"
   },
   {
    "duration": 704,
    "start_time": "2023-01-18T18:52:45.975Z"
   },
   {
    "duration": 800,
    "start_time": "2023-01-18T18:52:56.402Z"
   },
   {
    "duration": 7,
    "start_time": "2023-01-18T18:53:03.324Z"
   },
   {
    "duration": 4,
    "start_time": "2023-01-18T18:53:05.122Z"
   },
   {
    "duration": 3,
    "start_time": "2023-01-18T18:53:06.972Z"
   },
   {
    "duration": 14,
    "start_time": "2023-01-18T18:53:07.809Z"
   },
   {
    "duration": 10,
    "start_time": "2023-01-18T18:55:13.208Z"
   },
   {
    "duration": 47758,
    "start_time": "2023-01-18T18:55:16.319Z"
   },
   {
    "duration": 46827,
    "start_time": "2023-01-18T18:57:13.640Z"
   },
   {
    "duration": 4,
    "start_time": "2023-01-18T19:06:22.920Z"
   },
   {
    "duration": 773,
    "start_time": "2023-01-18T19:06:23.382Z"
   },
   {
    "duration": 84,
    "start_time": "2023-01-18T19:06:24.157Z"
   },
   {
    "duration": 143,
    "start_time": "2023-01-18T19:06:24.501Z"
   },
   {
    "duration": 34,
    "start_time": "2023-01-18T19:06:25.057Z"
   },
   {
    "duration": 108,
    "start_time": "2023-01-18T19:06:25.556Z"
   },
   {
    "duration": 288,
    "start_time": "2023-01-18T19:06:26.163Z"
   },
   {
    "duration": 154,
    "start_time": "2023-01-18T19:06:27.202Z"
   },
   {
    "duration": 328,
    "start_time": "2023-01-18T19:06:28.168Z"
   },
   {
    "duration": 12,
    "start_time": "2023-01-18T19:06:31.296Z"
   },
   {
    "duration": 11,
    "start_time": "2023-01-18T19:06:32.223Z"
   },
   {
    "duration": 3,
    "start_time": "2023-01-18T19:06:34.144Z"
   },
   {
    "duration": 8,
    "start_time": "2023-01-18T19:06:35.614Z"
   },
   {
    "duration": 28,
    "start_time": "2023-01-18T19:06:37.472Z"
   },
   {
    "duration": 7,
    "start_time": "2023-01-18T19:06:37.998Z"
   },
   {
    "duration": 20,
    "start_time": "2023-01-18T19:06:38.528Z"
   },
   {
    "duration": 20,
    "start_time": "2023-01-18T19:06:39.118Z"
   },
   {
    "duration": 12,
    "start_time": "2023-01-18T19:06:39.919Z"
   },
   {
    "duration": 8,
    "start_time": "2023-01-18T19:06:42.461Z"
   },
   {
    "duration": 27,
    "start_time": "2023-01-18T19:06:43.913Z"
   },
   {
    "duration": 8,
    "start_time": "2023-01-18T19:06:47.321Z"
   },
   {
    "duration": 8,
    "start_time": "2023-01-18T19:06:55.703Z"
   },
   {
    "duration": 10,
    "start_time": "2023-01-18T19:06:58.919Z"
   },
   {
    "duration": 8,
    "start_time": "2023-01-18T19:07:00.261Z"
   },
   {
    "duration": 8,
    "start_time": "2023-01-18T19:07:01.607Z"
   },
   {
    "duration": 8,
    "start_time": "2023-01-18T19:07:03.938Z"
   },
   {
    "duration": 8,
    "start_time": "2023-01-18T19:07:06.079Z"
   },
   {
    "duration": 1342,
    "start_time": "2023-01-18T19:07:06.871Z"
   },
   {
    "duration": 830,
    "start_time": "2023-01-18T19:07:08.302Z"
   },
   {
    "duration": 592,
    "start_time": "2023-01-18T19:07:13.064Z"
   },
   {
    "duration": 972,
    "start_time": "2023-01-18T19:07:19.448Z"
   },
   {
    "duration": 10,
    "start_time": "2023-01-18T19:07:28.859Z"
   },
   {
    "duration": 5,
    "start_time": "2023-01-18T19:07:46.118Z"
   },
   {
    "duration": 3,
    "start_time": "2023-01-18T19:07:47.448Z"
   },
   {
    "duration": 11,
    "start_time": "2023-01-18T19:07:49.223Z"
   },
   {
    "duration": 54749,
    "start_time": "2023-01-18T19:07:51.579Z"
   },
   {
    "duration": 56177,
    "start_time": "2023-01-18T19:09:44.523Z"
   },
   {
    "duration": 1523,
    "start_time": "2023-01-18T19:17:14.897Z"
   },
   {
    "duration": 764,
    "start_time": "2023-01-18T19:17:16.422Z"
   },
   {
    "duration": 26,
    "start_time": "2023-01-18T19:17:17.188Z"
   },
   {
    "duration": 157,
    "start_time": "2023-01-18T19:17:17.216Z"
   },
   {
    "duration": 33,
    "start_time": "2023-01-18T19:17:17.375Z"
   },
   {
    "duration": 141,
    "start_time": "2023-01-18T19:17:17.410Z"
   },
   {
    "duration": 241,
    "start_time": "2023-01-18T19:17:17.552Z"
   },
   {
    "duration": 135,
    "start_time": "2023-01-18T19:17:17.795Z"
   },
   {
    "duration": 289,
    "start_time": "2023-01-18T19:17:17.932Z"
   },
   {
    "duration": 24,
    "start_time": "2023-01-18T19:17:18.224Z"
   },
   {
    "duration": 21,
    "start_time": "2023-01-18T19:17:18.250Z"
   },
   {
    "duration": 5,
    "start_time": "2023-01-18T19:17:18.272Z"
   },
   {
    "duration": 26,
    "start_time": "2023-01-18T19:17:18.279Z"
   },
   {
    "duration": 43,
    "start_time": "2023-01-18T19:17:18.307Z"
   },
   {
    "duration": 7,
    "start_time": "2023-01-18T19:17:18.352Z"
   },
   {
    "duration": 39,
    "start_time": "2023-01-18T19:17:18.361Z"
   },
   {
    "duration": 42,
    "start_time": "2023-01-18T19:17:18.402Z"
   },
   {
    "duration": 11,
    "start_time": "2023-01-18T19:17:18.447Z"
   },
   {
    "duration": 16,
    "start_time": "2023-01-18T19:17:18.460Z"
   },
   {
    "duration": 33,
    "start_time": "2023-01-18T19:17:18.477Z"
   },
   {
    "duration": 19,
    "start_time": "2023-01-18T19:17:18.512Z"
   },
   {
    "duration": 15,
    "start_time": "2023-01-18T19:17:18.533Z"
   },
   {
    "duration": 26,
    "start_time": "2023-01-18T19:17:18.549Z"
   },
   {
    "duration": 8,
    "start_time": "2023-01-18T19:17:18.577Z"
   },
   {
    "duration": 11,
    "start_time": "2023-01-18T19:17:18.587Z"
   },
   {
    "duration": 6,
    "start_time": "2023-01-18T19:17:18.600Z"
   },
   {
    "duration": 7,
    "start_time": "2023-01-18T19:17:18.608Z"
   },
   {
    "duration": 1443,
    "start_time": "2023-01-18T19:17:18.618Z"
   },
   {
    "duration": 613,
    "start_time": "2023-01-18T19:17:20.063Z"
   },
   {
    "duration": 728,
    "start_time": "2023-01-18T19:17:20.678Z"
   },
   {
    "duration": 733,
    "start_time": "2023-01-18T19:17:21.408Z"
   },
   {
    "duration": 8,
    "start_time": "2023-01-18T19:17:22.143Z"
   },
   {
    "duration": 10,
    "start_time": "2023-01-18T19:17:22.153Z"
   },
   {
    "duration": 37,
    "start_time": "2023-01-18T19:17:22.165Z"
   },
   {
    "duration": 19,
    "start_time": "2023-01-18T19:17:22.203Z"
   },
   {
    "duration": 7111,
    "start_time": "2023-01-18T19:17:22.224Z"
   },
   {
    "duration": 14813,
    "start_time": "2023-01-18T19:17:29.337Z"
   },
   {
    "duration": 3324,
    "start_time": "2023-01-18T19:17:44.152Z"
   },
   {
    "duration": 52,
    "start_time": "2023-01-18T19:17:47.477Z"
   },
   {
    "duration": 5,
    "start_time": "2023-01-18T19:18:25.534Z"
   },
   {
    "duration": 694,
    "start_time": "2023-01-18T19:18:27.492Z"
   },
   {
    "duration": 30,
    "start_time": "2023-01-18T19:18:28.868Z"
   },
   {
    "duration": 137,
    "start_time": "2023-01-18T19:18:31.788Z"
   },
   {
    "duration": 56,
    "start_time": "2023-01-18T19:18:32.357Z"
   },
   {
    "duration": 115,
    "start_time": "2023-01-18T19:18:32.899Z"
   },
   {
    "duration": 234,
    "start_time": "2023-01-18T19:18:33.572Z"
   },
   {
    "duration": 134,
    "start_time": "2023-01-18T19:18:34.052Z"
   },
   {
    "duration": 262,
    "start_time": "2023-01-18T19:18:34.603Z"
   },
   {
    "duration": 11,
    "start_time": "2023-01-18T19:18:36.355Z"
   },
   {
    "duration": 11,
    "start_time": "2023-01-18T19:19:44.469Z"
   },
   {
    "duration": 3,
    "start_time": "2023-01-18T19:19:46.443Z"
   },
   {
    "duration": 6,
    "start_time": "2023-01-18T19:19:47.227Z"
   },
   {
    "duration": 25,
    "start_time": "2023-01-18T19:19:49.197Z"
   },
   {
    "duration": 5,
    "start_time": "2023-01-18T19:19:50.003Z"
   },
   {
    "duration": 15,
    "start_time": "2023-01-18T19:19:51.115Z"
   },
   {
    "duration": 20,
    "start_time": "2023-01-18T19:19:51.613Z"
   },
   {
    "duration": 6,
    "start_time": "2023-01-18T19:20:00.267Z"
   },
   {
    "duration": 1528,
    "start_time": "2023-01-18T19:20:01.749Z"
   },
   {
    "duration": 675,
    "start_time": "2023-01-18T19:20:10.208Z"
   },
   {
    "duration": 567,
    "start_time": "2023-01-18T19:20:16.818Z"
   },
   {
    "duration": 749,
    "start_time": "2023-01-18T19:20:20.659Z"
   },
   {
    "duration": 7,
    "start_time": "2023-01-18T19:20:25.679Z"
   },
   {
    "duration": 4,
    "start_time": "2023-01-18T19:20:27.294Z"
   },
   {
    "duration": 2,
    "start_time": "2023-01-18T19:20:28.604Z"
   },
   {
    "duration": 10,
    "start_time": "2023-01-18T19:20:29.890Z"
   },
   {
    "duration": 57843,
    "start_time": "2023-01-18T19:20:58.383Z"
   },
   {
    "duration": 5,
    "start_time": "2023-01-18T19:41:40.762Z"
   },
   {
    "duration": 708,
    "start_time": "2023-01-18T19:41:41.184Z"
   },
   {
    "duration": 21,
    "start_time": "2023-01-18T19:41:42.476Z"
   },
   {
    "duration": 146,
    "start_time": "2023-01-18T19:41:42.874Z"
   },
   {
    "duration": 30,
    "start_time": "2023-01-18T19:41:43.312Z"
   },
   {
    "duration": 105,
    "start_time": "2023-01-18T19:41:43.768Z"
   },
   {
    "duration": 235,
    "start_time": "2023-01-18T19:41:44.417Z"
   },
   {
    "duration": 147,
    "start_time": "2023-01-18T19:41:46.368Z"
   },
   {
    "duration": 260,
    "start_time": "2023-01-18T19:41:46.791Z"
   },
   {
    "duration": 10,
    "start_time": "2023-01-18T19:41:51.887Z"
   },
   {
    "duration": 12,
    "start_time": "2023-01-18T19:41:52.616Z"
   },
   {
    "duration": 10,
    "start_time": "2023-01-18T19:42:10.447Z"
   },
   {
    "duration": 13,
    "start_time": "2023-01-18T19:45:42.360Z"
   },
   {
    "duration": 5,
    "start_time": "2023-01-18T19:46:25.168Z"
   },
   {
    "duration": 694,
    "start_time": "2023-01-18T19:46:25.673Z"
   },
   {
    "duration": 22,
    "start_time": "2023-01-18T19:46:26.369Z"
   },
   {
    "duration": 135,
    "start_time": "2023-01-18T19:46:26.608Z"
   },
   {
    "duration": 33,
    "start_time": "2023-01-18T19:46:27.073Z"
   },
   {
    "duration": 106,
    "start_time": "2023-01-18T19:46:27.691Z"
   },
   {
    "duration": 227,
    "start_time": "2023-01-18T19:46:28.314Z"
   },
   {
    "duration": 128,
    "start_time": "2023-01-18T19:46:29.857Z"
   },
   {
    "duration": 260,
    "start_time": "2023-01-18T19:46:31.729Z"
   },
   {
    "duration": 13,
    "start_time": "2023-01-18T19:46:33.503Z"
   },
   {
    "duration": 11,
    "start_time": "2023-01-18T19:46:35.147Z"
   },
   {
    "duration": 3,
    "start_time": "2023-01-18T19:46:53.271Z"
   },
   {
    "duration": 8,
    "start_time": "2023-01-18T19:46:54.150Z"
   },
   {
    "duration": 17,
    "start_time": "2023-01-18T19:46:57.927Z"
   },
   {
    "duration": 15,
    "start_time": "2023-01-18T19:47:01.391Z"
   },
   {
    "duration": 9,
    "start_time": "2023-01-18T19:47:01.921Z"
   },
   {
    "duration": 7,
    "start_time": "2023-01-18T19:47:58.233Z"
   },
   {
    "duration": 1370,
    "start_time": "2023-01-18T19:47:59.408Z"
   },
   {
    "duration": 732,
    "start_time": "2023-01-18T19:48:05.528Z"
   },
   {
    "duration": 590,
    "start_time": "2023-01-18T19:48:08.224Z"
   },
   {
    "duration": 968,
    "start_time": "2023-01-18T19:48:13.513Z"
   },
   {
    "duration": 7,
    "start_time": "2023-01-18T19:48:17.695Z"
   },
   {
    "duration": 6,
    "start_time": "2023-01-18T19:48:19.834Z"
   },
   {
    "duration": 3,
    "start_time": "2023-01-18T19:48:21.712Z"
   },
   {
    "duration": 10,
    "start_time": "2023-01-18T19:48:24.152Z"
   },
   {
    "duration": 60436,
    "start_time": "2023-01-18T19:48:25.409Z"
   },
   {
    "duration": 5,
    "start_time": "2023-01-18T19:57:10.060Z"
   },
   {
    "duration": 722,
    "start_time": "2023-01-18T19:57:12.178Z"
   },
   {
    "duration": 21,
    "start_time": "2023-01-18T19:57:13.370Z"
   },
   {
    "duration": 139,
    "start_time": "2023-01-18T19:57:14.690Z"
   },
   {
    "duration": 37,
    "start_time": "2023-01-18T19:57:15.201Z"
   },
   {
    "duration": 107,
    "start_time": "2023-01-18T19:57:16.654Z"
   },
   {
    "duration": 221,
    "start_time": "2023-01-18T19:57:17.495Z"
   },
   {
    "duration": 175,
    "start_time": "2023-01-18T19:57:18.866Z"
   },
   {
    "duration": 254,
    "start_time": "2023-01-18T19:57:19.332Z"
   },
   {
    "duration": 11,
    "start_time": "2023-01-18T19:57:20.644Z"
   },
   {
    "duration": 12,
    "start_time": "2023-01-18T19:57:26.372Z"
   },
   {
    "duration": 4,
    "start_time": "2023-01-18T19:57:28.144Z"
   },
   {
    "duration": 8,
    "start_time": "2023-01-18T19:57:29.722Z"
   },
   {
    "duration": 15,
    "start_time": "2023-01-18T19:57:32.652Z"
   },
   {
    "duration": 18,
    "start_time": "2023-01-18T19:57:38.889Z"
   },
   {
    "duration": 9,
    "start_time": "2023-01-18T19:57:41.378Z"
   },
   {
    "duration": 15,
    "start_time": "2023-01-18T19:58:01.193Z"
   },
   {
    "duration": 9,
    "start_time": "2023-01-18T19:58:02.635Z"
   },
   {
    "duration": 20,
    "start_time": "2023-01-18T19:58:05.980Z"
   },
   {
    "duration": 9,
    "start_time": "2023-01-18T19:58:08.399Z"
   },
   {
    "duration": 9,
    "start_time": "2023-01-18T19:58:10.929Z"
   },
   {
    "duration": 8,
    "start_time": "2023-01-18T19:58:12.801Z"
   },
   {
    "duration": 9,
    "start_time": "2023-01-18T19:58:14.684Z"
   },
   {
    "duration": 8,
    "start_time": "2023-01-18T19:58:16.915Z"
   },
   {
    "duration": 10,
    "start_time": "2023-01-18T19:58:17.785Z"
   },
   {
    "duration": 7,
    "start_time": "2023-01-18T19:58:20.345Z"
   },
   {
    "duration": 1505,
    "start_time": "2023-01-18T19:58:21.713Z"
   },
   {
    "duration": 559,
    "start_time": "2023-01-18T19:58:23.681Z"
   },
   {
    "duration": 569,
    "start_time": "2023-01-18T19:58:27.403Z"
   },
   {
    "duration": 906,
    "start_time": "2023-01-18T19:58:29.379Z"
   },
   {
    "duration": 7,
    "start_time": "2023-01-18T19:58:34.273Z"
   },
   {
    "duration": 4,
    "start_time": "2023-01-18T19:58:36.315Z"
   },
   {
    "duration": 3,
    "start_time": "2023-01-18T19:58:38.801Z"
   },
   {
    "duration": 10,
    "start_time": "2023-01-18T19:59:59.586Z"
   },
   {
    "duration": 58017,
    "start_time": "2023-01-18T20:01:03.706Z"
   },
   {
    "duration": 1638,
    "start_time": "2023-01-19T15:56:23.109Z"
   },
   {
    "duration": 1938,
    "start_time": "2023-01-19T15:56:24.749Z"
   },
   {
    "duration": 29,
    "start_time": "2023-01-19T15:56:26.689Z"
   },
   {
    "duration": 154,
    "start_time": "2023-01-19T15:56:26.720Z"
   },
   {
    "duration": 31,
    "start_time": "2023-01-19T15:56:26.963Z"
   },
   {
    "duration": 112,
    "start_time": "2023-01-19T15:56:27.481Z"
   },
   {
    "duration": 257,
    "start_time": "2023-01-19T15:56:31.873Z"
   },
   {
    "duration": 137,
    "start_time": "2023-01-19T15:56:32.337Z"
   },
   {
    "duration": 262,
    "start_time": "2023-01-19T15:56:32.946Z"
   },
   {
    "duration": 13,
    "start_time": "2023-01-19T15:56:33.465Z"
   },
   {
    "duration": 11,
    "start_time": "2023-01-19T15:56:40.336Z"
   },
   {
    "duration": 3,
    "start_time": "2023-01-19T15:56:48.441Z"
   },
   {
    "duration": 7,
    "start_time": "2023-01-19T15:56:49.273Z"
   },
   {
    "duration": 17,
    "start_time": "2023-01-19T15:56:56.826Z"
   },
   {
    "duration": 20,
    "start_time": "2023-01-19T15:57:31.682Z"
   },
   {
    "duration": 9,
    "start_time": "2023-01-19T15:58:10.355Z"
   },
   {
    "duration": 7,
    "start_time": "2023-01-19T15:58:22.106Z"
   },
   {
    "duration": 1460,
    "start_time": "2023-01-19T15:58:23.365Z"
   },
   {
    "duration": 590,
    "start_time": "2023-01-19T15:58:36.097Z"
   },
   {
    "duration": 716,
    "start_time": "2023-01-19T15:58:37.490Z"
   },
   {
    "duration": 965,
    "start_time": "2023-01-19T15:58:39.582Z"
   },
   {
    "duration": 125,
    "start_time": "2023-01-19T15:58:47.346Z"
   },
   {
    "duration": 12,
    "start_time": "2023-01-19T16:07:49.954Z"
   },
   {
    "duration": 15,
    "start_time": "2023-01-19T16:08:22.235Z"
   },
   {
    "duration": 17,
    "start_time": "2023-01-19T16:11:59.354Z"
   },
   {
    "duration": 6,
    "start_time": "2023-01-19T17:58:46.605Z"
   },
   {
    "duration": 758,
    "start_time": "2023-01-19T17:58:49.041Z"
   },
   {
    "duration": 24,
    "start_time": "2023-01-19T17:58:50.245Z"
   },
   {
    "duration": 5,
    "start_time": "2023-01-19T17:59:12.670Z"
   },
   {
    "duration": 725,
    "start_time": "2023-01-19T17:59:13.061Z"
   },
   {
    "duration": 25,
    "start_time": "2023-01-19T17:59:13.857Z"
   },
   {
    "duration": 176,
    "start_time": "2023-01-19T17:59:15.024Z"
   },
   {
    "duration": 32,
    "start_time": "2023-01-19T17:59:16.213Z"
   },
   {
    "duration": 116,
    "start_time": "2023-01-19T17:59:17.344Z"
   },
   {
    "duration": 249,
    "start_time": "2023-01-19T17:59:18.664Z"
   },
   {
    "duration": 326,
    "start_time": "2023-01-19T17:59:19.782Z"
   },
   {
    "duration": 285,
    "start_time": "2023-01-19T17:59:21.000Z"
   },
   {
    "duration": 10,
    "start_time": "2023-01-19T18:00:05.927Z"
   },
   {
    "duration": 8,
    "start_time": "2023-01-19T18:02:22.638Z"
   },
   {
    "duration": 28,
    "start_time": "2023-01-19T18:03:29.566Z"
   },
   {
    "duration": 5,
    "start_time": "2023-01-19T18:03:32.278Z"
   },
   {
    "duration": 17,
    "start_time": "2023-01-19T18:03:42.038Z"
   },
   {
    "duration": 21,
    "start_time": "2023-01-19T18:03:48.373Z"
   },
   {
    "duration": 947,
    "start_time": "2023-01-19T18:04:37.342Z"
   },
   {
    "duration": 1028,
    "start_time": "2023-01-19T18:04:51.751Z"
   },
   {
    "duration": 945,
    "start_time": "2023-01-19T18:04:58.774Z"
   },
   {
    "duration": 1199,
    "start_time": "2023-01-19T18:05:18.552Z"
   },
   {
    "duration": 944,
    "start_time": "2023-01-19T18:05:42.040Z"
   },
   {
    "duration": 1083,
    "start_time": "2023-01-19T18:05:54.490Z"
   },
   {
    "duration": 897,
    "start_time": "2023-01-19T18:07:13.796Z"
   },
   {
    "duration": 1091,
    "start_time": "2023-01-19T18:07:22.767Z"
   },
   {
    "duration": 597,
    "start_time": "2023-01-19T18:08:00.112Z"
   },
   {
    "duration": 747,
    "start_time": "2023-01-19T18:08:08.287Z"
   },
   {
    "duration": 918,
    "start_time": "2023-01-19T18:08:15.512Z"
   },
   {
    "duration": 5,
    "start_time": "2023-01-19T18:08:39.183Z"
   },
   {
    "duration": 4,
    "start_time": "2023-01-19T18:08:40.926Z"
   },
   {
    "duration": 71,
    "start_time": "2023-01-19T18:08:42.878Z"
   },
   {
    "duration": 9,
    "start_time": "2023-01-19T18:09:12.427Z"
   },
   {
    "duration": 17,
    "start_time": "2023-01-19T18:09:15.222Z"
   },
   {
    "duration": 10,
    "start_time": "2023-01-19T18:09:39.667Z"
   },
   {
    "duration": 11,
    "start_time": "2023-01-19T18:09:41.870Z"
   },
   {
    "duration": 5,
    "start_time": "2023-01-19T18:09:42.688Z"
   },
   {
    "duration": 27,
    "start_time": "2023-01-19T18:09:44.397Z"
   },
   {
    "duration": 4,
    "start_time": "2023-01-19T18:09:46.650Z"
   },
   {
    "duration": 23267,
    "start_time": "2023-01-19T18:09:48.134Z"
   },
   {
    "duration": 5,
    "start_time": "2023-01-19T18:37:53.249Z"
   },
   {
    "duration": 707,
    "start_time": "2023-01-19T18:37:55.293Z"
   },
   {
    "duration": 27,
    "start_time": "2023-01-19T18:38:04.081Z"
   },
   {
    "duration": 150,
    "start_time": "2023-01-19T18:38:05.530Z"
   },
   {
    "duration": 40,
    "start_time": "2023-01-19T18:38:05.920Z"
   },
   {
    "duration": 107,
    "start_time": "2023-01-19T18:38:06.348Z"
   },
   {
    "duration": 243,
    "start_time": "2023-01-19T18:38:07.629Z"
   },
   {
    "duration": 135,
    "start_time": "2023-01-19T18:38:32.536Z"
   },
   {
    "duration": 274,
    "start_time": "2023-01-19T18:38:34.087Z"
   },
   {
    "duration": 3,
    "start_time": "2023-01-19T18:38:37.675Z"
   },
   {
    "duration": 9,
    "start_time": "2023-01-19T18:38:38.582Z"
   },
   {
    "duration": 2,
    "start_time": "2023-01-19T18:38:41.438Z"
   },
   {
    "duration": 7,
    "start_time": "2023-01-19T18:38:47.288Z"
   },
   {
    "duration": 19,
    "start_time": "2023-01-19T18:39:50.855Z"
   },
   {
    "duration": 5,
    "start_time": "2023-01-19T18:39:51.975Z"
   },
   {
    "duration": 16,
    "start_time": "2023-01-19T18:39:57.752Z"
   },
   {
    "duration": 16,
    "start_time": "2023-01-19T18:40:00.512Z"
   },
   {
    "duration": 4,
    "start_time": "2023-01-19T18:42:12.639Z"
   },
   {
    "duration": 5,
    "start_time": "2023-01-19T18:42:14.927Z"
   },
   {
    "duration": 3,
    "start_time": "2023-01-19T18:42:17.231Z"
   },
   {
    "duration": 9,
    "start_time": "2023-01-19T18:42:18.375Z"
   },
   {
    "duration": 17,
    "start_time": "2023-01-19T18:42:21.222Z"
   },
   {
    "duration": 9,
    "start_time": "2023-01-19T18:42:25.927Z"
   },
   {
    "duration": 10,
    "start_time": "2023-01-19T18:42:28.630Z"
   },
   {
    "duration": 5,
    "start_time": "2023-01-19T18:42:30.143Z"
   },
   {
    "duration": 21,
    "start_time": "2023-01-19T18:42:33.775Z"
   },
   {
    "duration": 3,
    "start_time": "2023-01-19T18:42:35.759Z"
   },
   {
    "duration": 12,
    "start_time": "2023-01-19T18:42:37.735Z"
   },
   {
    "duration": 22730,
    "start_time": "2023-01-19T18:43:01.103Z"
   },
   {
    "duration": 1470,
    "start_time": "2023-01-19T18:44:28.280Z"
   },
   {
    "duration": 759,
    "start_time": "2023-01-19T18:44:29.752Z"
   },
   {
    "duration": 28,
    "start_time": "2023-01-19T18:44:30.513Z"
   },
   {
    "duration": 171,
    "start_time": "2023-01-19T18:44:30.543Z"
   },
   {
    "duration": 34,
    "start_time": "2023-01-19T18:44:30.716Z"
   },
   {
    "duration": 141,
    "start_time": "2023-01-19T18:44:30.752Z"
   },
   {
    "duration": 267,
    "start_time": "2023-01-19T18:44:30.895Z"
   },
   {
    "duration": 148,
    "start_time": "2023-01-19T18:44:31.164Z"
   },
   {
    "duration": 280,
    "start_time": "2023-01-19T18:44:31.314Z"
   },
   {
    "duration": 3,
    "start_time": "2023-01-19T18:44:31.598Z"
   },
   {
    "duration": 27,
    "start_time": "2023-01-19T18:44:31.602Z"
   },
   {
    "duration": 3,
    "start_time": "2023-01-19T18:44:31.630Z"
   },
   {
    "duration": 125,
    "start_time": "2023-01-19T18:44:31.635Z"
   },
   {
    "duration": 0,
    "start_time": "2023-01-19T18:44:31.763Z"
   },
   {
    "duration": 0,
    "start_time": "2023-01-19T18:44:31.764Z"
   },
   {
    "duration": 0,
    "start_time": "2023-01-19T18:44:31.766Z"
   },
   {
    "duration": 0,
    "start_time": "2023-01-19T18:44:31.767Z"
   },
   {
    "duration": 0,
    "start_time": "2023-01-19T18:44:31.768Z"
   },
   {
    "duration": 0,
    "start_time": "2023-01-19T18:44:31.769Z"
   },
   {
    "duration": 0,
    "start_time": "2023-01-19T18:44:31.785Z"
   },
   {
    "duration": 0,
    "start_time": "2023-01-19T18:44:31.786Z"
   },
   {
    "duration": 0,
    "start_time": "2023-01-19T18:44:31.787Z"
   },
   {
    "duration": 0,
    "start_time": "2023-01-19T18:44:31.788Z"
   },
   {
    "duration": 0,
    "start_time": "2023-01-19T18:44:31.789Z"
   },
   {
    "duration": 0,
    "start_time": "2023-01-19T18:44:31.790Z"
   },
   {
    "duration": 0,
    "start_time": "2023-01-19T18:44:31.791Z"
   },
   {
    "duration": 0,
    "start_time": "2023-01-19T18:44:31.793Z"
   },
   {
    "duration": 0,
    "start_time": "2023-01-19T18:44:31.794Z"
   },
   {
    "duration": 0,
    "start_time": "2023-01-19T18:44:31.795Z"
   },
   {
    "duration": 0,
    "start_time": "2023-01-19T18:44:31.796Z"
   },
   {
    "duration": 0,
    "start_time": "2023-01-19T18:44:31.798Z"
   },
   {
    "duration": 0,
    "start_time": "2023-01-19T18:44:31.799Z"
   },
   {
    "duration": 0,
    "start_time": "2023-01-19T18:44:31.800Z"
   },
   {
    "duration": 0,
    "start_time": "2023-01-19T18:44:31.801Z"
   },
   {
    "duration": 0,
    "start_time": "2023-01-19T18:44:31.802Z"
   },
   {
    "duration": 0,
    "start_time": "2023-01-19T18:44:31.803Z"
   },
   {
    "duration": 0,
    "start_time": "2023-01-19T18:44:31.804Z"
   },
   {
    "duration": 0,
    "start_time": "2023-01-19T18:44:31.805Z"
   },
   {
    "duration": 0,
    "start_time": "2023-01-19T18:44:31.806Z"
   },
   {
    "duration": 0,
    "start_time": "2023-01-19T18:44:31.807Z"
   },
   {
    "duration": 0,
    "start_time": "2023-01-19T18:44:31.808Z"
   },
   {
    "duration": 0,
    "start_time": "2023-01-19T18:44:31.809Z"
   },
   {
    "duration": 0,
    "start_time": "2023-01-19T18:44:31.810Z"
   },
   {
    "duration": 0,
    "start_time": "2023-01-19T18:44:31.811Z"
   },
   {
    "duration": 0,
    "start_time": "2023-01-19T18:44:31.813Z"
   },
   {
    "duration": 0,
    "start_time": "2023-01-19T18:44:31.814Z"
   },
   {
    "duration": 0,
    "start_time": "2023-01-19T18:44:31.815Z"
   },
   {
    "duration": 0,
    "start_time": "2023-01-19T18:44:31.816Z"
   },
   {
    "duration": 0,
    "start_time": "2023-01-19T18:44:31.817Z"
   },
   {
    "duration": 0,
    "start_time": "2023-01-19T18:44:31.818Z"
   },
   {
    "duration": 0,
    "start_time": "2023-01-19T18:44:31.819Z"
   },
   {
    "duration": 0,
    "start_time": "2023-01-19T18:44:31.820Z"
   },
   {
    "duration": 0,
    "start_time": "2023-01-19T18:44:31.821Z"
   },
   {
    "duration": 0,
    "start_time": "2023-01-19T18:44:31.884Z"
   },
   {
    "duration": 0,
    "start_time": "2023-01-19T18:44:31.886Z"
   },
   {
    "duration": 0,
    "start_time": "2023-01-19T18:44:31.887Z"
   },
   {
    "duration": 0,
    "start_time": "2023-01-19T18:44:31.888Z"
   },
   {
    "duration": 0,
    "start_time": "2023-01-19T18:44:31.889Z"
   },
   {
    "duration": 0,
    "start_time": "2023-01-19T18:44:31.890Z"
   },
   {
    "duration": 0,
    "start_time": "2023-01-19T18:44:31.891Z"
   },
   {
    "duration": 1463,
    "start_time": "2023-01-19T18:47:03.934Z"
   },
   {
    "duration": 722,
    "start_time": "2023-01-19T18:47:05.399Z"
   },
   {
    "duration": 27,
    "start_time": "2023-01-19T18:47:06.123Z"
   },
   {
    "duration": 164,
    "start_time": "2023-01-19T18:47:06.152Z"
   },
   {
    "duration": 35,
    "start_time": "2023-01-19T18:47:06.318Z"
   },
   {
    "duration": 145,
    "start_time": "2023-01-19T18:47:06.354Z"
   },
   {
    "duration": 266,
    "start_time": "2023-01-19T18:47:06.501Z"
   },
   {
    "duration": 142,
    "start_time": "2023-01-19T18:47:06.769Z"
   },
   {
    "duration": 285,
    "start_time": "2023-01-19T18:47:06.912Z"
   },
   {
    "duration": 3,
    "start_time": "2023-01-19T18:47:07.199Z"
   },
   {
    "duration": 35,
    "start_time": "2023-01-19T18:47:07.203Z"
   },
   {
    "duration": 9,
    "start_time": "2023-01-19T18:47:07.240Z"
   },
   {
    "duration": 34,
    "start_time": "2023-01-19T18:47:07.250Z"
   },
   {
    "duration": 18,
    "start_time": "2023-01-19T18:47:07.288Z"
   },
   {
    "duration": 19,
    "start_time": "2023-01-19T18:47:07.308Z"
   },
   {
    "duration": 5,
    "start_time": "2023-01-19T18:47:07.329Z"
   },
   {
    "duration": 42,
    "start_time": "2023-01-19T18:47:07.336Z"
   },
   {
    "duration": 10,
    "start_time": "2023-01-19T18:47:07.380Z"
   },
   {
    "duration": 41,
    "start_time": "2023-01-19T18:47:07.392Z"
   },
   {
    "duration": 37,
    "start_time": "2023-01-19T18:47:07.435Z"
   },
   {
    "duration": 6,
    "start_time": "2023-01-19T18:47:07.474Z"
   },
   {
    "duration": 7,
    "start_time": "2023-01-19T18:47:07.482Z"
   },
   {
    "duration": 9,
    "start_time": "2023-01-19T18:47:07.490Z"
   },
   {
    "duration": 8,
    "start_time": "2023-01-19T18:47:07.501Z"
   },
   {
    "duration": 10,
    "start_time": "2023-01-19T18:47:07.511Z"
   },
   {
    "duration": 6,
    "start_time": "2023-01-19T18:47:07.523Z"
   },
   {
    "duration": 14,
    "start_time": "2023-01-19T18:47:07.530Z"
   },
   {
    "duration": 11,
    "start_time": "2023-01-19T18:47:07.546Z"
   },
   {
    "duration": 6,
    "start_time": "2023-01-19T18:47:07.559Z"
   },
   {
    "duration": 7,
    "start_time": "2023-01-19T18:47:07.567Z"
   },
   {
    "duration": 5,
    "start_time": "2023-01-19T18:47:07.576Z"
   },
   {
    "duration": 976,
    "start_time": "2023-01-19T18:47:07.584Z"
   },
   {
    "duration": 921,
    "start_time": "2023-01-19T18:47:08.563Z"
   },
   {
    "duration": 1157,
    "start_time": "2023-01-19T18:47:09.486Z"
   },
   {
    "duration": 594,
    "start_time": "2023-01-19T18:47:10.647Z"
   },
   {
    "duration": 624,
    "start_time": "2023-01-19T18:47:11.243Z"
   },
   {
    "duration": 969,
    "start_time": "2023-01-19T18:47:11.869Z"
   },
   {
    "duration": 4,
    "start_time": "2023-01-19T18:47:12.841Z"
   },
   {
    "duration": 8,
    "start_time": "2023-01-19T18:47:12.847Z"
   },
   {
    "duration": 22,
    "start_time": "2023-01-19T18:47:12.858Z"
   },
   {
    "duration": 18,
    "start_time": "2023-01-19T18:47:12.885Z"
   },
   {
    "duration": 3,
    "start_time": "2023-01-19T18:47:12.905Z"
   },
   {
    "duration": 25,
    "start_time": "2023-01-19T18:47:12.910Z"
   },
   {
    "duration": 15,
    "start_time": "2023-01-19T18:47:12.937Z"
   },
   {
    "duration": 3,
    "start_time": "2023-01-19T18:47:12.954Z"
   },
   {
    "duration": 29,
    "start_time": "2023-01-19T18:47:12.959Z"
   },
   {
    "duration": 6,
    "start_time": "2023-01-19T18:47:12.990Z"
   },
   {
    "duration": 24,
    "start_time": "2023-01-19T18:47:12.998Z"
   },
   {
    "duration": 3,
    "start_time": "2023-01-19T18:47:13.024Z"
   },
   {
    "duration": 16,
    "start_time": "2023-01-19T18:47:13.029Z"
   },
   {
    "duration": 23253,
    "start_time": "2023-01-19T18:47:13.047Z"
   },
   {
    "duration": 493317,
    "start_time": "2023-01-19T18:47:36.302Z"
   },
   {
    "duration": 1871,
    "start_time": "2023-01-19T18:55:49.621Z"
   },
   {
    "duration": 92,
    "start_time": "2023-01-19T18:55:51.495Z"
   },
   {
    "duration": 27,
    "start_time": "2023-01-19T18:55:51.590Z"
   },
   {
    "duration": 27,
    "start_time": "2023-01-19T18:55:51.619Z"
   },
   {
    "duration": 30363,
    "start_time": "2023-01-19T18:55:51.648Z"
   },
   {
    "duration": 1710038,
    "start_time": "2023-01-19T18:56:22.013Z"
   },
   {
    "duration": 1534,
    "start_time": "2023-01-19T19:24:52.054Z"
   },
   {
    "duration": 96,
    "start_time": "2023-01-19T19:24:53.591Z"
   },
   {
    "duration": 5,
    "start_time": "2023-01-19T21:07:20.211Z"
   },
   {
    "duration": 845,
    "start_time": "2023-01-19T21:07:21.970Z"
   },
   {
    "duration": 25,
    "start_time": "2023-01-19T21:07:22.817Z"
   },
   {
    "duration": 154,
    "start_time": "2023-01-19T21:07:23.587Z"
   },
   {
    "duration": 37,
    "start_time": "2023-01-19T21:07:24.051Z"
   },
   {
    "duration": 119,
    "start_time": "2023-01-19T21:07:24.545Z"
   },
   {
    "duration": 282,
    "start_time": "2023-01-19T21:07:25.250Z"
   },
   {
    "duration": 153,
    "start_time": "2023-01-19T21:07:26.970Z"
   },
   {
    "duration": 285,
    "start_time": "2023-01-19T21:07:29.059Z"
   },
   {
    "duration": 2,
    "start_time": "2023-01-19T21:07:31.554Z"
   },
   {
    "duration": 10,
    "start_time": "2023-01-19T21:07:34.321Z"
   },
   {
    "duration": 4,
    "start_time": "2023-01-19T21:07:41.058Z"
   },
   {
    "duration": 8,
    "start_time": "2023-01-19T21:07:41.850Z"
   },
   {
    "duration": 15,
    "start_time": "2023-01-19T21:07:44.146Z"
   },
   {
    "duration": 24,
    "start_time": "2023-01-19T21:07:45.425Z"
   },
   {
    "duration": 17,
    "start_time": "2023-01-19T21:08:04.377Z"
   },
   {
    "duration": 16,
    "start_time": "2023-01-19T21:08:07.233Z"
   },
   {
    "duration": 16,
    "start_time": "2023-01-19T21:08:09.281Z"
   },
   {
    "duration": 4,
    "start_time": "2023-01-19T21:08:11.771Z"
   },
   {
    "duration": 3,
    "start_time": "2023-01-19T21:08:13.274Z"
   },
   {
    "duration": 7,
    "start_time": "2023-01-19T21:08:15.235Z"
   },
   {
    "duration": 8,
    "start_time": "2023-01-19T21:08:17.418Z"
   },
   {
    "duration": 6,
    "start_time": "2023-01-19T21:08:18.377Z"
   },
   {
    "duration": 8,
    "start_time": "2023-01-19T21:08:19.569Z"
   },
   {
    "duration": 31,
    "start_time": "2023-01-19T21:08:21.178Z"
   },
   {
    "duration": 3891,
    "start_time": "2023-01-19T21:08:44.000Z"
   },
   {
    "duration": 16506,
    "start_time": "2023-01-19T21:08:53.466Z"
   },
   {
    "duration": 120,
    "start_time": "2023-01-19T21:09:19.426Z"
   },
   {
    "duration": 163031,
    "start_time": "2023-01-19T21:10:04.218Z"
   },
   {
    "duration": 3199,
    "start_time": "2023-01-19T21:17:29.537Z"
   },
   {
    "duration": 12,
    "start_time": "2023-01-19T21:17:44.123Z"
   },
   {
    "duration": 1565,
    "start_time": "2023-01-20T16:53:07.997Z"
   },
   {
    "duration": 3019,
    "start_time": "2023-01-20T16:53:09.565Z"
   },
   {
    "duration": 26,
    "start_time": "2023-01-20T16:53:12.586Z"
   },
   {
    "duration": 139,
    "start_time": "2023-01-20T16:53:12.614Z"
   },
   {
    "duration": 29,
    "start_time": "2023-01-20T16:53:12.914Z"
   },
   {
    "duration": 117,
    "start_time": "2023-01-20T16:53:13.866Z"
   },
   {
    "duration": 242,
    "start_time": "2023-01-20T16:53:17.533Z"
   },
   {
    "duration": 131,
    "start_time": "2023-01-20T16:53:17.958Z"
   },
   {
    "duration": 270,
    "start_time": "2023-01-20T16:53:20.142Z"
   },
   {
    "duration": 10,
    "start_time": "2023-01-20T16:53:26.923Z"
   },
   {
    "duration": 3,
    "start_time": "2023-01-20T16:53:33.585Z"
   },
   {
    "duration": 7,
    "start_time": "2023-01-20T16:53:34.122Z"
   },
   {
    "duration": 27,
    "start_time": "2023-01-20T16:53:37.666Z"
   },
   {
    "duration": 6,
    "start_time": "2023-01-20T16:54:35.400Z"
   },
   {
    "duration": 421,
    "start_time": "2023-01-20T16:54:35.808Z"
   },
   {
    "duration": 1472,
    "start_time": "2023-01-20T16:55:13.743Z"
   },
   {
    "duration": 642,
    "start_time": "2023-01-20T16:55:37.003Z"
   },
   {
    "duration": 594,
    "start_time": "2023-01-20T16:55:41.043Z"
   },
   {
    "duration": 726,
    "start_time": "2023-01-20T16:55:45.595Z"
   },
   {
    "duration": 10,
    "start_time": "2023-01-20T16:55:52.806Z"
   },
   {
    "duration": 15,
    "start_time": "2023-01-20T16:55:54.258Z"
   },
   {
    "duration": 12,
    "start_time": "2023-01-20T16:55:55.171Z"
   },
   {
    "duration": 5,
    "start_time": "2023-01-20T16:55:56.483Z"
   },
   {
    "duration": 4,
    "start_time": "2023-01-20T16:55:57.452Z"
   },
   {
    "duration": 9,
    "start_time": "2023-01-20T16:55:59.067Z"
   },
   {
    "duration": 9,
    "start_time": "2023-01-20T16:56:00.699Z"
   },
   {
    "duration": 7,
    "start_time": "2023-01-20T16:56:01.771Z"
   },
   {
    "duration": 7,
    "start_time": "2023-01-20T16:56:02.746Z"
   },
   {
    "duration": 12,
    "start_time": "2023-01-20T16:56:03.670Z"
   },
   {
    "duration": 39496,
    "start_time": "2023-01-20T16:56:27.964Z"
   },
   {
    "duration": 901256,
    "start_time": "2023-01-20T16:58:52.457Z"
   },
   {
    "duration": 1422,
    "start_time": "2023-01-20T17:18:41.499Z"
   },
   {
    "duration": 715,
    "start_time": "2023-01-20T17:18:42.923Z"
   },
   {
    "duration": 25,
    "start_time": "2023-01-20T17:18:43.640Z"
   },
   {
    "duration": 152,
    "start_time": "2023-01-20T17:18:43.667Z"
   },
   {
    "duration": 30,
    "start_time": "2023-01-20T17:18:43.821Z"
   },
   {
    "duration": 134,
    "start_time": "2023-01-20T17:18:43.852Z"
   },
   {
    "duration": 238,
    "start_time": "2023-01-20T17:18:43.988Z"
   },
   {
    "duration": 136,
    "start_time": "2023-01-20T17:18:44.227Z"
   },
   {
    "duration": 300,
    "start_time": "2023-01-20T17:18:44.365Z"
   },
   {
    "duration": 10,
    "start_time": "2023-01-20T17:18:44.667Z"
   },
   {
    "duration": 5,
    "start_time": "2023-01-20T17:18:44.679Z"
   },
   {
    "duration": 13,
    "start_time": "2023-01-20T17:18:44.686Z"
   },
   {
    "duration": 41,
    "start_time": "2023-01-20T17:18:44.702Z"
   },
   {
    "duration": 5,
    "start_time": "2023-01-20T17:18:44.747Z"
   },
   {
    "duration": 1407,
    "start_time": "2023-01-20T17:18:44.754Z"
   },
   {
    "duration": 569,
    "start_time": "2023-01-20T17:18:46.163Z"
   },
   {
    "duration": 684,
    "start_time": "2023-01-20T17:18:46.734Z"
   },
   {
    "duration": 736,
    "start_time": "2023-01-20T17:18:47.421Z"
   },
   {
    "duration": 11,
    "start_time": "2023-01-20T17:18:48.159Z"
   },
   {
    "duration": 11,
    "start_time": "2023-01-20T17:18:48.172Z"
   },
   {
    "duration": 9,
    "start_time": "2023-01-20T17:18:48.185Z"
   },
   {
    "duration": 27,
    "start_time": "2023-01-20T17:18:48.195Z"
   },
   {
    "duration": 6,
    "start_time": "2023-01-20T17:18:48.223Z"
   },
   {
    "duration": 11,
    "start_time": "2023-01-20T17:18:48.230Z"
   },
   {
    "duration": 9,
    "start_time": "2023-01-20T17:18:48.242Z"
   },
   {
    "duration": 7,
    "start_time": "2023-01-20T17:18:48.253Z"
   },
   {
    "duration": 7,
    "start_time": "2023-01-20T17:18:48.261Z"
   },
   {
    "duration": 16,
    "start_time": "2023-01-20T17:18:48.269Z"
   },
   {
    "duration": 39359,
    "start_time": "2023-01-20T17:18:48.286Z"
   },
   {
    "duration": 2177,
    "start_time": "2023-01-20T17:23:37.545Z"
   },
   {
    "duration": 2592,
    "start_time": "2023-01-20T17:23:39.724Z"
   },
   {
    "duration": 9,
    "start_time": "2023-01-20T17:23:42.320Z"
   },
   {
    "duration": 12251,
    "start_time": "2023-01-20T17:23:42.332Z"
   },
   {
    "duration": 28330,
    "start_time": "2023-01-20T17:27:48.987Z"
   },
   {
    "duration": 329,
    "start_time": "2023-01-20T17:28:17.318Z"
   },
   {
    "duration": 6,
    "start_time": "2023-01-20T17:29:28.530Z"
   },
   {
    "duration": 674,
    "start_time": "2023-01-20T17:29:29.931Z"
   },
   {
    "duration": 21,
    "start_time": "2023-01-20T17:29:31.178Z"
   },
   {
    "duration": 131,
    "start_time": "2023-01-20T17:29:31.929Z"
   },
   {
    "duration": 31,
    "start_time": "2023-01-20T17:29:32.515Z"
   },
   {
    "duration": 107,
    "start_time": "2023-01-20T17:29:33.050Z"
   },
   {
    "duration": 226,
    "start_time": "2023-01-20T17:29:33.529Z"
   },
   {
    "duration": 246,
    "start_time": "2023-01-20T17:29:33.914Z"
   },
   {
    "duration": 265,
    "start_time": "2023-01-20T17:29:34.229Z"
   },
   {
    "duration": 8,
    "start_time": "2023-01-20T17:29:35.966Z"
   },
   {
    "duration": 3,
    "start_time": "2023-01-20T17:29:37.114Z"
   },
   {
    "duration": 7,
    "start_time": "2023-01-20T17:29:37.401Z"
   },
   {
    "duration": 28,
    "start_time": "2023-01-20T17:29:37.932Z"
   },
   {
    "duration": 6,
    "start_time": "2023-01-20T17:29:38.764Z"
   },
   {
    "duration": 1211,
    "start_time": "2023-01-20T17:29:39.050Z"
   },
   {
    "duration": 688,
    "start_time": "2023-01-20T17:29:40.263Z"
   },
   {
    "duration": 554,
    "start_time": "2023-01-20T17:29:40.953Z"
   },
   {
    "duration": 736,
    "start_time": "2023-01-20T17:29:41.509Z"
   },
   {
    "duration": 10,
    "start_time": "2023-01-20T17:29:42.247Z"
   },
   {
    "duration": 13,
    "start_time": "2023-01-20T17:29:42.500Z"
   },
   {
    "duration": 8,
    "start_time": "2023-01-20T17:29:43.034Z"
   },
   {
    "duration": 4,
    "start_time": "2023-01-20T17:29:43.481Z"
   },
   {
    "duration": 4,
    "start_time": "2023-01-20T17:29:43.984Z"
   },
   {
    "duration": 7,
    "start_time": "2023-01-20T17:29:44.960Z"
   },
   {
    "duration": 6,
    "start_time": "2023-01-20T17:29:45.552Z"
   },
   {
    "duration": 6,
    "start_time": "2023-01-20T17:29:45.986Z"
   },
   {
    "duration": 5,
    "start_time": "2023-01-20T17:29:46.433Z"
   },
   {
    "duration": 14,
    "start_time": "2023-01-20T17:29:47.771Z"
   },
   {
    "duration": 1421524,
    "start_time": "2023-01-20T17:29:52.306Z"
   },
   {
    "duration": 721,
    "start_time": "2023-01-20T18:13:05.349Z"
   },
   {
    "duration": 1429,
    "start_time": "2023-01-20T18:25:17.478Z"
   },
   {
    "duration": 755,
    "start_time": "2023-01-20T18:25:18.909Z"
   },
   {
    "duration": 24,
    "start_time": "2023-01-20T18:25:19.666Z"
   },
   {
    "duration": 148,
    "start_time": "2023-01-20T18:25:19.692Z"
   },
   {
    "duration": 34,
    "start_time": "2023-01-20T18:25:19.843Z"
   },
   {
    "duration": 133,
    "start_time": "2023-01-20T18:25:19.879Z"
   },
   {
    "duration": 233,
    "start_time": "2023-01-20T18:25:20.021Z"
   },
   {
    "duration": 135,
    "start_time": "2023-01-20T18:25:20.256Z"
   },
   {
    "duration": 283,
    "start_time": "2023-01-20T18:25:20.393Z"
   },
   {
    "duration": 10,
    "start_time": "2023-01-20T18:25:20.677Z"
   },
   {
    "duration": 11,
    "start_time": "2023-01-20T18:25:20.689Z"
   },
   {
    "duration": 24,
    "start_time": "2023-01-20T18:25:20.702Z"
   },
   {
    "duration": 36,
    "start_time": "2023-01-20T18:25:20.728Z"
   },
   {
    "duration": 6,
    "start_time": "2023-01-20T18:25:20.767Z"
   },
   {
    "duration": 1394,
    "start_time": "2023-01-20T18:25:20.775Z"
   },
   {
    "duration": 548,
    "start_time": "2023-01-20T18:25:22.171Z"
   },
   {
    "duration": 702,
    "start_time": "2023-01-20T18:25:22.721Z"
   },
   {
    "duration": 758,
    "start_time": "2023-01-20T18:25:23.425Z"
   },
   {
    "duration": 49,
    "start_time": "2023-01-20T18:25:24.185Z"
   },
   {
    "duration": 11,
    "start_time": "2023-01-20T18:25:24.236Z"
   },
   {
    "duration": 16,
    "start_time": "2023-01-20T18:25:24.249Z"
   },
   {
    "duration": 9,
    "start_time": "2023-01-20T18:25:24.267Z"
   },
   {
    "duration": 5,
    "start_time": "2023-01-20T18:25:24.278Z"
   },
   {
    "duration": 38,
    "start_time": "2023-01-20T18:25:24.286Z"
   },
   {
    "duration": 10,
    "start_time": "2023-01-20T18:25:24.327Z"
   },
   {
    "duration": 15,
    "start_time": "2023-01-20T18:25:24.340Z"
   },
   {
    "duration": 9,
    "start_time": "2023-01-20T18:25:24.357Z"
   },
   {
    "duration": 16,
    "start_time": "2023-01-20T18:25:24.369Z"
   },
   {
    "duration": 34,
    "start_time": "2023-01-20T18:25:24.387Z"
   },
   {
    "duration": 38128,
    "start_time": "2023-01-20T18:25:24.423Z"
   },
   {
    "duration": 369349,
    "start_time": "2023-01-20T18:26:02.553Z"
   },
   {
    "duration": 1924,
    "start_time": "2023-01-20T18:32:11.904Z"
   },
   {
    "duration": 359,
    "start_time": "2023-01-20T18:32:13.921Z"
   },
   {
    "duration": 8,
    "start_time": "2023-01-20T18:32:14.282Z"
   },
   {
    "duration": 8601,
    "start_time": "2023-01-20T18:46:28.443Z"
   },
   {
    "duration": 107,
    "start_time": "2023-01-22T11:15:25.155Z"
   },
   {
    "duration": 1622,
    "start_time": "2023-01-22T11:33:30.109Z"
   },
   {
    "duration": 3098,
    "start_time": "2023-01-22T11:33:31.735Z"
   },
   {
    "duration": 26,
    "start_time": "2023-01-22T11:33:34.835Z"
   },
   {
    "duration": 144,
    "start_time": "2023-01-22T11:33:34.863Z"
   },
   {
    "duration": 42,
    "start_time": "2023-01-22T11:33:35.009Z"
   },
   {
    "duration": 137,
    "start_time": "2023-01-22T11:33:35.053Z"
   },
   {
    "duration": 243,
    "start_time": "2023-01-22T11:33:35.192Z"
   },
   {
    "duration": 137,
    "start_time": "2023-01-22T11:33:35.437Z"
   },
   {
    "duration": 253,
    "start_time": "2023-01-22T11:33:35.577Z"
   },
   {
    "duration": 9,
    "start_time": "2023-01-22T11:33:37.066Z"
   },
   {
    "duration": 3,
    "start_time": "2023-01-22T11:33:39.045Z"
   },
   {
    "duration": 7,
    "start_time": "2023-01-22T11:33:39.489Z"
   },
   {
    "duration": 27,
    "start_time": "2023-01-22T11:33:41.737Z"
   },
   {
    "duration": 6,
    "start_time": "2023-01-22T11:33:43.835Z"
   },
   {
    "duration": 1346,
    "start_time": "2023-01-22T11:33:46.005Z"
   },
   {
    "duration": 548,
    "start_time": "2023-01-22T11:33:54.587Z"
   },
   {
    "duration": 682,
    "start_time": "2023-01-22T11:34:12.899Z"
   },
   {
    "duration": 542,
    "start_time": "2023-01-22T11:34:40.065Z"
   },
   {
    "duration": 690,
    "start_time": "2023-01-22T11:34:59.538Z"
   },
   {
    "duration": 218,
    "start_time": "2023-01-22T11:35:57.013Z"
   },
   {
    "duration": 213,
    "start_time": "2023-01-22T11:37:55.844Z"
   },
   {
    "duration": 499,
    "start_time": "2023-01-22T11:38:16.961Z"
   },
   {
    "duration": 543,
    "start_time": "2023-01-22T11:38:34.921Z"
   },
   {
    "duration": 712,
    "start_time": "2023-01-22T11:39:20.274Z"
   },
   {
    "duration": 751,
    "start_time": "2023-01-22T11:39:46.513Z"
   },
   {
    "duration": 704,
    "start_time": "2023-01-22T11:40:19.164Z"
   },
   {
    "duration": 38,
    "start_time": "2023-01-22T11:40:50.033Z"
   },
   {
    "duration": 10,
    "start_time": "2023-01-22T11:40:51.364Z"
   },
   {
    "duration": 14,
    "start_time": "2023-01-22T11:40:52.520Z"
   },
   {
    "duration": 9,
    "start_time": "2023-01-22T11:40:53.288Z"
   },
   {
    "duration": 4,
    "start_time": "2023-01-22T11:40:54.065Z"
   },
   {
    "duration": 3,
    "start_time": "2023-01-22T11:40:54.577Z"
   },
   {
    "duration": 6,
    "start_time": "2023-01-22T11:40:54.968Z"
   },
   {
    "duration": 6,
    "start_time": "2023-01-22T11:40:55.370Z"
   },
   {
    "duration": 6,
    "start_time": "2023-01-22T11:40:55.808Z"
   },
   {
    "duration": 5,
    "start_time": "2023-01-22T11:40:57.224Z"
   },
   {
    "duration": 12,
    "start_time": "2023-01-22T11:40:57.720Z"
   },
   {
    "duration": 35551,
    "start_time": "2023-01-22T11:41:08.007Z"
   },
   {
    "duration": 321,
    "start_time": "2023-01-22T11:41:53.759Z"
   },
   {
    "duration": 81770,
    "start_time": "2023-01-22T11:41:55.945Z"
   },
   {
    "duration": 18457,
    "start_time": "2023-01-22T11:44:14.569Z"
   },
   {
    "duration": 1767,
    "start_time": "2023-01-22T11:44:41.432Z"
   },
   {
    "duration": 3717,
    "start_time": "2023-01-22T11:45:00.359Z"
   },
   {
    "duration": 6334,
    "start_time": "2023-01-22T11:45:19.536Z"
   },
   {
    "duration": 10227,
    "start_time": "2023-01-22T11:45:35.545Z"
   },
   {
    "duration": 8782,
    "start_time": "2023-01-22T11:46:06.195Z"
   }
  ],
  "kernelspec": {
   "display_name": "Python 3 (ipykernel)",
   "language": "python",
   "name": "python3"
  },
  "language_info": {
   "codemirror_mode": {
    "name": "ipython",
    "version": 3
   },
   "file_extension": ".py",
   "mimetype": "text/x-python",
   "name": "python",
   "nbconvert_exporter": "python",
   "pygments_lexer": "ipython3",
   "version": "3.9.5"
  },
  "toc": {
   "base_numbering": 1,
   "nav_menu": {},
   "number_sections": true,
   "sideBar": true,
   "skip_h1_title": true,
   "title_cell": "Содержание",
   "title_sidebar": "Contents",
   "toc_cell": true,
   "toc_position": {},
   "toc_section_display": true,
   "toc_window_display": false
  }
 },
 "nbformat": 4,
 "nbformat_minor": 2
}
