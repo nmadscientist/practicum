{
  "cells": [
    {
      "cell_type": "markdown",
      "metadata": {
        "toc": true,
        "id": "TSpS_T_nstOG"
      },
      "source": [
        "<h1>Содержание<span class=\"tocSkip\"></span></h1>\n",
        "<div class=\"toc\"><ul class=\"toc-item\"><li><span><a href=\"#Подготовка\" data-toc-modified-id=\"Подготовка-1\"><span class=\"toc-item-num\">1&nbsp;&nbsp;</span>Подготовка</a></span></li><li><span><a href=\"#Обучение\" data-toc-modified-id=\"Обучение-2\"><span class=\"toc-item-num\">2&nbsp;&nbsp;</span>Обучение</a></span><ul class=\"toc-item\"><li><span><a href=\"#Logistic-Regression\" data-toc-modified-id=\"Logistic-Regression-2.1\"><span class=\"toc-item-num\">2.1&nbsp;&nbsp;</span>Logistic Regression</a></span></li><li><span><a href=\"#Random-Forest\" data-toc-modified-id=\"Random-Forest-2.2\"><span class=\"toc-item-num\">2.2&nbsp;&nbsp;</span>Random Forest</a></span></li><li><span><a href=\"#LightGBM\" data-toc-modified-id=\"LightGBM-2.3\"><span class=\"toc-item-num\">2.3&nbsp;&nbsp;</span>LightGBM</a></span></li><li><span><a href=\"#Предсказание-на-тестовой-выборке\" data-toc-modified-id=\"Предсказание-на-тестовой-выборке-2.4\"><span class=\"toc-item-num\">2.4&nbsp;&nbsp;</span>Предсказание на тестовой выборке</a></span></li></ul></li><li><span><a href=\"#Выводы\" data-toc-modified-id=\"Выводы-3\"><span class=\"toc-item-num\">3&nbsp;&nbsp;</span>Выводы</a></span></li><li><span><a href=\"#Чек-лист-проверки\" data-toc-modified-id=\"Чек-лист-проверки-4\"><span class=\"toc-item-num\">4&nbsp;&nbsp;</span>Чек-лист проверки</a></span></li></ul></div>"
      ]
    },
    {
      "cell_type": "markdown",
      "metadata": {
        "id": "g7Nnz6eMstOG"
      },
      "source": [
        "# Проект для «Викишоп»"
      ]
    },
    {
      "cell_type": "markdown",
      "metadata": {
        "id": "PbAw0U84stOH"
      },
      "source": [
        "Интернет-магазин «Викишоп» запускает новый сервис. Теперь пользователи могут редактировать и дополнять описания товаров, как в вики-сообществах. То есть клиенты предлагают свои правки и комментируют изменения других. Магазину нужен инструмент, который будет искать токсичные комментарии и отправлять их на модерацию.\n",
        "\n",
        "Обучите модель классифицировать комментарии на позитивные и негативные. В вашем распоряжении набор данных с разметкой о токсичности правок.\n",
        "\n",
        "Постройте модель со значением метрики качества *F1* не меньше 0.75.\n",
        "\n",
        "**Инструкция по выполнению проекта**\n",
        "\n",
        "1. Загрузите и подготовьте данные.\n",
        "2. Обучите разные модели.\n",
        "3. Сделайте выводы.\n",
        "\n",
        "Для выполнения проекта применять *BERT* необязательно, но вы можете попробовать.\n",
        "\n",
        "**Описание данных**\n",
        "\n",
        "Данные находятся в файле `toxic_comments.csv`. Столбец *text* в нём содержит текст комментария, а *toxic* — целевой признак."
      ]
    },
    {
      "cell_type": "markdown",
      "metadata": {
        "id": "Yg6C-e8zstOH"
      },
      "source": [
        "## Подготовка"
      ]
    },
    {
      "cell_type": "code",
      "execution_count": null,
      "metadata": {
        "scrolled": true,
        "id": "PurWEGj8stOI",
        "outputId": "84f8e776-898a-4bc3-a05d-a2518a5df9d3"
      },
      "outputs": [
        {
          "name": "stderr",
          "output_type": "stream",
          "text": [
            "[nltk_data] Downloading package averaged_perceptron_tagger to\n",
            "[nltk_data]     /home/jovyan/nltk_data...\n",
            "[nltk_data]   Unzipping taggers/averaged_perceptron_tagger.zip.\n",
            "[nltk_data] Downloading package wordnet to /home/jovyan/nltk_data...\n",
            "[nltk_data]   Package wordnet is already up-to-date!\n",
            "[nltk_data] Downloading package stopwords to /home/jovyan/nltk_data...\n",
            "[nltk_data]   Package stopwords is already up-to-date!\n"
          ]
        },
        {
          "data": {
            "text/plain": [
              "True"
            ]
          },
          "execution_count": 1,
          "metadata": {},
          "output_type": "execute_result"
        }
      ],
      "source": [
        "import pandas as pd\n",
        "import numpy as np\n",
        "\n",
        "\n",
        "from sklearn.model_selection import train_test_split, GridSearchCV, cross_val_score\n",
        "from sklearn.preprocessing import LabelEncoder, OneHotEncoder\n",
        "\n",
        "from sklearn.linear_model import LogisticRegression\n",
        "from sklearn.ensemble import RandomForestClassifier\n",
        "from lightgbm import LGBMClassifier\n",
        "from sklearn.metrics import f1_score\n",
        "from sklearn.dummy import DummyClassifier\n",
        "from sklearn.utils import shuffle\n",
        "from sklearn.pipeline import Pipeline\n",
        "\n",
        "import nltk\n",
        "nltk.download('averaged_perceptron_tagger')\n",
        "from nltk.corpus import wordnet\n",
        "from nltk.corpus import stopwords as nltk_stopwords\n",
        "from nltk.stem import WordNetLemmatizer\n",
        "from sklearn.feature_extraction.text import TfidfVectorizer\n",
        "import re\n",
        "\n",
        "from tqdm.notebook import tqdm\n",
        "tqdm.pandas()\n",
        "\n",
        "lemmatizer = WordNetLemmatizer()\n",
        "nltk.download('wordnet')\n",
        "nltk.download('stopwords')"
      ]
    },
    {
      "cell_type": "code",
      "execution_count": null,
      "metadata": {
        "id": "j_rkOLVYstOK"
      },
      "outputs": [],
      "source": [
        "df = pd.read_csv(\"/datasets/toxic_comments.csv\")"
      ]
    },
    {
      "cell_type": "code",
      "execution_count": null,
      "metadata": {
        "id": "lVaKRcW_stOL",
        "outputId": "cd69076b-4abc-4c70-8475-7be36a001f80"
      },
      "outputs": [
        {
          "data": {
            "text/html": [
              "<div>\n",
              "<style scoped>\n",
              "    .dataframe tbody tr th:only-of-type {\n",
              "        vertical-align: middle;\n",
              "    }\n",
              "\n",
              "    .dataframe tbody tr th {\n",
              "        vertical-align: top;\n",
              "    }\n",
              "\n",
              "    .dataframe thead th {\n",
              "        text-align: right;\n",
              "    }\n",
              "</style>\n",
              "<table border=\"1\" class=\"dataframe\">\n",
              "  <thead>\n",
              "    <tr style=\"text-align: right;\">\n",
              "      <th></th>\n",
              "      <th>Unnamed: 0</th>\n",
              "      <th>text</th>\n",
              "      <th>toxic</th>\n",
              "    </tr>\n",
              "  </thead>\n",
              "  <tbody>\n",
              "    <tr>\n",
              "      <th>0</th>\n",
              "      <td>0</td>\n",
              "      <td>Explanation\\nWhy the edits made under my usern...</td>\n",
              "      <td>0</td>\n",
              "    </tr>\n",
              "    <tr>\n",
              "      <th>1</th>\n",
              "      <td>1</td>\n",
              "      <td>D'aww! He matches this background colour I'm s...</td>\n",
              "      <td>0</td>\n",
              "    </tr>\n",
              "    <tr>\n",
              "      <th>2</th>\n",
              "      <td>2</td>\n",
              "      <td>Hey man, I'm really not trying to edit war. It...</td>\n",
              "      <td>0</td>\n",
              "    </tr>\n",
              "    <tr>\n",
              "      <th>3</th>\n",
              "      <td>3</td>\n",
              "      <td>\"\\nMore\\nI can't make any real suggestions on ...</td>\n",
              "      <td>0</td>\n",
              "    </tr>\n",
              "    <tr>\n",
              "      <th>4</th>\n",
              "      <td>4</td>\n",
              "      <td>You, sir, are my hero. Any chance you remember...</td>\n",
              "      <td>0</td>\n",
              "    </tr>\n",
              "  </tbody>\n",
              "</table>\n",
              "</div>"
            ],
            "text/plain": [
              "   Unnamed: 0                                               text  toxic\n",
              "0           0  Explanation\\nWhy the edits made under my usern...      0\n",
              "1           1  D'aww! He matches this background colour I'm s...      0\n",
              "2           2  Hey man, I'm really not trying to edit war. It...      0\n",
              "3           3  \"\\nMore\\nI can't make any real suggestions on ...      0\n",
              "4           4  You, sir, are my hero. Any chance you remember...      0"
            ]
          },
          "execution_count": 3,
          "metadata": {},
          "output_type": "execute_result"
        }
      ],
      "source": [
        "df.head()"
      ]
    },
    {
      "cell_type": "code",
      "execution_count": null,
      "metadata": {
        "id": "gtW61WXUstOM"
      },
      "outputs": [],
      "source": [
        "df = df.drop(['Unnamed: 0'], axis=1)"
      ]
    },
    {
      "cell_type": "code",
      "execution_count": null,
      "metadata": {
        "id": "xo4aMVAjstOM",
        "outputId": "b9b6f5e9-16a3-46af-c272-ec59d93680af"
      },
      "outputs": [
        {
          "name": "stdout",
          "output_type": "stream",
          "text": [
            "<class 'pandas.core.frame.DataFrame'>\n",
            "RangeIndex: 159292 entries, 0 to 159291\n",
            "Data columns (total 2 columns):\n",
            " #   Column  Non-Null Count   Dtype \n",
            "---  ------  --------------   ----- \n",
            " 0   text    159292 non-null  object\n",
            " 1   toxic   159292 non-null  int64 \n",
            "dtypes: int64(1), object(1)\n",
            "memory usage: 2.4+ MB\n"
          ]
        }
      ],
      "source": [
        "df.info()"
      ]
    },
    {
      "cell_type": "code",
      "execution_count": null,
      "metadata": {
        "scrolled": true,
        "id": "X8fa7aqgstON",
        "outputId": "11fcc8fb-fe03-486e-b3b4-a505b3ffe83d"
      },
      "outputs": [
        {
          "data": {
            "text/plain": [
              "0    143106\n",
              "1     16186\n",
              "Name: toxic, dtype: int64"
            ]
          },
          "metadata": {},
          "output_type": "display_data"
        },
        {
          "data": {
            "text/plain": [
              "8.841344371679229"
            ]
          },
          "metadata": {},
          "output_type": "display_data"
        }
      ],
      "source": [
        "display(df['toxic'].value_counts())\n",
        "display(df['toxic'].value_counts()[0] / df['toxic'].value_counts()[1])"
      ]
    },
    {
      "cell_type": "code",
      "execution_count": null,
      "metadata": {
        "id": "Fcvg9VGqstOO"
      },
      "outputs": [],
      "source": [
        "def clear_text(text):\n",
        "    text = text.lower()\n",
        "    text = re.sub(r'[^a-zA-Z]', ' ', text)\n",
        "    text = ' '.join(text.split())\n",
        "    return text"
      ]
    },
    {
      "cell_type": "code",
      "execution_count": null,
      "metadata": {
        "colab": {
          "referenced_widgets": [
            "c108c84fa0af4ac98072cfe343b90f6c"
          ]
        },
        "id": "qzGIaEU7stOO",
        "outputId": "1c462baf-439c-444b-e2fa-ed070a7b2ed0"
      },
      "outputs": [
        {
          "data": {
            "application/vnd.jupyter.widget-view+json": {
              "model_id": "c108c84fa0af4ac98072cfe343b90f6c",
              "version_major": 2,
              "version_minor": 0
            },
            "text/plain": [
              "  0%|          | 0/159292 [00:00<?, ?it/s]"
            ]
          },
          "metadata": {},
          "output_type": "display_data"
        }
      ],
      "source": [
        "df['text'] = df['text'].progress_apply(clear_text)"
      ]
    },
    {
      "cell_type": "code",
      "execution_count": null,
      "metadata": {
        "id": "7u0ndUIzstOP"
      },
      "outputs": [],
      "source": [
        "#POS-тэг\n",
        "def get_wordnet_pos(word):\n",
        "    tag = nltk.pos_tag([word])[0][1][0].upper()\n",
        "    tag_dict = {\"J\": wordnet.ADJ,\n",
        "                \"N\": wordnet.NOUN,\n",
        "                \"V\": wordnet.VERB,\n",
        "                \"R\": wordnet.ADV\n",
        "               }\n",
        "    return tag_dict.get(tag, wordnet.NOUN)"
      ]
    },
    {
      "cell_type": "code",
      "execution_count": null,
      "metadata": {
        "id": "CHo4CXY3stOP"
      },
      "outputs": [],
      "source": [
        "def lemmatize(text):\n",
        "    text = [lemmatizer.lemmatize(w, get_wordnet_pos(w)) for w in nltk.word_tokenize(text)]\n",
        "    return ' '.join(text)"
      ]
    },
    {
      "cell_type": "code",
      "execution_count": null,
      "metadata": {
        "colab": {
          "referenced_widgets": [
            "29ad8801a4d74e22a51f576bb9f6766c"
          ]
        },
        "id": "N5M488mystOQ",
        "outputId": "8c9365e8-fa1e-4512-b8f1-bbd30e9b3af3"
      },
      "outputs": [
        {
          "data": {
            "application/vnd.jupyter.widget-view+json": {
              "model_id": "29ad8801a4d74e22a51f576bb9f6766c",
              "version_major": 2,
              "version_minor": 0
            },
            "text/plain": [
              "  0%|          | 0/159292 [00:00<?, ?it/s]"
            ]
          },
          "metadata": {},
          "output_type": "display_data"
        }
      ],
      "source": [
        "df['text'] = df['text'].progress_apply(lemmatize)"
      ]
    },
    {
      "cell_type": "code",
      "execution_count": null,
      "metadata": {
        "id": "SactuiPUstOR",
        "outputId": "b9fd9f21-ff72-4d1a-cb31-0101552521f7"
      },
      "outputs": [
        {
          "data": {
            "text/html": [
              "<div>\n",
              "<style scoped>\n",
              "    .dataframe tbody tr th:only-of-type {\n",
              "        vertical-align: middle;\n",
              "    }\n",
              "\n",
              "    .dataframe tbody tr th {\n",
              "        vertical-align: top;\n",
              "    }\n",
              "\n",
              "    .dataframe thead th {\n",
              "        text-align: right;\n",
              "    }\n",
              "</style>\n",
              "<table border=\"1\" class=\"dataframe\">\n",
              "  <thead>\n",
              "    <tr style=\"text-align: right;\">\n",
              "      <th></th>\n",
              "      <th>text</th>\n",
              "      <th>toxic</th>\n",
              "    </tr>\n",
              "  </thead>\n",
              "  <tbody>\n",
              "    <tr>\n",
              "      <th>0</th>\n",
              "      <td>explanation why the edits make under my userna...</td>\n",
              "      <td>0</td>\n",
              "    </tr>\n",
              "    <tr>\n",
              "      <th>1</th>\n",
              "      <td>d aww he match this background colour i m seem...</td>\n",
              "      <td>0</td>\n",
              "    </tr>\n",
              "    <tr>\n",
              "      <th>2</th>\n",
              "      <td>hey man i m really not try to edit war it s ju...</td>\n",
              "      <td>0</td>\n",
              "    </tr>\n",
              "    <tr>\n",
              "      <th>3</th>\n",
              "      <td>more i can t make any real suggestion on impro...</td>\n",
              "      <td>0</td>\n",
              "    </tr>\n",
              "    <tr>\n",
              "      <th>4</th>\n",
              "      <td>you sir be my hero any chance you remember wha...</td>\n",
              "      <td>0</td>\n",
              "    </tr>\n",
              "    <tr>\n",
              "      <th>5</th>\n",
              "      <td>congratulation from me a well use the tool wel...</td>\n",
              "      <td>0</td>\n",
              "    </tr>\n",
              "    <tr>\n",
              "      <th>6</th>\n",
              "      <td>cocksucker before you piss around on my work</td>\n",
              "      <td>1</td>\n",
              "    </tr>\n",
              "    <tr>\n",
              "      <th>7</th>\n",
              "      <td>your vandalism to the matt shirvington article...</td>\n",
              "      <td>0</td>\n",
              "    </tr>\n",
              "    <tr>\n",
              "      <th>8</th>\n",
              "      <td>sorry if the word nonsense be offensive to you...</td>\n",
              "      <td>0</td>\n",
              "    </tr>\n",
              "    <tr>\n",
              "      <th>9</th>\n",
              "      <td>alignment on this subject and which be contrar...</td>\n",
              "      <td>0</td>\n",
              "    </tr>\n",
              "  </tbody>\n",
              "</table>\n",
              "</div>"
            ],
            "text/plain": [
              "                                                text  toxic\n",
              "0  explanation why the edits make under my userna...      0\n",
              "1  d aww he match this background colour i m seem...      0\n",
              "2  hey man i m really not try to edit war it s ju...      0\n",
              "3  more i can t make any real suggestion on impro...      0\n",
              "4  you sir be my hero any chance you remember wha...      0\n",
              "5  congratulation from me a well use the tool wel...      0\n",
              "6       cocksucker before you piss around on my work      1\n",
              "7  your vandalism to the matt shirvington article...      0\n",
              "8  sorry if the word nonsense be offensive to you...      0\n",
              "9  alignment on this subject and which be contrar...      0"
            ]
          },
          "execution_count": 12,
          "metadata": {},
          "output_type": "execute_result"
        }
      ],
      "source": [
        "df.head(10)"
      ]
    },
    {
      "cell_type": "code",
      "execution_count": null,
      "metadata": {
        "id": "INJ6j9SjstOR",
        "outputId": "b5c9ea9c-77ce-4d0f-e6fa-facc4cdf596c"
      },
      "outputs": [
        {
          "data": {
            "text/plain": [
              "text     0\n",
              "toxic    0\n",
              "dtype: int64"
            ]
          },
          "execution_count": 14,
          "metadata": {},
          "output_type": "execute_result"
        }
      ],
      "source": [
        "df.isna().sum()"
      ]
    },
    {
      "cell_type": "code",
      "execution_count": null,
      "metadata": {
        "id": "FWfoaWtPstOT",
        "outputId": "6244215c-c095-4d31-98ec-2d8ced8c43d0"
      },
      "outputs": [
        {
          "name": "stdout",
          "output_type": "stream",
          "text": [
            "(143362,)\n",
            "(15930,)\n"
          ]
        }
      ],
      "source": [
        "features = df.drop(['toxic'], axis=1)\n",
        "target = df['toxic']\n",
        "\n",
        "features_train, features_test, target_train, target_test = train_test_split(features,\n",
        "                                                                              target,\n",
        "                                                                              test_size=0.1,\n",
        "                                                                              random_state=123)\n",
        "features_train = features_train.text\n",
        "features_test = features_test.text\n",
        "print(features_train.shape)\n",
        "print(features_test.shape)"
      ]
    },
    {
      "cell_type": "markdown",
      "metadata": {
        "id": "zUNNFEntstOU"
      },
      "source": [
        "<div class=\"alert\" style=\"background-color:#ead7f7;color:#8737bf\">\n",
        "   \n",
        "Сделал 10%\n",
        "\n",
        "</div>"
      ]
    },
    {
      "cell_type": "code",
      "execution_count": null,
      "metadata": {
        "id": "mjpDWwfgstOU",
        "outputId": "e0439098-c33c-42ca-f716-24b27ae4664d"
      },
      "outputs": [
        {
          "name": "stdout",
          "output_type": "stream",
          "text": [
            "(143362, 142521)\n",
            "(15930, 142521)\n"
          ]
        }
      ],
      "source": [
        "#stopwords = set(nltk_stopwords.words('english'))\n",
        "#count_tf_idf = TfidfVectorizer(stop_words=stopwords)\n",
        "\n",
        "#features_train_idf = count_tf_idf.fit_transform(features_train)\n",
        "#features_test_idf = count_tf_idf.transform(features_test)\n",
        "\n",
        "#print(features_train_idf.shape)\n",
        "#print(features_test_idf.shape)"
      ]
    },
    {
      "cell_type": "markdown",
      "metadata": {
        "id": "cCg2qJg0stOW"
      },
      "source": [
        "## Обучение"
      ]
    },
    {
      "cell_type": "markdown",
      "metadata": {
        "id": "dIfMuZQ6stOX"
      },
      "source": [
        "### Logistic Regression"
      ]
    },
    {
      "cell_type": "code",
      "execution_count": null,
      "metadata": {
        "id": "5HEVjbTsstOX"
      },
      "outputs": [],
      "source": [
        "pipeline = Pipeline([(\"vect\", TfidfVectorizer(stop_words='english', sublinear_tf=True)),\n",
        "                     (\"lr\", LogisticRegression(random_state=123, class_weight='balanced'))])\n",
        "param = {'lr__C': ([n for n in range(5, 15, 1)])}\n",
        "#model = LogisticRegression(random_state=123, class_weight='balanced', max_iter=200, 'solver': ['liblinear', 'lbfgs', 'newton-cg']"
      ]
    },
    {
      "cell_type": "code",
      "execution_count": null,
      "metadata": {
        "id": "g2prEVywstOn",
        "outputId": "fcba9164-4f4a-4997-ea24-41e7aef35f10"
      },
      "outputs": [
        {
          "name": "stdout",
          "output_type": "stream",
          "text": [
            "Fitting 3 folds for each of 10 candidates, totalling 30 fits\n"
          ]
        },
        {
          "name": "stderr",
          "output_type": "stream",
          "text": [
            "/opt/conda/lib/python3.9/site-packages/sklearn/linear_model/_logistic.py:763: ConvergenceWarning: lbfgs failed to converge (status=1):\n",
            "STOP: TOTAL NO. of ITERATIONS REACHED LIMIT.\n",
            "\n",
            "Increase the number of iterations (max_iter) or scale the data as shown in:\n",
            "    https://scikit-learn.org/stable/modules/preprocessing.html\n",
            "Please also refer to the documentation for alternative solver options:\n",
            "    https://scikit-learn.org/stable/modules/linear_model.html#logistic-regression\n",
            "  n_iter_i = _check_optimize_result(\n"
          ]
        },
        {
          "name": "stdout",
          "output_type": "stream",
          "text": [
            "[CV 1/3] END ........................................lr__C=5; total time= 1.1min\n",
            "[CV 2/3] END ........................................lr__C=5; total time= 1.0min\n"
          ]
        },
        {
          "name": "stderr",
          "output_type": "stream",
          "text": [
            "/opt/conda/lib/python3.9/site-packages/sklearn/linear_model/_logistic.py:763: ConvergenceWarning: lbfgs failed to converge (status=1):\n",
            "STOP: TOTAL NO. of ITERATIONS REACHED LIMIT.\n",
            "\n",
            "Increase the number of iterations (max_iter) or scale the data as shown in:\n",
            "    https://scikit-learn.org/stable/modules/preprocessing.html\n",
            "Please also refer to the documentation for alternative solver options:\n",
            "    https://scikit-learn.org/stable/modules/linear_model.html#logistic-regression\n",
            "  n_iter_i = _check_optimize_result(\n"
          ]
        },
        {
          "name": "stdout",
          "output_type": "stream",
          "text": [
            "[CV 3/3] END ........................................lr__C=5; total time= 1.0min\n"
          ]
        },
        {
          "name": "stderr",
          "output_type": "stream",
          "text": [
            "/opt/conda/lib/python3.9/site-packages/sklearn/linear_model/_logistic.py:763: ConvergenceWarning: lbfgs failed to converge (status=1):\n",
            "STOP: TOTAL NO. of ITERATIONS REACHED LIMIT.\n",
            "\n",
            "Increase the number of iterations (max_iter) or scale the data as shown in:\n",
            "    https://scikit-learn.org/stable/modules/preprocessing.html\n",
            "Please also refer to the documentation for alternative solver options:\n",
            "    https://scikit-learn.org/stable/modules/linear_model.html#logistic-regression\n",
            "  n_iter_i = _check_optimize_result(\n"
          ]
        },
        {
          "name": "stdout",
          "output_type": "stream",
          "text": [
            "[CV 1/3] END ........................................lr__C=6; total time= 1.0min\n"
          ]
        },
        {
          "name": "stderr",
          "output_type": "stream",
          "text": [
            "/opt/conda/lib/python3.9/site-packages/sklearn/linear_model/_logistic.py:763: ConvergenceWarning: lbfgs failed to converge (status=1):\n",
            "STOP: TOTAL NO. of ITERATIONS REACHED LIMIT.\n",
            "\n",
            "Increase the number of iterations (max_iter) or scale the data as shown in:\n",
            "    https://scikit-learn.org/stable/modules/preprocessing.html\n",
            "Please also refer to the documentation for alternative solver options:\n",
            "    https://scikit-learn.org/stable/modules/linear_model.html#logistic-regression\n",
            "  n_iter_i = _check_optimize_result(\n"
          ]
        },
        {
          "name": "stdout",
          "output_type": "stream",
          "text": [
            "[CV 2/3] END ........................................lr__C=6; total time= 1.0min\n"
          ]
        },
        {
          "name": "stderr",
          "output_type": "stream",
          "text": [
            "/opt/conda/lib/python3.9/site-packages/sklearn/linear_model/_logistic.py:763: ConvergenceWarning: lbfgs failed to converge (status=1):\n",
            "STOP: TOTAL NO. of ITERATIONS REACHED LIMIT.\n",
            "\n",
            "Increase the number of iterations (max_iter) or scale the data as shown in:\n",
            "    https://scikit-learn.org/stable/modules/preprocessing.html\n",
            "Please also refer to the documentation for alternative solver options:\n",
            "    https://scikit-learn.org/stable/modules/linear_model.html#logistic-regression\n",
            "  n_iter_i = _check_optimize_result(\n"
          ]
        },
        {
          "name": "stdout",
          "output_type": "stream",
          "text": [
            "[CV 3/3] END ........................................lr__C=6; total time= 1.0min\n"
          ]
        },
        {
          "name": "stderr",
          "output_type": "stream",
          "text": [
            "/opt/conda/lib/python3.9/site-packages/sklearn/linear_model/_logistic.py:763: ConvergenceWarning: lbfgs failed to converge (status=1):\n",
            "STOP: TOTAL NO. of ITERATIONS REACHED LIMIT.\n",
            "\n",
            "Increase the number of iterations (max_iter) or scale the data as shown in:\n",
            "    https://scikit-learn.org/stable/modules/preprocessing.html\n",
            "Please also refer to the documentation for alternative solver options:\n",
            "    https://scikit-learn.org/stable/modules/linear_model.html#logistic-regression\n",
            "  n_iter_i = _check_optimize_result(\n"
          ]
        },
        {
          "name": "stdout",
          "output_type": "stream",
          "text": [
            "[CV 1/3] END ........................................lr__C=7; total time=  58.6s\n"
          ]
        },
        {
          "name": "stderr",
          "output_type": "stream",
          "text": [
            "/opt/conda/lib/python3.9/site-packages/sklearn/linear_model/_logistic.py:763: ConvergenceWarning: lbfgs failed to converge (status=1):\n",
            "STOP: TOTAL NO. of ITERATIONS REACHED LIMIT.\n",
            "\n",
            "Increase the number of iterations (max_iter) or scale the data as shown in:\n",
            "    https://scikit-learn.org/stable/modules/preprocessing.html\n",
            "Please also refer to the documentation for alternative solver options:\n",
            "    https://scikit-learn.org/stable/modules/linear_model.html#logistic-regression\n",
            "  n_iter_i = _check_optimize_result(\n"
          ]
        },
        {
          "name": "stdout",
          "output_type": "stream",
          "text": [
            "[CV 2/3] END ........................................lr__C=7; total time= 1.0min\n"
          ]
        },
        {
          "name": "stderr",
          "output_type": "stream",
          "text": [
            "/opt/conda/lib/python3.9/site-packages/sklearn/linear_model/_logistic.py:763: ConvergenceWarning: lbfgs failed to converge (status=1):\n",
            "STOP: TOTAL NO. of ITERATIONS REACHED LIMIT.\n",
            "\n",
            "Increase the number of iterations (max_iter) or scale the data as shown in:\n",
            "    https://scikit-learn.org/stable/modules/preprocessing.html\n",
            "Please also refer to the documentation for alternative solver options:\n",
            "    https://scikit-learn.org/stable/modules/linear_model.html#logistic-regression\n",
            "  n_iter_i = _check_optimize_result(\n"
          ]
        },
        {
          "name": "stdout",
          "output_type": "stream",
          "text": [
            "[CV 3/3] END ........................................lr__C=7; total time= 1.0min\n"
          ]
        },
        {
          "name": "stderr",
          "output_type": "stream",
          "text": [
            "/opt/conda/lib/python3.9/site-packages/sklearn/linear_model/_logistic.py:763: ConvergenceWarning: lbfgs failed to converge (status=1):\n",
            "STOP: TOTAL NO. of ITERATIONS REACHED LIMIT.\n",
            "\n",
            "Increase the number of iterations (max_iter) or scale the data as shown in:\n",
            "    https://scikit-learn.org/stable/modules/preprocessing.html\n",
            "Please also refer to the documentation for alternative solver options:\n",
            "    https://scikit-learn.org/stable/modules/linear_model.html#logistic-regression\n",
            "  n_iter_i = _check_optimize_result(\n"
          ]
        },
        {
          "name": "stdout",
          "output_type": "stream",
          "text": [
            "[CV 1/3] END ........................................lr__C=8; total time= 1.1min\n"
          ]
        },
        {
          "name": "stderr",
          "output_type": "stream",
          "text": [
            "/opt/conda/lib/python3.9/site-packages/sklearn/linear_model/_logistic.py:763: ConvergenceWarning: lbfgs failed to converge (status=1):\n",
            "STOP: TOTAL NO. of ITERATIONS REACHED LIMIT.\n",
            "\n",
            "Increase the number of iterations (max_iter) or scale the data as shown in:\n",
            "    https://scikit-learn.org/stable/modules/preprocessing.html\n",
            "Please also refer to the documentation for alternative solver options:\n",
            "    https://scikit-learn.org/stable/modules/linear_model.html#logistic-regression\n",
            "  n_iter_i = _check_optimize_result(\n"
          ]
        },
        {
          "name": "stdout",
          "output_type": "stream",
          "text": [
            "[CV 2/3] END ........................................lr__C=8; total time= 1.0min\n"
          ]
        },
        {
          "name": "stderr",
          "output_type": "stream",
          "text": [
            "/opt/conda/lib/python3.9/site-packages/sklearn/linear_model/_logistic.py:763: ConvergenceWarning: lbfgs failed to converge (status=1):\n",
            "STOP: TOTAL NO. of ITERATIONS REACHED LIMIT.\n",
            "\n",
            "Increase the number of iterations (max_iter) or scale the data as shown in:\n",
            "    https://scikit-learn.org/stable/modules/preprocessing.html\n",
            "Please also refer to the documentation for alternative solver options:\n",
            "    https://scikit-learn.org/stable/modules/linear_model.html#logistic-regression\n",
            "  n_iter_i = _check_optimize_result(\n"
          ]
        },
        {
          "name": "stdout",
          "output_type": "stream",
          "text": [
            "[CV 3/3] END ........................................lr__C=8; total time= 1.1min\n"
          ]
        },
        {
          "name": "stderr",
          "output_type": "stream",
          "text": [
            "/opt/conda/lib/python3.9/site-packages/sklearn/linear_model/_logistic.py:763: ConvergenceWarning: lbfgs failed to converge (status=1):\n",
            "STOP: TOTAL NO. of ITERATIONS REACHED LIMIT.\n",
            "\n",
            "Increase the number of iterations (max_iter) or scale the data as shown in:\n",
            "    https://scikit-learn.org/stable/modules/preprocessing.html\n",
            "Please also refer to the documentation for alternative solver options:\n",
            "    https://scikit-learn.org/stable/modules/linear_model.html#logistic-regression\n",
            "  n_iter_i = _check_optimize_result(\n"
          ]
        },
        {
          "name": "stdout",
          "output_type": "stream",
          "text": [
            "[CV 1/3] END ........................................lr__C=9; total time=  59.1s\n"
          ]
        },
        {
          "name": "stderr",
          "output_type": "stream",
          "text": [
            "/opt/conda/lib/python3.9/site-packages/sklearn/linear_model/_logistic.py:763: ConvergenceWarning: lbfgs failed to converge (status=1):\n",
            "STOP: TOTAL NO. of ITERATIONS REACHED LIMIT.\n",
            "\n",
            "Increase the number of iterations (max_iter) or scale the data as shown in:\n",
            "    https://scikit-learn.org/stable/modules/preprocessing.html\n",
            "Please also refer to the documentation for alternative solver options:\n",
            "    https://scikit-learn.org/stable/modules/linear_model.html#logistic-regression\n",
            "  n_iter_i = _check_optimize_result(\n"
          ]
        },
        {
          "name": "stdout",
          "output_type": "stream",
          "text": [
            "[CV 2/3] END ........................................lr__C=9; total time= 1.1min\n"
          ]
        },
        {
          "name": "stderr",
          "output_type": "stream",
          "text": [
            "/opt/conda/lib/python3.9/site-packages/sklearn/linear_model/_logistic.py:763: ConvergenceWarning: lbfgs failed to converge (status=1):\n",
            "STOP: TOTAL NO. of ITERATIONS REACHED LIMIT.\n",
            "\n",
            "Increase the number of iterations (max_iter) or scale the data as shown in:\n",
            "    https://scikit-learn.org/stable/modules/preprocessing.html\n",
            "Please also refer to the documentation for alternative solver options:\n",
            "    https://scikit-learn.org/stable/modules/linear_model.html#logistic-regression\n",
            "  n_iter_i = _check_optimize_result(\n"
          ]
        },
        {
          "name": "stdout",
          "output_type": "stream",
          "text": [
            "[CV 3/3] END ........................................lr__C=9; total time= 1.0min\n"
          ]
        },
        {
          "name": "stderr",
          "output_type": "stream",
          "text": [
            "/opt/conda/lib/python3.9/site-packages/sklearn/linear_model/_logistic.py:763: ConvergenceWarning: lbfgs failed to converge (status=1):\n",
            "STOP: TOTAL NO. of ITERATIONS REACHED LIMIT.\n",
            "\n",
            "Increase the number of iterations (max_iter) or scale the data as shown in:\n",
            "    https://scikit-learn.org/stable/modules/preprocessing.html\n",
            "Please also refer to the documentation for alternative solver options:\n",
            "    https://scikit-learn.org/stable/modules/linear_model.html#logistic-regression\n",
            "  n_iter_i = _check_optimize_result(\n"
          ]
        },
        {
          "name": "stdout",
          "output_type": "stream",
          "text": [
            "[CV 1/3] END .......................................lr__C=10; total time= 1.0min\n"
          ]
        },
        {
          "name": "stderr",
          "output_type": "stream",
          "text": [
            "/opt/conda/lib/python3.9/site-packages/sklearn/linear_model/_logistic.py:763: ConvergenceWarning: lbfgs failed to converge (status=1):\n",
            "STOP: TOTAL NO. of ITERATIONS REACHED LIMIT.\n",
            "\n",
            "Increase the number of iterations (max_iter) or scale the data as shown in:\n",
            "    https://scikit-learn.org/stable/modules/preprocessing.html\n",
            "Please also refer to the documentation for alternative solver options:\n",
            "    https://scikit-learn.org/stable/modules/linear_model.html#logistic-regression\n",
            "  n_iter_i = _check_optimize_result(\n"
          ]
        },
        {
          "name": "stdout",
          "output_type": "stream",
          "text": [
            "[CV 2/3] END .......................................lr__C=10; total time= 1.1min\n"
          ]
        },
        {
          "name": "stderr",
          "output_type": "stream",
          "text": [
            "/opt/conda/lib/python3.9/site-packages/sklearn/linear_model/_logistic.py:763: ConvergenceWarning: lbfgs failed to converge (status=1):\n",
            "STOP: TOTAL NO. of ITERATIONS REACHED LIMIT.\n",
            "\n",
            "Increase the number of iterations (max_iter) or scale the data as shown in:\n",
            "    https://scikit-learn.org/stable/modules/preprocessing.html\n",
            "Please also refer to the documentation for alternative solver options:\n",
            "    https://scikit-learn.org/stable/modules/linear_model.html#logistic-regression\n",
            "  n_iter_i = _check_optimize_result(\n"
          ]
        },
        {
          "name": "stdout",
          "output_type": "stream",
          "text": [
            "[CV 3/3] END .......................................lr__C=10; total time= 1.1min\n"
          ]
        },
        {
          "name": "stderr",
          "output_type": "stream",
          "text": [
            "/opt/conda/lib/python3.9/site-packages/sklearn/linear_model/_logistic.py:763: ConvergenceWarning: lbfgs failed to converge (status=1):\n",
            "STOP: TOTAL NO. of ITERATIONS REACHED LIMIT.\n",
            "\n",
            "Increase the number of iterations (max_iter) or scale the data as shown in:\n",
            "    https://scikit-learn.org/stable/modules/preprocessing.html\n",
            "Please also refer to the documentation for alternative solver options:\n",
            "    https://scikit-learn.org/stable/modules/linear_model.html#logistic-regression\n",
            "  n_iter_i = _check_optimize_result(\n"
          ]
        },
        {
          "name": "stdout",
          "output_type": "stream",
          "text": [
            "[CV 1/3] END .......................................lr__C=11; total time= 1.1min\n"
          ]
        },
        {
          "name": "stderr",
          "output_type": "stream",
          "text": [
            "/opt/conda/lib/python3.9/site-packages/sklearn/linear_model/_logistic.py:763: ConvergenceWarning: lbfgs failed to converge (status=1):\n",
            "STOP: TOTAL NO. of ITERATIONS REACHED LIMIT.\n",
            "\n",
            "Increase the number of iterations (max_iter) or scale the data as shown in:\n",
            "    https://scikit-learn.org/stable/modules/preprocessing.html\n",
            "Please also refer to the documentation for alternative solver options:\n",
            "    https://scikit-learn.org/stable/modules/linear_model.html#logistic-regression\n",
            "  n_iter_i = _check_optimize_result(\n"
          ]
        },
        {
          "name": "stdout",
          "output_type": "stream",
          "text": [
            "[CV 2/3] END .......................................lr__C=11; total time= 1.1min\n"
          ]
        },
        {
          "name": "stderr",
          "output_type": "stream",
          "text": [
            "/opt/conda/lib/python3.9/site-packages/sklearn/linear_model/_logistic.py:763: ConvergenceWarning: lbfgs failed to converge (status=1):\n",
            "STOP: TOTAL NO. of ITERATIONS REACHED LIMIT.\n",
            "\n",
            "Increase the number of iterations (max_iter) or scale the data as shown in:\n",
            "    https://scikit-learn.org/stable/modules/preprocessing.html\n",
            "Please also refer to the documentation for alternative solver options:\n",
            "    https://scikit-learn.org/stable/modules/linear_model.html#logistic-regression\n",
            "  n_iter_i = _check_optimize_result(\n"
          ]
        },
        {
          "name": "stdout",
          "output_type": "stream",
          "text": [
            "[CV 3/3] END .......................................lr__C=11; total time= 1.1min\n"
          ]
        },
        {
          "name": "stderr",
          "output_type": "stream",
          "text": [
            "/opt/conda/lib/python3.9/site-packages/sklearn/linear_model/_logistic.py:763: ConvergenceWarning: lbfgs failed to converge (status=1):\n",
            "STOP: TOTAL NO. of ITERATIONS REACHED LIMIT.\n",
            "\n",
            "Increase the number of iterations (max_iter) or scale the data as shown in:\n",
            "    https://scikit-learn.org/stable/modules/preprocessing.html\n",
            "Please also refer to the documentation for alternative solver options:\n",
            "    https://scikit-learn.org/stable/modules/linear_model.html#logistic-regression\n",
            "  n_iter_i = _check_optimize_result(\n"
          ]
        },
        {
          "name": "stdout",
          "output_type": "stream",
          "text": [
            "[CV 1/3] END .......................................lr__C=12; total time= 1.1min\n"
          ]
        },
        {
          "name": "stderr",
          "output_type": "stream",
          "text": [
            "/opt/conda/lib/python3.9/site-packages/sklearn/linear_model/_logistic.py:763: ConvergenceWarning: lbfgs failed to converge (status=1):\n",
            "STOP: TOTAL NO. of ITERATIONS REACHED LIMIT.\n",
            "\n",
            "Increase the number of iterations (max_iter) or scale the data as shown in:\n",
            "    https://scikit-learn.org/stable/modules/preprocessing.html\n",
            "Please also refer to the documentation for alternative solver options:\n",
            "    https://scikit-learn.org/stable/modules/linear_model.html#logistic-regression\n",
            "  n_iter_i = _check_optimize_result(\n"
          ]
        },
        {
          "name": "stdout",
          "output_type": "stream",
          "text": [
            "[CV 2/3] END .......................................lr__C=12; total time= 1.1min\n"
          ]
        },
        {
          "name": "stderr",
          "output_type": "stream",
          "text": [
            "/opt/conda/lib/python3.9/site-packages/sklearn/linear_model/_logistic.py:763: ConvergenceWarning: lbfgs failed to converge (status=1):\n",
            "STOP: TOTAL NO. of ITERATIONS REACHED LIMIT.\n",
            "\n",
            "Increase the number of iterations (max_iter) or scale the data as shown in:\n",
            "    https://scikit-learn.org/stable/modules/preprocessing.html\n",
            "Please also refer to the documentation for alternative solver options:\n",
            "    https://scikit-learn.org/stable/modules/linear_model.html#logistic-regression\n",
            "  n_iter_i = _check_optimize_result(\n"
          ]
        },
        {
          "name": "stdout",
          "output_type": "stream",
          "text": [
            "[CV 3/3] END .......................................lr__C=12; total time= 1.0min\n"
          ]
        },
        {
          "name": "stderr",
          "output_type": "stream",
          "text": [
            "/opt/conda/lib/python3.9/site-packages/sklearn/linear_model/_logistic.py:763: ConvergenceWarning: lbfgs failed to converge (status=1):\n",
            "STOP: TOTAL NO. of ITERATIONS REACHED LIMIT.\n",
            "\n",
            "Increase the number of iterations (max_iter) or scale the data as shown in:\n",
            "    https://scikit-learn.org/stable/modules/preprocessing.html\n",
            "Please also refer to the documentation for alternative solver options:\n",
            "    https://scikit-learn.org/stable/modules/linear_model.html#logistic-regression\n",
            "  n_iter_i = _check_optimize_result(\n"
          ]
        },
        {
          "name": "stdout",
          "output_type": "stream",
          "text": [
            "[CV 1/3] END .......................................lr__C=13; total time= 1.1min\n"
          ]
        },
        {
          "name": "stderr",
          "output_type": "stream",
          "text": [
            "/opt/conda/lib/python3.9/site-packages/sklearn/linear_model/_logistic.py:763: ConvergenceWarning: lbfgs failed to converge (status=1):\n",
            "STOP: TOTAL NO. of ITERATIONS REACHED LIMIT.\n",
            "\n",
            "Increase the number of iterations (max_iter) or scale the data as shown in:\n",
            "    https://scikit-learn.org/stable/modules/preprocessing.html\n",
            "Please also refer to the documentation for alternative solver options:\n",
            "    https://scikit-learn.org/stable/modules/linear_model.html#logistic-regression\n",
            "  n_iter_i = _check_optimize_result(\n"
          ]
        },
        {
          "name": "stdout",
          "output_type": "stream",
          "text": [
            "[CV 2/3] END .......................................lr__C=13; total time= 1.0min\n"
          ]
        },
        {
          "name": "stderr",
          "output_type": "stream",
          "text": [
            "/opt/conda/lib/python3.9/site-packages/sklearn/linear_model/_logistic.py:763: ConvergenceWarning: lbfgs failed to converge (status=1):\n",
            "STOP: TOTAL NO. of ITERATIONS REACHED LIMIT.\n",
            "\n",
            "Increase the number of iterations (max_iter) or scale the data as shown in:\n",
            "    https://scikit-learn.org/stable/modules/preprocessing.html\n",
            "Please also refer to the documentation for alternative solver options:\n",
            "    https://scikit-learn.org/stable/modules/linear_model.html#logistic-regression\n",
            "  n_iter_i = _check_optimize_result(\n"
          ]
        },
        {
          "name": "stdout",
          "output_type": "stream",
          "text": [
            "[CV 3/3] END .......................................lr__C=13; total time=  57.5s\n"
          ]
        },
        {
          "name": "stderr",
          "output_type": "stream",
          "text": [
            "/opt/conda/lib/python3.9/site-packages/sklearn/linear_model/_logistic.py:763: ConvergenceWarning: lbfgs failed to converge (status=1):\n",
            "STOP: TOTAL NO. of ITERATIONS REACHED LIMIT.\n",
            "\n",
            "Increase the number of iterations (max_iter) or scale the data as shown in:\n",
            "    https://scikit-learn.org/stable/modules/preprocessing.html\n",
            "Please also refer to the documentation for alternative solver options:\n",
            "    https://scikit-learn.org/stable/modules/linear_model.html#logistic-regression\n",
            "  n_iter_i = _check_optimize_result(\n"
          ]
        },
        {
          "name": "stdout",
          "output_type": "stream",
          "text": [
            "[CV 1/3] END .......................................lr__C=14; total time= 1.1min\n"
          ]
        },
        {
          "name": "stderr",
          "output_type": "stream",
          "text": [
            "/opt/conda/lib/python3.9/site-packages/sklearn/linear_model/_logistic.py:763: ConvergenceWarning: lbfgs failed to converge (status=1):\n",
            "STOP: TOTAL NO. of ITERATIONS REACHED LIMIT.\n",
            "\n",
            "Increase the number of iterations (max_iter) or scale the data as shown in:\n",
            "    https://scikit-learn.org/stable/modules/preprocessing.html\n",
            "Please also refer to the documentation for alternative solver options:\n",
            "    https://scikit-learn.org/stable/modules/linear_model.html#logistic-regression\n",
            "  n_iter_i = _check_optimize_result(\n"
          ]
        },
        {
          "name": "stdout",
          "output_type": "stream",
          "text": [
            "[CV 2/3] END .......................................lr__C=14; total time= 1.0min\n"
          ]
        },
        {
          "name": "stderr",
          "output_type": "stream",
          "text": [
            "/opt/conda/lib/python3.9/site-packages/sklearn/linear_model/_logistic.py:763: ConvergenceWarning: lbfgs failed to converge (status=1):\n",
            "STOP: TOTAL NO. of ITERATIONS REACHED LIMIT.\n",
            "\n",
            "Increase the number of iterations (max_iter) or scale the data as shown in:\n",
            "    https://scikit-learn.org/stable/modules/preprocessing.html\n",
            "Please also refer to the documentation for alternative solver options:\n",
            "    https://scikit-learn.org/stable/modules/linear_model.html#logistic-regression\n",
            "  n_iter_i = _check_optimize_result(\n"
          ]
        },
        {
          "name": "stdout",
          "output_type": "stream",
          "text": [
            "[CV 3/3] END .......................................lr__C=14; total time=  59.7s\n"
          ]
        },
        {
          "name": "stderr",
          "output_type": "stream",
          "text": [
            "/opt/conda/lib/python3.9/site-packages/sklearn/linear_model/_logistic.py:763: ConvergenceWarning: lbfgs failed to converge (status=1):\n",
            "STOP: TOTAL NO. of ITERATIONS REACHED LIMIT.\n",
            "\n",
            "Increase the number of iterations (max_iter) or scale the data as shown in:\n",
            "    https://scikit-learn.org/stable/modules/preprocessing.html\n",
            "Please also refer to the documentation for alternative solver options:\n",
            "    https://scikit-learn.org/stable/modules/linear_model.html#logistic-regression\n",
            "  n_iter_i = _check_optimize_result(\n"
          ]
        },
        {
          "data": {
            "text/plain": [
              "{'lr__C': 8}"
            ]
          },
          "metadata": {},
          "output_type": "display_data"
        },
        {
          "data": {
            "text/plain": [
              "0.7583355070874354"
            ]
          },
          "metadata": {},
          "output_type": "display_data"
        },
        {
          "name": "stdout",
          "output_type": "stream",
          "text": [
            "CPU times: user 17min 6s, sys: 14min 47s, total: 31min 53s\n",
            "Wall time: 32min 23s\n"
          ]
        }
      ],
      "source": [
        "%%time\n",
        "\n",
        "model_lr = GridSearchCV(pipeline,\n",
        "                          param_grid=param,\n",
        "                          scoring='f1',\n",
        "                          cv=3,\n",
        "                          verbose=3,\n",
        "                          n_jobs=-1)\n",
        "\n",
        "model_lr.fit(features_train, target_train)\n",
        "display(model_lr.best_params_)\n",
        "display(model_lr.best_score_)"
      ]
    },
    {
      "cell_type": "markdown",
      "metadata": {
        "id": "Mrf0qMTNstOq"
      },
      "source": [
        "### Random Forest"
      ]
    },
    {
      "cell_type": "code",
      "execution_count": null,
      "metadata": {
        "id": "xrBLXE8NstOq"
      },
      "outputs": [],
      "source": [
        "pipeline = Pipeline([(\"vect\", TfidfVectorizer(stop_words='english')),\n",
        "                     (\"rfc\", RandomForestClassifier(random_state=123, class_weight='balanced'))])\n",
        "param = {'rfc__max_depth': [n for n in range(6, 19, 3)], 'rfc__n_estimators': [25, 75]}\n",
        "#model = RandomForestClassifier(random_state=123, class_weight='balanced')"
      ]
    },
    {
      "cell_type": "code",
      "execution_count": null,
      "metadata": {
        "scrolled": true,
        "id": "y7rJLe0hstOq",
        "outputId": "4c3ec0f6-278f-46a5-e97b-9c8c4795d67b"
      },
      "outputs": [
        {
          "name": "stdout",
          "output_type": "stream",
          "text": [
            "Fitting 3 folds for each of 10 candidates, totalling 30 fits\n",
            "[CV 1/3] END .........rfc__max_depth=6, rfc__n_estimators=25; total time=  10.3s\n",
            "[CV 2/3] END .........rfc__max_depth=6, rfc__n_estimators=25; total time=  10.8s\n",
            "[CV 3/3] END .........rfc__max_depth=6, rfc__n_estimators=25; total time=  10.5s\n",
            "[CV 1/3] END .........rfc__max_depth=6, rfc__n_estimators=75; total time=  12.4s\n",
            "[CV 2/3] END .........rfc__max_depth=6, rfc__n_estimators=75; total time=  12.4s\n",
            "[CV 3/3] END .........rfc__max_depth=6, rfc__n_estimators=75; total time=  12.4s\n",
            "[CV 1/3] END .........rfc__max_depth=9, rfc__n_estimators=25; total time=  10.6s\n",
            "[CV 2/3] END .........rfc__max_depth=9, rfc__n_estimators=25; total time=  11.1s\n",
            "[CV 3/3] END .........rfc__max_depth=9, rfc__n_estimators=25; total time=  11.1s\n",
            "[CV 1/3] END .........rfc__max_depth=9, rfc__n_estimators=75; total time=  13.9s\n",
            "[CV 2/3] END .........rfc__max_depth=9, rfc__n_estimators=75; total time=  13.7s\n",
            "[CV 3/3] END .........rfc__max_depth=9, rfc__n_estimators=75; total time=  13.2s\n",
            "[CV 1/3] END ........rfc__max_depth=12, rfc__n_estimators=25; total time=  11.0s\n",
            "[CV 2/3] END ........rfc__max_depth=12, rfc__n_estimators=25; total time=  12.2s\n",
            "[CV 3/3] END ........rfc__max_depth=12, rfc__n_estimators=25; total time=  11.4s\n",
            "[CV 1/3] END ........rfc__max_depth=12, rfc__n_estimators=75; total time=  14.0s\n",
            "[CV 2/3] END ........rfc__max_depth=12, rfc__n_estimators=75; total time=  14.7s\n",
            "[CV 3/3] END ........rfc__max_depth=12, rfc__n_estimators=75; total time=  14.6s\n",
            "[CV 1/3] END ........rfc__max_depth=15, rfc__n_estimators=25; total time=  11.6s\n",
            "[CV 2/3] END ........rfc__max_depth=15, rfc__n_estimators=25; total time=  11.6s\n",
            "[CV 3/3] END ........rfc__max_depth=15, rfc__n_estimators=25; total time=  11.9s\n",
            "[CV 1/3] END ........rfc__max_depth=15, rfc__n_estimators=75; total time=  16.1s\n",
            "[CV 2/3] END ........rfc__max_depth=15, rfc__n_estimators=75; total time=  16.2s\n",
            "[CV 3/3] END ........rfc__max_depth=15, rfc__n_estimators=75; total time=  15.9s\n",
            "[CV 1/3] END ........rfc__max_depth=18, rfc__n_estimators=25; total time=  12.0s\n",
            "[CV 2/3] END ........rfc__max_depth=18, rfc__n_estimators=25; total time=  12.3s\n",
            "[CV 3/3] END ........rfc__max_depth=18, rfc__n_estimators=25; total time=  12.2s\n",
            "[CV 1/3] END ........rfc__max_depth=18, rfc__n_estimators=75; total time=  17.3s\n",
            "[CV 2/3] END ........rfc__max_depth=18, rfc__n_estimators=75; total time=  16.9s\n",
            "[CV 3/3] END ........rfc__max_depth=18, rfc__n_estimators=75; total time=  17.7s\n"
          ]
        },
        {
          "data": {
            "text/plain": [
              "{'rfc__max_depth': 18, 'rfc__n_estimators': 75}"
            ]
          },
          "metadata": {},
          "output_type": "display_data"
        },
        {
          "data": {
            "text/plain": [
              "0.3806782078335879"
            ]
          },
          "metadata": {},
          "output_type": "display_data"
        },
        {
          "name": "stdout",
          "output_type": "stream",
          "text": [
            "CPU times: user 6min 40s, sys: 0 ns, total: 6min 40s\n",
            "Wall time: 6min 53s\n"
          ]
        }
      ],
      "source": [
        "%%time\n",
        "\n",
        "model_rf = GridSearchCV(pipeline,\n",
        "                          param_grid=param,\n",
        "                          scoring='f1',\n",
        "                          cv=3,\n",
        "                          verbose=3,\n",
        "                          n_jobs=-1)\n",
        "\n",
        "model_rf.fit(features_train, target_train)\n",
        "display(model_rf.best_params_)\n",
        "display(model_rf.best_score_)"
      ]
    },
    {
      "cell_type": "markdown",
      "metadata": {
        "id": "D0jYE-H9stOs"
      },
      "source": [
        "### LightGBM"
      ]
    },
    {
      "cell_type": "code",
      "execution_count": null,
      "metadata": {
        "id": "-RR4ZszzstOs"
      },
      "outputs": [],
      "source": [
        "pipeline = Pipeline([(\"vect\", TfidfVectorizer(stop_words='english')),\n",
        "                     (\"lgbm\", LGBMClassifier(random_state=123, class_weight='balanced'))])\n",
        "param = {'lgbm__n_estimators': [15], 'lgbm__num_leaves': [30, 80], 'lgbm__max_depth' : [15, 45]}\n",
        "#model = LGBMClassifier(random_state=123, class_weight='balanced', learning_rate=0.1)"
      ]
    },
    {
      "cell_type": "code",
      "execution_count": null,
      "metadata": {
        "id": "7leKb3i2stOt",
        "outputId": "63690199-c3b2-4e2a-b025-f0035d908aaf"
      },
      "outputs": [
        {
          "name": "stdout",
          "output_type": "stream",
          "text": [
            "Fitting 3 folds for each of 4 candidates, totalling 12 fits\n",
            "[CV 1/3] END lgbm__max_depth=15, lgbm__n_estimators=15, lgbm__num_leaves=30; total time= 4.1min\n",
            "[CV 2/3] END lgbm__max_depth=15, lgbm__n_estimators=15, lgbm__num_leaves=30; total time= 1.8min\n",
            "[CV 3/3] END lgbm__max_depth=15, lgbm__n_estimators=15, lgbm__num_leaves=30; total time= 2.2min\n",
            "[CV 1/3] END lgbm__max_depth=15, lgbm__n_estimators=15, lgbm__num_leaves=80; total time= 1.1min\n",
            "[CV 2/3] END lgbm__max_depth=15, lgbm__n_estimators=15, lgbm__num_leaves=80; total time= 1.5min\n",
            "[CV 3/3] END lgbm__max_depth=15, lgbm__n_estimators=15, lgbm__num_leaves=80; total time= 3.1min\n",
            "[CV 1/3] END lgbm__max_depth=45, lgbm__n_estimators=15, lgbm__num_leaves=30; total time= 1.3min\n",
            "[CV 2/3] END lgbm__max_depth=45, lgbm__n_estimators=15, lgbm__num_leaves=30; total time=  52.2s\n",
            "[CV 3/3] END lgbm__max_depth=45, lgbm__n_estimators=15, lgbm__num_leaves=30; total time=  57.3s\n",
            "[CV 1/3] END lgbm__max_depth=45, lgbm__n_estimators=15, lgbm__num_leaves=80; total time= 1.4min\n",
            "[CV 2/3] END lgbm__max_depth=45, lgbm__n_estimators=15, lgbm__num_leaves=80; total time= 1.6min\n",
            "[CV 3/3] END lgbm__max_depth=45, lgbm__n_estimators=15, lgbm__num_leaves=80; total time= 1.6min\n"
          ]
        },
        {
          "data": {
            "text/plain": [
              "{'lgbm__max_depth': 45, 'lgbm__n_estimators': 15, 'lgbm__num_leaves': 30}"
            ]
          },
          "metadata": {},
          "output_type": "display_data"
        },
        {
          "data": {
            "text/plain": [
              "0.6810377599558581"
            ]
          },
          "metadata": {},
          "output_type": "display_data"
        },
        {
          "name": "stdout",
          "output_type": "stream",
          "text": [
            "CPU times: user 22min 50s, sys: 20.9 s, total: 23min 11s\n",
            "Wall time: 23min 20s\n"
          ]
        }
      ],
      "source": [
        "%%time\n",
        "\n",
        "model_lg = GridSearchCV(pipeline,\n",
        "                          param_grid=param,\n",
        "                          scoring='f1',\n",
        "                          cv=3,\n",
        "                          verbose=3,\n",
        "                          n_jobs=-1)\n",
        "\n",
        "model_lg.fit(features_train, target_train)\n",
        "display(model_lg.best_params_)\n",
        "display(model_lg.best_score_)"
      ]
    },
    {
      "cell_type": "markdown",
      "metadata": {
        "id": "o3bUMORkstOt"
      },
      "source": [
        "По итогам обучения лучшее значение f1 выдала модель Logistic Regression - 0.758"
      ]
    },
    {
      "cell_type": "markdown",
      "metadata": {
        "id": "mOU_T7MVstOu"
      },
      "source": [
        "### Предсказание на тестовой выборке"
      ]
    },
    {
      "cell_type": "code",
      "execution_count": null,
      "metadata": {
        "scrolled": true,
        "id": "ElHw9fk_stOu",
        "outputId": "ba27df8e-307f-4ba0-9526-80bc7a2df72c"
      },
      "outputs": [
        {
          "name": "stdout",
          "output_type": "stream",
          "text": [
            "LogisticRegression: F1 = 0.7560275545350171\n"
          ]
        }
      ],
      "source": [
        "predictions_test = model_lr.best_estimator_.predict(features_test)\n",
        "f1 = f1_score(target_test, predictions_test)\n",
        "print(\"LogisticRegression: F1 =\", f1)"
      ]
    },
    {
      "cell_type": "code",
      "execution_count": null,
      "metadata": {
        "id": "NY811AfnstOx",
        "outputId": "dff95448-11aa-40c2-8ef1-1ec2d9d8cc3c"
      },
      "outputs": [
        {
          "name": "stdout",
          "output_type": "stream",
          "text": [
            "DummyClassifier: F1= 0.17142557211841278\n"
          ]
        }
      ],
      "source": [
        "dummy_model = DummyClassifier(strategy='uniform', random_state=123)\n",
        "dummy_model.fit(features_train, target_train)\n",
        "print(\"DummyClassifier: F1=\", f1_score(target_test, dummy_model.predict(features_test)))"
      ]
    },
    {
      "cell_type": "markdown",
      "metadata": {
        "id": "KYzlKaA0stOx"
      },
      "source": [
        "Результат логистической регрессии на тестовой выборке равен 0.758, модель прошла тест на адекватность и соответветствует поставленной задаче."
      ]
    },
    {
      "cell_type": "markdown",
      "metadata": {
        "id": "3t1Qgf0qstOy"
      },
      "source": [
        "## Выводы"
      ]
    },
    {
      "cell_type": "markdown",
      "metadata": {
        "id": "L8LnAZhkstOy"
      },
      "source": [
        "В ходе исследования было сделано:\n",
        "\n",
        "- Подготовленны данные обучения на моделях.\n",
        "- поделены данные на обучающую и тестовою выборку.\n",
        "- Обучены модели и выбрана лучшая из них.\n",
        "\n",
        "На этапе обучения были подобраны параметры и обучены модели со следующими результатами:\n",
        "\n",
        "- При обучении Логистической Регрессии получено значение f1=0.76\n",
        "- При обучении Случайного Леса получено значение f1=0.4\n",
        "- При обучении LightGBM получено значение f1=0.71\n",
        "\n",
        "На тестовой выборке данных логистическая регрессия показала результат удовлетворяющий поставленной задаче: 0.756>0.75\n",
        "Для проверки адекватности модели точность её предсказаний была сопоставлена с точностью предсказаний Dummy модели. Результат выбранной модели значительно лучше результата Dummy модели\n"
      ]
    }
  ],
  "metadata": {
    "ExecuteTimeLog": [
      {
        "duration": 1271,
        "start_time": "2023-03-17T12:26:55.155Z"
      },
      {
        "duration": 4095,
        "start_time": "2023-03-17T12:26:56.428Z"
      },
      {
        "duration": 16,
        "start_time": "2023-03-17T12:27:01.754Z"
      },
      {
        "duration": 25,
        "start_time": "2023-03-17T12:27:29.671Z"
      },
      {
        "duration": 2,
        "start_time": "2023-03-17T13:26:22.061Z"
      },
      {
        "duration": 830,
        "start_time": "2023-03-17T13:26:23.270Z"
      },
      {
        "duration": 7,
        "start_time": "2023-03-17T13:26:24.368Z"
      },
      {
        "duration": 26,
        "start_time": "2023-03-17T13:26:25.032Z"
      },
      {
        "duration": 10,
        "start_time": "2023-03-17T13:26:26.395Z"
      },
      {
        "duration": 1722,
        "start_time": "2023-03-19T14:44:00.238Z"
      },
      {
        "duration": 1217,
        "start_time": "2023-03-19T14:44:02.026Z"
      },
      {
        "duration": 10,
        "start_time": "2023-03-19T14:44:11.748Z"
      },
      {
        "duration": 38,
        "start_time": "2023-03-19T14:44:14.776Z"
      },
      {
        "duration": 13,
        "start_time": "2023-03-19T14:44:16.407Z"
      },
      {
        "duration": 3,
        "start_time": "2023-03-19T14:44:17.912Z"
      },
      {
        "duration": 136,
        "start_time": "2023-03-19T14:44:20.431Z"
      },
      {
        "duration": 7,
        "start_time": "2023-03-19T14:44:38.388Z"
      },
      {
        "duration": 83615,
        "start_time": "2023-03-19T14:44:41.341Z"
      },
      {
        "duration": 4,
        "start_time": "2023-03-19T14:46:04.958Z"
      },
      {
        "duration": 3,
        "start_time": "2023-03-19T14:46:59.128Z"
      },
      {
        "duration": 63,
        "start_time": "2023-03-19T14:46:59.976Z"
      },
      {
        "duration": 7492,
        "start_time": "2023-03-19T14:47:01.677Z"
      },
      {
        "duration": 180,
        "start_time": "2023-03-19T15:45:06.528Z"
      },
      {
        "duration": 748,
        "start_time": "2023-03-19T15:45:08.802Z"
      },
      {
        "duration": 9,
        "start_time": "2023-03-19T15:45:10.036Z"
      },
      {
        "duration": 12,
        "start_time": "2023-03-19T15:45:11.776Z"
      },
      {
        "duration": 36,
        "start_time": "2023-03-19T15:45:13.235Z"
      },
      {
        "duration": 12,
        "start_time": "2023-03-19T15:45:16.234Z"
      },
      {
        "duration": 3,
        "start_time": "2023-03-19T15:45:17.874Z"
      },
      {
        "duration": 80638,
        "start_time": "2023-03-19T15:45:19.367Z"
      },
      {
        "duration": 3,
        "start_time": "2023-03-19T15:46:49.242Z"
      },
      {
        "duration": 21,
        "start_time": "2023-03-19T15:46:51.374Z"
      },
      {
        "duration": 71,
        "start_time": "2023-03-19T15:46:53.202Z"
      },
      {
        "duration": 7048,
        "start_time": "2023-03-19T15:46:54.196Z"
      },
      {
        "duration": 3,
        "start_time": "2023-03-19T15:47:10.125Z"
      },
      {
        "duration": 42,
        "start_time": "2023-03-19T15:47:11.180Z"
      },
      {
        "duration": 3,
        "start_time": "2023-03-19T15:50:30.526Z"
      },
      {
        "duration": 43,
        "start_time": "2023-03-19T15:50:31.323Z"
      },
      {
        "duration": 4,
        "start_time": "2023-03-19T15:55:31.827Z"
      },
      {
        "duration": 711941,
        "start_time": "2023-03-19T15:55:32.340Z"
      },
      {
        "duration": 249,
        "start_time": "2023-03-19T17:10:41.552Z"
      },
      {
        "duration": 729,
        "start_time": "2023-03-19T17:10:43.096Z"
      },
      {
        "duration": 8,
        "start_time": "2023-03-19T17:10:44.150Z"
      },
      {
        "duration": 12,
        "start_time": "2023-03-19T17:10:45.720Z"
      },
      {
        "duration": 34,
        "start_time": "2023-03-19T17:10:46.689Z"
      },
      {
        "duration": 12,
        "start_time": "2023-03-19T17:10:48.373Z"
      },
      {
        "duration": 3,
        "start_time": "2023-03-19T17:10:50.024Z"
      },
      {
        "duration": 80710,
        "start_time": "2023-03-19T17:10:53.752Z"
      },
      {
        "duration": 4,
        "start_time": "2023-03-19T17:12:14.464Z"
      },
      {
        "duration": 20,
        "start_time": "2023-03-19T17:12:19.896Z"
      },
      {
        "duration": 57,
        "start_time": "2023-03-19T17:12:21.192Z"
      },
      {
        "duration": 7081,
        "start_time": "2023-03-19T17:12:22.988Z"
      },
      {
        "duration": 3,
        "start_time": "2023-03-19T17:12:33.687Z"
      },
      {
        "duration": 2086533,
        "start_time": "2023-03-19T17:12:34.753Z"
      },
      {
        "duration": 4,
        "start_time": "2023-03-19T17:48:09.323Z"
      },
      {
        "duration": 2014236,
        "start_time": "2023-03-19T17:48:11.336Z"
      },
      {
        "duration": 5,
        "start_time": "2023-03-19T18:22:42.843Z"
      },
      {
        "duration": 1059554,
        "start_time": "2023-03-19T18:22:43.574Z"
      },
      {
        "duration": 4,
        "start_time": "2023-03-19T18:40:25.743Z"
      },
      {
        "duration": 6652480,
        "start_time": "2023-03-19T18:40:27.640Z"
      },
      {
        "duration": 22940,
        "start_time": "2023-03-19T20:34:45.942Z"
      },
      {
        "duration": 14,
        "start_time": "2023-03-19T20:35:23.895Z"
      },
      {
        "duration": 14,
        "start_time": "2023-03-19T20:35:48.479Z"
      },
      {
        "duration": 12,
        "start_time": "2023-03-19T20:36:44.144Z"
      },
      {
        "duration": 5113,
        "start_time": "2023-03-19T20:36:58.274Z"
      },
      {
        "duration": 6649,
        "start_time": "2023-03-19T20:37:11.630Z"
      },
      {
        "duration": 26409,
        "start_time": "2023-03-19T20:37:22.302Z"
      },
      {
        "duration": 11,
        "start_time": "2023-03-19T20:37:50.999Z"
      },
      {
        "duration": 26419,
        "start_time": "2023-03-19T20:38:14.799Z"
      },
      {
        "duration": 26552,
        "start_time": "2023-03-19T20:39:48.071Z"
      },
      {
        "duration": 47301,
        "start_time": "2023-03-19T20:40:39.697Z"
      },
      {
        "duration": 18720,
        "start_time": "2023-03-19T20:42:04.071Z"
      },
      {
        "duration": 25195,
        "start_time": "2023-03-19T20:43:05.824Z"
      },
      {
        "duration": 26487,
        "start_time": "2023-03-19T20:43:51.832Z"
      },
      {
        "duration": 101169,
        "start_time": "2023-03-19T20:45:03.416Z"
      },
      {
        "duration": 12,
        "start_time": "2023-03-19T20:47:12.914Z"
      },
      {
        "duration": 100700,
        "start_time": "2023-03-19T20:47:19.993Z"
      },
      {
        "duration": 92289,
        "start_time": "2023-03-19T20:49:21.694Z"
      },
      {
        "duration": 1585,
        "start_time": "2023-03-20T11:25:33.534Z"
      },
      {
        "duration": 4288,
        "start_time": "2023-03-20T11:25:35.156Z"
      },
      {
        "duration": 9,
        "start_time": "2023-03-20T11:25:39.446Z"
      },
      {
        "duration": 10,
        "start_time": "2023-03-20T11:25:41.123Z"
      },
      {
        "duration": 25,
        "start_time": "2023-03-20T11:25:43.320Z"
      },
      {
        "duration": 11,
        "start_time": "2023-03-20T11:25:44.040Z"
      },
      {
        "duration": 3,
        "start_time": "2023-03-20T11:25:45.617Z"
      },
      {
        "duration": 79121,
        "start_time": "2023-03-20T11:25:47.288Z"
      },
      {
        "duration": 3,
        "start_time": "2023-03-20T11:27:33.168Z"
      },
      {
        "duration": 3,
        "start_time": "2023-03-20T11:27:33.760Z"
      },
      {
        "duration": 71,
        "start_time": "2023-03-20T11:27:35.768Z"
      },
      {
        "duration": 132,
        "start_time": "2023-03-20T11:27:37.616Z"
      },
      {
        "duration": 6571,
        "start_time": "2023-03-20T11:29:02.282Z"
      },
      {
        "duration": 29,
        "start_time": "2023-03-20T11:29:49.109Z"
      },
      {
        "duration": 33,
        "start_time": "2023-03-20T11:30:03.701Z"
      },
      {
        "duration": 29,
        "start_time": "2023-03-20T11:30:40.803Z"
      },
      {
        "duration": 4,
        "start_time": "2023-03-20T11:32:14.241Z"
      },
      {
        "duration": 258,
        "start_time": "2023-03-20T11:32:14.248Z"
      },
      {
        "duration": 7,
        "start_time": "2023-03-20T11:35:21.809Z"
      },
      {
        "duration": 865,
        "start_time": "2023-03-20T11:35:23.420Z"
      },
      {
        "duration": 7,
        "start_time": "2023-03-20T11:35:24.288Z"
      },
      {
        "duration": 9,
        "start_time": "2023-03-20T11:35:24.624Z"
      },
      {
        "duration": 36,
        "start_time": "2023-03-20T11:35:25.026Z"
      },
      {
        "duration": 18,
        "start_time": "2023-03-20T11:35:26.233Z"
      },
      {
        "duration": 4,
        "start_time": "2023-03-20T11:35:26.613Z"
      },
      {
        "duration": 84002,
        "start_time": "2023-03-20T11:35:27.801Z"
      },
      {
        "duration": 3,
        "start_time": "2023-03-20T11:36:51.805Z"
      },
      {
        "duration": 28,
        "start_time": "2023-03-20T11:36:51.809Z"
      },
      {
        "duration": 78,
        "start_time": "2023-03-20T11:36:51.839Z"
      },
      {
        "duration": 6537,
        "start_time": "2023-03-20T11:36:51.919Z"
      },
      {
        "duration": 2,
        "start_time": "2023-03-20T11:40:48.780Z"
      },
      {
        "duration": 995029,
        "start_time": "2023-03-20T11:41:10.923Z"
      },
      {
        "duration": 3,
        "start_time": "2023-03-20T11:58:06.999Z"
      },
      {
        "duration": 1403029,
        "start_time": "2023-03-20T11:58:07.476Z"
      },
      {
        "duration": 1296580,
        "start_time": "2023-03-20T12:24:53.283Z"
      },
      {
        "duration": 4,
        "start_time": "2023-03-20T12:51:26.672Z"
      },
      {
        "duration": 90972,
        "start_time": "2023-03-20T12:51:31.480Z"
      },
      {
        "duration": 227267,
        "start_time": "2023-03-20T12:53:08.514Z"
      },
      {
        "duration": 5,
        "start_time": "2023-03-20T12:57:26.584Z"
      },
      {
        "duration": 1535,
        "start_time": "2023-03-20T13:18:07.863Z"
      },
      {
        "duration": 908,
        "start_time": "2023-03-20T13:18:13.320Z"
      },
      {
        "duration": 10,
        "start_time": "2023-03-20T13:18:15.226Z"
      },
      {
        "duration": 12,
        "start_time": "2023-03-20T13:18:16.758Z"
      },
      {
        "duration": 30,
        "start_time": "2023-03-20T13:18:18.619Z"
      },
      {
        "duration": 18,
        "start_time": "2023-03-20T13:18:20.039Z"
      },
      {
        "duration": 4,
        "start_time": "2023-03-20T13:18:21.379Z"
      },
      {
        "duration": 88134,
        "start_time": "2023-03-20T13:18:24.456Z"
      },
      {
        "duration": 4,
        "start_time": "2023-03-20T13:19:52.591Z"
      },
      {
        "duration": 8,
        "start_time": "2023-03-20T13:19:52.596Z"
      },
      {
        "duration": 115,
        "start_time": "2023-03-20T13:19:52.605Z"
      },
      {
        "duration": 6953,
        "start_time": "2023-03-20T13:19:52.722Z"
      },
      {
        "duration": 132,
        "start_time": "2023-03-20T13:20:28.592Z"
      },
      {
        "duration": 12,
        "start_time": "2023-03-20T13:21:22.394Z"
      },
      {
        "duration": 20133,
        "start_time": "2023-03-20T13:22:44.537Z"
      },
      {
        "duration": 19,
        "start_time": "2023-03-20T13:23:11.954Z"
      },
      {
        "duration": 3,
        "start_time": "2023-03-20T13:23:51.091Z"
      },
      {
        "duration": 3846402,
        "start_time": "2023-03-20T13:23:52.263Z"
      },
      {
        "duration": 11,
        "start_time": "2023-03-20T14:28:25.510Z"
      },
      {
        "duration": 5,
        "start_time": "2023-03-20T15:06:57.351Z"
      },
      {
        "duration": 1395770,
        "start_time": "2023-03-20T15:06:58.475Z"
      },
      {
        "duration": 1668,
        "start_time": "2023-03-20T16:45:13.668Z"
      },
      {
        "duration": 964,
        "start_time": "2023-03-20T16:45:18.771Z"
      },
      {
        "duration": 28,
        "start_time": "2023-03-20T16:45:19.737Z"
      },
      {
        "duration": 9,
        "start_time": "2023-03-20T16:45:19.773Z"
      },
      {
        "duration": 28,
        "start_time": "2023-03-20T16:45:20.572Z"
      },
      {
        "duration": 11,
        "start_time": "2023-03-20T16:45:20.771Z"
      },
      {
        "duration": 4,
        "start_time": "2023-03-20T16:45:20.994Z"
      },
      {
        "duration": 93916,
        "start_time": "2023-03-20T16:45:22.560Z"
      },
      {
        "duration": 3,
        "start_time": "2023-03-20T16:46:56.478Z"
      },
      {
        "duration": 3,
        "start_time": "2023-03-20T16:46:56.483Z"
      },
      {
        "duration": 80,
        "start_time": "2023-03-20T16:46:56.487Z"
      },
      {
        "duration": 7383,
        "start_time": "2023-03-20T16:46:56.569Z"
      },
      {
        "duration": 3,
        "start_time": "2023-03-20T16:47:15.571Z"
      },
      {
        "duration": 1781569,
        "start_time": "2023-03-20T16:47:23.973Z"
      },
      {
        "duration": 88745,
        "start_time": "2023-03-20T17:19:32.796Z"
      },
      {
        "duration": 127,
        "start_time": "2023-03-20T17:21:14.763Z"
      },
      {
        "duration": 84195,
        "start_time": "2023-03-20T17:21:24.457Z"
      },
      {
        "duration": 1680,
        "start_time": "2023-03-23T15:42:06.937Z"
      },
      {
        "duration": 3747,
        "start_time": "2023-03-23T15:42:11.996Z"
      },
      {
        "duration": 10,
        "start_time": "2023-03-23T15:42:15.745Z"
      },
      {
        "duration": 11,
        "start_time": "2023-03-23T15:42:15.757Z"
      },
      {
        "duration": 32,
        "start_time": "2023-03-23T15:42:15.774Z"
      },
      {
        "duration": 12,
        "start_time": "2023-03-23T15:42:17.067Z"
      },
      {
        "duration": 3,
        "start_time": "2023-03-23T15:42:20.739Z"
      },
      {
        "duration": 4170,
        "start_time": "2023-03-23T15:42:21.627Z"
      },
      {
        "duration": 3,
        "start_time": "2023-03-23T15:42:29.316Z"
      },
      {
        "duration": 4,
        "start_time": "2023-03-23T15:42:31.684Z"
      },
      {
        "duration": 371,
        "start_time": "2023-03-23T15:42:33.955Z"
      },
      {
        "duration": 9,
        "start_time": "2023-03-23T15:44:31.704Z"
      },
      {
        "duration": 881,
        "start_time": "2023-03-23T15:44:33.620Z"
      },
      {
        "duration": 8,
        "start_time": "2023-03-23T15:44:34.965Z"
      },
      {
        "duration": 11,
        "start_time": "2023-03-23T15:44:36.420Z"
      },
      {
        "duration": 33,
        "start_time": "2023-03-23T15:44:36.692Z"
      },
      {
        "duration": 14,
        "start_time": "2023-03-23T15:44:38.277Z"
      },
      {
        "duration": 3,
        "start_time": "2023-03-23T15:44:44.460Z"
      },
      {
        "duration": 4183,
        "start_time": "2023-03-23T15:44:45.660Z"
      },
      {
        "duration": 3,
        "start_time": "2023-03-23T15:44:49.916Z"
      },
      {
        "duration": 3,
        "start_time": "2023-03-23T15:44:53.911Z"
      },
      {
        "duration": 210,
        "start_time": "2023-03-23T15:44:54.947Z"
      },
      {
        "duration": 463,
        "start_time": "2023-03-23T15:46:19.879Z"
      },
      {
        "duration": 845,
        "start_time": "2023-03-23T15:46:23.456Z"
      },
      {
        "duration": 9,
        "start_time": "2023-03-23T15:46:24.304Z"
      },
      {
        "duration": 20,
        "start_time": "2023-03-23T15:46:24.314Z"
      },
      {
        "duration": 34,
        "start_time": "2023-03-23T15:46:25.203Z"
      },
      {
        "duration": 12,
        "start_time": "2023-03-23T15:46:26.780Z"
      },
      {
        "duration": 3,
        "start_time": "2023-03-23T15:46:31.730Z"
      },
      {
        "duration": 4279,
        "start_time": "2023-03-23T15:46:32.149Z"
      },
      {
        "duration": 4,
        "start_time": "2023-03-23T15:46:38.311Z"
      },
      {
        "duration": 4,
        "start_time": "2023-03-23T15:46:40.300Z"
      },
      {
        "duration": 1169347,
        "start_time": "2023-03-23T15:46:41.197Z"
      },
      {
        "duration": 34,
        "start_time": "2023-03-23T16:10:42.049Z"
      },
      {
        "duration": 15,
        "start_time": "2023-03-23T16:10:45.713Z"
      },
      {
        "duration": 3,
        "start_time": "2023-03-23T16:11:04.428Z"
      },
      {
        "duration": 52,
        "start_time": "2023-03-23T16:11:10.961Z"
      },
      {
        "duration": 75,
        "start_time": "2023-03-23T16:11:21.417Z"
      },
      {
        "duration": 56,
        "start_time": "2023-03-23T16:14:40.066Z"
      },
      {
        "duration": 63,
        "start_time": "2023-03-23T16:15:31.179Z"
      },
      {
        "duration": 15,
        "start_time": "2023-03-23T16:17:13.659Z"
      },
      {
        "duration": 758,
        "start_time": "2023-03-23T16:17:16.058Z"
      },
      {
        "duration": 7,
        "start_time": "2023-03-23T16:17:16.818Z"
      },
      {
        "duration": 14,
        "start_time": "2023-03-23T16:17:16.827Z"
      },
      {
        "duration": 32,
        "start_time": "2023-03-23T16:17:18.002Z"
      },
      {
        "duration": 12,
        "start_time": "2023-03-23T16:17:20.347Z"
      },
      {
        "duration": 4,
        "start_time": "2023-03-23T16:17:25.131Z"
      },
      {
        "duration": 4867,
        "start_time": "2023-03-23T16:17:26.083Z"
      },
      {
        "duration": 4,
        "start_time": "2023-03-23T16:17:34.586Z"
      },
      {
        "duration": 3,
        "start_time": "2023-03-23T16:17:36.218Z"
      },
      {
        "duration": 1245772,
        "start_time": "2023-03-23T16:17:37.053Z"
      },
      {
        "duration": 4,
        "start_time": "2023-03-23T16:38:31.654Z"
      },
      {
        "duration": 4,
        "start_time": "2023-03-23T16:39:02.789Z"
      },
      {
        "duration": 49,
        "start_time": "2023-03-23T16:39:15.478Z"
      },
      {
        "duration": 4,
        "start_time": "2023-03-23T16:39:56.321Z"
      },
      {
        "duration": 811,
        "start_time": "2023-03-23T16:40:00.303Z"
      },
      {
        "duration": 3332980,
        "start_time": "2023-03-23T16:44:42.209Z"
      },
      {
        "duration": 19,
        "start_time": "2023-03-23T17:40:48.089Z"
      },
      {
        "duration": 141,
        "start_time": "2023-03-23T17:46:17.153Z"
      },
      {
        "duration": 18,
        "start_time": "2023-03-23T17:48:34.890Z"
      },
      {
        "duration": 22,
        "start_time": "2023-03-23T17:51:49.395Z"
      },
      {
        "duration": 675,
        "start_time": "2023-03-23T17:52:31.635Z"
      },
      {
        "duration": 281,
        "start_time": "2023-03-23T17:55:08.308Z"
      },
      {
        "duration": 794,
        "start_time": "2023-03-23T17:55:09.989Z"
      },
      {
        "duration": 9,
        "start_time": "2023-03-23T17:55:10.785Z"
      },
      {
        "duration": 16,
        "start_time": "2023-03-23T17:55:10.796Z"
      },
      {
        "duration": 44,
        "start_time": "2023-03-23T17:55:11.955Z"
      },
      {
        "duration": 12,
        "start_time": "2023-03-23T17:55:13.585Z"
      },
      {
        "duration": 3,
        "start_time": "2023-03-23T17:55:18.288Z"
      },
      {
        "duration": 5323,
        "start_time": "2023-03-23T17:55:19.247Z"
      },
      {
        "duration": 4,
        "start_time": "2023-03-23T17:55:26.280Z"
      },
      {
        "duration": 3,
        "start_time": "2023-03-23T17:55:26.486Z"
      },
      {
        "duration": 1364811,
        "start_time": "2023-03-23T17:55:27.988Z"
      },
      {
        "duration": 8,
        "start_time": "2023-03-23T18:20:11.392Z"
      },
      {
        "duration": 65,
        "start_time": "2023-03-23T18:29:33.770Z"
      },
      {
        "duration": 16,
        "start_time": "2023-03-23T18:29:37.969Z"
      },
      {
        "duration": 6,
        "start_time": "2023-03-23T18:35:10.997Z"
      },
      {
        "duration": 117,
        "start_time": "2023-03-23T18:35:16.517Z"
      },
      {
        "duration": 35,
        "start_time": "2023-03-23T18:35:59.516Z"
      },
      {
        "duration": 50,
        "start_time": "2023-03-23T18:46:21.526Z"
      },
      {
        "duration": 7167,
        "start_time": "2023-03-23T18:46:36.790Z"
      },
      {
        "duration": 39,
        "start_time": "2023-03-23T18:47:00.925Z"
      },
      {
        "duration": 41,
        "start_time": "2023-03-23T18:47:20.373Z"
      },
      {
        "duration": 44,
        "start_time": "2023-03-23T18:48:34.390Z"
      },
      {
        "duration": 18,
        "start_time": "2023-03-23T18:48:36.837Z"
      },
      {
        "duration": 41,
        "start_time": "2023-03-23T18:49:59.024Z"
      },
      {
        "duration": 11407,
        "start_time": "2023-03-23T18:50:03.325Z"
      },
      {
        "duration": 4,
        "start_time": "2023-03-23T18:50:54.646Z"
      },
      {
        "duration": 1463275,
        "start_time": "2023-03-23T18:50:58.221Z"
      },
      {
        "duration": 4,
        "start_time": "2023-03-23T19:32:03.477Z"
      },
      {
        "duration": 106,
        "start_time": "2023-03-23T19:32:05.968Z"
      },
      {
        "duration": 4,
        "start_time": "2023-03-23T19:33:30.325Z"
      },
      {
        "duration": 344147,
        "start_time": "2023-03-23T19:33:30.942Z"
      },
      {
        "duration": 4,
        "start_time": "2023-03-23T19:39:38.014Z"
      },
      {
        "duration": 4246085,
        "start_time": "2023-03-23T19:39:49.678Z"
      },
      {
        "duration": 150,
        "start_time": "2023-03-23T20:50:35.769Z"
      },
      {
        "duration": 0,
        "start_time": "2023-03-23T20:50:35.921Z"
      },
      {
        "duration": 0,
        "start_time": "2023-03-23T20:50:35.922Z"
      },
      {
        "duration": 122,
        "start_time": "2023-03-24T18:19:40.311Z"
      },
      {
        "duration": 2424,
        "start_time": "2023-03-24T18:19:47.840Z"
      },
      {
        "duration": 4442,
        "start_time": "2023-03-24T18:19:50.266Z"
      },
      {
        "duration": 10,
        "start_time": "2023-03-24T18:19:54.710Z"
      },
      {
        "duration": 11,
        "start_time": "2023-03-24T18:19:54.722Z"
      },
      {
        "duration": 43,
        "start_time": "2023-03-24T18:19:54.735Z"
      },
      {
        "duration": 19,
        "start_time": "2023-03-24T18:19:57.758Z"
      },
      {
        "duration": 4,
        "start_time": "2023-03-24T18:20:03.108Z"
      },
      {
        "duration": 6113,
        "start_time": "2023-03-24T18:20:04.408Z"
      },
      {
        "duration": 4,
        "start_time": "2023-03-24T18:20:16.857Z"
      },
      {
        "duration": 3,
        "start_time": "2023-03-24T18:20:19.833Z"
      },
      {
        "duration": 1401315,
        "start_time": "2023-03-24T18:20:20.432Z"
      },
      {
        "duration": 11,
        "start_time": "2023-03-24T18:45:48.461Z"
      },
      {
        "duration": 65,
        "start_time": "2023-03-24T18:46:01.323Z"
      },
      {
        "duration": 12404,
        "start_time": "2023-03-24T18:46:06.486Z"
      },
      {
        "duration": 5,
        "start_time": "2023-03-24T18:46:39.054Z"
      },
      {
        "duration": 1400564,
        "start_time": "2023-03-24T18:46:40.983Z"
      },
      {
        "duration": 184438,
        "start_time": "2023-03-24T19:16:48.606Z"
      },
      {
        "duration": 27607,
        "start_time": "2023-03-24T19:20:47.285Z"
      },
      {
        "duration": 47156,
        "start_time": "2023-03-24T19:22:05.591Z"
      },
      {
        "duration": 26237,
        "start_time": "2023-03-24T19:23:43.636Z"
      },
      {
        "duration": 25662,
        "start_time": "2023-03-24T19:24:22.404Z"
      },
      {
        "duration": 50856,
        "start_time": "2023-03-24T19:25:04.384Z"
      },
      {
        "duration": 2469,
        "start_time": "2023-03-25T16:09:14.952Z"
      },
      {
        "duration": 1541,
        "start_time": "2023-03-25T16:09:17.706Z"
      },
      {
        "duration": 11,
        "start_time": "2023-03-25T16:09:19.249Z"
      },
      {
        "duration": 18,
        "start_time": "2023-03-25T16:09:19.261Z"
      },
      {
        "duration": 49,
        "start_time": "2023-03-25T16:09:19.355Z"
      },
      {
        "duration": 15,
        "start_time": "2023-03-25T16:09:21.770Z"
      },
      {
        "duration": 4,
        "start_time": "2023-03-25T16:09:24.245Z"
      },
      {
        "duration": 6099,
        "start_time": "2023-03-25T16:09:25.559Z"
      },
      {
        "duration": 5,
        "start_time": "2023-03-25T16:09:35.817Z"
      },
      {
        "duration": 3,
        "start_time": "2023-03-25T16:09:36.683Z"
      },
      {
        "duration": 1524631,
        "start_time": "2023-03-25T16:09:41.234Z"
      },
      {
        "duration": 12,
        "start_time": "2023-03-25T16:48:21.787Z"
      },
      {
        "duration": 147,
        "start_time": "2023-03-25T16:48:33.116Z"
      },
      {
        "duration": 28,
        "start_time": "2023-03-25T16:49:17.627Z"
      },
      {
        "duration": 77,
        "start_time": "2023-03-25T18:14:18.306Z"
      },
      {
        "duration": 5,
        "start_time": "2023-03-25T18:15:19.567Z"
      },
      {
        "duration": 928,
        "start_time": "2023-03-25T18:15:22.917Z"
      },
      {
        "duration": 13,
        "start_time": "2023-03-25T18:16:14.728Z"
      },
      {
        "duration": 26,
        "start_time": "2023-03-25T18:16:22.174Z"
      },
      {
        "duration": 8,
        "start_time": "2023-03-25T18:25:58.822Z"
      },
      {
        "duration": 41,
        "start_time": "2023-03-25T18:26:01.823Z"
      },
      {
        "duration": 71,
        "start_time": "2023-03-25T18:27:14.006Z"
      },
      {
        "duration": 15,
        "start_time": "2023-03-25T18:27:26.026Z"
      },
      {
        "duration": 1943481,
        "start_time": "2023-03-25T18:27:37.318Z"
      },
      {
        "duration": 1091,
        "start_time": "2023-03-25T19:01:23.415Z"
      },
      {
        "duration": 9,
        "start_time": "2023-03-25T19:02:15.805Z"
      },
      {
        "duration": 413477,
        "start_time": "2023-03-25T19:02:16.360Z"
      }
    ],
    "kernelspec": {
      "display_name": "Python 3 (ipykernel)",
      "language": "python",
      "name": "python3"
    },
    "language_info": {
      "codemirror_mode": {
        "name": "ipython",
        "version": 3
      },
      "file_extension": ".py",
      "mimetype": "text/x-python",
      "name": "python",
      "nbconvert_exporter": "python",
      "pygments_lexer": "ipython3",
      "version": "3.9.5"
    },
    "toc": {
      "base_numbering": 1,
      "nav_menu": {},
      "number_sections": true,
      "sideBar": true,
      "skip_h1_title": true,
      "title_cell": "Содержание",
      "title_sidebar": "Contents",
      "toc_cell": true,
      "toc_position": {
        "height": "calc(100% - 180px)",
        "left": "10px",
        "top": "150px",
        "width": "302.391px"
      },
      "toc_section_display": true,
      "toc_window_display": false
    },
    "colab": {
      "provenance": []
    }
  },
  "nbformat": 4,
  "nbformat_minor": 0
}